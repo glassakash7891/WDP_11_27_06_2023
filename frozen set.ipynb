{
 "cells": [
  {
   "cell_type": "markdown",
   "id": "8172ac48-4652-45bc-99fd-2ef4a5a56b45",
   "metadata": {},
   "source": [
    "# frozen set\n",
    "\n",
    "> frozenset constructor is frozenset()\n",
    "\n",
    "> frozenset literal is not available\n",
    "\n",
    "> frozenset is unordered set of sequence of element\n",
    "\n",
    "> frozenset doesnot support indexing\n",
    "\n",
    "> frozenset doesnot support slicing\n",
    "\n",
    "> frozenset doesnot support concatination\n",
    "\n",
    "> frozenset doesnot support duplicate values\n",
    "\n",
    "> frozenset remove duplicate values using hashing table\n",
    "\n",
    "> frozenset is immutable(hashable)\n",
    "\n",
    "> frozenset support nested frozenset\n",
    "\n",
    "> frozenset methods"
   ]
  },
  {
   "cell_type": "code",
   "execution_count": 1,
   "id": "e2adbe67-9025-48a4-83f0-ce6bf82db300",
   "metadata": {},
   "outputs": [],
   "source": [
    "a=frozenset({1,1,1,1,2,2,2,2,3,3,3,3,4,4,4,4,4,5,5,5,6,6,6})"
   ]
  },
  {
   "cell_type": "code",
   "execution_count": 2,
   "id": "5912c445-3086-4c70-93d0-ffdc8b1142e7",
   "metadata": {},
   "outputs": [
    {
     "name": "stdout",
     "output_type": "stream",
     "text": [
      "frozenset({1, 2, 3, 4, 5, 6})\n"
     ]
    }
   ],
   "source": [
    "print(a)"
   ]
  },
  {
   "cell_type": "code",
   "execution_count": 3,
   "id": "a2eed3df-cfd9-4ca4-89e0-2a9b7ea7357a",
   "metadata": {},
   "outputs": [],
   "source": [
    "b=frozenset({1,1,1,1,2,2,2,2,3,3,3,4,4,4,4,5,5,5})"
   ]
  },
  {
   "cell_type": "code",
   "execution_count": 4,
   "id": "92a9ab65-4897-4c62-a208-a1f158f022aa",
   "metadata": {},
   "outputs": [
    {
     "name": "stdout",
     "output_type": "stream",
     "text": [
      "frozenset({1, 2, 3, 4, 5})\n"
     ]
    }
   ],
   "source": [
    "print(b)"
   ]
  },
  {
   "cell_type": "code",
   "execution_count": 5,
   "id": "d0fd5aa4-bd33-41ae-b1d2-95f6ebb0584f",
   "metadata": {},
   "outputs": [],
   "source": [
    "c=frozenset((1,1,1,1,2,2,2,3,3,3,4,4,4))"
   ]
  },
  {
   "cell_type": "code",
   "execution_count": 6,
   "id": "381decb4-a5fb-432a-949f-cf3048753be2",
   "metadata": {},
   "outputs": [
    {
     "name": "stdout",
     "output_type": "stream",
     "text": [
      "frozenset({1, 2, 3, 4})\n"
     ]
    }
   ],
   "source": [
    "print(c)"
   ]
  },
  {
   "cell_type": "code",
   "execution_count": 7,
   "id": "204960a6-292d-490f-95d1-ee7de2916374",
   "metadata": {},
   "outputs": [],
   "source": [
    "d=frozenset(\"akash\")"
   ]
  },
  {
   "cell_type": "code",
   "execution_count": 8,
   "id": "d8103d69-4d2b-4606-a3fd-db5b904c12fa",
   "metadata": {},
   "outputs": [
    {
     "name": "stdout",
     "output_type": "stream",
     "text": [
      "frozenset({'h', 's', 'k', 'a'})\n"
     ]
    }
   ],
   "source": [
    "print(d)"
   ]
  },
  {
   "cell_type": "code",
   "execution_count": 9,
   "id": "1722d87a-527b-4c5a-a253-49283fd4e931",
   "metadata": {},
   "outputs": [
    {
     "name": "stdout",
     "output_type": "stream",
     "text": [
      "4\n"
     ]
    }
   ],
   "source": [
    "print(len(d))"
   ]
  },
  {
   "cell_type": "code",
   "execution_count": 10,
   "id": "3d4dafc0-d98d-4ae2-86c3-81189ed5975d",
   "metadata": {},
   "outputs": [],
   "source": [
    "e=frozenset()"
   ]
  },
  {
   "cell_type": "code",
   "execution_count": 11,
   "id": "4ffb56f5-5878-4bf4-9694-940ec28168a2",
   "metadata": {},
   "outputs": [
    {
     "name": "stdout",
     "output_type": "stream",
     "text": [
      "frozenset()\n"
     ]
    }
   ],
   "source": [
    "print(e)"
   ]
  },
  {
   "cell_type": "code",
   "execution_count": 12,
   "id": "603fe8d6-8e4d-4178-b64a-a4c81d0bcee7",
   "metadata": {},
   "outputs": [
    {
     "name": "stdout",
     "output_type": "stream",
     "text": [
      "0\n"
     ]
    }
   ],
   "source": [
    "print(len(e))"
   ]
  },
  {
   "cell_type": "code",
   "execution_count": 13,
   "id": "f1809c54-c423-4011-bff7-234a24029d60",
   "metadata": {},
   "outputs": [
    {
     "ename": "TypeError",
     "evalue": "unhashable type: 'set'",
     "output_type": "error",
     "traceback": [
      "\u001b[1;31m---------------------------------------------------------------------------\u001b[0m",
      "\u001b[1;31mTypeError\u001b[0m                                 Traceback (most recent call last)",
      "Cell \u001b[1;32mIn[13], line 1\u001b[0m\n\u001b[1;32m----> 1\u001b[0m f\u001b[38;5;241m=\u001b[39m\u001b[38;5;28mfrozenset\u001b[39m({\u001b[38;5;241m1\u001b[39m,\u001b[38;5;241m2\u001b[39m,\u001b[38;5;241m3\u001b[39m,\u001b[38;5;241m4\u001b[39m,{\u001b[38;5;241m1\u001b[39m,\u001b[38;5;241m2\u001b[39m,\u001b[38;5;241m3\u001b[39m}})\n",
      "\u001b[1;31mTypeError\u001b[0m: unhashable type: 'set'"
     ]
    }
   ],
   "source": [
    "f=frozenset({1,2,3,4,{1,2,3}})"
   ]
  },
  {
   "cell_type": "code",
   "execution_count": 14,
   "id": "5e456aa7-1115-4e19-bbd5-c345f9db489f",
   "metadata": {},
   "outputs": [],
   "source": [
    "f=frozenset({1,2,3,4,frozenset({1,2,3,4})})"
   ]
  },
  {
   "cell_type": "code",
   "execution_count": 15,
   "id": "6a14e547-894d-4306-8ce0-bd27aa1e08c9",
   "metadata": {},
   "outputs": [
    {
     "name": "stdout",
     "output_type": "stream",
     "text": [
      "frozenset({1, 2, 3, 4, frozenset({1, 2, 3, 4})})\n"
     ]
    }
   ],
   "source": [
    "print(f)"
   ]
  },
  {
   "cell_type": "code",
   "execution_count": 16,
   "id": "afb87f3f-f750-48ec-b192-404c7721ea23",
   "metadata": {},
   "outputs": [],
   "source": [
    "g=frozenset({1,2,3,4,5,6})"
   ]
  },
  {
   "cell_type": "code",
   "execution_count": 17,
   "id": "ecb81716-f9bb-46c9-9be1-6a06bc65f5f1",
   "metadata": {},
   "outputs": [],
   "source": [
    "h=frozenset({4,5,6,7,8,9})"
   ]
  },
  {
   "cell_type": "code",
   "execution_count": 18,
   "id": "e0583b6f-160f-4681-aa00-96877db0f7c0",
   "metadata": {},
   "outputs": [
    {
     "data": {
      "text/plain": [
       "frozenset({1, 2, 3})"
      ]
     },
     "execution_count": 18,
     "metadata": {},
     "output_type": "execute_result"
    }
   ],
   "source": [
    "g-h"
   ]
  },
  {
   "cell_type": "code",
   "execution_count": 19,
   "id": "af5dce93-f133-4107-b407-b04f60d2ffa3",
   "metadata": {},
   "outputs": [
    {
     "name": "stdout",
     "output_type": "stream",
     "text": [
      "frozenset({1, 2, 3})\n"
     ]
    }
   ],
   "source": [
    "print(g-h)"
   ]
  },
  {
   "cell_type": "code",
   "execution_count": 20,
   "id": "5d363354-e664-488d-85d7-9bf7ba8df9c3",
   "metadata": {},
   "outputs": [
    {
     "name": "stdout",
     "output_type": "stream",
     "text": [
      "frozenset({1, 2, 3, 4, 5, 6})\n"
     ]
    }
   ],
   "source": [
    "print(g)"
   ]
  },
  {
   "cell_type": "code",
   "execution_count": 21,
   "id": "1eb44972-cbc2-4e18-9d61-80de8aec38fe",
   "metadata": {},
   "outputs": [
    {
     "name": "stdout",
     "output_type": "stream",
     "text": [
      "frozenset({4, 5, 6, 7, 8, 9})\n"
     ]
    }
   ],
   "source": [
    "print(h)"
   ]
  },
  {
   "cell_type": "code",
   "execution_count": 22,
   "id": "5cd7ccc4-27f8-4b47-bb84-8290dbe17b33",
   "metadata": {},
   "outputs": [
    {
     "name": "stdout",
     "output_type": "stream",
     "text": [
      "frozenset({1, 2, 3})\n"
     ]
    }
   ],
   "source": [
    "print(g.difference(h))"
   ]
  },
  {
   "cell_type": "code",
   "execution_count": 23,
   "id": "804ae927-ac9a-4d44-8a3e-e555e4569190",
   "metadata": {},
   "outputs": [
    {
     "name": "stdout",
     "output_type": "stream",
     "text": [
      "frozenset({1, 2, 3, 4, 5, 6})\n"
     ]
    }
   ],
   "source": [
    "print(g)"
   ]
  },
  {
   "cell_type": "code",
   "execution_count": 24,
   "id": "fda17f15-0cbb-43fc-80f3-8da969c3e7b4",
   "metadata": {},
   "outputs": [
    {
     "name": "stdout",
     "output_type": "stream",
     "text": [
      "frozenset({4, 5, 6, 7, 8, 9})\n"
     ]
    }
   ],
   "source": [
    "print(h)"
   ]
  },
  {
   "cell_type": "code",
   "execution_count": 25,
   "id": "73aa8d07-ba1f-49b6-bf5a-5b88a33a0a4c",
   "metadata": {},
   "outputs": [
    {
     "name": "stdout",
     "output_type": "stream",
     "text": [
      "frozenset({4, 5, 6})\n"
     ]
    }
   ],
   "source": [
    "print(g.intersection(h))"
   ]
  },
  {
   "cell_type": "code",
   "execution_count": 26,
   "id": "3c00f121-5b6a-4fc4-b211-988a56a0ba05",
   "metadata": {},
   "outputs": [
    {
     "name": "stdout",
     "output_type": "stream",
     "text": [
      "False\n"
     ]
    }
   ],
   "source": [
    "print(g.isdisjoint(h))"
   ]
  },
  {
   "cell_type": "code",
   "execution_count": 27,
   "id": "ecfb1f69-ffe8-4a79-a959-e35e7d3c1c98",
   "metadata": {},
   "outputs": [
    {
     "name": "stdout",
     "output_type": "stream",
     "text": [
      "False\n"
     ]
    }
   ],
   "source": [
    "print(g.issubset(h))"
   ]
  },
  {
   "cell_type": "code",
   "execution_count": 28,
   "id": "bbcbbed7-9b20-4548-b819-733424e7ba3b",
   "metadata": {},
   "outputs": [
    {
     "name": "stdout",
     "output_type": "stream",
     "text": [
      "False\n"
     ]
    }
   ],
   "source": [
    "print(g.issuperset(h))"
   ]
  },
  {
   "cell_type": "code",
   "execution_count": 30,
   "id": "a15ce4eb-6413-4a73-8d09-ba48028597bd",
   "metadata": {},
   "outputs": [
    {
     "name": "stdout",
     "output_type": "stream",
     "text": [
      "True\n"
     ]
    }
   ],
   "source": [
    "print(g.issuperset(g))"
   ]
  },
  {
   "cell_type": "code",
   "execution_count": 31,
   "id": "21452df9-e886-4c3b-8a11-363b1c2f4755",
   "metadata": {},
   "outputs": [
    {
     "name": "stdout",
     "output_type": "stream",
     "text": [
      "frozenset({1, 2, 3, 7, 8, 9})\n"
     ]
    }
   ],
   "source": [
    "print(g.symmetric_difference(h))"
   ]
  },
  {
   "cell_type": "code",
   "execution_count": 32,
   "id": "b4468ac1-47f8-43e0-bba3-56bf0fc6a546",
   "metadata": {},
   "outputs": [
    {
     "name": "stdout",
     "output_type": "stream",
     "text": [
      "frozenset({1, 2, 3, 4, 5, 6, 7, 8, 9})\n"
     ]
    }
   ],
   "source": [
    "print(g.union(h))"
   ]
  },
  {
   "cell_type": "code",
   "execution_count": null,
   "id": "9827ec5d-a8aa-4198-80ac-c2a9d61d4fb0",
   "metadata": {},
   "outputs": [],
   "source": []
  }
 ],
 "metadata": {
  "kernelspec": {
   "display_name": "Python 3 (ipykernel)",
   "language": "python",
   "name": "python3"
  },
  "language_info": {
   "codemirror_mode": {
    "name": "ipython",
    "version": 3
   },
   "file_extension": ".py",
   "mimetype": "text/x-python",
   "name": "python",
   "nbconvert_exporter": "python",
   "pygments_lexer": "ipython3",
   "version": "3.11.4"
  }
 },
 "nbformat": 4,
 "nbformat_minor": 5
}
