{
 "cells": [
  {
   "cell_type": "code",
   "execution_count": 10,
   "id": "0b598acc-5ce1-401c-8286-6f169aa396b5",
   "metadata": {},
   "outputs": [],
   "source": [
    "num1=10"
   ]
  },
  {
   "cell_type": "code",
   "execution_count": 11,
   "id": "3239ff49-da74-4762-a52f-d97dcfe6621b",
   "metadata": {},
   "outputs": [
    {
     "data": {
      "text/plain": [
       "10"
      ]
     },
     "execution_count": 11,
     "metadata": {},
     "output_type": "execute_result"
    }
   ],
   "source": [
    "num1"
   ]
  },
  {
   "cell_type": "code",
   "execution_count": null,
   "id": "d94f42e9-89f5-4566-9eed-4d43b5091bac",
   "metadata": {},
   "outputs": [],
   "source": [
    "num1=int(input(\"Enter a number:\"))\n",
    "if num1-2==0:\n",
    "    print(\"The number is even\")\n",
    "    if num1>=0:\n",
    "        print(\"positive\")\n",
    "    else:\n",
    "        print(\"negative\")\n",
    "else:\n",
    "    print(\"The number is odd\")\n",
    "    if num1>=0:\n",
    "        print(\"the number is positive\")\n",
    "    else:\n",
    "        print(\"the number is negative\")"
   ]
  }
 ],
 "metadata": {
  "kernelspec": {
   "display_name": "Python 3 (ipykernel)",
   "language": "python",
   "name": "python3"
  },
  "language_info": {
   "codemirror_mode": {
    "name": "ipython",
    "version": 3
   },
   "file_extension": ".py",
   "mimetype": "text/x-python",
   "name": "python",
   "nbconvert_exporter": "python",
   "pygments_lexer": "ipython3",
   "version": "3.11.4"
  }
 },
 "nbformat": 4,
 "nbformat_minor": 5
}
