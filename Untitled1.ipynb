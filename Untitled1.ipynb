{
 "cells": [
  {
   "cell_type": "code",
   "execution_count": 10,
   "id": "0b598acc-5ce1-401c-8286-6f169aa396b5",
   "metadata": {},
   "outputs": [],
   "source": [
    "num1=10"
   ]
  },
  {
   "cell_type": "code",
   "execution_count": null,
   "id": "398e86ad",
   "metadata": {},
   "outputs": [],
   "source": []
  },
  {
   "cell_type": "code",
   "execution_count": null,
   "id": "67a77d2a",
   "metadata": {},
   "outputs": [],
   "source": []
  },
  {
   "cell_type": "code",
   "execution_count": 11,
   "id": "3239ff49-da74-4762-a52f-d97dcfe6621b",
   "metadata": {},
   "outputs": [
    {
     "data": {
      "text/plain": [
       "10"
      ]
     },
     "execution_count": 11,
     "metadata": {},
     "output_type": "execute_result"
    }
   ],
   "source": [
    "num1"
   ]
  },
  {
   "cell_type": "code",
   "execution_count": 2,
   "id": "d94f42e9-89f5-4566-9eed-4d43b5091bac",
   "metadata": {},
   "outputs": [
    {
     "name": "stdout",
     "output_type": "stream",
     "text": [
      "The number is odd\n",
      "the number is positive\n"
     ]
    }
   ],
   "source": [
    "num1=int(input(\"Enter a number:\"))\n",
    "if num1-2==0:\n",
    "    print(\"The number is even\")\n",
    "    if num1>=0:\n",
    "        print(\"positive\")\n",
    "    else:\n",
    "        print(\"negative\")\n",
    "else:\n",
    "    print(\"The number is odd\")\n",
    "    if num1>=0:\n",
    "        print(\"the number is positive\")\n",
    "    else:\n",
    "        print(\"the number is negative\")"
   ]
  },
  {
   "cell_type": "code",
   "execution_count": 5,
   "id": "52bcd7a7",
   "metadata": {},
   "outputs": [
    {
     "name": "stdout",
     "output_type": "stream",
     "text": [
      "enter a number: 10\n"
     ]
    },
    {
     "name": "stdout",
     "output_type": "stream",
     "text": [
      "this number is even\n",
      "positive\n"
     ]
    }
   ],
   "source": [
    "num1=int(input(\"enter a number:\"))\n",
    "if num1%2==0:\n",
    "    print(\"this number is even\")\n",
    "    if num1>=0:\n",
    "        print(\"positive\")\n",
    "    else:\n",
    "        print(\"negative\")\n",
    "else:\n",
    "    print(\"this is odd\")\n",
    "    if num1>=1:\n",
    "        print(\"this number is positive\")\n",
    "    else:\n",
    "        print(\"this number is negative\")\n",
    "         "
   ]
  },
  {
   "cell_type": "code",
   "execution_count": 2,
   "id": "7ed7e3dc",
   "metadata": {},
   "outputs": [
    {
     "name": "stdout",
     "output_type": "stream",
     "text": [
      "\n",
      "1  \n",
      "2  2  \n",
      "3  3  3  \n",
      "4  4  4  4  \n",
      "5  5  5  5  5  \n",
      "6  6  6  6  6  6  \n",
      "5  5  5  5  5  \n",
      "4  4  4  4  \n",
      "3  3  3  \n",
      "2  2  \n",
      "1  \n"
     ]
    }
   ],
   "source": [
    "i=0\n",
    "for i in range(6):\n",
    "    for j in range(i):\n",
    "        print(i,\" \",end=\"\")\n",
    "    print(\"\")\n",
    "\n",
    "for i in range(6,0,-1):\n",
    "    for j in range(i):\n",
    "        print(i,\" \",end=\"\")\n",
    "    print(\"\")"
   ]
  },
  {
   "cell_type": "code",
   "execution_count": 28,
   "id": "b8952097",
   "metadata": {},
   "outputs": [
    {
     "name": "stdout",
     "output_type": "stream",
     "text": [
      "\n",
      "* \n",
      "* * \n",
      "* * * \n",
      "* * * * \n",
      "* * * * * \n",
      "* * * * \n",
      "* * * \n",
      "* * \n",
      "* \n"
     ]
    }
   ],
   "source": [
    "i=0\n",
    "for i in range(5):\n",
    "    for j in range(i):\n",
    "        print('* ',end=\"\")\n",
    "    print(\"\")\n",
    "\n",
    "for i in range(5,0,-1):\n",
    "    for j in range(i):\n",
    "        print('* ',end=\"\")\n",
    "    print(\"\")"
   ]
  },
  {
   "cell_type": "code",
   "execution_count": 10,
   "id": "415d4102",
   "metadata": {},
   "outputs": [
    {
     "name": "stdout",
     "output_type": "stream",
     "text": [
      "    *\n",
      "   **\n",
      "  ***\n",
      " ****\n",
      "*****\n",
      " ****\n",
      "  ***\n",
      "   **\n",
      "    *\n"
     ]
    }
   ],
   "source": [
    "print((\" \"*4)+(\"*\"*1))\n",
    "print((\" \"*3)+(\"*\"*2))\n",
    "print((\" \"*2)+(\"*\"*3))\n",
    "print((\" \"*1)+(\"*\"*4))\n",
    "print((\" \"*0)+(\"*\"*5))\n",
    "print((\" \"*1)+(\"*\"*4))\n",
    "print((\" \"*2)+(\"*\"*3))\n",
    "print((\" \"*3)+(\"*\"*2))\n",
    "print((\" \"*4)+(\"*\"*1))"
   ]
  },
  {
   "cell_type": "code",
   "execution_count": 26,
   "id": "91974d86",
   "metadata": {},
   "outputs": [
    {
     "name": "stdout",
     "output_type": "stream",
     "text": [
      "         \n",
      "        \n",
      "       \n",
      "      \n",
      "     \n"
     ]
    }
   ],
   "source": [
    "i=0\n",
    "for i in range(5,0,-1):\n",
    "        print(\" \"*(4+i)+'*'*(i-5))\n",
    "    \n",
    "\n"
   ]
  },
  {
   "cell_type": "code",
   "execution_count": 7,
   "id": "acfb6085",
   "metadata": {},
   "outputs": [
    {
     "name": "stdout",
     "output_type": "stream",
     "text": [
      "o 2\n",
      "y 1\n",
      "n 1\n",
      "t 1\n",
      "e 1\n",
      "r 1\n",
      "h 1\n",
      "s 1\n",
      "u 1\n",
      "c 1\n",
      "p 1\n"
     ]
    }
   ],
   "source": [
    "a='pythoncoures'\n",
    "b=set(a)\n",
    "for i in b:\n",
    "    c=a.count(i)\n",
    "    print(i, c)\n"
   ]
  },
  {
   "cell_type": "code",
   "execution_count": 5,
   "id": "8b604d6a",
   "metadata": {},
   "outputs": [
    {
     "name": "stdout",
     "output_type": "stream",
     "text": [
      "{'o', 'y', 'n', 't', 'e', 'r', 'h', 's', 'u', ' ', 'c', 'p'}\n"
     ]
    }
   ],
   "source": [
    "d  = \"python courses\"\n",
    "o =   set(d)\n",
    "print(o)"
   ]
  },
  {
   "cell_type": "code",
   "execution_count": 6,
   "id": "1699ee66",
   "metadata": {},
   "outputs": [
    {
     "name": "stdout",
     "output_type": "stream",
     "text": [
      "o   2\n",
      "y   1\n",
      "n   1\n",
      "t   1\n",
      "e   1\n",
      "r   1\n",
      "h   1\n",
      "s   2\n",
      "u   1\n",
      "    1\n",
      "c   1\n",
      "p   1\n"
     ]
    }
   ],
   "source": [
    "for i in o:\n",
    "    u = d.count(i)\n",
    "    print(i,\" \",u)\n"
   ]
  },
  {
   "cell_type": "code",
   "execution_count": 2,
   "id": "6d0c644b",
   "metadata": {},
   "outputs": [
    {
     "name": "stdout",
     "output_type": "stream",
     "text": [
      "g   2\n",
      "a   2\n",
      "m   2\n",
      "i   1\n",
      "n   1\n",
      "g   2\n",
      "m   2\n",
      "o   1\n",
      "u   1\n",
      "s   1\n",
      "e   1\n",
      "p   1\n",
      "a   2\n",
      "d   1\n"
     ]
    }
   ],
   "source": [
    "a=\"gamingmousepad\"\n",
    "b=set(a)\n",
    "for i in a:\n",
    "    c=a.count(i)\n",
    "    print(i,\" \",c)\n",
    "\n",
    "d=set(b)"
   ]
  },
  {
   "cell_type": "code",
   "execution_count": 3,
   "id": "53ed3033",
   "metadata": {},
   "outputs": [
    {
     "name": "stdout",
     "output_type": "stream",
     "text": [
      "{'s', 'o', 'e', 'd', 'a', 'p', 'g', 'u', 'n', 'm', 'i'}\n"
     ]
    }
   ],
   "source": [
    "print(d)"
   ]
  },
  {
   "cell_type": "code",
   "execution_count": null,
   "id": "bd6f2d1a",
   "metadata": {},
   "outputs": [],
   "source": []
  }
 ],
 "metadata": {
  "kernelspec": {
   "display_name": "Python 3 (ipykernel)",
   "language": "python",
   "name": "python3"
  },
  "language_info": {
   "codemirror_mode": {
    "name": "ipython",
    "version": 3
   },
   "file_extension": ".py",
   "mimetype": "text/x-python",
   "name": "python",
   "nbconvert_exporter": "python",
   "pygments_lexer": "ipython3",
   "version": "3.11.5"
  }
 },
 "nbformat": 4,
 "nbformat_minor": 5
}
