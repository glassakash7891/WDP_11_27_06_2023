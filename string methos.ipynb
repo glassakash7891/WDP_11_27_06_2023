{
 "cells": [
  {
   "cell_type": "markdown",
   "id": "0e9c0d9d-3253-4940-b7e7-0613fe70a973",
   "metadata": {
    "jp-MarkdownHeadingCollapsed": true,
    "tags": []
   },
   "source": [
    "# capitalize()"
   ]
  },
  {
   "cell_type": "code",
   "execution_count": 2,
   "id": "646c03b9-bc20-4794-8a4f-e7b21b42209b",
   "metadata": {},
   "outputs": [],
   "source": [
    "a=\"hello, and welcome to my world.\" # capitalize() "
   ]
  },
  {
   "cell_type": "code",
   "execution_count": 9,
   "id": "e7b179a6-eeeb-4b9b-b162-b0b797b664e0",
   "metadata": {},
   "outputs": [],
   "source": [
    "b=a.capitalize()\n"
   ]
  },
  {
   "cell_type": "code",
   "execution_count": 10,
   "id": "57280ddc-3a47-4d8c-b04a-bd79e51f0c65",
   "metadata": {},
   "outputs": [
    {
     "name": "stdout",
     "output_type": "stream",
     "text": [
      "Hello, and welcome to my world.\n"
     ]
    }
   ],
   "source": [
    "print(b)"
   ]
  },
  {
   "cell_type": "code",
   "execution_count": 8,
   "id": "b7c04270-7ca3-4494-bce6-edc6028a5c8c",
   "metadata": {},
   "outputs": [
    {
     "name": "stdout",
     "output_type": "stream",
     "text": [
      "Hello, and welcome to my world.\n"
     ]
    }
   ],
   "source": [
    "print(\"hello, and welcome to my world.\".capitalize())"
   ]
  },
  {
   "cell_type": "code",
   "execution_count": 11,
   "id": "9f6af1c1-e4db-44a9-8221-63a421ca1384",
   "metadata": {},
   "outputs": [],
   "source": [
    "c=\"pyhtho is FUN!\""
   ]
  },
  {
   "cell_type": "code",
   "execution_count": 12,
   "id": "361e70ef-6bf9-4008-926b-c8cf9a71ef64",
   "metadata": {},
   "outputs": [],
   "source": [
    "d=c.capitalize()"
   ]
  },
  {
   "cell_type": "code",
   "execution_count": 13,
   "id": "e3f8c452-17b0-4ba5-b376-a478fc36d8d2",
   "metadata": {},
   "outputs": [
    {
     "name": "stdout",
     "output_type": "stream",
     "text": [
      "Pyhtho is fun!\n"
     ]
    }
   ],
   "source": [
    "print(d)"
   ]
  },
  {
   "cell_type": "code",
   "execution_count": 18,
   "id": "98336c9d-6fd2-413a-b960-eff288424b32",
   "metadata": {},
   "outputs": [],
   "source": [
    "e=\"32 is My Age.\" "
   ]
  },
  {
   "cell_type": "code",
   "execution_count": 19,
   "id": "b854a254-47c6-4587-8841-052900833c08",
   "metadata": {},
   "outputs": [],
   "source": [
    "f=e.capitalize()"
   ]
  },
  {
   "cell_type": "code",
   "execution_count": 21,
   "id": "cf4c7dbe-203b-44f0-a7a9-13a3479ca864",
   "metadata": {},
   "outputs": [
    {
     "name": "stdout",
     "output_type": "stream",
     "text": [
      "32 is my age.\n"
     ]
    }
   ],
   "source": [
    "print(f) # first character is converted to upper case and the rest are converted to lower case."
   ]
  },
  {
   "cell_type": "markdown",
   "id": "1d670e88-406d-4dd6-adc8-48ef4a7b506c",
   "metadata": {
    "jp-MarkdownHeadingCollapsed": true,
    "tags": []
   },
   "source": [
    "# center() method"
   ]
  },
  {
   "cell_type": "code",
   "execution_count": 22,
   "id": "69cfa812-ce56-41c5-a4f8-eb8bd6f27a0b",
   "metadata": {},
   "outputs": [],
   "source": [
    "a=\"rajput\""
   ]
  },
  {
   "cell_type": "code",
   "execution_count": 26,
   "id": "3bf8c16c-865e-4307-ac88-6d952678fdc2",
   "metadata": {},
   "outputs": [
    {
     "name": "stdout",
     "output_type": "stream",
     "text": [
      "b=a.center(20)\n"
     ]
    }
   ],
   "source": [
    "print(\"b=a.center(20)\")"
   ]
  },
  {
   "cell_type": "code",
   "execution_count": 27,
   "id": "b67d4599-842a-4a6c-8c91-873f36e91fc0",
   "metadata": {},
   "outputs": [
    {
     "name": "stdout",
     "output_type": "stream",
     "text": [
      "       rajput       \n"
     ]
    }
   ],
   "source": [
    "print(b)"
   ]
  },
  {
   "cell_type": "code",
   "execution_count": 28,
   "id": "b87c7046-414c-45e1-969d-66b7bf19fe76",
   "metadata": {},
   "outputs": [],
   "source": [
    "c=\"akash\""
   ]
  },
  {
   "cell_type": "code",
   "execution_count": 32,
   "id": "9969eb39-eff4-43e8-9afd-22d18ea6de24",
   "metadata": {},
   "outputs": [
    {
     "name": "stdout",
     "output_type": "stream",
     "text": [
      "            akash             \n"
     ]
    }
   ],
   "source": [
    "d=c.center(30)\n",
    "print(d)"
   ]
  },
  {
   "cell_type": "code",
   "execution_count": 33,
   "id": "0b53d5b8-7ddf-4da5-a4d4-852c9be08565",
   "metadata": {},
   "outputs": [],
   "source": [
    "e=\"akash\""
   ]
  },
  {
   "cell_type": "code",
   "execution_count": 35,
   "id": "0b42c55e-6bcf-4f7f-b9f9-af77ab99c24a",
   "metadata": {},
   "outputs": [
    {
     "name": "stdout",
     "output_type": "stream",
     "text": [
      "------------akash-------------\n"
     ]
    }
   ],
   "source": [
    "f=e.center(30,\"-\")   # padding character\n",
    "print(f)"
   ]
  },
  {
   "cell_type": "markdown",
   "id": "e325f120-3b61-423a-be33-54fb692c3d9d",
   "metadata": {
    "tags": []
   },
   "source": [
    "# count() method\n",
    "\n",
    "> the count() method return the number of times a specified value appears in the string."
   ]
  },
  {
   "cell_type": "code",
   "execution_count": 36,
   "id": "f796a121-cf32-4594-bb38-2378cc370b0e",
   "metadata": {},
   "outputs": [],
   "source": [
    "a=\"i love apples, apple are my favorite fruit\""
   ]
  },
  {
   "cell_type": "code",
   "execution_count": 37,
   "id": "25fa7015-cb73-4fb3-b4c9-8d1314324308",
   "metadata": {},
   "outputs": [
    {
     "name": "stdout",
     "output_type": "stream",
     "text": [
      "2\n"
     ]
    }
   ],
   "source": [
    "b=a.count(\"apple\")\n",
    "print(b)"
   ]
  },
  {
   "cell_type": "code",
   "execution_count": 38,
   "id": "11a9b713-555e-4cb4-8fc2-f5b2b732ae67",
   "metadata": {},
   "outputs": [],
   "source": [
    "c=\"i love apples, apple are my favorite fruit\""
   ]
  },
  {
   "cell_type": "code",
   "execution_count": 43,
   "id": "12a18646-475f-47ee-b3a5-ae77d2ccffde",
   "metadata": {},
   "outputs": [
    {
     "name": "stdout",
     "output_type": "stream",
     "text": [
      "1\n"
     ]
    }
   ],
   "source": [
    "d=c.count(\"apple\",10,24) # not clear concept\n",
    "print(d)"
   ]
  },
  {
   "cell_type": "code",
   "execution_count": 55,
   "id": "33a63580-3e61-41e0-b614-97fb85b12289",
   "metadata": {},
   "outputs": [],
   "source": [
    "e='''twinkle, twinkle, little star,\n",
    "How I wonder what you are!\n",
    "Up above the world so high,\n",
    "Like a diamond in the sky.'''"
   ]
  },
  {
   "cell_type": "code",
   "execution_count": 56,
   "id": "c2ebe391-e2a2-4db5-a049-8cfcebb7f06c",
   "metadata": {},
   "outputs": [
    {
     "name": "stdout",
     "output_type": "stream",
     "text": [
      "2\n"
     ]
    }
   ],
   "source": [
    "f=e.count(\"twinkle\")\n",
    "print(f)"
   ]
  },
  {
   "cell_type": "markdown",
   "id": "4253d59b-0757-4508-94b5-3b29a9d8fef3",
   "metadata": {},
   "source": [
    "# encode()"
   ]
  },
  {
   "cell_type": "code",
   "execution_count": 59,
   "id": "bd8ed165-01aa-4649-8fac-26267fdd2588",
   "metadata": {},
   "outputs": [],
   "source": [
    "a=\"i am akåsh\" # what is utf-8?"
   ]
  },
  {
   "cell_type": "code",
   "execution_count": 60,
   "id": "cf1c50d1-a447-4b87-b7a6-44f30d05b5e0",
   "metadata": {},
   "outputs": [
    {
     "name": "stdout",
     "output_type": "stream",
     "text": [
      "b'i am ak\\xc3\\xa5sh'\n"
     ]
    }
   ],
   "source": [
    "b=a.encode()\n",
    "print(b)"
   ]
  }
 ],
 "metadata": {
  "kernelspec": {
   "display_name": "Python 3 (ipykernel)",
   "language": "python",
   "name": "python3"
  },
  "language_info": {
   "codemirror_mode": {
    "name": "ipython",
    "version": 3
   },
   "file_extension": ".py",
   "mimetype": "text/x-python",
   "name": "python",
   "nbconvert_exporter": "python",
   "pygments_lexer": "ipython3",
   "version": "3.10.9"
  }
 },
 "nbformat": 4,
 "nbformat_minor": 5
}
