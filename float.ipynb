{
 "cells": [
  {
   "cell_type": "markdown",
   "id": "5c365e00-dd10-4378-a8ea-724427bfcce7",
   "metadata": {},
   "source": [
    "#float\n",
    "\n",
    "> float cunstructor is float()\n",
    "\n",
    "> float literal is o"
   ]
  },
  {
   "cell_type": "code",
   "execution_count": 1,
   "id": "56405cdb-125d-484e-8484-3346fc8fba09",
   "metadata": {},
   "outputs": [],
   "source": [
    "a=0.0"
   ]
  },
  {
   "cell_type": "code",
   "execution_count": 2,
   "id": "0a82a772-1a1c-4c0b-b407-8033caa4a71a",
   "metadata": {},
   "outputs": [
    {
     "name": "stdout",
     "output_type": "stream",
     "text": [
      "<class 'float'>\n"
     ]
    }
   ],
   "source": [
    "print(float)"
   ]
  },
  {
   "cell_type": "code",
   "execution_count": 3,
   "id": "39a84553-57a0-4962-873d-df089563b819",
   "metadata": {},
   "outputs": [],
   "source": [
    "b=float()"
   ]
  },
  {
   "cell_type": "code",
   "execution_count": 5,
   "id": "2fecf016-0f2f-40d8-8716-5a09229a7334",
   "metadata": {},
   "outputs": [
    {
     "name": "stdout",
     "output_type": "stream",
     "text": [
      "0.0\n"
     ]
    }
   ],
   "source": [
    "print(b)"
   ]
  },
  {
   "cell_type": "code",
   "execution_count": 16,
   "id": "300749c6-97ec-43d3-b38d-c8ecaddd066f",
   "metadata": {},
   "outputs": [],
   "source": [
    "a=000000000.0000000020"
   ]
  },
  {
   "cell_type": "code",
   "execution_count": 17,
   "id": "79e1606c-bc6a-4220-97ef-654b8f7a24cc",
   "metadata": {},
   "outputs": [
    {
     "name": "stdout",
     "output_type": "stream",
     "text": [
      "2e-09\n"
     ]
    }
   ],
   "source": [
    "print(a)"
   ]
  },
  {
   "cell_type": "code",
   "execution_count": 18,
   "id": "e33e521b-5fdc-42c1-b068-dab865560521",
   "metadata": {},
   "outputs": [],
   "source": [
    "e=2e2"
   ]
  },
  {
   "cell_type": "code",
   "execution_count": 19,
   "id": "b8884994-4add-4e6d-8b59-d527c0888caf",
   "metadata": {},
   "outputs": [
    {
     "name": "stdout",
     "output_type": "stream",
     "text": [
      "200.0\n"
     ]
    }
   ],
   "source": [
    "print(e)"
   ]
  },
  {
   "cell_type": "code",
   "execution_count": 27,
   "id": "a5207c70-0575-4bbc-a5ea-c30985c55151",
   "metadata": {},
   "outputs": [
    {
     "data": {
      "text/plain": [
       "200.0"
      ]
     },
     "execution_count": 27,
     "metadata": {},
     "output_type": "execute_result"
    }
   ],
   "source": [
    "2*10.0**2"
   ]
  },
  {
   "cell_type": "code",
   "execution_count": null,
   "id": "1c3479d4-c074-456a-998a-e66b14f0b136",
   "metadata": {},
   "outputs": [],
   "source": []
  }
 ],
 "metadata": {
  "kernelspec": {
   "display_name": "Python 3 (ipykernel)",
   "language": "python",
   "name": "python3"
  },
  "language_info": {
   "codemirror_mode": {
    "name": "ipython",
    "version": 3
   },
   "file_extension": ".py",
   "mimetype": "text/x-python",
   "name": "python",
   "nbconvert_exporter": "python",
   "pygments_lexer": "ipython3",
   "version": "3.10.9"
  }
 },
 "nbformat": 4,
 "nbformat_minor": 5
}
