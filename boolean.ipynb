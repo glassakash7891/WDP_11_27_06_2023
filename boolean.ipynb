{
 "cells": [
  {
   "cell_type": "markdown",
   "id": "86dc4ffd-a1ad-4c38-8e40-5bb7ed502b9c",
   "metadata": {},
   "source": [
    "# boolean\n",
    "\n",
    "> boolean constructor is bool()\n",
    "\n",
    "> boolean literal is false"
   ]
  },
  {
   "cell_type": "code",
   "execution_count": 1,
   "id": "5de0f591-f92b-4ca8-b878-f11ec56d3ed5",
   "metadata": {},
   "outputs": [
    {
     "data": {
      "text/plain": [
       "False"
      ]
     },
     "execution_count": 1,
     "metadata": {},
     "output_type": "execute_result"
    }
   ],
   "source": [
    "bool()"
   ]
  },
  {
   "cell_type": "code",
   "execution_count": 14,
   "id": "484f7c0f-d58d-435e-878f-0f60fead190c",
   "metadata": {},
   "outputs": [
    {
     "data": {
      "text/plain": [
       "False"
      ]
     },
     "execution_count": 14,
     "metadata": {},
     "output_type": "execute_result"
    }
   ],
   "source": [
    "bool(int())"
   ]
  },
  {
   "cell_type": "code",
   "execution_count": 15,
   "id": "5c4acfbf-8e06-460b-a466-d80a0b730e3d",
   "metadata": {},
   "outputs": [
    {
     "data": {
      "text/plain": [
       "False"
      ]
     },
     "execution_count": 15,
     "metadata": {},
     "output_type": "execute_result"
    }
   ],
   "source": [
    "bool(float())"
   ]
  },
  {
   "cell_type": "code",
   "execution_count": 16,
   "id": "31fba4fb-5b83-4256-a5de-159912f6406d",
   "metadata": {},
   "outputs": [
    {
     "data": {
      "text/plain": [
       "False"
      ]
     },
     "execution_count": 16,
     "metadata": {},
     "output_type": "execute_result"
    }
   ],
   "source": [
    "bool(str())"
   ]
  },
  {
   "cell_type": "code",
   "execution_count": 17,
   "id": "9ba3b519-3775-4311-80d0-e8271ed092bd",
   "metadata": {},
   "outputs": [
    {
     "data": {
      "text/plain": [
       "False"
      ]
     },
     "execution_count": 17,
     "metadata": {},
     "output_type": "execute_result"
    }
   ],
   "source": [
    "bool(list())"
   ]
  },
  {
   "cell_type": "code",
   "execution_count": 18,
   "id": "edb2c62a-f7cf-4ac8-bbf7-30af03b5790f",
   "metadata": {},
   "outputs": [
    {
     "data": {
      "text/plain": [
       "False"
      ]
     },
     "execution_count": 18,
     "metadata": {},
     "output_type": "execute_result"
    }
   ],
   "source": [
    "bool(set())"
   ]
  },
  {
   "cell_type": "code",
   "execution_count": 19,
   "id": "c92c987e-7b5d-4093-8b4f-1eb49fb9846e",
   "metadata": {},
   "outputs": [
    {
     "data": {
      "text/plain": [
       "False"
      ]
     },
     "execution_count": 19,
     "metadata": {},
     "output_type": "execute_result"
    }
   ],
   "source": [
    "bool(tuple())"
   ]
  },
  {
   "cell_type": "code",
   "execution_count": 20,
   "id": "650f743a-9e2a-4fed-861b-7adc455b054a",
   "metadata": {},
   "outputs": [
    {
     "data": {
      "text/plain": [
       "False"
      ]
     },
     "execution_count": 20,
     "metadata": {},
     "output_type": "execute_result"
    }
   ],
   "source": [
    "bool(frozenset())"
   ]
  },
  {
   "cell_type": "code",
   "execution_count": 21,
   "id": "7ae27b0c-3608-424e-b115-c3702979fdf4",
   "metadata": {},
   "outputs": [
    {
     "data": {
      "text/plain": [
       "False"
      ]
     },
     "execution_count": 21,
     "metadata": {},
     "output_type": "execute_result"
    }
   ],
   "source": [
    "bool(dict())"
   ]
  },
  {
   "cell_type": "code",
   "execution_count": 22,
   "id": "ea2e53a9-5e8e-405d-a0b8-bfbc3475805f",
   "metadata": {},
   "outputs": [
    {
     "data": {
      "text/plain": [
       "False"
      ]
     },
     "execution_count": 22,
     "metadata": {},
     "output_type": "execute_result"
    }
   ],
   "source": [
    "bool(complex())"
   ]
  },
  {
   "cell_type": "code",
   "execution_count": 23,
   "id": "0fe10730-54fd-4711-8490-e9c6864a7d30",
   "metadata": {},
   "outputs": [
    {
     "data": {
      "text/plain": [
       "False"
      ]
     },
     "execution_count": 23,
     "metadata": {},
     "output_type": "execute_result"
    }
   ],
   "source": [
    "bool(bool())"
   ]
  },
  {
   "cell_type": "code",
   "execution_count": 25,
   "id": "be41d629-2a04-4eb0-9523-f8bd0c3384bc",
   "metadata": {},
   "outputs": [
    {
     "data": {
      "text/plain": [
       "False"
      ]
     },
     "execution_count": 25,
     "metadata": {},
     "output_type": "execute_result"
    }
   ],
   "source": [
    "bool(None)"
   ]
  },
  {
   "cell_type": "code",
   "execution_count": 38,
   "id": "d32f03cd-b301-4d91-8818-8a36896d1d54",
   "metadata": {},
   "outputs": [
    {
     "data": {
      "text/plain": [
       "False"
      ]
     },
     "execution_count": 38,
     "metadata": {},
     "output_type": "execute_result"
    }
   ],
   "source": [
    "bool(0)"
   ]
  },
  {
   "cell_type": "code",
   "execution_count": 39,
   "id": "069ad9bf-0a4f-4710-a378-e26886cb42ad",
   "metadata": {},
   "outputs": [
    {
     "data": {
      "text/plain": [
       "False"
      ]
     },
     "execution_count": 39,
     "metadata": {},
     "output_type": "execute_result"
    }
   ],
   "source": [
    "bool(0.0)"
   ]
  },
  {
   "cell_type": "code",
   "execution_count": 40,
   "id": "71b669d8-8ae0-41fb-9717-b7c1348974be",
   "metadata": {},
   "outputs": [
    {
     "data": {
      "text/plain": [
       "False"
      ]
     },
     "execution_count": 40,
     "metadata": {},
     "output_type": "execute_result"
    }
   ],
   "source": [
    "bool('')"
   ]
  },
  {
   "cell_type": "code",
   "execution_count": 42,
   "id": "a4d123b3-72f8-4c1c-b3bb-cd1339be6934",
   "metadata": {},
   "outputs": [
    {
     "data": {
      "text/plain": [
       "True"
      ]
     },
     "execution_count": 42,
     "metadata": {},
     "output_type": "execute_result"
    }
   ],
   "source": [
    "bool(\" \") # if bool gives true then its not empty data."
   ]
  },
  {
   "cell_type": "code",
   "execution_count": 43,
   "id": "51fbfa18-54c2-496c-bf08-cd7f61b27f28",
   "metadata": {},
   "outputs": [
    {
     "data": {
      "text/plain": [
       "False"
      ]
     },
     "execution_count": 43,
     "metadata": {},
     "output_type": "execute_result"
    }
   ],
   "source": [
    "bool(\"\"\"\"\"\")"
   ]
  },
  {
   "cell_type": "code",
   "execution_count": 44,
   "id": "df72388c-e955-4553-9724-409eac66c8f5",
   "metadata": {},
   "outputs": [
    {
     "data": {
      "text/plain": [
       "False"
      ]
     },
     "execution_count": 44,
     "metadata": {},
     "output_type": "execute_result"
    }
   ],
   "source": [
    "bool('''''')"
   ]
  },
  {
   "cell_type": "code",
   "execution_count": 45,
   "id": "6d605e7f-4e2a-4547-a8da-f3f766b53175",
   "metadata": {},
   "outputs": [
    {
     "data": {
      "text/plain": [
       "False"
      ]
     },
     "execution_count": 45,
     "metadata": {},
     "output_type": "execute_result"
    }
   ],
   "source": [
    "bool([])"
   ]
  },
  {
   "cell_type": "code",
   "execution_count": 46,
   "id": "c853f86d-6f6d-48c3-85cb-a5c53908abf7",
   "metadata": {},
   "outputs": [
    {
     "data": {
      "text/plain": [
       "False"
      ]
     },
     "execution_count": 46,
     "metadata": {},
     "output_type": "execute_result"
    }
   ],
   "source": [
    "bool(())"
   ]
  },
  {
   "cell_type": "code",
   "execution_count": 47,
   "id": "ebee510c-dbd4-45bb-968f-2103b47174bd",
   "metadata": {},
   "outputs": [
    {
     "data": {
      "text/plain": [
       "False"
      ]
     },
     "execution_count": 47,
     "metadata": {},
     "output_type": "execute_result"
    }
   ],
   "source": [
    "bool({})"
   ]
  },
  {
   "cell_type": "code",
   "execution_count": 48,
   "id": "91df4b94-af92-40f7-a2cc-7f74050db9a7",
   "metadata": {},
   "outputs": [
    {
     "data": {
      "text/plain": [
       "False"
      ]
     },
     "execution_count": 48,
     "metadata": {},
     "output_type": "execute_result"
    }
   ],
   "source": [
    "bool(0j)"
   ]
  },
  {
   "cell_type": "code",
   "execution_count": 52,
   "id": "6a39822a-68b8-440f-97cc-fdc54fe261c3",
   "metadata": {},
   "outputs": [
    {
     "data": {
      "text/plain": [
       "False"
      ]
     },
     "execution_count": 52,
     "metadata": {},
     "output_type": "execute_result"
    }
   ],
   "source": [
    "bool(False)"
   ]
  },
  {
   "cell_type": "code",
   "execution_count": 53,
   "id": "9a7b51a8-ec42-4412-9979-89fbe9e99d23",
   "metadata": {},
   "outputs": [
    {
     "ename": "NameError",
     "evalue": "name 'akash' is not defined",
     "output_type": "error",
     "traceback": [
      "\u001b[1;31m---------------------------------------------------------------------------\u001b[0m",
      "\u001b[1;31mNameError\u001b[0m                                 Traceback (most recent call last)",
      "Cell \u001b[1;32mIn[53], line 1\u001b[0m\n\u001b[1;32m----> 1\u001b[0m \u001b[38;5;28mbool\u001b[39m(\u001b[43makash\u001b[49m)\n",
      "\u001b[1;31mNameError\u001b[0m: name 'akash' is not defined"
     ]
    }
   ],
   "source": [
    "bool(akash)"
   ]
  },
  {
   "cell_type": "code",
   "execution_count": 54,
   "id": "edbbedb8-3eb3-42b4-9c22-375bfed87f7f",
   "metadata": {},
   "outputs": [
    {
     "data": {
      "text/plain": [
       "True"
      ]
     },
     "execution_count": 54,
     "metadata": {},
     "output_type": "execute_result"
    }
   ],
   "source": [
    "bool('akash')"
   ]
  },
  {
   "cell_type": "code",
   "execution_count": null,
   "id": "ed168946-ca63-47a9-bebc-8e76ce899e72",
   "metadata": {},
   "outputs": [],
   "source": []
  }
 ],
 "metadata": {
  "kernelspec": {
   "display_name": "Python 3 (ipykernel)",
   "language": "python",
   "name": "python3"
  },
  "language_info": {
   "codemirror_mode": {
    "name": "ipython",
    "version": 3
   },
   "file_extension": ".py",
   "mimetype": "text/x-python",
   "name": "python",
   "nbconvert_exporter": "python",
   "pygments_lexer": "ipython3",
   "version": "3.11.4"
  }
 },
 "nbformat": 4,
 "nbformat_minor": 5
}
