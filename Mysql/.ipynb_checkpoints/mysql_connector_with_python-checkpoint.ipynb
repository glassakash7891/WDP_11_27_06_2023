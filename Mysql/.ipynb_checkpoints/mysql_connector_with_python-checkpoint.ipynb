{
 "cells": [
  {
   "cell_type": "code",
   "execution_count": 1,
   "id": "694862f9-a4a7-47d6-995a-2c5b99c8a761",
   "metadata": {},
   "outputs": [
    {
     "name": "stdout",
     "output_type": "stream",
     "text": [
      "Collecting mysql-connector-pythonNote: you may need to restart the kernel to use updated packages.\n",
      "\n",
      "  Obtaining dependency information for mysql-connector-python from https://files.pythonhosted.org/packages/d3/b8/6798a0f91e595c0704a94c1e32a00ca930f77cb8f0f96c7e4dad4f9db1fe/mysql_connector_python-8.1.0-cp311-cp311-win_amd64.whl.metadata\n",
      "  Downloading mysql_connector_python-8.1.0-cp311-cp311-win_amd64.whl.metadata (2.1 kB)\n",
      "Collecting protobuf<=4.21.12,>=4.21.1 (from mysql-connector-python)\n",
      "  Downloading protobuf-4.21.12-cp310-abi3-win_amd64.whl (527 kB)\n",
      "     ---------------------------------------- 0.0/527.0 kB ? eta -:--:--\n",
      "     -- ---------------------------------- 41.0/527.0 kB 991.0 kB/s eta 0:00:01\n",
      "     ---- -------------------------------- 61.4/527.0 kB 812.7 kB/s eta 0:00:01\n",
      "     -------- ----------------------------- 122.9/527.0 kB 1.0 MB/s eta 0:00:01\n",
      "     ----------- ------------------------ 174.1/527.0 kB 952.6 kB/s eta 0:00:01\n",
      "     --------------- -------------------- 225.3/527.0 kB 915.1 kB/s eta 0:00:01\n",
      "     ------------------------- ------------ 348.2/527.0 kB 1.1 MB/s eta 0:00:01\n",
      "     ----------------------------- -------- 409.6/527.0 kB 1.1 MB/s eta 0:00:01\n",
      "     ----------------------------------- -- 491.5/527.0 kB 1.1 MB/s eta 0:00:01\n",
      "     -------------------------------------  522.2/527.0 kB 1.2 MB/s eta 0:00:01\n",
      "     -------------------------------------- 527.0/527.0 kB 1.0 MB/s eta 0:00:00\n",
      "Downloading mysql_connector_python-8.1.0-cp311-cp311-win_amd64.whl (10.8 MB)\n",
      "   ---------------------------------------- 0.0/10.8 MB ? eta -:--:--\n",
      "   ---------------------------------------- 0.1/10.8 MB 3.2 MB/s eta 0:00:04\n",
      "   ---------------------------------------- 0.1/10.8 MB 1.1 MB/s eta 0:00:10\n",
      "    --------------------------------------- 0.2/10.8 MB 1.6 MB/s eta 0:00:07\n",
      "    --------------------------------------- 0.3/10.8 MB 1.6 MB/s eta 0:00:07\n",
      "   - -------------------------------------- 0.3/10.8 MB 1.1 MB/s eta 0:00:10\n",
      "   - -------------------------------------- 0.5/10.8 MB 1.4 MB/s eta 0:00:08\n",
      "   -- ------------------------------------- 0.6/10.8 MB 1.4 MB/s eta 0:00:08\n",
      "   -- ------------------------------------- 0.6/10.8 MB 1.4 MB/s eta 0:00:08\n",
      "   -- ------------------------------------- 0.6/10.8 MB 1.2 MB/s eta 0:00:09\n",
      "   -- ------------------------------------- 0.7/10.8 MB 1.3 MB/s eta 0:00:08\n",
      "   --- ------------------------------------ 0.8/10.8 MB 1.5 MB/s eta 0:00:07\n",
      "   --- ------------------------------------ 0.9/10.8 MB 1.5 MB/s eta 0:00:07\n",
      "   --- ------------------------------------ 0.9/10.8 MB 1.3 MB/s eta 0:00:08\n",
      "   --- ------------------------------------ 0.9/10.8 MB 1.3 MB/s eta 0:00:08\n",
      "   --- ------------------------------------ 1.0/10.8 MB 1.2 MB/s eta 0:00:08\n",
      "   ---- ----------------------------------- 1.1/10.8 MB 1.3 MB/s eta 0:00:08\n",
      "   ---- ----------------------------------- 1.2/10.8 MB 1.3 MB/s eta 0:00:08\n",
      "   ---- ----------------------------------- 1.2/10.8 MB 1.3 MB/s eta 0:00:08\n",
      "   ---- ----------------------------------- 1.2/10.8 MB 1.3 MB/s eta 0:00:08\n",
      "   ---- ----------------------------------- 1.3/10.8 MB 1.2 MB/s eta 0:00:08\n",
      "   ---- ----------------------------------- 1.3/10.8 MB 1.2 MB/s eta 0:00:09\n",
      "   ---- ----------------------------------- 1.3/10.8 MB 1.1 MB/s eta 0:00:09\n",
      "   ----- ---------------------------------- 1.4/10.8 MB 1.1 MB/s eta 0:00:09\n",
      "   ----- ---------------------------------- 1.5/10.8 MB 1.2 MB/s eta 0:00:09\n",
      "   ----- ---------------------------------- 1.6/10.8 MB 1.2 MB/s eta 0:00:08\n",
      "   ----- ---------------------------------- 1.6/10.8 MB 1.2 MB/s eta 0:00:08\n",
      "   ------ --------------------------------- 1.7/10.8 MB 1.2 MB/s eta 0:00:08\n",
      "   ------ --------------------------------- 1.8/10.8 MB 1.2 MB/s eta 0:00:08\n",
      "   ------ --------------------------------- 1.8/10.8 MB 1.2 MB/s eta 0:00:08\n",
      "   ------ --------------------------------- 1.8/10.8 MB 1.2 MB/s eta 0:00:08\n",
      "   ------ --------------------------------- 1.9/10.8 MB 1.2 MB/s eta 0:00:08\n",
      "   ------ --------------------------------- 1.9/10.8 MB 1.1 MB/s eta 0:00:08\n",
      "   ------- -------------------------------- 1.9/10.8 MB 1.1 MB/s eta 0:00:08\n",
      "   ------- -------------------------------- 2.1/10.8 MB 1.1 MB/s eta 0:00:08\n",
      "   -------- ------------------------------- 2.2/10.8 MB 1.2 MB/s eta 0:00:08\n",
      "   -------- ------------------------------- 2.3/10.8 MB 1.2 MB/s eta 0:00:08\n",
      "   -------- ------------------------------- 2.3/10.8 MB 1.2 MB/s eta 0:00:08\n",
      "   -------- ------------------------------- 2.4/10.8 MB 1.2 MB/s eta 0:00:08\n",
      "   --------- ------------------------------ 2.6/10.8 MB 1.2 MB/s eta 0:00:07\n",
      "   --------- ------------------------------ 2.6/10.8 MB 1.2 MB/s eta 0:00:07\n",
      "   --------- ------------------------------ 2.7/10.8 MB 1.2 MB/s eta 0:00:07\n",
      "   ---------- ----------------------------- 2.8/10.8 MB 1.2 MB/s eta 0:00:07\n",
      "   ---------- ----------------------------- 2.8/10.8 MB 1.2 MB/s eta 0:00:07\n",
      "   ---------- ----------------------------- 2.9/10.8 MB 1.2 MB/s eta 0:00:07\n",
      "   ----------- ---------------------------- 3.0/10.8 MB 1.3 MB/s eta 0:00:07\n",
      "   ----------- ---------------------------- 3.1/10.8 MB 1.3 MB/s eta 0:00:07\n",
      "   ----------- ---------------------------- 3.2/10.8 MB 1.3 MB/s eta 0:00:07\n",
      "   ----------- ---------------------------- 3.2/10.8 MB 1.3 MB/s eta 0:00:07\n",
      "   ------------ --------------------------- 3.3/10.8 MB 1.3 MB/s eta 0:00:06\n",
      "   ------------ --------------------------- 3.4/10.8 MB 1.3 MB/s eta 0:00:06\n",
      "   ------------ --------------------------- 3.5/10.8 MB 1.3 MB/s eta 0:00:06\n",
      "   ------------- -------------------------- 3.6/10.8 MB 1.3 MB/s eta 0:00:06\n",
      "   ------------- -------------------------- 3.7/10.8 MB 1.3 MB/s eta 0:00:06\n",
      "   ------------- -------------------------- 3.7/10.8 MB 1.3 MB/s eta 0:00:06\n",
      "   ------------- -------------------------- 3.7/10.8 MB 1.3 MB/s eta 0:00:06\n",
      "   -------------- ------------------------- 3.8/10.8 MB 1.3 MB/s eta 0:00:06\n",
      "   -------------- ------------------------- 3.9/10.8 MB 1.3 MB/s eta 0:00:06\n",
      "   -------------- ------------------------- 4.0/10.8 MB 1.3 MB/s eta 0:00:06\n",
      "   -------------- ------------------------- 4.0/10.8 MB 1.3 MB/s eta 0:00:06\n",
      "   --------------- ------------------------ 4.2/10.8 MB 1.3 MB/s eta 0:00:06\n",
      "   --------------- ------------------------ 4.2/10.8 MB 1.3 MB/s eta 0:00:06\n",
      "   --------------- ------------------------ 4.3/10.8 MB 1.3 MB/s eta 0:00:05\n",
      "   --------------- ------------------------ 4.3/10.8 MB 1.3 MB/s eta 0:00:05\n",
      "   ---------------- ----------------------- 4.4/10.8 MB 1.3 MB/s eta 0:00:05\n",
      "   ---------------- ----------------------- 4.5/10.8 MB 1.3 MB/s eta 0:00:05\n",
      "   ---------------- ----------------------- 4.6/10.8 MB 1.3 MB/s eta 0:00:05\n",
      "   ----------------- ---------------------- 4.6/10.8 MB 1.3 MB/s eta 0:00:05\n",
      "   ----------------- ---------------------- 4.8/10.8 MB 1.4 MB/s eta 0:00:05\n",
      "   ----------------- ---------------------- 4.8/10.8 MB 1.4 MB/s eta 0:00:05\n",
      "   ----------------- ---------------------- 4.8/10.8 MB 1.3 MB/s eta 0:00:05\n",
      "   ------------------ --------------------- 4.9/10.8 MB 1.3 MB/s eta 0:00:05\n",
      "   ------------------ --------------------- 5.0/10.8 MB 1.3 MB/s eta 0:00:05\n",
      "   ------------------ --------------------- 5.1/10.8 MB 1.3 MB/s eta 0:00:05\n",
      "   ------------------- -------------------- 5.2/10.8 MB 1.3 MB/s eta 0:00:05\n",
      "   ------------------- -------------------- 5.2/10.8 MB 1.3 MB/s eta 0:00:05\n",
      "   ------------------- -------------------- 5.3/10.8 MB 1.3 MB/s eta 0:00:05\n",
      "   ------------------- -------------------- 5.3/10.8 MB 1.3 MB/s eta 0:00:05\n",
      "   ------------------- -------------------- 5.3/10.8 MB 1.3 MB/s eta 0:00:05\n",
      "   ------------------- -------------------- 5.4/10.8 MB 1.3 MB/s eta 0:00:05\n",
      "   -------------------- ------------------- 5.5/10.8 MB 1.3 MB/s eta 0:00:05\n",
      "   -------------------- ------------------- 5.5/10.8 MB 1.3 MB/s eta 0:00:05\n",
      "   -------------------- ------------------- 5.5/10.8 MB 1.3 MB/s eta 0:00:05\n",
      "   -------------------- ------------------- 5.5/10.8 MB 1.3 MB/s eta 0:00:05\n",
      "   -------------------- ------------------- 5.5/10.8 MB 1.3 MB/s eta 0:00:05\n",
      "   -------------------- ------------------- 5.6/10.8 MB 1.3 MB/s eta 0:00:05\n",
      "   -------------------- ------------------- 5.7/10.8 MB 1.3 MB/s eta 0:00:05\n",
      "   --------------------- ------------------ 5.7/10.8 MB 1.3 MB/s eta 0:00:05\n",
      "   --------------------- ------------------ 5.7/10.8 MB 1.3 MB/s eta 0:00:04\n",
      "   --------------------- ------------------ 5.8/10.8 MB 1.3 MB/s eta 0:00:04\n",
      "   --------------------- ------------------ 5.9/10.8 MB 1.3 MB/s eta 0:00:04\n",
      "   --------------------- ------------------ 5.9/10.8 MB 1.3 MB/s eta 0:00:04\n",
      "   ---------------------- ----------------- 6.1/10.8 MB 1.3 MB/s eta 0:00:04\n",
      "   ---------------------- ----------------- 6.2/10.8 MB 1.3 MB/s eta 0:00:04\n",
      "   ----------------------- ---------------- 6.3/10.8 MB 1.3 MB/s eta 0:00:04\n",
      "   ----------------------- ---------------- 6.4/10.8 MB 1.3 MB/s eta 0:00:04\n",
      "   ----------------------- ---------------- 6.5/10.8 MB 1.3 MB/s eta 0:00:04\n",
      "   ------------------------ --------------- 6.5/10.8 MB 1.3 MB/s eta 0:00:04\n",
      "   ------------------------ --------------- 6.6/10.8 MB 1.3 MB/s eta 0:00:04\n",
      "   ------------------------ --------------- 6.6/10.8 MB 1.3 MB/s eta 0:00:04\n",
      "   ------------------------- -------------- 6.8/10.8 MB 1.3 MB/s eta 0:00:04\n",
      "   ------------------------- -------------- 6.9/10.8 MB 1.3 MB/s eta 0:00:04\n",
      "   ------------------------- -------------- 7.0/10.8 MB 1.3 MB/s eta 0:00:03\n",
      "   -------------------------- ------------- 7.1/10.8 MB 1.3 MB/s eta 0:00:03\n",
      "   -------------------------- ------------- 7.1/10.8 MB 1.3 MB/s eta 0:00:03\n",
      "   -------------------------- ------------- 7.2/10.8 MB 1.3 MB/s eta 0:00:03\n",
      "   -------------------------- ------------- 7.2/10.8 MB 1.3 MB/s eta 0:00:03\n",
      "   -------------------------- ------------- 7.3/10.8 MB 1.3 MB/s eta 0:00:03\n",
      "   --------------------------- ------------ 7.3/10.8 MB 1.3 MB/s eta 0:00:03\n",
      "   --------------------------- ------------ 7.4/10.8 MB 1.3 MB/s eta 0:00:03\n",
      "   --------------------------- ------------ 7.4/10.8 MB 1.3 MB/s eta 0:00:03\n",
      "   --------------------------- ------------ 7.6/10.8 MB 1.3 MB/s eta 0:00:03\n",
      "   ---------------------------- ----------- 7.7/10.8 MB 1.3 MB/s eta 0:00:03\n",
      "   ---------------------------- ----------- 7.8/10.8 MB 1.3 MB/s eta 0:00:03\n",
      "   ----------------------------- ---------- 7.9/10.8 MB 1.3 MB/s eta 0:00:03\n",
      "   ----------------------------- ---------- 8.0/10.8 MB 1.3 MB/s eta 0:00:03\n",
      "   ----------------------------- ---------- 8.1/10.8 MB 1.3 MB/s eta 0:00:03\n",
      "   ------------------------------ --------- 8.2/10.8 MB 1.3 MB/s eta 0:00:03\n",
      "   ------------------------------ --------- 8.2/10.8 MB 1.3 MB/s eta 0:00:02\n",
      "   ------------------------------ --------- 8.3/10.8 MB 1.3 MB/s eta 0:00:02\n",
      "   ------------------------------- -------- 8.5/10.8 MB 1.4 MB/s eta 0:00:02\n",
      "   ------------------------------- -------- 8.5/10.8 MB 1.3 MB/s eta 0:00:02\n",
      "   ------------------------------- -------- 8.5/10.8 MB 1.3 MB/s eta 0:00:02\n",
      "   ------------------------------- -------- 8.6/10.8 MB 1.4 MB/s eta 0:00:02\n",
      "   ------------------------------- -------- 8.6/10.8 MB 1.3 MB/s eta 0:00:02\n",
      "   -------------------------------- ------- 8.8/10.8 MB 1.4 MB/s eta 0:00:02\n",
      "   -------------------------------- ------- 8.8/10.8 MB 1.4 MB/s eta 0:00:02\n",
      "   -------------------------------- ------- 8.8/10.8 MB 1.3 MB/s eta 0:00:02\n",
      "   -------------------------------- ------- 8.8/10.8 MB 1.3 MB/s eta 0:00:02\n",
      "   -------------------------------- ------- 8.9/10.8 MB 1.3 MB/s eta 0:00:02\n",
      "   -------------------------------- ------- 8.9/10.8 MB 1.3 MB/s eta 0:00:02\n",
      "   -------------------------------- ------- 8.9/10.8 MB 1.3 MB/s eta 0:00:02\n",
      "   --------------------------------- ------ 9.0/10.8 MB 1.3 MB/s eta 0:00:02\n",
      "   --------------------------------- ------ 9.2/10.8 MB 1.3 MB/s eta 0:00:02\n",
      "   ---------------------------------- ----- 9.3/10.8 MB 1.3 MB/s eta 0:00:02\n",
      "   ---------------------------------- ----- 9.4/10.8 MB 1.4 MB/s eta 0:00:02\n",
      "   ---------------------------------- ----- 9.5/10.8 MB 1.4 MB/s eta 0:00:02\n",
      "   ----------------------------------- ---- 9.6/10.8 MB 1.4 MB/s eta 0:00:01\n",
      "   ----------------------------------- ---- 9.6/10.8 MB 1.4 MB/s eta 0:00:01\n",
      "   ----------------------------------- ---- 9.6/10.8 MB 1.3 MB/s eta 0:00:01\n",
      "   ----------------------------------- ---- 9.7/10.8 MB 1.4 MB/s eta 0:00:01\n",
      "   ----------------------------------- ---- 9.7/10.8 MB 1.3 MB/s eta 0:00:01\n",
      "   ------------------------------------ --- 9.8/10.8 MB 1.4 MB/s eta 0:00:01\n",
      "   ------------------------------------ --- 9.9/10.8 MB 1.3 MB/s eta 0:00:01\n",
      "   ------------------------------------ --- 9.9/10.8 MB 1.3 MB/s eta 0:00:01\n",
      "   ------------------------------------ --- 10.0/10.8 MB 1.3 MB/s eta 0:00:01\n",
      "   ------------------------------------- -- 10.1/10.8 MB 1.3 MB/s eta 0:00:01\n",
      "   ------------------------------------- -- 10.2/10.8 MB 1.3 MB/s eta 0:00:01\n",
      "   -------------------------------------- - 10.4/10.8 MB 1.4 MB/s eta 0:00:01\n",
      "   -------------------------------------- - 10.4/10.8 MB 1.4 MB/s eta 0:00:01\n",
      "   ---------------------------------------  10.6/10.8 MB 1.4 MB/s eta 0:00:01\n",
      "   ---------------------------------------  10.7/10.8 MB 1.4 MB/s eta 0:00:01\n",
      "   ---------------------------------------  10.7/10.8 MB 1.4 MB/s eta 0:00:01\n",
      "   ---------------------------------------  10.8/10.8 MB 1.4 MB/s eta 0:00:01\n",
      "   ---------------------------------------  10.8/10.8 MB 1.4 MB/s eta 0:00:01\n",
      "   ---------------------------------------  10.8/10.8 MB 1.4 MB/s eta 0:00:01\n",
      "   ---------------------------------------  10.8/10.8 MB 1.4 MB/s eta 0:00:01\n",
      "   ---------------------------------------  10.8/10.8 MB 1.4 MB/s eta 0:00:01\n",
      "   ---------------------------------------  10.8/10.8 MB 1.4 MB/s eta 0:00:01\n",
      "   ---------------------------------------  10.8/10.8 MB 1.4 MB/s eta 0:00:01\n",
      "   ---------------------------------------- 10.8/10.8 MB 1.3 MB/s eta 0:00:00\n",
      "Installing collected packages: protobuf, mysql-connector-python\n",
      "Successfully installed mysql-connector-python-8.1.0 protobuf-4.21.12\n"
     ]
    }
   ],
   "source": [
    "pip install mysql-connector-python"
   ]
  },
  {
   "cell_type": "code",
   "execution_count": 2,
   "id": "d4154fea-a382-4679-a021-f98e227aac3e",
   "metadata": {},
   "outputs": [
    {
     "name": "stdout",
     "output_type": "stream",
     "text": [
      "^C\n",
      "Note: you may need to restart the kernel to use updated packages.\n"
     ]
    }
   ],
   "source": [
    "pip install mysql-connector-python"
   ]
  },
  {
   "cell_type": "code",
   "execution_count": null,
   "id": "e307e9ba-35f4-4109-9229-067fe4fcad3e",
   "metadata": {},
   "outputs": [
    {
     "name": "stdout",
     "output_type": "stream",
     "text": [
      "Requirement already satisfied: mysql-connector-python in c:\\users\\lenovo\\appdata\\local\\programs\\python\\python311\\lib\\site-packages (8.1.0)\n",
      "Requirement already satisfied: protobuf<=4.21.12,>=4.21.1 in c:\\users\\lenovo\\appdata\\local\\programs\\python\\python311\\lib\\site-packages (from mysql-connector-python) (4.21.12)\n"
     ]
    }
   ],
   "source": [
    "pip install mysql-connector-python"
   ]
  },
  {
   "cell_type": "code",
   "execution_count": 6,
   "id": "c1fc138b-4d12-4d91-95f0-bc8a08abcaba",
   "metadata": {},
   "outputs": [],
   "source": [
    "import mysql.connector as sql"
   ]
  },
  {
   "cell_type": "code",
   "execution_count": 16,
   "id": "8ef4421d-5d1b-4aba-a90f-726c0398a3a9",
   "metadata": {},
   "outputs": [
    {
     "name": "stdout",
     "output_type": "stream",
     "text": [
      "hello world\n"
     ]
    }
   ],
   "source": [
    "db=sql.connect(host=\"localhost\",user=\"root\",password=\"root\")\n",
    "print(\"hello world\")"
   ]
  },
  {
   "cell_type": "code",
   "execution_count": 17,
   "id": "5d2100c4-b6a9-4e20-91df-1adaca43bcba",
   "metadata": {},
   "outputs": [],
   "source": [
    "car=db.cursor()"
   ]
  },
  {
   "cell_type": "code",
   "execution_count": 18,
   "id": "76665649-b06d-41d1-873e-5c5c8ef7acc6",
   "metadata": {},
   "outputs": [],
   "source": [
    "car.execute(\"show databases\")"
   ]
  },
  {
   "cell_type": "code",
   "execution_count": 19,
   "id": "299f63e7-6c76-4433-b26b-269c13639d5b",
   "metadata": {},
   "outputs": [
    {
     "name": "stdout",
     "output_type": "stream",
     "text": [
      "('information_schema',)\n",
      "('mysql',)\n",
      "('performance_schema',)\n",
      "('sakila',)\n",
      "('sys',)\n",
      "('wd12',)\n",
      "('world',)\n"
     ]
    }
   ],
   "source": [
    "for i in car:\n",
    "    print(i)"
   ]
  },
  {
   "cell_type": "code",
   "execution_count": 20,
   "id": "ba723e85-3a31-4043-a277-7a8f0478fd8b",
   "metadata": {},
   "outputs": [],
   "source": [
    "car.execute(\" use wd12\")"
   ]
  },
  {
   "cell_type": "code",
   "execution_count": 21,
   "id": "001212d0-21f6-4f1a-a39f-723ef524d3c1",
   "metadata": {},
   "outputs": [],
   "source": [
    "for i in car:\n",
    "    print(i)"
   ]
  },
  {
   "cell_type": "code",
   "execution_count": 22,
   "id": "86f1eb6f-d90b-40f7-998b-3dc0ba2d00db",
   "metadata": {},
   "outputs": [],
   "source": [
    "car.execute(\"show tables\")"
   ]
  },
  {
   "cell_type": "code",
   "execution_count": 23,
   "id": "232327ff-da1c-4afd-b1c2-2bd5e6c0cdec",
   "metadata": {},
   "outputs": [
    {
     "name": "stdout",
     "output_type": "stream",
     "text": [
      "('college',)\n",
      "('collegee',)\n",
      "('counting',)\n",
      "('facility',)\n",
      "('govt',)\n",
      "('hostel',)\n",
      "('restra',)\n",
      "('rmhall',)\n",
      "('salary',)\n",
      "('universitypoly',)\n"
     ]
    }
   ],
   "source": [
    "for i in car:\n",
    "    print(i)"
   ]
  },
  {
   "cell_type": "code",
   "execution_count": 26,
   "id": "a4dee13f-b158-411e-a621-98ef9bae64d4",
   "metadata": {},
   "outputs": [],
   "source": [
    "car.execute(\"create table entry(sn int primary key auto_increment, name varchar(50))\")"
   ]
  },
  {
   "cell_type": "code",
   "execution_count": 29,
   "id": "b09dbd98-de01-4d9d-a340-03d185130212",
   "metadata": {},
   "outputs": [
    {
     "name": "stdin",
     "output_type": "stream",
     "text": [
      "enter name: akash\n",
      "enter name: kunal\n",
      "enter name: krishna\n",
      "enter name: sumit\n",
      "enter name: rupesh\n",
      "enter name: sanjay\n",
      "enter name: sunita\n",
      "enter name: hitansh\n",
      "enter name: raj\n",
      "enter name: ravi\n"
     ]
    }
   ],
   "source": [
    "for i in range(10):\n",
    "    user=input(\"enter name:\")\n",
    "    car.execute(f\"insert into entry(name) values('{user}')\")\n",
    "    "
   ]
  },
  {
   "cell_type": "code",
   "execution_count": 31,
   "id": "1afdf424-a860-4b52-9c72-6098f0e61796",
   "metadata": {},
   "outputs": [],
   "source": [
    "db.commit()"
   ]
  },
  {
   "cell_type": "code",
   "execution_count": 32,
   "id": "3a42bcd9-6988-4942-b61a-fd19dae32df9",
   "metadata": {},
   "outputs": [],
   "source": [
    "car.execute(\"show tables\")"
   ]
  },
  {
   "cell_type": "code",
   "execution_count": 33,
   "id": "9513c469-1a95-4f22-b029-84deb5dd1239",
   "metadata": {},
   "outputs": [
    {
     "name": "stdout",
     "output_type": "stream",
     "text": [
      "('college',)\n",
      "('collegee',)\n",
      "('counting',)\n",
      "('entry',)\n",
      "('facility',)\n",
      "('govt',)\n",
      "('hostel',)\n",
      "('restra',)\n",
      "('rmhall',)\n",
      "('salary',)\n",
      "('universitypoly',)\n"
     ]
    }
   ],
   "source": [
    "for i in car:\n",
    "    print(i)"
   ]
  },
  {
   "cell_type": "code",
   "execution_count": 35,
   "id": "e3f55148-f853-4d59-bc44-2ad7db79be8e",
   "metadata": {},
   "outputs": [],
   "source": [
    "car.execute(\"select * from entry\")"
   ]
  },
  {
   "cell_type": "code",
   "execution_count": 36,
   "id": "b7378685-d185-46c3-bf39-2f10bbac3402",
   "metadata": {},
   "outputs": [
    {
     "name": "stdout",
     "output_type": "stream",
     "text": [
      "(1, 'akash')\n",
      "(2, 'kunal')\n",
      "(3, 'krishna')\n",
      "(4, 'sumit')\n",
      "(5, 'rupesh')\n",
      "(6, 'sanjay')\n",
      "(7, 'sunita')\n",
      "(8, 'hitansh')\n",
      "(9, 'raj')\n",
      "(10, 'ravi')\n"
     ]
    }
   ],
   "source": [
    "for i in car:\n",
    "    print(i)"
   ]
  },
  {
   "cell_type": "code",
   "execution_count": 1,
   "id": "636d07be-910b-42f1-af14-a0bc3d5c62bf",
   "metadata": {},
   "outputs": [],
   "source": [
    "import mysql.connector as sql"
   ]
  },
  {
   "cell_type": "code",
   "execution_count": 2,
   "id": "7d02eabb-7c01-4f41-bb8f-ebf383ccbd2b",
   "metadata": {},
   "outputs": [
    {
     "name": "stdout",
     "output_type": "stream",
     "text": [
      "hello world\n"
     ]
    }
   ],
   "source": [
    "akash=sql.connect(host=\"localhost\",user=\"root\",password=\"root\")\n",
    "print(\"hello world\")"
   ]
  },
  {
   "cell_type": "code",
   "execution_count": 3,
   "id": "d49c95ff-6af0-40c6-bcc2-c1e7a1502544",
   "metadata": {},
   "outputs": [],
   "source": [
    "car=akash.cursor()"
   ]
  },
  {
   "cell_type": "code",
   "execution_count": 4,
   "id": "4017b5c1-c9c3-4502-925e-d023e28a7833",
   "metadata": {},
   "outputs": [],
   "source": [
    "car.execute(\"use my\")"
   ]
  },
  {
   "cell_type": "code",
   "execution_count": 7,
   "id": "c410514e-6138-4522-af4a-d688e8161070",
   "metadata": {},
   "outputs": [],
   "source": [
    "car.execute(\"show databases\")"
   ]
  },
  {
   "cell_type": "code",
   "execution_count": 8,
   "id": "eca5d431-0df9-4d8b-9816-1665cc87be21",
   "metadata": {},
   "outputs": [
    {
     "name": "stdout",
     "output_type": "stream",
     "text": [
      "('information_schema',)\n",
      "('my',)\n",
      "('mysql',)\n",
      "('performance_schema',)\n",
      "('sakila',)\n",
      "('sys',)\n",
      "('wd12',)\n",
      "('world',)\n"
     ]
    }
   ],
   "source": [
    "for i in car:\n",
    "    print(i)"
   ]
  },
  {
   "cell_type": "code",
   "execution_count": 9,
   "id": "05805846-5bb6-4279-a37d-d6572eb0ae7a",
   "metadata": {},
   "outputs": [],
   "source": [
    "car.execute(\"select * from restra\")"
   ]
  },
  {
   "cell_type": "code",
   "execution_count": 10,
   "id": "2b16baaa-481f-4092-91c3-5e4360db2e74",
   "metadata": {},
   "outputs": [],
   "source": [
    "for i in car:\n",
    "    print(i)"
   ]
  },
  {
   "cell_type": "code",
   "execution_count": 11,
   "id": "d015c9fd-88df-4c0c-9812-0aac080f911a",
   "metadata": {},
   "outputs": [],
   "source": [
    "car.execute(\"desc restra\")"
   ]
  },
  {
   "cell_type": "code",
   "execution_count": 12,
   "id": "cf249dd3-63e5-4228-8df6-bf0a52bd6c72",
   "metadata": {},
   "outputs": [
    {
     "name": "stdout",
     "output_type": "stream",
     "text": [
      "('sn', b'int', 'YES', '', None, '')\n",
      "('name', b'varchar(30)', 'YES', '', None, '')\n",
      "('bill', b'float', 'YES', '', None, '')\n"
     ]
    }
   ],
   "source": [
    "for i in car:\n",
    "    print(i)"
   ]
  },
  {
   "cell_type": "code",
   "execution_count": 16,
   "id": "af49b6ef-5e86-49c9-aad1-b94189902228",
   "metadata": {},
   "outputs": [],
   "source": [
    "car.execute(\"insert into restra values(1,'kunal',675.43)\")"
   ]
  },
  {
   "cell_type": "code",
   "execution_count": 17,
   "id": "6bc681b8-48b8-4124-a7ea-42339332d94e",
   "metadata": {},
   "outputs": [],
   "source": [
    "akash.commit()"
   ]
  },
  {
   "cell_type": "code",
   "execution_count": 18,
   "id": "d4b29b6e-a98f-458b-8620-d03457c2a669",
   "metadata": {},
   "outputs": [],
   "source": [
    "car.execute(\"select * from restra\")"
   ]
  },
  {
   "cell_type": "code",
   "execution_count": 19,
   "id": "10088d64-d167-4003-8c61-cac4009bcabc",
   "metadata": {},
   "outputs": [
    {
     "name": "stdout",
     "output_type": "stream",
     "text": [
      "(1, 'kunal', 675.43)\n"
     ]
    }
   ],
   "source": [
    "for i in car:\n",
    "    print(i)"
   ]
  },
  {
   "cell_type": "code",
   "execution_count": 20,
   "id": "411def3e-8772-421d-bc4a-5e6371a337a9",
   "metadata": {},
   "outputs": [],
   "source": [
    "car.execute(\"insert into restra values(2,'krishna',32.43),(3,'rawat',3443.34),(4,'akash',324.3)\")"
   ]
  },
  {
   "cell_type": "code",
   "execution_count": 22,
   "id": "997e0e7c-86df-4692-8e43-4c120ab3f6f0",
   "metadata": {},
   "outputs": [],
   "source": [
    "car.execute(\"insert into restra values(5,'manpreet',3222.43),(6,'divya',344.34),(7,'kashish',44324.3),(8,'rana',5433.43)\")"
   ]
  },
  {
   "cell_type": "code",
   "execution_count": 23,
   "id": "7ea1bd62-7b4a-42a4-84d6-ee91bd526796",
   "metadata": {},
   "outputs": [],
   "source": [
    "car.execute(\"select * from restra\")"
   ]
  },
  {
   "cell_type": "code",
   "execution_count": 24,
   "id": "38691ce9-5b6f-4bab-b348-cc19294e9742",
   "metadata": {},
   "outputs": [
    {
     "name": "stdout",
     "output_type": "stream",
     "text": [
      "(1, 'kunal', 675.43)\n",
      "(2, 'krishna', 32.43)\n",
      "(3, 'rawat', 3443.34)\n",
      "(4, 'akash', 324.3)\n",
      "(5, 'manpreet', 3222.43)\n",
      "(6, 'divya', 344.34)\n",
      "(7, 'kashish', 44324.3)\n",
      "(8, 'rana', 5433.43)\n"
     ]
    }
   ],
   "source": [
    "for i in car:\n",
    "    print(i)"
   ]
  },
  {
   "cell_type": "code",
   "execution_count": 25,
   "id": "1d641cd8-d5ce-4717-984c-ef1e40e304f0",
   "metadata": {},
   "outputs": [],
   "source": [
    "akash.commit()"
   ]
  },
  {
   "cell_type": "code",
   "execution_count": null,
   "id": "10102fb1-5b6d-4a5b-b842-295bd1c406d6",
   "metadata": {},
   "outputs": [],
   "source": []
  }
 ],
 "metadata": {
  "kernelspec": {
   "display_name": "Python 3 (ipykernel)",
   "language": "python",
   "name": "python3"
  },
  "language_info": {
   "codemirror_mode": {
    "name": "ipython",
    "version": 3
   },
   "file_extension": ".py",
   "mimetype": "text/x-python",
   "name": "python",
   "nbconvert_exporter": "python",
   "pygments_lexer": "ipython3",
   "version": "3.11.5"
  }
 },
 "nbformat": 4,
 "nbformat_minor": 5
}
