{
 "cells": [
  {
   "cell_type": "markdown",
   "metadata": {},
   "source": [
    "# multiasking\n",
    "\n",
    "    > thread\n",
    "\n",
    "    > process\n",
    "    \n",
    "    > life cycle of thread\n",
    "\n",
    "        > generate block\n",
    "\n",
    "        > runnable block\n",
    "\n",
    "        > running block\n",
    "\n",
    "        > blocked state\n",
    "\n",
    "        > terminate block"
   ]
  },
  {
   "cell_type": "markdown",
   "metadata": {},
   "source": [
    "compile and runtime error"
   ]
  },
  {
   "cell_type": "code",
   "execution_count": 1,
   "metadata": {},
   "outputs": [],
   "source": [
    "def n1():\n",
    "    print(\"hello world\")\n",
    "\n",
    "def n2():\n",
    "    print(10/0)\n",
    "\n",
    "def n3():\n",
    "    print(\"akash\")"
   ]
  },
  {
   "cell_type": "code",
   "execution_count": 3,
   "metadata": {},
   "outputs": [
    {
     "name": "stdout",
     "output_type": "stream",
     "text": [
      "hello world\n"
     ]
    },
    {
     "ename": "ZeroDivisionError",
     "evalue": "division by zero",
     "output_type": "error",
     "traceback": [
      "\u001b[1;31m---------------------------------------------------------------------------\u001b[0m",
      "\u001b[1;31mZeroDivisionError\u001b[0m                         Traceback (most recent call last)",
      "Cell \u001b[1;32mIn[3], line 2\u001b[0m\n\u001b[0;32m      1\u001b[0m n1()\n\u001b[1;32m----> 2\u001b[0m n2()\n\u001b[0;32m      3\u001b[0m n3()\n",
      "Cell \u001b[1;32mIn[1], line 5\u001b[0m, in \u001b[0;36mn2\u001b[1;34m()\u001b[0m\n\u001b[0;32m      4\u001b[0m \u001b[39mdef\u001b[39;00m \u001b[39mn2\u001b[39m():\n\u001b[1;32m----> 5\u001b[0m     \u001b[39mprint\u001b[39m(\u001b[39m10\u001b[39;49m\u001b[39m/\u001b[39;49m\u001b[39m0\u001b[39;49m)\n",
      "\u001b[1;31mZeroDivisionError\u001b[0m: division by zero"
     ]
    }
   ],
   "source": [
    "n1()\n",
    "n2()\n",
    "n3()"
   ]
  },
  {
   "cell_type": "code",
   "execution_count": 12,
   "metadata": {},
   "outputs": [],
   "source": [
    "def n1():\n",
    "    print(\"hello world\")\n",
    "\n",
    "def n2():\n",
    "    print(10/0)\n",
    "\n",
    "def n3():\n",
    "    print(\"akash\")"
   ]
  },
  {
   "cell_type": "code",
   "execution_count": 13,
   "metadata": {},
   "outputs": [],
   "source": [
    "from threading import Thread"
   ]
  },
  {
   "cell_type": "code",
   "execution_count": 14,
   "metadata": {},
   "outputs": [],
   "source": [
    "t1=Thread(target=n1,name=\"n1\")\n",
    "t2=Thread(target=n2,name=\"n2\")\n",
    "t3=Thread(target=n3,name=\"n3\")"
   ]
  },
  {
   "cell_type": "code",
   "execution_count": null,
   "metadata": {},
   "outputs": [
    {
     "name": "stdout",
     "output_type": "stream",
     "text": [
      "hello world\n",
      "akash\n"
     ]
    },
    {
     "name": "stderr",
     "output_type": "stream",
     "text": [
      "Exception in thread n2:\n",
      "Traceback (most recent call last):\n",
      "  File \"c:\\Users\\Lenovo\\AppData\\Local\\Programs\\Python\\Python311\\Lib\\threading.py\", line 1038, in _bootstrap_inner\n",
      "    self.run()\n",
      "  File \"c:\\Users\\Lenovo\\AppData\\Local\\Programs\\Python\\Python311\\Lib\\threading.py\", line 975, in run\n"
     ]
    },
    {
     "name": "stderr",
     "output_type": "stream",
     "text": [
      "    self._target(*self._args, **self._kwargs)\n",
      "  File \"C:\\Users\\Lenovo\\AppData\\Local\\Temp\\ipykernel_7704\\2646305762.py\", line 5, in n2\n",
      "ZeroDivisionError: division by zero\n"
     ]
    }
   ],
   "source": [
    "t1.start()\n",
    "t2.start()\n",
    "t3.start()"
   ]
  },
  {
   "cell_type": "code",
   "execution_count": 16,
   "metadata": {},
   "outputs": [
    {
     "name": "stdout",
     "output_type": "stream",
     "text": [
      "akash\n",
      "rajput\n"
     ]
    },
    {
     "name": "stdout",
     "output_type": "stream",
     "text": [
      "rajputakash\n",
      "\n",
      "akash\n",
      "rajput\n",
      "akash\n",
      "rajput\n",
      "akash\n",
      "rajput\n",
      "akash\n",
      "rajput\n",
      "akash\n",
      "rajput\n",
      "akash\n",
      "rajput\n",
      "akash\n",
      "rajput\n",
      "akash\n",
      "rajput\n"
     ]
    }
   ],
   "source": [
    "from threading import Thread\n",
    "import time\n",
    "def akash():\n",
    "    for i in range(10):\n",
    "        print(\"akash\")\n",
    "        time.sleep(1)\n",
    "\n",
    "def rajput():\n",
    "    for i in range(10):\n",
    "        print(\"rajput\")\n",
    "        time.sleep(1)\n",
    "\n",
    "t1=Thread(target=akash)\n",
    "t2=Thread(target=rajput)\n",
    "t1.start()\n",
    "t2.start()"
   ]
  },
  {
   "cell_type": "code",
   "execution_count": null,
   "metadata": {},
   "outputs": [],
   "source": []
  }
 ],
 "metadata": {
  "kernelspec": {
   "display_name": "Python 3",
   "language": "python",
   "name": "python3"
  },
  "language_info": {
   "codemirror_mode": {
    "name": "ipython",
    "version": 3
   },
   "file_extension": ".py",
   "mimetype": "text/x-python",
   "name": "python",
   "nbconvert_exporter": "python",
   "pygments_lexer": "ipython3",
   "version": "3.11.4"
  },
  "orig_nbformat": 4
 },
 "nbformat": 4,
 "nbformat_minor": 2
}
