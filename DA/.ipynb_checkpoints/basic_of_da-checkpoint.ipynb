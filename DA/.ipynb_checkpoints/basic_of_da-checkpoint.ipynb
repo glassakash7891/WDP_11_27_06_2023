{
 "cells": [
  {
   "cell_type": "code",
   "execution_count": null,
   "id": "be6d90f6-18dc-441b-a18e-b21e9b725ac7",
   "metadata": {},
   "outputs": [],
   "source": []
  },
  {
   "cell_type": "markdown",
   "id": "083f0c6e-f62b-4b16-8c21-29cc24cb09b7",
   "metadata": {},
   "source": [
    " # median/mode/standard deviation"
   ]
  },
  {
   "cell_type": "code",
   "execution_count": null,
   "id": "ff025669-627c-43ba-a8d8-918df3c39e4c",
   "metadata": {},
   "outputs": [],
   "source": [
    "a odd term median"
   ]
  },
  {
   "cell_type": "code",
   "execution_count": 1,
   "id": "d5e89ea2-386d-4226-80cf-156e12d9ec20",
   "metadata": {
    "tags": []
   },
   "outputs": [],
   "source": [
    "a=[32,32,43,65,67,32,7,43,7]"
   ]
  },
  {
   "cell_type": "code",
   "execution_count": 2,
   "id": "58020333-18c1-4f37-81ed-cde6b9f4943c",
   "metadata": {
    "tags": []
   },
   "outputs": [
    {
     "data": {
      "text/plain": [
       "9"
      ]
     },
     "execution_count": 2,
     "metadata": {},
     "output_type": "execute_result"
    }
   ],
   "source": [
    "len(a)"
   ]
  },
  {
   "cell_type": "code",
   "execution_count": 3,
   "id": "3c7de7a4-dc13-4428-a21f-764dd3cba18f",
   "metadata": {
    "tags": []
   },
   "outputs": [],
   "source": [
    "a.sort()"
   ]
  },
  {
   "cell_type": "code",
   "execution_count": 4,
   "id": "8da9c9c5-5e63-4bc6-92b3-a1bf404a32eb",
   "metadata": {
    "tags": []
   },
   "outputs": [
    {
     "name": "stdout",
     "output_type": "stream",
     "text": [
      "[7, 7, 32, 32, 32, 43, 43, 65, 67]\n"
     ]
    }
   ],
   "source": [
    "print(a)"
   ]
  },
  {
   "cell_type": "code",
   "execution_count": 9,
   "id": "8d3a12b8-ede6-489a-8a80-23cd7957bf10",
   "metadata": {
    "tags": []
   },
   "outputs": [],
   "source": [
    "a.sort(reverse=True)"
   ]
  },
  {
   "cell_type": "code",
   "execution_count": 10,
   "id": "fa0401a4-80ba-47f7-9e34-f514082f4095",
   "metadata": {
    "tags": []
   },
   "outputs": [
    {
     "name": "stdout",
     "output_type": "stream",
     "text": [
      "[67, 65, 43, 43, 32, 32, 32, 7, 7]\n"
     ]
    }
   ],
   "source": [
    "print(a)"
   ]
  },
  {
   "cell_type": "code",
   "execution_count": 11,
   "id": "8b067f20-bb0a-48b0-9a06-27fe90547946",
   "metadata": {
    "tags": []
   },
   "outputs": [],
   "source": [
    "a.sort()"
   ]
  },
  {
   "cell_type": "code",
   "execution_count": 12,
   "id": "3a0248ca-3d98-4aea-9c20-90fba3ca23d2",
   "metadata": {
    "tags": []
   },
   "outputs": [
    {
     "name": "stdout",
     "output_type": "stream",
     "text": [
      "[7, 7, 32, 32, 32, 43, 43, 65, 67]\n"
     ]
    }
   ],
   "source": [
    "print(a)"
   ]
  },
  {
   "cell_type": "code",
   "execution_count": 14,
   "id": "fbc339ac-92ea-45b0-88ec-3830737491e0",
   "metadata": {
    "tags": []
   },
   "outputs": [
    {
     "data": {
      "text/plain": [
       "32"
      ]
     },
     "execution_count": 14,
     "metadata": {},
     "output_type": "execute_result"
    }
   ],
   "source": [
    "# median formula\n",
    "a[((9+0)//2)-1]"
   ]
  },
  {
   "cell_type": "code",
   "execution_count": 17,
   "id": "375d108f-cde7-418c-8106-fb3893d9bcd4",
   "metadata": {
    "tags": []
   },
   "outputs": [],
   "source": [
    "def median_formula(a):\n",
    "    a.sort()\n",
    "    print(a[((len(a)+1)//2)-1])"
   ]
  },
  {
   "cell_type": "code",
   "execution_count": 18,
   "id": "6d63a64f-160b-44af-a07a-99712bd31343",
   "metadata": {
    "tags": []
   },
   "outputs": [
    {
     "name": "stdout",
     "output_type": "stream",
     "text": [
      "34\n"
     ]
    }
   ],
   "source": [
    "median_formula([423,3,54,546,34,3,21])"
   ]
  },
  {
   "cell_type": "code",
   "execution_count": 19,
   "id": "f39a41f4-4d02-4aab-9df4-d9975c4b3b13",
   "metadata": {
    "tags": []
   },
   "outputs": [],
   "source": [
    "b=[423,3,54,546,34,3,21]"
   ]
  },
  {
   "cell_type": "code",
   "execution_count": 20,
   "id": "f1cd05c1-fff6-42a7-826a-766725ff7183",
   "metadata": {
    "tags": []
   },
   "outputs": [],
   "source": [
    "b.sort()"
   ]
  },
  {
   "cell_type": "code",
   "execution_count": 21,
   "id": "fd114255-20e6-4e4f-b3fd-4ecf5c91450e",
   "metadata": {
    "tags": []
   },
   "outputs": [
    {
     "name": "stdout",
     "output_type": "stream",
     "text": [
      "[3, 3, 21, 34, 54, 423, 546]\n"
     ]
    }
   ],
   "source": [
    "print(b)"
   ]
  },
  {
   "cell_type": "raw",
   "id": "1b43468f-53a3-4541-97f2-ff336667de1d",
   "metadata": {},
   "source": [
    "# even term median"
   ]
  },
  {
   "cell_type": "code",
   "execution_count": 22,
   "id": "0dfb3958-f868-4ea0-80a7-50db0e67060d",
   "metadata": {
    "tags": []
   },
   "outputs": [],
   "source": [
    "a=[4,34,2,56,76,8,43,3,2,6]"
   ]
  },
  {
   "cell_type": "code",
   "execution_count": 23,
   "id": "b1fbe0d6-a23c-4cd3-8d6b-4eaceba2070f",
   "metadata": {
    "tags": []
   },
   "outputs": [],
   "source": [
    "a.sort()"
   ]
  },
  {
   "cell_type": "code",
   "execution_count": 24,
   "id": "0b52be10-536d-4005-a1a8-92fb67b53eef",
   "metadata": {
    "tags": []
   },
   "outputs": [
    {
     "data": {
      "text/plain": [
       "[2, 2, 3, 4, 6, 8, 34, 43, 56, 76]"
      ]
     },
     "execution_count": 24,
     "metadata": {},
     "output_type": "execute_result"
    }
   ],
   "source": [
    "a"
   ]
  },
  {
   "cell_type": "raw",
   "id": "71385ee8-cfb3-4031-8b6d-7bb2e14c9c7a",
   "metadata": {},
   "source": [
    "when two digit median formula\n",
    "\n",
    "(a[(n//2)-1]+a[((n//2)+1)-1])//2"
   ]
  },
  {
   "cell_type": "code",
   "execution_count": 25,
   "id": "db0c0760-9dd4-43d3-8925-53144975c94c",
   "metadata": {
    "tags": []
   },
   "outputs": [
    {
     "data": {
      "text/plain": [
       "7"
      ]
     },
     "execution_count": 25,
     "metadata": {},
     "output_type": "execute_result"
    }
   ],
   "source": [
    "(a[(10//2)-1]+a[((10//2)+1)-1])//2"
   ]
  },
  {
   "cell_type": "code",
   "execution_count": 27,
   "id": "ea15b959-c02c-468d-95e9-a06b7f4c7fec",
   "metadata": {
    "tags": []
   },
   "outputs": [],
   "source": [
    "def median_even(a):\n",
    "    a.sort()\n",
    "    print((a[(len(a)//2)-1]+a[((len(a)//2)+1)-1])/2)"
   ]
  },
  {
   "cell_type": "code",
   "execution_count": null,
   "id": "df23d972-7c1a-4123-9396-02c0c3b9cfb6",
   "metadata": {},
   "outputs": [],
   "source": [
    "def median_odd_even(a):\n",
    "    a.sort()\n",
    "    if len(a)%2"
   ]
  },
  {
   "cell_type": "code",
   "execution_count": null,
   "id": "b0720ad2-4126-4a4b-9972-958b5fe383be",
   "metadata": {},
   "outputs": [],
   "source": []
  },
  {
   "cell_type": "code",
   "execution_count": null,
   "id": "fa5cf317-49e3-4059-9b54-5f64d73afee0",
   "metadata": {},
   "outputs": [],
   "source": []
  },
  {
   "cell_type": "code",
   "execution_count": null,
   "id": "1ac71486-cced-4ef8-89bd-7910f47085ce",
   "metadata": {},
   "outputs": [],
   "source": []
  },
  {
   "cell_type": "code",
   "execution_count": null,
   "id": "487420f8-35e9-48f4-a438-227dfeb8b0c2",
   "metadata": {},
   "outputs": [],
   "source": []
  },
  {
   "cell_type": "code",
   "execution_count": null,
   "id": "b3f21c0b-a2de-4659-ba2f-daf5de6a3a78",
   "metadata": {},
   "outputs": [],
   "source": []
  },
  {
   "cell_type": "code",
   "execution_count": 28,
   "id": "b67cb9f8-d91d-4a07-9013-1c39c543fcd9",
   "metadata": {
    "tags": []
   },
   "outputs": [],
   "source": [
    "# mode"
   ]
  },
  {
   "cell_type": "code",
   "execution_count": 29,
   "id": "edaa32c8-e8f4-4964-a66f-a727e29b907b",
   "metadata": {
    "tags": []
   },
   "outputs": [],
   "source": [
    "# mean,mediun only work on number\n",
    "\n",
    "# mode work on number and categorical data ex. male,female"
   ]
  },
  {
   "cell_type": "markdown",
   "id": "9105bb96-6339-4987-bb68-3da4e75fcb01",
   "metadata": {},
   "source": [
    "# mode"
   ]
  },
  {
   "cell_type": "code",
   "execution_count": 30,
   "id": "68dee921-e628-432e-9890-bab4fd91ab1d",
   "metadata": {
    "tags": []
   },
   "outputs": [],
   "source": [
    "a=[1,2,3,3,23,23,23,23,23,54,65,678,4,23,21,32,54,65,76]"
   ]
  },
  {
   "cell_type": "code",
   "execution_count": 31,
   "id": "e4440314-6238-4d39-91e0-1126a80a1383",
   "metadata": {
    "tags": []
   },
   "outputs": [],
   "source": [
    "import statistics as s"
   ]
  },
  {
   "cell_type": "code",
   "execution_count": 32,
   "id": "81cae795-b3b9-4554-9131-bf1bd8093e0b",
   "metadata": {
    "tags": []
   },
   "outputs": [
    {
     "data": {
      "text/plain": [
       "62.94736842105263"
      ]
     },
     "execution_count": 32,
     "metadata": {},
     "output_type": "execute_result"
    }
   ],
   "source": [
    "s.mean(a)"
   ]
  },
  {
   "cell_type": "code",
   "execution_count": 48,
   "id": "04d2f375-a7e4-46c4-b0b2-8d5535fe11f5",
   "metadata": {
    "tags": []
   },
   "outputs": [
    {
     "ename": "NameError",
     "evalue": "name 'count' is not defined",
     "output_type": "error",
     "traceback": [
      "\u001b[1;31m---------------------------------------------------------------------------\u001b[0m",
      "\u001b[1;31mNameError\u001b[0m                                 Traceback (most recent call last)",
      "Cell \u001b[1;32mIn[48], line 1\u001b[0m\n\u001b[1;32m----> 1\u001b[0m count(a)\n",
      "\u001b[1;31mNameError\u001b[0m: name 'count' is not defined"
     ]
    }
   ],
   "source": []
  },
  {
   "cell_type": "code",
   "execution_count": 34,
   "id": "22e20475-999e-4b34-8d04-4db21e4bb0ac",
   "metadata": {
    "tags": []
   },
   "outputs": [
    {
     "data": {
      "text/plain": [
       "{1, 2, 3, 4, 21, 23, 32, 54, 65, 76, 678}"
      ]
     },
     "execution_count": 34,
     "metadata": {},
     "output_type": "execute_result"
    }
   ],
   "source": [
    "set(a)"
   ]
  },
  {
   "cell_type": "code",
   "execution_count": 40,
   "id": "b343500a-086b-41f3-ac6c-2127e1b32329",
   "metadata": {
    "tags": []
   },
   "outputs": [
    {
     "name": "stdout",
     "output_type": "stream",
     "text": [
      "cont_count [1, 1, 1, 2, 2, 1, 1, 1, 1, 2, 6]\n",
      "cont_values [32, 1, 2, 3, 65, 4, 678, 76, 21, 54, 23]\n"
     ]
    }
   ],
   "source": [
    "cont_values=[]\n",
    "cont_count=[]\n",
    "for i in set(a):\n",
    "    cont_values.append(i)\n",
    "    cont_count.append(a.count(i))\n",
    "print(\"cont_count\",cont_count)\n",
    "print(\"cont_values\",cont_values)\n"
   ]
  },
  {
   "cell_type": "code",
   "execution_count": 44,
   "id": "1040573f-8079-4e7a-a5be-e4ec3aa61f45",
   "metadata": {
    "tags": []
   },
   "outputs": [
    {
     "data": {
      "text/plain": [
       "23"
      ]
     },
     "execution_count": 44,
     "metadata": {},
     "output_type": "execute_result"
    }
   ],
   "source": [
    "cont_values[cont_count.index(max(cont_count))]"
   ]
  },
  {
   "cell_type": "code",
   "execution_count": 45,
   "id": "7563a1cc-a8a7-46d1-a1ab-db8dd7b4c809",
   "metadata": {
    "tags": []
   },
   "outputs": [],
   "source": [
    "def my_mode(a):\n",
    "    a=list(a)\n",
    "    cont_values=[]\n",
    "    cont_count=[]\n",
    "    for i in set(a):\n",
    "        cont_values.append(i)\n",
    "        cont_count.append(a.count(i))\n",
    "    print(cont_values[cont_count.index(max(cont_count))])"
   ]
  },
  {
   "cell_type": "code",
   "execution_count": 46,
   "id": "f322883d-48e3-4a0d-b9ab-917e47048ed8",
   "metadata": {
    "tags": []
   },
   "outputs": [
    {
     "name": "stdout",
     "output_type": "stream",
     "text": [
      "2\n"
     ]
    }
   ],
   "source": [
    "my_mode((12,1,2,2,12,3,243,34,354,35,34,))"
   ]
  },
  {
   "cell_type": "code",
   "execution_count": 49,
   "id": "804cf4d9-3abb-4d73-a927-1d9e93e658ff",
   "metadata": {
    "tags": []
   },
   "outputs": [],
   "source": [
    "a=list((12,1,2,2,12,3,243,34,354,35,34,))"
   ]
  },
  {
   "cell_type": "code",
   "execution_count": 50,
   "id": "8a293598-7e4a-430f-8065-c5222c6d0f27",
   "metadata": {
    "tags": []
   },
   "outputs": [],
   "source": [
    "a.sort()"
   ]
  },
  {
   "cell_type": "code",
   "execution_count": 51,
   "id": "e353fa2b-5396-4a73-bec1-1a3a9cd8802b",
   "metadata": {
    "tags": []
   },
   "outputs": [
    {
     "name": "stdout",
     "output_type": "stream",
     "text": [
      "[1, 2, 2, 3, 12, 12, 34, 34, 35, 243, 354]\n"
     ]
    }
   ],
   "source": [
    "print(a)"
   ]
  },
  {
   "cell_type": "code",
   "execution_count": 52,
   "id": "28b163fc-3bdf-41a1-a8c6-e123424ceeea",
   "metadata": {
    "tags": []
   },
   "outputs": [
    {
     "data": {
      "text/plain": [
       "2"
      ]
     },
     "execution_count": 52,
     "metadata": {},
     "output_type": "execute_result"
    }
   ],
   "source": [
    "s.mode(a)"
   ]
  },
  {
   "cell_type": "code",
   "execution_count": 53,
   "id": "4854526b-0d44-45fd-a9bb-c9f0446567af",
   "metadata": {
    "tags": []
   },
   "outputs": [],
   "source": [
    "def my_mode(a):\n",
    "    a=list(a)\n",
    "    cont_values=[i for i in set(a)]\n",
    "    cont_count=[a.count(i) for i in set(a)]\n",
    "    print(cont_values[cont_count.index(max(cont_count))])"
   ]
  },
  {
   "cell_type": "code",
   "execution_count": 55,
   "id": "58b233ea-b0e2-4a81-9cbb-1313c8363932",
   "metadata": {
    "tags": []
   },
   "outputs": [
    {
     "name": "stdout",
     "output_type": "stream",
     "text": [
      "2\n"
     ]
    }
   ],
   "source": [
    "my_mode([12,1,2,2,12,3,243,34,354,35,34,])"
   ]
  },
  {
   "cell_type": "markdown",
   "id": "527fd009-54f0-47b6-b9a3-d64680fbc474",
   "metadata": {
    "tags": []
   },
   "source": [
    "# multimode"
   ]
  },
  {
   "cell_type": "code",
   "execution_count": 58,
   "id": "fb54e61d-840d-4541-8939-55ec91f47990",
   "metadata": {
    "tags": []
   },
   "outputs": [
    {
     "data": {
      "text/plain": [
       "[11, 22]"
      ]
     },
     "execution_count": 58,
     "metadata": {},
     "output_type": "execute_result"
    }
   ],
   "source": [
    "s.multimode([11,11,11,22,22,22,3,44,6,66,6,])"
   ]
  },
  {
   "cell_type": "code",
   "execution_count": 59,
   "id": "089628a0-a780-462f-9007-56c49c4fd7e0",
   "metadata": {
    "tags": []
   },
   "outputs": [
    {
     "name": "stdout",
     "output_type": "stream",
     "text": [
      "cont_count [1, 2, 1, 2, 1, 1, 2, 1]\n",
      "cont_values [1, 2, 3, 34, 35, 354, 12, 243]\n",
      "2\n"
     ]
    }
   ],
   "source": [
    "[11,11,11,22,22,22,3,44,6,66,6,]\n",
    "cont_values=[]\n",
    "cont_count=[]\n",
    "for i in set(a):\n",
    "    cont_values.append(i)\n",
    "    cont_count.append(a.count(i))\n",
    "print(\"cont_count\",cont_count)\n",
    "print(\"cont_values\",cont_values)\n",
    "print(cont_values[cont_count.index(max(cont_count))])"
   ]
  },
  {
   "cell_type": "code",
   "execution_count": null,
   "id": "84431feb-3cb4-4547-a7cf-845c3e08e99a",
   "metadata": {},
   "outputs": [],
   "source": []
  }
 ],
 "metadata": {
  "kernelspec": {
   "display_name": "Python 3 (ipykernel)",
   "language": "python",
   "name": "python3"
  },
  "language_info": {
   "codemirror_mode": {
    "name": "ipython",
    "version": 3
   },
   "file_extension": ".py",
   "mimetype": "text/x-python",
   "name": "python",
   "nbconvert_exporter": "python",
   "pygments_lexer": "ipython3",
   "version": "3.11.5"
  }
 },
 "nbformat": 4,
 "nbformat_minor": 5
}
