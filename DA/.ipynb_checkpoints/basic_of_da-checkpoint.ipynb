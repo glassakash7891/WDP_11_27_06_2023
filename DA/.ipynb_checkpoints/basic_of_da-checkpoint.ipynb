{
 "cells": [
  {
   "cell_type": "raw",
   "id": "7f291204-551d-40a2-9c52-230acb0c57f9",
   "metadata": {
    "tags": []
   },
   "source": [
    "# topic of statistics\n",
    "\n",
    "> mean:\n",
    "    \n",
    "    > arithmetic mean\n",
    "    \n",
    "    > geometric mean\n",
    "    \n",
    "    > harmonic mean\n",
    "\n",
    "\n",
    "> median\n",
    "\n",
    "> mode\n",
    "\n",
    "> standard deviation\n",
    "\n",
    "> varience\n",
    "\n",
    "> quantiles\n",
    "\n",
    "> IQR(inter quantil range)(q1,q2,q3)\n",
    "\n",
    "> outlier:\n",
    "\n",
    "    > min_trend: Q1+1.5(Q3-1)\n",
    "    \n",
    "    > Max_trend: Q3+1.5(Q3-1)"
   ]
  },
  {
   "cell_type": "code",
   "execution_count": 1,
   "id": "946f78f2-c64b-4d8f-9bcf-79b68064f04c",
   "metadata": {
    "tags": []
   },
   "outputs": [],
   "source": [
    "# arithemtic mean\n",
    "a=4\n",
    "b=6\n"
   ]
  },
  {
   "cell_type": "code",
   "execution_count": 2,
   "id": "feb5ca80-2c87-4b14-b4ac-553e543a5466",
   "metadata": {
    "tags": []
   },
   "outputs": [
    {
     "name": "stdout",
     "output_type": "stream",
     "text": [
      "5.0\n"
     ]
    }
   ],
   "source": [
    "print((a+b)/2)"
   ]
  },
  {
   "cell_type": "code",
   "execution_count": 3,
   "id": "53793586-1057-4637-8701-65ff29691b6f",
   "metadata": {
    "tags": []
   },
   "outputs": [
    {
     "data": {
      "text/plain": [
       "4.898979485566356"
      ]
     },
     "execution_count": 3,
     "metadata": {},
     "output_type": "execute_result"
    }
   ],
   "source": [
    "# geometric mean\n",
    "(a*b)**(1/2)"
   ]
  },
  {
   "cell_type": "code",
   "execution_count": 4,
   "id": "0081d1d0-1a2e-4567-a1fa-3bae80e9a5b1",
   "metadata": {
    "tags": []
   },
   "outputs": [
    {
     "data": {
      "text/plain": [
       "4.800000000000001"
      ]
     },
     "execution_count": 4,
     "metadata": {},
     "output_type": "execute_result"
    }
   ],
   "source": [
    "# harmonic mean\n",
    "2/((1/4)+(1/6))"
   ]
  },
  {
   "cell_type": "code",
   "execution_count": 6,
   "id": "1eb37473-48f2-4b21-9fcc-9ad8c3c22c95",
   "metadata": {
    "tags": []
   },
   "outputs": [],
   "source": [
    "import statistics as s"
   ]
  },
  {
   "cell_type": "code",
   "execution_count": 7,
   "id": "2a8ae920-5b03-477d-92ae-86089d810f3a",
   "metadata": {
    "tags": []
   },
   "outputs": [
    {
     "data": {
      "text/plain": [
       "5"
      ]
     },
     "execution_count": 7,
     "metadata": {},
     "output_type": "execute_result"
    }
   ],
   "source": [
    "s.mean((a,b))"
   ]
  },
  {
   "cell_type": "code",
   "execution_count": 8,
   "id": "9f0ecc82-9d21-458b-a9f1-01f6c4778b46",
   "metadata": {
    "tags": []
   },
   "outputs": [
    {
     "data": {
      "text/plain": [
       "4.898979485566356"
      ]
     },
     "execution_count": 8,
     "metadata": {},
     "output_type": "execute_result"
    }
   ],
   "source": [
    "s.geometric_mean((a,b))"
   ]
  },
  {
   "cell_type": "code",
   "execution_count": 9,
   "id": "491e9456-8c9f-4333-ba28-a6e29497c5cb",
   "metadata": {
    "tags": []
   },
   "outputs": [
    {
     "data": {
      "text/plain": [
       "4.8"
      ]
     },
     "execution_count": 9,
     "metadata": {},
     "output_type": "execute_result"
    }
   ],
   "source": [
    "s.harmonic_mean((a,b))"
   ]
  },
  {
   "cell_type": "markdown",
   "id": "083f0c6e-f62b-4b16-8c21-29cc24cb09b7",
   "metadata": {},
   "source": [
    " # median/mode/standard deviation"
   ]
  },
  {
   "cell_type": "code",
   "execution_count": null,
   "id": "ff025669-627c-43ba-a8d8-918df3c39e4c",
   "metadata": {},
   "outputs": [],
   "source": [
    "a odd term median"
   ]
  },
  {
   "cell_type": "code",
   "execution_count": 57,
   "id": "d5e89ea2-386d-4226-80cf-156e12d9ec20",
   "metadata": {
    "tags": []
   },
   "outputs": [],
   "source": [
    "a=[32,32,43,65,67,32,7,43,7]"
   ]
  },
  {
   "cell_type": "code",
   "execution_count": 58,
   "id": "58020333-18c1-4f37-81ed-cde6b9f4943c",
   "metadata": {
    "tags": []
   },
   "outputs": [
    {
     "data": {
      "text/plain": [
       "9"
      ]
     },
     "execution_count": 58,
     "metadata": {},
     "output_type": "execute_result"
    }
   ],
   "source": [
    "len(a)"
   ]
  },
  {
   "cell_type": "code",
   "execution_count": 59,
   "id": "3c7de7a4-dc13-4428-a21f-764dd3cba18f",
   "metadata": {
    "tags": []
   },
   "outputs": [],
   "source": [
    "a.sort()"
   ]
  },
  {
   "cell_type": "code",
   "execution_count": 60,
   "id": "8da9c9c5-5e63-4bc6-92b3-a1bf404a32eb",
   "metadata": {
    "tags": []
   },
   "outputs": [
    {
     "name": "stdout",
     "output_type": "stream",
     "text": [
      "[7, 7, 32, 32, 32, 43, 43, 65, 67]\n"
     ]
    }
   ],
   "source": [
    "print(a)"
   ]
  },
  {
   "cell_type": "code",
   "execution_count": 61,
   "id": "8d3a12b8-ede6-489a-8a80-23cd7957bf10",
   "metadata": {
    "tags": []
   },
   "outputs": [],
   "source": [
    "a.sort(reverse=True)"
   ]
  },
  {
   "cell_type": "code",
   "execution_count": 62,
   "id": "fa0401a4-80ba-47f7-9e34-f514082f4095",
   "metadata": {
    "tags": []
   },
   "outputs": [
    {
     "name": "stdout",
     "output_type": "stream",
     "text": [
      "[67, 65, 43, 43, 32, 32, 32, 7, 7]\n"
     ]
    }
   ],
   "source": [
    "print(a)"
   ]
  },
  {
   "cell_type": "code",
   "execution_count": 63,
   "id": "8b067f20-bb0a-48b0-9a06-27fe90547946",
   "metadata": {
    "tags": []
   },
   "outputs": [],
   "source": [
    "a.sort()"
   ]
  },
  {
   "cell_type": "code",
   "execution_count": 64,
   "id": "3a0248ca-3d98-4aea-9c20-90fba3ca23d2",
   "metadata": {
    "tags": []
   },
   "outputs": [
    {
     "name": "stdout",
     "output_type": "stream",
     "text": [
      "[7, 7, 32, 32, 32, 43, 43, 65, 67]\n"
     ]
    }
   ],
   "source": [
    "print(a)"
   ]
  },
  {
   "cell_type": "code",
   "execution_count": 65,
   "id": "fbc339ac-92ea-45b0-88ec-3830737491e0",
   "metadata": {
    "tags": []
   },
   "outputs": [
    {
     "data": {
      "text/plain": [
       "32"
      ]
     },
     "execution_count": 65,
     "metadata": {},
     "output_type": "execute_result"
    }
   ],
   "source": [
    "# median formula\n",
    "a[((9+0)//2)-1]"
   ]
  },
  {
   "cell_type": "code",
   "execution_count": 66,
   "id": "375d108f-cde7-418c-8106-fb3893d9bcd4",
   "metadata": {
    "tags": []
   },
   "outputs": [],
   "source": [
    "def median_formula(a):\n",
    "    a.sort()\n",
    "    print(a[((len(a)+1)//2)-1])"
   ]
  },
  {
   "cell_type": "code",
   "execution_count": 67,
   "id": "6d63a64f-160b-44af-a07a-99712bd31343",
   "metadata": {
    "tags": []
   },
   "outputs": [
    {
     "name": "stdout",
     "output_type": "stream",
     "text": [
      "34\n"
     ]
    }
   ],
   "source": [
    "median_formula([423,3,54,546,34,3,21])"
   ]
  },
  {
   "cell_type": "code",
   "execution_count": 68,
   "id": "f39a41f4-4d02-4aab-9df4-d9975c4b3b13",
   "metadata": {
    "tags": []
   },
   "outputs": [],
   "source": [
    "b=[423,3,54,546,34,3,21]"
   ]
  },
  {
   "cell_type": "code",
   "execution_count": 69,
   "id": "f1cd05c1-fff6-42a7-826a-766725ff7183",
   "metadata": {
    "tags": []
   },
   "outputs": [],
   "source": [
    "b.sort()"
   ]
  },
  {
   "cell_type": "code",
   "execution_count": 70,
   "id": "fd114255-20e6-4e4f-b3fd-4ecf5c91450e",
   "metadata": {
    "tags": []
   },
   "outputs": [
    {
     "name": "stdout",
     "output_type": "stream",
     "text": [
      "[3, 3, 21, 34, 54, 423, 546]\n"
     ]
    }
   ],
   "source": [
    "print(b)"
   ]
  },
  {
   "cell_type": "raw",
   "id": "1b43468f-53a3-4541-97f2-ff336667de1d",
   "metadata": {},
   "source": [
    "# even term median"
   ]
  },
  {
   "cell_type": "code",
   "execution_count": 71,
   "id": "0dfb3958-f868-4ea0-80a7-50db0e67060d",
   "metadata": {
    "tags": []
   },
   "outputs": [],
   "source": [
    "a=[4,34,2,56,76,8,43,3,2,6]"
   ]
  },
  {
   "cell_type": "code",
   "execution_count": 72,
   "id": "b1fbe0d6-a23c-4cd3-8d6b-4eaceba2070f",
   "metadata": {
    "tags": []
   },
   "outputs": [],
   "source": [
    "a.sort()"
   ]
  },
  {
   "cell_type": "code",
   "execution_count": 73,
   "id": "0b52be10-536d-4005-a1a8-92fb67b53eef",
   "metadata": {
    "tags": []
   },
   "outputs": [
    {
     "data": {
      "text/plain": [
       "[2, 2, 3, 4, 6, 8, 34, 43, 56, 76]"
      ]
     },
     "execution_count": 73,
     "metadata": {},
     "output_type": "execute_result"
    }
   ],
   "source": [
    "a"
   ]
  },
  {
   "cell_type": "raw",
   "id": "71385ee8-cfb3-4031-8b6d-7bb2e14c9c7a",
   "metadata": {},
   "source": [
    "when two digit median formula\n",
    "\n",
    "(a[(n//2)-1]+a[((n//2)+1)-1])//2"
   ]
  },
  {
   "cell_type": "code",
   "execution_count": 74,
   "id": "db0c0760-9dd4-43d3-8925-53144975c94c",
   "metadata": {
    "tags": []
   },
   "outputs": [
    {
     "data": {
      "text/plain": [
       "7"
      ]
     },
     "execution_count": 74,
     "metadata": {},
     "output_type": "execute_result"
    }
   ],
   "source": [
    "(a[(10//2)-1]+a[((10//2)+1)-1])//2"
   ]
  },
  {
   "cell_type": "code",
   "execution_count": 75,
   "id": "ea15b959-c02c-468d-95e9-a06b7f4c7fec",
   "metadata": {
    "tags": []
   },
   "outputs": [],
   "source": [
    "def median_even(a):\n",
    "    a.sort()\n",
    "    print((a[(len(a)//2)-1]+a[((len(a)//2)+1)-1])/2)"
   ]
  },
  {
   "cell_type": "code",
   "execution_count": 76,
   "id": "1824013f-67a4-4da1-bca4-6f040f296afd",
   "metadata": {
    "tags": []
   },
   "outputs": [
    {
     "name": "stdout",
     "output_type": "stream",
     "text": [
      "48.5\n"
     ]
    }
   ],
   "source": [
    "median_even([32,43,54,6,76,87])"
   ]
  },
  {
   "cell_type": "code",
   "execution_count": 77,
   "id": "df23d972-7c1a-4123-9396-02c0c3b9cfb6",
   "metadata": {},
   "outputs": [],
   "source": [
    "def medien_odd_even(a):\n",
    "    \n",
    "    a.sort()\n",
    "    if len(a)%2!=0:\n",
    "        print(a[((len(a)+1)//2)-1])\n",
    "    else:\n",
    "        print((a[(len(a)//2)-1]+a[((len(a)//2)+1)-1])/2)"
   ]
  },
  {
   "cell_type": "code",
   "execution_count": 78,
   "id": "b0720ad2-4126-4a4b-9972-958b5fe383be",
   "metadata": {},
   "outputs": [
    {
     "name": "stdout",
     "output_type": "stream",
     "text": [
      "48.5\n"
     ]
    }
   ],
   "source": [
    "medien_odd_even([32,43,54,6,76,87])"
   ]
  },
  {
   "cell_type": "code",
   "execution_count": 79,
   "id": "fa5cf317-49e3-4059-9b54-5f64d73afee0",
   "metadata": {},
   "outputs": [
    {
     "name": "stdout",
     "output_type": "stream",
     "text": [
      "34\n"
     ]
    }
   ],
   "source": [
    "medien_odd_even([423,3,54,546,34,3,21])"
   ]
  },
  {
   "cell_type": "code",
   "execution_count": 80,
   "id": "1ac71486-cced-4ef8-89bd-7910f47085ce",
   "metadata": {},
   "outputs": [
    {
     "data": {
      "text/plain": [
       "34"
      ]
     },
     "execution_count": 80,
     "metadata": {},
     "output_type": "execute_result"
    }
   ],
   "source": [
    "s.median([423,3,54,546,34,3,21])"
   ]
  },
  {
   "cell_type": "code",
   "execution_count": 81,
   "id": "487420f8-35e9-48f4-a438-227dfeb8b0c2",
   "metadata": {},
   "outputs": [
    {
     "data": {
      "text/plain": [
       "48.5"
      ]
     },
     "execution_count": 81,
     "metadata": {},
     "output_type": "execute_result"
    }
   ],
   "source": [
    "s.median([32,43,54,6,76,87])"
   ]
  },
  {
   "cell_type": "markdown",
   "id": "9105bb96-6339-4987-bb68-3da4e75fcb01",
   "metadata": {},
   "source": [
    "# mode"
   ]
  },
  {
   "cell_type": "code",
   "execution_count": 28,
   "id": "b67cb9f8-d91d-4a07-9013-1c39c543fcd9",
   "metadata": {
    "tags": []
   },
   "outputs": [],
   "source": [
    "# mode"
   ]
  },
  {
   "cell_type": "code",
   "execution_count": 29,
   "id": "edaa32c8-e8f4-4964-a66f-a727e29b907b",
   "metadata": {
    "tags": []
   },
   "outputs": [],
   "source": [
    "# mean,mediun only work on number\n",
    "\n",
    "# mode work on number and categorical data. as represent a data in alphabetical show example: male,female"
   ]
  },
  {
   "cell_type": "code",
   "execution_count": 85,
   "id": "68dee921-e628-432e-9890-bab4fd91ab1d",
   "metadata": {
    "tags": []
   },
   "outputs": [],
   "source": [
    "a=[1,2,3,3,23,23,23,23,23,54,65,678,4,23,21,32,54,65,76]"
   ]
  },
  {
   "cell_type": "code",
   "execution_count": 86,
   "id": "81cae795-b3b9-4554-9131-bf1bd8093e0b",
   "metadata": {
    "tags": []
   },
   "outputs": [
    {
     "data": {
      "text/plain": [
       "23"
      ]
     },
     "execution_count": 86,
     "metadata": {},
     "output_type": "execute_result"
    }
   ],
   "source": [
    "s.mode(a)"
   ]
  },
  {
   "cell_type": "code",
   "execution_count": 87,
   "id": "04d2f375-a7e4-46c4-b0b2-8d5535fe11f5",
   "metadata": {
    "tags": []
   },
   "outputs": [],
   "source": [
    "a.sort()"
   ]
  },
  {
   "cell_type": "code",
   "execution_count": 88,
   "id": "22e20475-999e-4b34-8d04-4db21e4bb0ac",
   "metadata": {
    "tags": []
   },
   "outputs": [
    {
     "data": {
      "text/plain": [
       "{1, 2, 3, 4, 21, 23, 32, 54, 65, 76, 678}"
      ]
     },
     "execution_count": 88,
     "metadata": {},
     "output_type": "execute_result"
    }
   ],
   "source": [
    "set(a)"
   ]
  },
  {
   "cell_type": "code",
   "execution_count": 89,
   "id": "e5c30c9b-d793-43b5-a5cd-a505da761ff2",
   "metadata": {
    "tags": []
   },
   "outputs": [
    {
     "name": "stdout",
     "output_type": "stream",
     "text": [
      "32\n",
      "1\n",
      "2\n",
      "3\n",
      "4\n",
      "65\n",
      "678\n",
      "76\n",
      "21\n",
      "54\n",
      "23\n"
     ]
    }
   ],
   "source": [
    "for i in set(a):\n",
    "    print(i)"
   ]
  },
  {
   "cell_type": "code",
   "execution_count": 40,
   "id": "b343500a-086b-41f3-ac6c-2127e1b32329",
   "metadata": {
    "tags": []
   },
   "outputs": [
    {
     "name": "stdout",
     "output_type": "stream",
     "text": [
      "cont_count [1, 1, 1, 2, 2, 1, 1, 1, 1, 2, 6]\n",
      "cont_values [32, 1, 2, 3, 65, 4, 678, 76, 21, 54, 23]\n"
     ]
    }
   ],
   "source": [
    "cont_values=[]\n",
    "cont_count=[]\n",
    "for i in set(a):\n",
    "    cont_values.append(i)\n",
    "    cont_count.append(a.count(i))\n",
    "print(\"cont_count\",cont_count)\n",
    "print(\"cont_values\",cont_values)\n"
   ]
  },
  {
   "cell_type": "code",
   "execution_count": 44,
   "id": "1040573f-8079-4e7a-a5be-e4ec3aa61f45",
   "metadata": {
    "tags": []
   },
   "outputs": [
    {
     "data": {
      "text/plain": [
       "23"
      ]
     },
     "execution_count": 44,
     "metadata": {},
     "output_type": "execute_result"
    }
   ],
   "source": [
    "cont_values[cont_count.index(max(cont_count))]"
   ]
  },
  {
   "cell_type": "code",
   "execution_count": 45,
   "id": "7563a1cc-a8a7-46d1-a1ab-db8dd7b4c809",
   "metadata": {
    "tags": []
   },
   "outputs": [],
   "source": [
    "def my_mode(a):\n",
    "    a=list(a)\n",
    "    cont_values=[]\n",
    "    cont_count=[]\n",
    "    for i in set(a):\n",
    "        cont_values.append(i)\n",
    "        cont_count.append(a.count(i))\n",
    "    print(cont_values[cont_count.index(max(cont_count))])"
   ]
  },
  {
   "cell_type": "code",
   "execution_count": 46,
   "id": "f322883d-48e3-4a0d-b9ab-917e47048ed8",
   "metadata": {
    "tags": []
   },
   "outputs": [
    {
     "name": "stdout",
     "output_type": "stream",
     "text": [
      "2\n"
     ]
    }
   ],
   "source": [
    "my_mode((12,1,2,2,12,3,243,34,354,35,34,))"
   ]
  },
  {
   "cell_type": "code",
   "execution_count": 49,
   "id": "804cf4d9-3abb-4d73-a927-1d9e93e658ff",
   "metadata": {
    "tags": []
   },
   "outputs": [],
   "source": [
    "a=list((12,1,2,2,12,3,243,34,354,35,34,))"
   ]
  },
  {
   "cell_type": "code",
   "execution_count": 50,
   "id": "8a293598-7e4a-430f-8065-c5222c6d0f27",
   "metadata": {
    "tags": []
   },
   "outputs": [],
   "source": [
    "a.sort()"
   ]
  },
  {
   "cell_type": "code",
   "execution_count": 51,
   "id": "e353fa2b-5396-4a73-bec1-1a3a9cd8802b",
   "metadata": {
    "tags": []
   },
   "outputs": [
    {
     "name": "stdout",
     "output_type": "stream",
     "text": [
      "[1, 2, 2, 3, 12, 12, 34, 34, 35, 243, 354]\n"
     ]
    }
   ],
   "source": [
    "print(a)"
   ]
  },
  {
   "cell_type": "code",
   "execution_count": 52,
   "id": "28b163fc-3bdf-41a1-a8c6-e123424ceeea",
   "metadata": {
    "tags": []
   },
   "outputs": [
    {
     "data": {
      "text/plain": [
       "2"
      ]
     },
     "execution_count": 52,
     "metadata": {},
     "output_type": "execute_result"
    }
   ],
   "source": [
    "s.mode(a)"
   ]
  },
  {
   "cell_type": "code",
   "execution_count": 53,
   "id": "4854526b-0d44-45fd-a9bb-c9f0446567af",
   "metadata": {
    "tags": []
   },
   "outputs": [],
   "source": [
    "def my_mode(a):\n",
    "    a=list(a)\n",
    "    cont_values=[i for i in set(a)]\n",
    "    cont_count=[a.count(i) for i in set(a)]\n",
    "    print(cont_values[cont_count.index(max(cont_count))])"
   ]
  },
  {
   "cell_type": "code",
   "execution_count": 55,
   "id": "58b233ea-b0e2-4a81-9cbb-1313c8363932",
   "metadata": {
    "tags": []
   },
   "outputs": [
    {
     "name": "stdout",
     "output_type": "stream",
     "text": [
      "2\n"
     ]
    }
   ],
   "source": [
    "my_mode([12,1,2,2,12,3,243,34,354,35,34,])"
   ]
  },
  {
   "cell_type": "markdown",
   "id": "527fd009-54f0-47b6-b9a3-d64680fbc474",
   "metadata": {
    "tags": []
   },
   "source": [
    "# multimode"
   ]
  },
  {
   "cell_type": "code",
   "execution_count": 58,
   "id": "fb54e61d-840d-4541-8939-55ec91f47990",
   "metadata": {
    "tags": []
   },
   "outputs": [
    {
     "data": {
      "text/plain": [
       "[11, 22]"
      ]
     },
     "execution_count": 58,
     "metadata": {},
     "output_type": "execute_result"
    }
   ],
   "source": [
    "s.multimode([11,11,11,22,22,22,3,44,6,66,6,])"
   ]
  },
  {
   "cell_type": "code",
   "execution_count": 59,
   "id": "089628a0-a780-462f-9007-56c49c4fd7e0",
   "metadata": {
    "tags": []
   },
   "outputs": [
    {
     "name": "stdout",
     "output_type": "stream",
     "text": [
      "cont_count [1, 2, 1, 2, 1, 1, 2, 1]\n",
      "cont_values [1, 2, 3, 34, 35, 354, 12, 243]\n",
      "2\n"
     ]
    }
   ],
   "source": [
    "[11,11,11,22,22,22,3,44,6,66,6,]\n",
    "cont_values=[]\n",
    "cont_count=[]\n",
    "for i in set(a):\n",
    "    cont_values.append(i)\n",
    "    cont_count.append(a.count(i))\n",
    "print(\"cont_count\",cont_count)\n",
    "print(\"cont_values\",cont_values)\n",
    "print(cont_values[cont_count.index(max(cont_count))])"
   ]
  },
  {
   "cell_type": "markdown",
   "id": "7aae46af-1ba6-4b0a-819f-311b18f36911",
   "metadata": {},
   "source": [
    "# standard deviation"
   ]
  },
  {
   "cell_type": "raw",
   "id": "4f993e45-84c4-48a9-b6fb-782f81823468",
   "metadata": {
    "tags": []
   },
   "source": [
    "> 1st sigma\n",
    "\n",
    "> 2nd sigma\n",
    "\n",
    "> 3rd sigma"
   ]
  },
  {
   "cell_type": "code",
   "execution_count": null,
   "id": "eb99c465-9143-4c69-a74d-29087cbcb350",
   "metadata": {},
   "outputs": [],
   "source": []
  },
  {
   "cell_type": "code",
   "execution_count": 45,
   "id": "653e8f09-1ad0-42f2-aebf-0032d3c82a5b",
   "metadata": {
    "tags": []
   },
   "outputs": [],
   "source": [
    "a=[5000,6000,7000,4000,10000,21000,500000]"
   ]
  },
  {
   "cell_type": "code",
   "execution_count": 46,
   "id": "8247a7ae-fe85-41d0-82fb-63c696795c27",
   "metadata": {
    "tags": []
   },
   "outputs": [],
   "source": [
    "import statistics as s"
   ]
  },
  {
   "cell_type": "code",
   "execution_count": 47,
   "id": "3e93ec79-4ecf-43ef-a2ff-4a21af85c97c",
   "metadata": {
    "tags": []
   },
   "outputs": [],
   "source": [
    "q1,q2,q3=s.quantiles(a)"
   ]
  },
  {
   "cell_type": "code",
   "execution_count": 48,
   "id": "89591c65-0feb-4049-8403-60a9b518aaee",
   "metadata": {
    "tags": []
   },
   "outputs": [
    {
     "data": {
      "text/plain": [
       "5000.0"
      ]
     },
     "execution_count": 48,
     "metadata": {},
     "output_type": "execute_result"
    }
   ],
   "source": [
    "q1"
   ]
  },
  {
   "cell_type": "code",
   "execution_count": 49,
   "id": "5cb2437e-e6bd-4589-96d3-d3cc20d61480",
   "metadata": {
    "tags": []
   },
   "outputs": [
    {
     "data": {
      "text/plain": [
       "7000.0"
      ]
     },
     "execution_count": 49,
     "metadata": {},
     "output_type": "execute_result"
    }
   ],
   "source": [
    "q2"
   ]
  },
  {
   "cell_type": "code",
   "execution_count": 50,
   "id": "b6d1a03b-251c-44cd-a193-a7eab9901f5e",
   "metadata": {
    "tags": []
   },
   "outputs": [
    {
     "data": {
      "text/plain": [
       "21000.0"
      ]
     },
     "execution_count": 50,
     "metadata": {},
     "output_type": "execute_result"
    }
   ],
   "source": [
    "q3"
   ]
  },
  {
   "cell_type": "code",
   "execution_count": 51,
   "id": "58b36c0f-9d0b-41b7-9cc5-3fd31cb48299",
   "metadata": {
    "tags": []
   },
   "outputs": [],
   "source": [
    "Max_trend=q3+1.5*(q3-q1)"
   ]
  },
  {
   "cell_type": "code",
   "execution_count": 52,
   "id": "08efdf3c-43a0-4a9f-b7ed-47695f9ca54c",
   "metadata": {
    "tags": []
   },
   "outputs": [
    {
     "data": {
      "text/plain": [
       "45000.0"
      ]
     },
     "execution_count": 52,
     "metadata": {},
     "output_type": "execute_result"
    }
   ],
   "source": [
    "Max_trend"
   ]
  },
  {
   "cell_type": "code",
   "execution_count": 53,
   "id": "5befc3f0-524b-4dc6-a565-4f92747b9058",
   "metadata": {
    "tags": []
   },
   "outputs": [],
   "source": [
    "Min_trend=q3-1.5*(q3-q1)"
   ]
  },
  {
   "cell_type": "code",
   "execution_count": 54,
   "id": "406d6e51-c8a3-4781-b334-a7fd25743103",
   "metadata": {
    "tags": []
   },
   "outputs": [
    {
     "data": {
      "text/plain": [
       "-3000.0"
      ]
     },
     "execution_count": 54,
     "metadata": {},
     "output_type": "execute_result"
    }
   ],
   "source": [
    "Min_trend"
   ]
  },
  {
   "cell_type": "code",
   "execution_count": 55,
   "id": "791d2f0f-5155-4d66-8400-0c1642438378",
   "metadata": {
    "tags": []
   },
   "outputs": [
    {
     "data": {
      "text/plain": [
       "[5000, 6000, 7000, 4000, 10000, 21000, 500000]"
      ]
     },
     "execution_count": 55,
     "metadata": {},
     "output_type": "execute_result"
    }
   ],
   "source": [
    "a"
   ]
  },
  {
   "cell_type": "code",
   "execution_count": 56,
   "id": "29a8b7fc-0118-42b8-a98a-1c3315e52091",
   "metadata": {
    "tags": []
   },
   "outputs": [
    {
     "name": "stdout",
     "output_type": "stream",
     "text": [
      "[5000, 6000, 7000, 4000, 10000, 21000]\n"
     ]
    }
   ],
   "source": [
    "b=[]\n",
    "for i in a:\n",
    "    if Min_trend<i and i<Max_trend:\n",
    "        b.append(i)\n",
    "print(b)"
   ]
  },
  {
   "cell_type": "code",
   "execution_count": 84,
   "id": "a858e7ec-e67b-4982-b4b6-6a700c31e6c4",
   "metadata": {
    "tags": []
   },
   "outputs": [
    {
     "name": "stdout",
     "output_type": "stream",
     "text": [
      "before outlier removal [5000, 6000, 7000, 4000, 10000, 21000, 500000]\n",
      "Max_trend 45000.0\n"
     ]
    },
    {
     "ename": "NameError",
     "evalue": "name 'Min_trned' is not defined",
     "output_type": "error",
     "traceback": [
      "\u001b[1;31m---------------------------------------------------------------------------\u001b[0m",
      "\u001b[1;31mNameError\u001b[0m                                 Traceback (most recent call last)",
      "Cell \u001b[1;32mIn[84], line 7\u001b[0m\n\u001b[0;32m      5\u001b[0m Min_trend\u001b[38;5;241m=\u001b[39mq1\u001b[38;5;241m-\u001b[39m\u001b[38;5;241m1.5\u001b[39m\u001b[38;5;241m*\u001b[39m(q3\u001b[38;5;241m-\u001b[39mq1)\n\u001b[0;32m      6\u001b[0m \u001b[38;5;28mprint\u001b[39m(\u001b[38;5;124m\"\u001b[39m\u001b[38;5;124mMax_trend\u001b[39m\u001b[38;5;124m\"\u001b[39m,Max_trend)\n\u001b[1;32m----> 7\u001b[0m \u001b[38;5;28mprint\u001b[39m(\u001b[38;5;124m\"\u001b[39m\u001b[38;5;124mMin_trend\u001b[39m\u001b[38;5;124m\"\u001b[39m,Min_trned)\n\u001b[0;32m      9\u001b[0m b\u001b[38;5;241m=\u001b[39m[]\n\u001b[0;32m     10\u001b[0m \u001b[38;5;28;01mfor\u001b[39;00m i \u001b[38;5;129;01min\u001b[39;00m a:\n",
      "\u001b[1;31mNameError\u001b[0m: name 'Min_trned' is not defined"
     ]
    }
   ],
   "source": [
    "a=[5000,6000,7000,4000,10000,21000,500000]\n",
    "print(\"before outlier removal\",a)\n",
    "q1,q2,q3=s.quantiles(a)\n",
    "Max_trend=q3+1.5*(q3-q1)\n",
    "Min_trend=q1-1.5*(q3-q1)\n",
    "print(\"Max_trend\",Max_trend)\n",
    "print(\"Min_trend\",Min_trned)\n",
    "\n",
    "b=[]\n",
    "for i in a:\n",
    "    if Min_trend<i and i<Max_trend:\n",
    "        b.append(i)\n",
    "print(\"after outlier removal\",b)"
   ]
  },
  {
   "cell_type": "code",
   "execution_count": 41,
   "id": "ff97b7d1-483b-4571-a1c2-3456fd4d7e36",
   "metadata": {
    "tags": []
   },
   "outputs": [],
   "source": [
    "import random\n",
    "               \n",
    "x=[random.randint(-19999000,50000000) for i in range(20)]"
   ]
  },
  {
   "cell_type": "code",
   "execution_count": 42,
   "id": "8f0a8ed4-e14e-4457-b99b-1ee92d4f2ff6",
   "metadata": {
    "tags": []
   },
   "outputs": [],
   "source": [
    "x.sort()"
   ]
  },
  {
   "cell_type": "code",
   "execution_count": 43,
   "id": "e9a590a1-68d5-4591-ac31-37f777c1d039",
   "metadata": {},
   "outputs": [
    {
     "name": "stdout",
     "output_type": "stream",
     "text": [
      "[-18539572, -16594767, -16102026, -12841655, -9718157, -9221441, -8514877, -870187, 24660125, 27998874, 33571007, 34966708, 38186191, 39725173, 39771072, 43933081, 46120793, 46565303, 48172745, 48726657]\n"
     ]
    }
   ],
   "source": [
    "print(x)"
   ]
  },
  {
   "cell_type": "code",
   "execution_count": 44,
   "id": "e8dcd18d-85ee-49b1-8453-e01a1eed9c9b",
   "metadata": {},
   "outputs": [],
   "source": [
    "q1,q2,q3=s.quantiles(x)"
   ]
  },
  {
   "cell_type": "code",
   "execution_count": 45,
   "id": "9ba18f19-83cb-44db-ac27-c320e78feb2d",
   "metadata": {
    "tags": []
   },
   "outputs": [
    {
     "data": {
      "text/plain": [
       "-9593978.0"
      ]
     },
     "execution_count": 45,
     "metadata": {},
     "output_type": "execute_result"
    }
   ],
   "source": [
    "q1"
   ]
  },
  {
   "cell_type": "code",
   "execution_count": 46,
   "id": "224fb2d9-4999-4870-8cdb-a0969bc67bd8",
   "metadata": {
    "tags": []
   },
   "outputs": [
    {
     "data": {
      "text/plain": [
       "30784940.5"
      ]
     },
     "execution_count": 46,
     "metadata": {},
     "output_type": "execute_result"
    }
   ],
   "source": [
    "q2"
   ]
  },
  {
   "cell_type": "code",
   "execution_count": 47,
   "id": "db6a49b6-5087-4c03-8b89-debb9010c82b",
   "metadata": {
    "tags": []
   },
   "outputs": [
    {
     "data": {
      "text/plain": [
       "42892578.75"
      ]
     },
     "execution_count": 47,
     "metadata": {},
     "output_type": "execute_result"
    }
   ],
   "source": [
    "q3"
   ]
  },
  {
   "cell_type": "code",
   "execution_count": 48,
   "id": "c24d31cc-1c30-42aa-b69f-2394585a065a",
   "metadata": {
    "tags": []
   },
   "outputs": [
    {
     "name": "stdout",
     "output_type": "stream",
     "text": [
      "121622413.875\n"
     ]
    }
   ],
   "source": [
    "max_trend=q3+1.5*(q3-q1)\n",
    "print(max_trend)"
   ]
  },
  {
   "cell_type": "code",
   "execution_count": 49,
   "id": "d566c95b-be04-471f-8fd0-dd6cc6196e3b",
   "metadata": {
    "tags": []
   },
   "outputs": [
    {
     "name": "stdout",
     "output_type": "stream",
     "text": [
      "-88323813.125\n"
     ]
    }
   ],
   "source": [
    "min_trend=q1-1.5*(q3-q1)\n",
    "print(min_trend)"
   ]
  },
  {
   "cell_type": "code",
   "execution_count": 50,
   "id": "b3c56836-0d88-4ffc-991e-69af7c2b33dd",
   "metadata": {
    "tags": []
   },
   "outputs": [],
   "source": [
    "a=([5000,6000,7000,6000,3430,5456,21243,21312,5213123])"
   ]
  },
  {
   "cell_type": "code",
   "execution_count": 51,
   "id": "8c8cbe47-63ec-4dbe-af34-1d02563af1a7",
   "metadata": {
    "tags": []
   },
   "outputs": [
    {
     "data": {
      "text/plain": [
       "[5228.0, 6000.0, 21277.5]"
      ]
     },
     "execution_count": 51,
     "metadata": {},
     "output_type": "execute_result"
    }
   ],
   "source": [
    "s.quantiles(a)"
   ]
  },
  {
   "cell_type": "code",
   "execution_count": 53,
   "id": "d4fef53c-1e1c-45a1-a5e5-e0c9d7048d9b",
   "metadata": {
    "tags": []
   },
   "outputs": [],
   "source": [
    "q1,q2,q3=s.quantiles(a)"
   ]
  },
  {
   "cell_type": "code",
   "execution_count": 54,
   "id": "81297a85-da8b-4ab8-b049-a4fee2c134c1",
   "metadata": {
    "tags": []
   },
   "outputs": [
    {
     "name": "stdout",
     "output_type": "stream",
     "text": [
      "-18846.25\n"
     ]
    }
   ],
   "source": [
    "min_trend=q1-1.5*(q3-q1)\n",
    "print(min_trend)"
   ]
  },
  {
   "cell_type": "code",
   "execution_count": 55,
   "id": "cb72934d-3fad-460f-a07b-5e4f2d21bd2a",
   "metadata": {
    "tags": []
   },
   "outputs": [
    {
     "name": "stdout",
     "output_type": "stream",
     "text": [
      "45351.75\n"
     ]
    }
   ],
   "source": [
    "max_trend=q3+1.5*(q3-q1)\n",
    "print(max_trend)"
   ]
  },
  {
   "cell_type": "code",
   "execution_count": 56,
   "id": "726102f4-711c-47b2-9435-01a94ac9d80d",
   "metadata": {
    "tags": []
   },
   "outputs": [
    {
     "name": "stdout",
     "output_type": "stream",
     "text": [
      "[5000, 6000, 7000, 6000, 3430, 5456, 21243, 21312]\n"
     ]
    }
   ],
   "source": [
    "salary=[]\n",
    "for i in a:\n",
    "    if max_trend>i>min_trend:\n",
    "        salary.append(i)\n",
    "print(salary)"
   ]
  },
  {
   "cell_type": "code",
   "execution_count": null,
   "id": "adf40762-ef2f-499a-be7b-3a061b17f171",
   "metadata": {},
   "outputs": [],
   "source": []
  }
 ],
 "metadata": {
  "kernelspec": {
   "display_name": "Python 3 (ipykernel)",
   "language": "python",
   "name": "python3"
  },
  "language_info": {
   "codemirror_mode": {
    "name": "ipython",
    "version": 3
   },
   "file_extension": ".py",
   "mimetype": "text/x-python",
   "name": "python",
   "nbconvert_exporter": "python",
   "pygments_lexer": "ipython3",
   "version": "3.11.5"
  }
 },
 "nbformat": 4,
 "nbformat_minor": 5
}
