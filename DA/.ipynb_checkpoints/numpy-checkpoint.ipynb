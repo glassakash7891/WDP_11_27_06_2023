{
 "cells": [
  {
   "cell_type": "markdown",
   "id": "bf260b62-c501-483f-a011-db05a43bbe34",
   "metadata": {
    "tags": []
   },
   "source": [
    "# numpy creator name is travis oliphant\n",
    "\n",
    "> numpy developed in c++\n",
    "\n",
    "> numpy developed specially for matrix calculation\n",
    "\n",
    "> in python numpy provide"
   ]
  },
  {
   "cell_type": "code",
   "execution_count": 7,
   "id": "6b8a1597-4c24-4313-99c4-6620d654b736",
   "metadata": {
    "tags": []
   },
   "outputs": [
    {
     "name": "stdout",
     "output_type": "stream",
     "text": [
      "Requirement already satisfied: numpy in c:\\users\\lenovo\\anaconda3\\lib\\site-packages (1.24.3)\n",
      "Note: you may need to restart the kernel to use updated packages.\n"
     ]
    }
   ],
   "source": [
    "pip install numpy\n"
   ]
  },
  {
   "cell_type": "code",
   "execution_count": 3,
   "id": "8c6e228e-db1f-46a9-836d-867073560747",
   "metadata": {
    "tags": []
   },
   "outputs": [],
   "source": [
    "import numpy as np"
   ]
  },
  {
   "cell_type": "code",
   "execution_count": 5,
   "id": "7b58767f-56c8-4812-bf09-5dc090e57b54",
   "metadata": {
    "tags": []
   },
   "outputs": [],
   "source": [
    "a=np.array([1,2,3,4,5,6,7,8,9])"
   ]
  },
  {
   "cell_type": "code",
   "execution_count": 6,
   "id": "293a9cfb-0d52-4b3f-a1ac-6e21869b1a96",
   "metadata": {
    "tags": []
   },
   "outputs": [
    {
     "name": "stdout",
     "output_type": "stream",
     "text": [
      "[1 2 3 4 5 6 7 8 9]\n"
     ]
    }
   ],
   "source": [
    "print(a)"
   ]
  },
  {
   "cell_type": "code",
   "execution_count": 8,
   "id": "7d80dfe2-1130-4614-add2-20a001b4722e",
   "metadata": {
    "tags": []
   },
   "outputs": [
    {
     "name": "stdout",
     "output_type": "stream",
     "text": [
      "[1 2 3 4 5 6 7 8 9]\n"
     ]
    }
   ],
   "source": [
    "b=np.array([1,2,3,4,5,6,7,8,9])\n",
    "print(b)"
   ]
  },
  {
   "cell_type": "code",
   "execution_count": 9,
   "id": "bb384323-279b-45a9-b052-6849af05a507",
   "metadata": {
    "tags": []
   },
   "outputs": [
    {
     "name": "stdout",
     "output_type": "stream",
     "text": [
      "['1' '2' '3' '4' '5' '6' '7.5' '8' '9']\n"
     ]
    }
   ],
   "source": [
    "b=np.array([1,2,3,4,5,6,7.5,8,\"9\"])\n",
    "print(b)"
   ]
  },
  {
   "cell_type": "code",
   "execution_count": 10,
   "id": "20fecf66-f5eb-4ffc-a461-1def52fbbe6f",
   "metadata": {
    "tags": []
   },
   "outputs": [],
   "source": [
    "c=np.array([1,2,3,4,5,6,8,5,\"akash\"])"
   ]
  },
  {
   "cell_type": "code",
   "execution_count": 11,
   "id": "630c6ad6-dc14-47e8-8661-02c8625aea1e",
   "metadata": {
    "tags": []
   },
   "outputs": [
    {
     "name": "stdout",
     "output_type": "stream",
     "text": [
      "['1' '2' '3' '4' '5' '6' '8' '5' 'akash']\n"
     ]
    }
   ],
   "source": [
    "print(c)"
   ]
  },
  {
   "cell_type": "code",
   "execution_count": 15,
   "id": "a3060d1c-63d8-4a17-9fcf-1e3ffd99456d",
   "metadata": {
    "tags": []
   },
   "outputs": [
    {
     "name": "stdout",
     "output_type": "stream",
     "text": [
      "[1 2 3 4 5 6 7 8 9]\n"
     ]
    },
    {
     "data": {
      "text/plain": [
       "121"
      ]
     },
     "execution_count": 15,
     "metadata": {},
     "output_type": "execute_result"
    }
   ],
   "source": [
    "b=np.array([1,2,3,4,5,6,7.5,8,9],dtype=np.int8)\n",
    "print(b)\n",
    "sys.getsizeof(b)"
   ]
  },
  {
   "cell_type": "code",
   "execution_count": 17,
   "id": "13a70d3f-ea4d-42ec-bcae-7d52c298d587",
   "metadata": {
    "tags": []
   },
   "outputs": [
    {
     "name": "stdout",
     "output_type": "stream",
     "text": [
      "[1 2 3 4 5 6 7 8 9]\n"
     ]
    },
    {
     "data": {
      "text/plain": [
       "130"
      ]
     },
     "execution_count": 17,
     "metadata": {},
     "output_type": "execute_result"
    }
   ],
   "source": [
    "c=np.array([1,2,3,4,5,6,7.5,8,9],dtype=np.int16)\n",
    "print(c)\n",
    "sys.getsizeof(c)"
   ]
  },
  {
   "cell_type": "code",
   "execution_count": 12,
   "id": "246a8726-069d-4f64-baa9-73f16bea662e",
   "metadata": {
    "tags": []
   },
   "outputs": [],
   "source": [
    "import sys"
   ]
  },
  {
   "cell_type": "code",
   "execution_count": 18,
   "id": "75626bf6-b9d3-49a5-a304-654fe6a35aa5",
   "metadata": {
    "tags": []
   },
   "outputs": [
    {
     "name": "stdout",
     "output_type": "stream",
     "text": [
      "[1 2 3 4 5 6 7 8 9]\n"
     ]
    },
    {
     "data": {
      "text/plain": [
       "148"
      ]
     },
     "execution_count": 18,
     "metadata": {},
     "output_type": "execute_result"
    }
   ],
   "source": [
    "d=np.array([1,2,3,4,5,6,7.5,8,9],dtype=np.int32)\n",
    "print(d)\n",
    "sys.getsizeof(d)"
   ]
  },
  {
   "cell_type": "code",
   "execution_count": 19,
   "id": "cb083fdc-6d86-4082-871b-36ef45ffa78f",
   "metadata": {
    "tags": []
   },
   "outputs": [
    {
     "name": "stdout",
     "output_type": "stream",
     "text": [
      "[[1 2 3]\n",
      " [3 4 5]]\n"
     ]
    }
   ],
   "source": [
    "# 2d array\n",
    "e=np.array([[1,2,3],[3,4,5]])\n",
    "print(e)"
   ]
  },
  {
   "cell_type": "code",
   "execution_count": 21,
   "id": "b2ed6d3c-1009-43c2-afed-93a5d189cf40",
   "metadata": {
    "tags": []
   },
   "outputs": [
    {
     "name": "stdout",
     "output_type": "stream",
     "text": [
      "[[0 0]\n",
      " [0 0]]\n"
     ]
    }
   ],
   "source": [
    "# random array\n",
    "f=np.zeros((2,2),dtype=np.int8)\n",
    "print(f)"
   ]
  },
  {
   "cell_type": "code",
   "execution_count": 22,
   "id": "b6aed2c7-9730-436c-a8d0-c1462f65d207",
   "metadata": {
    "tags": []
   },
   "outputs": [
    {
     "name": "stdout",
     "output_type": "stream",
     "text": [
      "[[1 1]\n",
      " [1 1]]\n"
     ]
    }
   ],
   "source": [
    "g=np.ones((2,2),dtype=np.int8)\n",
    "print(g)"
   ]
  },
  {
   "cell_type": "code",
   "execution_count": 23,
   "id": "5efdccb7-7fa1-4679-97c0-f2949ed5e0a2",
   "metadata": {
    "tags": []
   },
   "outputs": [
    {
     "name": "stdout",
     "output_type": "stream",
     "text": [
      "[[5 5]\n",
      " [5 5]]\n"
     ]
    }
   ],
   "source": [
    "f=np.full((2,2),5,dtype=np.int8)\n",
    "print(f)"
   ]
  },
  {
   "cell_type": "code",
   "execution_count": null,
   "id": "fd69c2f5-4085-4f61-b0d6-ae5e7a6d3f24",
   "metadata": {},
   "outputs": [],
   "source": []
  }
 ],
 "metadata": {
  "kernelspec": {
   "display_name": "Python 3 (ipykernel)",
   "language": "python",
   "name": "python3"
  },
  "language_info": {
   "codemirror_mode": {
    "name": "ipython",
    "version": 3
   },
   "file_extension": ".py",
   "mimetype": "text/x-python",
   "name": "python",
   "nbconvert_exporter": "python",
   "pygments_lexer": "ipython3",
   "version": "3.11.5"
  }
 },
 "nbformat": 4,
 "nbformat_minor": 5
}
