{
 "cells": [
  {
   "cell_type": "code",
   "execution_count": 1,
   "metadata": {},
   "outputs": [],
   "source": [
    "#comment:"
   ]
  },
  {
   "cell_type": "code",
   "execution_count": 2,
   "metadata": {},
   "outputs": [
    {
     "name": "stdout",
     "output_type": "stream",
     "text": [
      "hello akash\n"
     ]
    }
   ],
   "source": [
    "print(\"hello akash\") #prnt() is use to echo somthing"
   ]
  },
  {
   "cell_type": "code",
   "execution_count": 3,
   "metadata": {},
   "outputs": [
    {
     "name": "stdout",
     "output_type": "stream",
     "text": [
      "this is akash\n"
     ]
    }
   ],
   "source": [
    "#print(\"hello akash\")\n",
    "print(\"this is akash\")\n"
   ]
  },
  {
   "cell_type": "code",
   "execution_count": 4,
   "metadata": {},
   "outputs": [
    {
     "name": "stdout",
     "output_type": "stream",
     "text": [
      "this is akash\n",
      "this is akash\n",
      "this is akash\n",
      "this is akash\n",
      "this is akash\n",
      "this is akash\n",
      "this is akash\n",
      "this is akash\n",
      "this is akash\n"
     ]
    }
   ],
   "source": [
    "print(\"this is akash\")\n",
    "print(\"this is akash\")\n",
    "print(\"this is akash\")\n",
    "print(\"this is akash\")\n",
    "print(\"this is akash\")\n",
    "print(\"this is akash\")\n",
    "print(\"this is akash\")\n",
    "print(\"this is akash\")\n",
    "print(\"this is akash\")"
   ]
  },
  {
   "cell_type": "code",
   "execution_count": 6,
   "metadata": {},
   "outputs": [
    {
     "name": "stdout",
     "output_type": "stream",
     "text": [
      "this is akash\n",
      "this is akash\n",
      "this is akash\n"
     ]
    }
   ],
   "source": [
    "#print(\"this is akash\")\n",
    "#print(\"this is akash\")\n",
    "#print(\"this is akash\")\n",
    "#print(\"this is akash\")\n",
    "#print(\"this is akash\")\n",
    "print(\"this is akash\")\n",
    "print(\"this is akash\")\n",
    "print(\"this is akash\")"
   ]
  },
  {
   "cell_type": "code",
   "execution_count": 7,
   "metadata": {},
   "outputs": [
    {
     "name": "stdout",
     "output_type": "stream",
     "text": [
      "hello akash\n",
      "hello akash\n",
      "hello akash\n",
      "hello akash\n"
     ]
    }
   ],
   "source": [
    "print(\"hello akash\")     \n",
    "print('hello akash')\n",
    "print(\"\"\"hello akash\"\"\")\n",
    "print('''hello akash''')"
   ]
  },
  {
   "cell_type": "code",
   "execution_count": 8,
   "metadata": {},
   "outputs": [
    {
     "name": "stdout",
     "output_type": "stream",
     "text": [
      "hello akash\n",
      "hello akash\n"
     ]
    }
   ],
   "source": [
    "print(\"hello akash\")     #both are same\n",
    "print('hello akash')"
   ]
  },
  {
   "cell_type": "code",
   "execution_count": 9,
   "metadata": {},
   "outputs": [
    {
     "name": "stdout",
     "output_type": "stream",
     "text": [
      "hello akash\n",
      "hello akash\n"
     ]
    }
   ],
   "source": [
    "print(\"\"\"hello akash\"\"\")       #both are same\n",
    "print('''hello akash''')"
   ]
  },
  {
   "cell_type": "code",
   "execution_count": 10,
   "metadata": {},
   "outputs": [
    {
     "name": "stdout",
     "output_type": "stream",
     "text": [
      "hello\n",
      "         akash\n",
      "hello akash\n"
     ]
    }
   ],
   "source": [
    "print(\"\"\"hello\n",
    "         akash\"\"\")\n",
    "print('''hello akash''')"
   ]
  },
  {
   "cell_type": "code",
   "execution_count": 11,
   "metadata": {},
   "outputs": [
    {
     "data": {
      "text/plain": [
       "'hello akash'"
      ]
     },
     "execution_count": 11,
     "metadata": {},
     "output_type": "execute_result"
    }
   ],
   "source": [
    "\"hello akash\""
   ]
  },
  {
   "cell_type": "code",
   "execution_count": 12,
   "metadata": {},
   "outputs": [
    {
     "name": "stdout",
     "output_type": "stream",
     "text": [
      "hello akash\n",
      "hello akash\n"
     ]
    },
    {
     "data": {
      "text/plain": [
       "'hello akash'"
      ]
     },
     "execution_count": 12,
     "metadata": {},
     "output_type": "execute_result"
    }
   ],
   "source": [
    "print(\"hello akash\")\n",
    "print(\"hello akash\")\n",
    "\"hello akash\""
   ]
  },
  {
   "cell_type": "code",
   "execution_count": 14,
   "metadata": {},
   "outputs": [
    {
     "name": "stdout",
     "output_type": "stream",
     "text": [
      "tell me is this ture\n"
     ]
    }
   ],
   "source": [
    "\"\"\"hello \n",
    "akash\n",
    "     comment system\"\"\"       #if i print this and its print that means this is not comment\n",
    "print(\"tell me is this ture\")"
   ]
  },
  {
   "cell_type": "code",
   "execution_count": 15,
   "metadata": {},
   "outputs": [
    {
     "name": "stdout",
     "output_type": "stream",
     "text": [
      "hello\n",
      "akash\n",
      "    comment system\n"
     ]
    }
   ],
   "source": [
    "print(\"\"\"hello\n",
    "akash\n",
    "    comment system\"\"\")"
   ]
  },
  {
   "cell_type": "code",
   "execution_count": null,
   "metadata": {},
   "outputs": [],
   "source": []
  }
 ],
 "metadata": {
  "kernelspec": {
   "display_name": "base",
   "language": "python",
   "name": "python3"
  },
  "language_info": {
   "codemirror_mode": {
    "name": "ipython",
    "version": 3
   },
   "file_extension": ".py",
   "mimetype": "text/x-python",
   "name": "python",
   "nbconvert_exporter": "python",
   "pygments_lexer": "ipython3",
   "version": "3.10.9"
  },
  "orig_nbformat": 4
 },
 "nbformat": 4,
 "nbformat_minor": 2
}
