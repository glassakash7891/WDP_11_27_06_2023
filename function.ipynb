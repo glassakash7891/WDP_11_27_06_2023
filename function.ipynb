{
 "cells": [
  {
   "cell_type": "raw",
   "id": "401323c1-368a-47e8-8110-77a701ff0521",
   "metadata": {},
   "source": [
    "> def \n",
    "\n",
    "  > local variable\n",
    "  > global variable\n",
    "  > local scope\n",
    "  > global scope\n",
    "  > return\n",
    "  > argument:\n",
    "      > default argument\n",
    "      > positional argument\n",
    "      > keyword argument(it use while calling a function only)\n",
    "      > arbitary positional argument\n",
    "      > arbitary keyword argument\n",
    "> lambda function(anonymous function)\n",
    "> nested function\n",
    "> decorator\n",
    "> generator\n",
    "> yield"
   ]
  },
  {
   "cell_type": "code",
   "execution_count": 2,
   "id": "4c4b981c-734a-47d2-9f27-f119141d5860",
   "metadata": {},
   "outputs": [
    {
     "name": "stdout",
     "output_type": "stream",
     "text": [
      "hello world\n",
      "hello world\n",
      "hello world\n",
      "hello world\n",
      "hello world\n"
     ]
    }
   ],
   "source": [
    "print(\"hello world\")\n",
    "print(\"hello world\")\n",
    "print(\"hello world\")\n",
    "print(\"hello world\")\n",
    "print(\"hello world\")"
   ]
  },
  {
   "cell_type": "code",
   "execution_count": 3,
   "id": "6cf528eb-4aaa-4faa-a824-25da60ce9e1c",
   "metadata": {},
   "outputs": [
    {
     "name": "stdout",
     "output_type": "stream",
     "text": [
      "hello world\n",
      "hello world\n",
      "hello world\n",
      "hello world\n",
      "hello world\n"
     ]
    }
   ],
   "source": [
    "for i in range(5):\n",
    "    print(\"hello world\")"
   ]
  },
  {
   "cell_type": "code",
   "execution_count": 4,
   "id": "6803efee-e9d5-453b-88db-6a7f0d638ab7",
   "metadata": {},
   "outputs": [],
   "source": [
    "def hello():\n",
    "    for i in range(5):\n",
    "        print(\"hello world\")"
   ]
  },
  {
   "cell_type": "code",
   "execution_count": 5,
   "id": "2ff91f56-e546-428c-a107-058994f87774",
   "metadata": {},
   "outputs": [
    {
     "name": "stdout",
     "output_type": "stream",
     "text": [
      "hello world\n",
      "hello world\n",
      "hello world\n",
      "hello world\n",
      "hello world\n"
     ]
    }
   ],
   "source": [
    "hello()"
   ]
  },
  {
   "cell_type": "code",
   "execution_count": 6,
   "id": "c9b6068d-aabe-44c9-badb-c6139c7ec654",
   "metadata": {},
   "outputs": [],
   "source": [
    "def hello(a):\n",
    "    for i in range(a):\n",
    "        print(\"hello world\")"
   ]
  },
  {
   "cell_type": "code",
   "execution_count": 9,
   "id": "42297e82-6617-4178-b404-b74a9bb122a3",
   "metadata": {},
   "outputs": [
    {
     "name": "stdout",
     "output_type": "stream",
     "text": [
      "hello world\n",
      "hello world\n",
      "hello world\n",
      "hello world\n",
      "hello world\n",
      "hello world\n"
     ]
    }
   ],
   "source": [
    "hello(6)"
   ]
  },
  {
   "cell_type": "code",
   "execution_count": 11,
   "id": "599ebc3e-9565-471d-a8f7-43c50c67ae03",
   "metadata": {},
   "outputs": [],
   "source": [
    "def intro():\n",
    "    print(\"i am akash\")"
   ]
  },
  {
   "cell_type": "code",
   "execution_count": 12,
   "id": "e199a156-df3f-4e80-96dd-977abfaba1b4",
   "metadata": {},
   "outputs": [
    {
     "name": "stdout",
     "output_type": "stream",
     "text": [
      "i am akash\n"
     ]
    }
   ],
   "source": [
    "intro()"
   ]
  },
  {
   "cell_type": "code",
   "execution_count": 18,
   "id": "734ce125-ad6b-4782-bbe1-b0665ef2c566",
   "metadata": {},
   "outputs": [],
   "source": [
    "def intro(a):\n",
    "    for i in range(a):\n",
    "        print(\"i am akash\")"
   ]
  },
  {
   "cell_type": "code",
   "execution_count": 19,
   "id": "cb0d5361-2427-415a-b2c8-f31276126611",
   "metadata": {},
   "outputs": [
    {
     "name": "stdout",
     "output_type": "stream",
     "text": [
      "i am akash\n",
      "i am akash\n",
      "i am akash\n",
      "i am akash\n",
      "i am akash\n"
     ]
    }
   ],
   "source": [
    "intro(5)"
   ]
  },
  {
   "cell_type": "code",
   "execution_count": 32,
   "id": "b909ad40-7cb9-44bb-a67a-2f07026f1a22",
   "metadata": {},
   "outputs": [],
   "source": [
    "def intro(a):\n",
    "    for i in range(a+1):\n",
    "        print(i,\"i am akash\")"
   ]
  },
  {
   "cell_type": "code",
   "execution_count": 33,
   "id": "19cd9625-6b30-4cee-bd88-a10cd55a7067",
   "metadata": {},
   "outputs": [
    {
     "name": "stdout",
     "output_type": "stream",
     "text": [
      "0 i am akash\n",
      "1 i am akash\n",
      "2 i am akash\n",
      "3 i am akash\n",
      "4 i am akash\n",
      "5 i am akash\n"
     ]
    }
   ],
   "source": [
    "intro(5)"
   ]
  },
  {
   "cell_type": "code",
   "execution_count": 27,
   "id": "7f4ffa77-478a-4b36-b5ba-b7fe825c1fd0",
   "metadata": {},
   "outputs": [],
   "source": [
    "def intro1(a,b):\n",
    "    for i in range(a,b+1):\n",
    "        print(i,\"i am akash\")"
   ]
  },
  {
   "cell_type": "code",
   "execution_count": 28,
   "id": "8356bfe6-e135-4676-9f0f-6aafa7900b0c",
   "metadata": {},
   "outputs": [
    {
     "name": "stdout",
     "output_type": "stream",
     "text": [
      "1 i am akash\n",
      "2 i am akash\n",
      "3 i am akash\n",
      "4 i am akash\n",
      "5 i am akash\n"
     ]
    }
   ],
   "source": [
    "intro1(1,5)"
   ]
  },
  {
   "cell_type": "code",
   "execution_count": 29,
   "id": "1e9fcdea-c75a-4c00-b256-a2f12740aa6b",
   "metadata": {},
   "outputs": [
    {
     "name": "stdout",
     "output_type": "stream",
     "text": [
      "3 i am akash\n",
      "4 i am akash\n",
      "5 i am akash\n",
      "6 i am akash\n"
     ]
    }
   ],
   "source": [
    "intro1(3,6)"
   ]
  },
  {
   "cell_type": "code",
   "execution_count": 30,
   "id": "99cf7f4b-edfd-4a10-8e00-2d8b01530cf2",
   "metadata": {},
   "outputs": [
    {
     "name": "stdout",
     "output_type": "stream",
     "text": [
      "hello world\n",
      "hello world\n",
      "hello world\n"
     ]
    }
   ],
   "source": [
    "hello(3)"
   ]
  },
  {
   "cell_type": "code",
   "execution_count": 34,
   "id": "3cce4fcf-3913-4c2c-bc67-3531cfd93941",
   "metadata": {},
   "outputs": [
    {
     "name": "stdout",
     "output_type": "stream",
     "text": [
      "0 i am akash\n",
      "1 i am akash\n",
      "2 i am akash\n",
      "3 i am akash\n"
     ]
    }
   ],
   "source": [
    "intro(3)"
   ]
  },
  {
   "cell_type": "code",
   "execution_count": 35,
   "id": "9edcb067-0074-45e3-9b4c-33268164ca25",
   "metadata": {},
   "outputs": [],
   "source": [
    "def intro2(a,b,c):\n",
    "    for i in range(a,b+1,c):\n",
    "        print(i,\"i am akash\")"
   ]
  },
  {
   "cell_type": "code",
   "execution_count": 36,
   "id": "c53efb25-0b1d-4f18-b98b-3050d3e8c751",
   "metadata": {},
   "outputs": [
    {
     "name": "stdout",
     "output_type": "stream",
     "text": [
      "1 i am akash\n",
      "2 i am akash\n",
      "3 i am akash\n",
      "4 i am akash\n",
      "5 i am akash\n",
      "6 i am akash\n"
     ]
    }
   ],
   "source": [
    "intro2(1,6,1)"
   ]
  },
  {
   "cell_type": "code",
   "execution_count": 37,
   "id": "3e6e3ee5-6944-48e8-bd74-a3c98f5342a7",
   "metadata": {},
   "outputs": [
    {
     "name": "stdout",
     "output_type": "stream",
     "text": [
      "1 i am akash\n",
      "3 i am akash\n",
      "5 i am akash\n"
     ]
    }
   ],
   "source": [
    "intro2(1,6,2)"
   ]
  },
  {
   "cell_type": "code",
   "execution_count": 39,
   "id": "aae6bcc6-e366-4e06-b582-416359d9e410",
   "metadata": {},
   "outputs": [
    {
     "name": "stdout",
     "output_type": "stream",
     "text": [
      "0 i am akash\n",
      "2 i am akash\n",
      "4 i am akash\n",
      "6 i am akash\n"
     ]
    }
   ],
   "source": [
    "intro2(0,6,2)"
   ]
  },
  {
   "cell_type": "code",
   "execution_count": 40,
   "id": "65c777fe-baa9-4291-823f-02e6b91167ba",
   "metadata": {},
   "outputs": [],
   "source": [
    "def sum(a,b):\n",
    "    return a\n",
    "    return b"
   ]
  },
  {
   "cell_type": "code",
   "execution_count": 41,
   "id": "03d05d7a-3875-4548-aef1-4ca2f596b7ac",
   "metadata": {},
   "outputs": [
    {
     "data": {
      "text/plain": [
       "10"
      ]
     },
     "execution_count": 41,
     "metadata": {},
     "output_type": "execute_result"
    }
   ],
   "source": [
    "sum(10,20)"
   ]
  },
  {
   "cell_type": "markdown",
   "id": "a3883997-c251-4b61-9ed3-a668f4704060",
   "metadata": {},
   "source": [
    "# return"
   ]
  },
  {
   "cell_type": "code",
   "execution_count": 62,
   "id": "3c74df5c-1a92-486e-a5a6-b52e91b2a062",
   "metadata": {},
   "outputs": [],
   "source": [
    "def new(a,b):\n",
    "    print(a+b)"
   ]
  },
  {
   "cell_type": "code",
   "execution_count": 63,
   "id": "9896d6bc-bfb5-4fa4-88c2-1757bbf2062e",
   "metadata": {},
   "outputs": [
    {
     "name": "stdout",
     "output_type": "stream",
     "text": [
      "30\n",
      "None\n"
     ]
    }
   ],
   "source": [
    "print(new(10,20))"
   ]
  },
  {
   "cell_type": "code",
   "execution_count": 64,
   "id": "ce791154-084c-4705-acb7-1b275fde7f03",
   "metadata": {},
   "outputs": [],
   "source": [
    "def new2(a,b):\n",
    "    return(a+b)"
   ]
  },
  {
   "cell_type": "code",
   "execution_count": 43,
   "id": "cdb41ed8-74c4-4487-8d6d-f2c8943b3501",
   "metadata": {},
   "outputs": [
    {
     "data": {
      "text/plain": [
       "10"
      ]
     },
     "execution_count": 43,
     "metadata": {},
     "output_type": "execute_result"
    }
   ],
   "source": [
    "add(10,20)"
   ]
  },
  {
   "cell_type": "code",
   "execution_count": null,
   "id": "7d286bfa-85cb-4de6-b1ac-b5dae1e9c761",
   "metadata": {},
   "outputs": [],
   "source": []
  },
  {
   "cell_type": "code",
   "execution_count": null,
   "id": "0d11e84d-df3c-498d-bc37-db47ebd12ebb",
   "metadata": {},
   "outputs": [],
   "source": []
  },
  {
   "cell_type": "code",
   "execution_count": null,
   "id": "39cab3e7-41e9-44f2-9801-a6b3724ac82c",
   "metadata": {},
   "outputs": [],
   "source": []
  },
  {
   "cell_type": "code",
   "execution_count": null,
   "id": "89e0496e-b097-4565-a442-efc2c690d9d8",
   "metadata": {},
   "outputs": [],
   "source": []
  },
  {
   "cell_type": "raw",
   "id": "df5264ad-322e-40bc-9d34-f729a50ddb47",
   "metadata": {},
   "source": [
    "> local variable\n",
    "\n",
    "> global variable\n",
    "\n",
    "> local scope\n",
    "\n",
    "> global scope"
   ]
  },
  {
   "cell_type": "code",
   "execution_count": 44,
   "id": "8a1e8956-5071-471e-899f-16740b270c90",
   "metadata": {},
   "outputs": [],
   "source": [
    "def add():\n",
    "    a=10\n",
    "    b=20\n",
    "    print(a+b)"
   ]
  },
  {
   "cell_type": "code",
   "execution_count": 45,
   "id": "301ce016-47d6-49eb-8d97-a6e92cdc520c",
   "metadata": {},
   "outputs": [
    {
     "name": "stdout",
     "output_type": "stream",
     "text": [
      "30\n"
     ]
    }
   ],
   "source": [
    "add()"
   ]
  },
  {
   "cell_type": "code",
   "execution_count": 51,
   "id": "04f14382-c58e-4ee6-bfb5-056b4be4a28f",
   "metadata": {},
   "outputs": [],
   "source": [
    "def add():\n",
    "    global a,b\n",
    "    a=10\n",
    "    b=20\n",
    "    print(a+b)"
   ]
  },
  {
   "cell_type": "code",
   "execution_count": 52,
   "id": "080b7dd1-bdd6-4b95-9452-27c561cb0a3f",
   "metadata": {},
   "outputs": [
    {
     "name": "stdout",
     "output_type": "stream",
     "text": [
      "30\n"
     ]
    }
   ],
   "source": [
    "add()"
   ]
  },
  {
   "cell_type": "raw",
   "id": "2401b568-7a92-4b83-805f-9e50cf910ee7",
   "metadata": {},
   "source": [
    "print(a)"
   ]
  },
  {
   "cell_type": "code",
   "execution_count": 53,
   "id": "55d2b2de-0172-427b-a0a2-415c506c0dfd",
   "metadata": {},
   "outputs": [
    {
     "name": "stdout",
     "output_type": "stream",
     "text": [
      "20\n"
     ]
    }
   ],
   "source": [
    "print(b)"
   ]
  },
  {
   "cell_type": "code",
   "execution_count": 54,
   "id": "be2c1b97-76d9-4073-8d96-30a921d6839a",
   "metadata": {},
   "outputs": [],
   "source": [
    "x=10"
   ]
  },
  {
   "cell_type": "code",
   "execution_count": 55,
   "id": "3e349c8a-ab8e-4c98-a849-d66706594740",
   "metadata": {},
   "outputs": [],
   "source": [
    "y=20"
   ]
  },
  {
   "cell_type": "code",
   "execution_count": 10,
   "id": "8913f673-8f14-4913-a66a-f0fe1178ce92",
   "metadata": {},
   "outputs": [],
   "source": [
    "def add2(x,y):\n",
    "    print(x+y)"
   ]
  },
  {
   "cell_type": "code",
   "execution_count": 11,
   "id": "2ee7ce3e-f37a-41c2-9002-791ba375085c",
   "metadata": {},
   "outputs": [
    {
     "name": "stdout",
     "output_type": "stream",
     "text": [
      "40\n"
     ]
    }
   ],
   "source": [
    "add2(10,30)"
   ]
  },
  {
   "cell_type": "raw",
   "id": "168ebafd-213c-458a-9186-2b75a1618b33",
   "metadata": {},
   "source": [
    "> argument:\n",
    "      > default argument\n",
    "      > positional argument\n",
    "      > keyword argument(it use while calling a function only)\n",
    "      > arbitary positional argument\n",
    "      > arbitary keyword argument"
   ]
  },
  {
   "cell_type": "markdown",
   "id": "a2ca7c52-deba-42e2-94ea-7e00d02cce40",
   "metadata": {},
   "source": [
    "# default argument"
   ]
  },
  {
   "cell_type": "code",
   "execution_count": 65,
   "id": "e3e471e0-9810-4e78-9857-13993ae26fa6",
   "metadata": {},
   "outputs": [],
   "source": [
    "def add3(a=10,b=20):\n",
    "    print(a+b)"
   ]
  },
  {
   "cell_type": "code",
   "execution_count": 66,
   "id": "4ac8e74d-eaff-4b83-8cb6-fff3b1e3d764",
   "metadata": {},
   "outputs": [
    {
     "name": "stdout",
     "output_type": "stream",
     "text": [
      "30\n"
     ]
    }
   ],
   "source": [
    "add3()"
   ]
  },
  {
   "cell_type": "code",
   "execution_count": 67,
   "id": "d8ecfeab-5fb8-4fe6-853e-a9ad8c7c6b65",
   "metadata": {},
   "outputs": [
    {
     "name": "stdout",
     "output_type": "stream",
     "text": [
      "120\n"
     ]
    }
   ],
   "source": [
    "add3(100)"
   ]
  },
  {
   "cell_type": "code",
   "execution_count": 69,
   "id": "c5ca5f26-4267-4021-8333-6c06588f7821",
   "metadata": {},
   "outputs": [
    {
     "name": "stdout",
     "output_type": "stream",
     "text": [
      "300\n"
     ]
    }
   ],
   "source": [
    "add3(100,200)"
   ]
  },
  {
   "cell_type": "markdown",
   "id": "9f323988-7a51-41e5-b98e-86dbda56085e",
   "metadata": {},
   "source": [
    "# positional argument"
   ]
  },
  {
   "cell_type": "code",
   "execution_count": 70,
   "id": "6d3dfa22-b3c8-4577-ac5f-b51ce7608abc",
   "metadata": {},
   "outputs": [],
   "source": [
    "def add4(a,b):\n",
    "    print(a+b)"
   ]
  },
  {
   "cell_type": "code",
   "execution_count": 71,
   "id": "99aac044-9172-4f1c-9c5c-4e1ee3b7be84",
   "metadata": {},
   "outputs": [
    {
     "name": "stdout",
     "output_type": "stream",
     "text": [
      "30\n"
     ]
    }
   ],
   "source": [
    "add4(10,20)"
   ]
  },
  {
   "cell_type": "code",
   "execution_count": 72,
   "id": "8d260608-dc26-4b90-914b-a8ae6b51e34c",
   "metadata": {},
   "outputs": [],
   "source": [
    "def add4(a,b):\n",
    "    print(\"a :\",a)\n",
    "    print(\"b :\",b)\n",
    "    print(a+b)"
   ]
  },
  {
   "cell_type": "code",
   "execution_count": 74,
   "id": "5504b8e9-e68c-455f-af9f-f6008b9f5a42",
   "metadata": {},
   "outputs": [
    {
     "name": "stdout",
     "output_type": "stream",
     "text": [
      "a : 10\n",
      "b : 20\n",
      "30\n"
     ]
    }
   ],
   "source": [
    "add4(10,20)"
   ]
  },
  {
   "cell_type": "code",
   "execution_count": 75,
   "id": "6bed33a2-acb7-4f6d-ab5d-7292bfd86800",
   "metadata": {},
   "outputs": [
    {
     "name": "stdout",
     "output_type": "stream",
     "text": [
      "a : 20\n",
      "b : 10\n",
      "30\n"
     ]
    }
   ],
   "source": [
    "add4(20,10)"
   ]
  },
  {
   "cell_type": "markdown",
   "id": "b9780842-fe4b-4277-8fe5-9b3473872b48",
   "metadata": {},
   "source": [
    "# keyword argument(it use while calling a function only)"
   ]
  },
  {
   "cell_type": "code",
   "execution_count": 76,
   "id": "d468c34d-16cb-4dd1-9f65-afd6d3009621",
   "metadata": {},
   "outputs": [],
   "source": [
    "def add5(a,b):\n",
    "    print(\"a :\",a)\n",
    "    print(\"b :\",b)\n",
    "    print(a+b)"
   ]
  },
  {
   "cell_type": "code",
   "execution_count": 77,
   "id": "dc6838c3-1bff-4bb0-b518-0a1542a28e09",
   "metadata": {},
   "outputs": [
    {
     "name": "stdout",
     "output_type": "stream",
     "text": [
      "a : 10\n",
      "b : 20\n",
      "30\n"
     ]
    }
   ],
   "source": [
    "add5(b=20,a=10)"
   ]
  },
  {
   "cell_type": "markdown",
   "id": "f187c2ce-ae96-4fc6-8452-f6cc1432337e",
   "metadata": {},
   "source": [
    "# arbitary positional argument"
   ]
  },
  {
   "cell_type": "code",
   "execution_count": 78,
   "id": "8a392dda-1027-4e81-a59f-a4f327005e9c",
   "metadata": {},
   "outputs": [],
   "source": [
    "import builtins"
   ]
  },
  {
   "cell_type": "code",
   "execution_count": 79,
   "id": "55b18fd4-4df0-4292-bfca-8c2ed7e9e8cf",
   "metadata": {},
   "outputs": [
    {
     "name": "stdout",
     "output_type": "stream",
     "text": [
      "hello world\n"
     ]
    }
   ],
   "source": [
    "builtins.print(\"hello world\")"
   ]
  },
  {
   "cell_type": "code",
   "execution_count": 80,
   "id": "57c82b4b-9a3e-4642-a692-c5848b392383",
   "metadata": {},
   "outputs": [
    {
     "data": {
      "text/plain": [
       "5"
      ]
     },
     "execution_count": 80,
     "metadata": {},
     "output_type": "execute_result"
    }
   ],
   "source": [
    "builtins.len(\"akash\")"
   ]
  },
  {
   "cell_type": "code",
   "execution_count": 87,
   "id": "e24969b2-8473-43d7-a018-267105a39379",
   "metadata": {},
   "outputs": [
    {
     "data": {
      "text/plain": [
       "10.54"
      ]
     },
     "execution_count": 87,
     "metadata": {},
     "output_type": "execute_result"
    }
   ],
   "source": [
    "builtins.sum([1,2,3,4.54])"
   ]
  },
  {
   "cell_type": "code",
   "execution_count": 92,
   "id": "5b4cf9eb-aef1-42b9-b430-0e820c1079e3",
   "metadata": {},
   "outputs": [
    {
     "ename": "TypeError",
     "evalue": "sum() missing 1 required positional argument: 'b'",
     "output_type": "error",
     "traceback": [
      "\u001b[1;31m---------------------------------------------------------------------------\u001b[0m",
      "\u001b[1;31mTypeError\u001b[0m                                 Traceback (most recent call last)",
      "Cell \u001b[1;32mIn[92], line 1\u001b[0m\n\u001b[1;32m----> 1\u001b[0m \u001b[38;5;28;43msum\u001b[39;49m\u001b[43m(\u001b[49m\u001b[43m[\u001b[49m\u001b[38;5;241;43m1\u001b[39;49m\u001b[43m,\u001b[49m\u001b[38;5;241;43m2\u001b[39;49m\u001b[43m,\u001b[49m\u001b[38;5;241;43m3\u001b[39;49m\u001b[43m,\u001b[49m\u001b[38;5;241;43m4.54\u001b[39;49m\u001b[43m,\u001b[49m\u001b[43m]\u001b[49m\u001b[43m)\u001b[49m\n",
      "\u001b[1;31mTypeError\u001b[0m: sum() missing 1 required positional argument: 'b'"
     ]
    }
   ],
   "source": [
    "sum([1,2,3,4.54,])"
   ]
  },
  {
   "cell_type": "code",
   "execution_count": 91,
   "id": "3c905283-bc57-4609-8c30-3b284e607d3b",
   "metadata": {},
   "outputs": [
    {
     "data": {
      "text/plain": [
       "1"
      ]
     },
     "execution_count": 91,
     "metadata": {},
     "output_type": "execute_result"
    }
   ],
   "source": [
    "sum(1,2)"
   ]
  },
  {
   "cell_type": "code",
   "execution_count": 93,
   "id": "5969f10f-f5fc-4e26-a783-158db55126e5",
   "metadata": {},
   "outputs": [],
   "source": [
    "def add6(*n):\n",
    "    print(n)"
   ]
  },
  {
   "cell_type": "code",
   "execution_count": 94,
   "id": "4afd5270-c419-4698-b068-22864f9c34fb",
   "metadata": {},
   "outputs": [
    {
     "name": "stdout",
     "output_type": "stream",
     "text": [
      "(1, 2, 3, 4, 5)\n"
     ]
    }
   ],
   "source": [
    "add6(1,2,3,4,5)"
   ]
  },
  {
   "cell_type": "code",
   "execution_count": 95,
   "id": "5a7cae71-9a39-4ace-a35c-e5e22d36f6e5",
   "metadata": {},
   "outputs": [
    {
     "name": "stdout",
     "output_type": "stream",
     "text": [
      "15\n"
     ]
    }
   ],
   "source": [
    "a=(1,2,3,4,5)\n",
    "d=0\n",
    "for i in a:\n",
    "    d=d+i\n",
    "print(d)"
   ]
  },
  {
   "cell_type": "code",
   "execution_count": 96,
   "id": "07a49d7f-7e55-4c01-a162-132b891fe600",
   "metadata": {},
   "outputs": [],
   "source": [
    "def add7():\n",
    "    a=(1,2,3,4,5)\n",
    "    d=0\n",
    "    for i in a:\n",
    "        d=d+i\n",
    "    print(d)"
   ]
  },
  {
   "cell_type": "code",
   "execution_count": 97,
   "id": "37f9090a-f4be-4d7f-a17f-894425e613b0",
   "metadata": {},
   "outputs": [
    {
     "name": "stdout",
     "output_type": "stream",
     "text": [
      "15\n"
     ]
    }
   ],
   "source": [
    "add7()"
   ]
  },
  {
   "cell_type": "code",
   "execution_count": 100,
   "id": "3c2c3836-84d1-4840-b52a-d0a65e913804",
   "metadata": {},
   "outputs": [],
   "source": [
    "def add7(*n):\n",
    "    a=n\n",
    "    d=0\n",
    "    for i in a:\n",
    "        d=d+i\n",
    "    print(d)"
   ]
  },
  {
   "cell_type": "code",
   "execution_count": 101,
   "id": "9ec2c77f-a5be-4536-86c2-66d772b6e3a6",
   "metadata": {},
   "outputs": [
    {
     "name": "stdout",
     "output_type": "stream",
     "text": [
      "136\n"
     ]
    }
   ],
   "source": [
    "add7(1,2,3,4,5,55,66)"
   ]
  },
  {
   "cell_type": "code",
   "execution_count": 102,
   "id": "b2db6e61-05c3-4a07-b574-0978a2f66053",
   "metadata": {},
   "outputs": [],
   "source": [
    "def add8(*n):\n",
    "    d=0\n",
    "    for i in n:\n",
    "        d=d+i\n",
    "    print(d)"
   ]
  },
  {
   "cell_type": "code",
   "execution_count": 103,
   "id": "647b40b5-0880-426e-834a-ed5610bc4caa",
   "metadata": {},
   "outputs": [
    {
     "name": "stdout",
     "output_type": "stream",
     "text": [
      "15\n"
     ]
    }
   ],
   "source": [
    "add8(1,2,3,4,5)"
   ]
  },
  {
   "cell_type": "markdown",
   "id": "8eee4cb2-3ea0-49e8-9bc0-d63e32e55148",
   "metadata": {},
   "source": [
    "# arbitary keyword argument"
   ]
  },
  {
   "cell_type": "code",
   "execution_count": 104,
   "id": "e73e3e2d-0d80-427a-aad9-acf5df32ccd2",
   "metadata": {},
   "outputs": [],
   "source": [
    "def add9(**n):\n",
    "    print(n)"
   ]
  },
  {
   "cell_type": "code",
   "execution_count": 105,
   "id": "f649cd33-ff6f-4362-bc62-0bb98aa38050",
   "metadata": {},
   "outputs": [
    {
     "name": "stdout",
     "output_type": "stream",
     "text": [
      "{'name': 'akash', 'name2': 'krishna', 'name3': 'ravi'}\n"
     ]
    }
   ],
   "source": [
    "add9(name=\"akash\",name2=\"krishna\",name3=\"ravi\")"
   ]
  },
  {
   "cell_type": "code",
   "execution_count": 106,
   "id": "cb4b3834-56de-44c4-898a-e64ee4f2ba6d",
   "metadata": {},
   "outputs": [],
   "source": [
    "def add9(**n):\n",
    "    print(n.values())"
   ]
  },
  {
   "cell_type": "code",
   "execution_count": 108,
   "id": "7d8b5e6c-ffc8-4647-a97e-36436e683a48",
   "metadata": {},
   "outputs": [
    {
     "name": "stdout",
     "output_type": "stream",
     "text": [
      "dict_values(['akash', 'krishna', 'ravi'])\n"
     ]
    }
   ],
   "source": [
    "add9(name=\"akash\",name2=\"krishna\",name3=\"ravi\")"
   ]
  },
  {
   "cell_type": "code",
   "execution_count": 109,
   "id": "0f26eb6d-6e42-482c-80cf-8051936bb803",
   "metadata": {},
   "outputs": [],
   "source": [
    "def add9(**n):\n",
    "    for i in n.values():\n",
    "        print(i)"
   ]
  },
  {
   "cell_type": "code",
   "execution_count": 110,
   "id": "50c0f46e-55b2-4fce-bcc6-3e5c5eccbe69",
   "metadata": {},
   "outputs": [
    {
     "name": "stdout",
     "output_type": "stream",
     "text": [
      "akash\n",
      "krishna\n",
      "ravi\n"
     ]
    }
   ],
   "source": [
    "add9(name=\"akash\",name2=\"krishna\",name3=\"ravi\")"
   ]
  },
  {
   "cell_type": "markdown",
   "id": "c7c8ba8c-a152-4d04-b078-a1cab8e4602b",
   "metadata": {},
   "source": [
    "# nested funtion"
   ]
  },
  {
   "cell_type": "code",
   "execution_count": 111,
   "id": "fb4db5e6-5bce-48f7-87ba-99c13582eafe",
   "metadata": {},
   "outputs": [],
   "source": [
    "def new():\n",
    "    print(\"i am AI trainer\")"
   ]
  },
  {
   "cell_type": "code",
   "execution_count": 112,
   "id": "a0db81ab-0d4b-4947-b267-269e1aba6937",
   "metadata": {},
   "outputs": [
    {
     "name": "stdout",
     "output_type": "stream",
     "text": [
      "i am AI trainer\n"
     ]
    }
   ],
   "source": [
    "new()"
   ]
  },
  {
   "cell_type": "code",
   "execution_count": 113,
   "id": "a0dbb5e1-b7c4-44ef-a233-fa78f0488f05",
   "metadata": {},
   "outputs": [],
   "source": [
    "def super(arg):\n",
    "    def inner():\n",
    "        print(\"i am akash\")\n",
    "        arg()\n",
    "    return inner"
   ]
  },
  {
   "cell_type": "code",
   "execution_count": 122,
   "id": "636f04a7-3334-482c-bf52-89f915c05220",
   "metadata": {},
   "outputs": [],
   "source": [
    "n=super(new)"
   ]
  },
  {
   "cell_type": "code",
   "execution_count": 120,
   "id": "f22633f3-b9ea-4fc9-b1f3-b718f9e5114c",
   "metadata": {},
   "outputs": [
    {
     "name": "stdout",
     "output_type": "stream",
     "text": [
      "i am akash\n",
      "i am AI trainer\n"
     ]
    }
   ],
   "source": [
    "n()"
   ]
  },
  {
   "cell_type": "code",
   "execution_count": 123,
   "id": "e5f8529b-fd50-4e53-a1f5-e260202d6231",
   "metadata": {},
   "outputs": [
    {
     "name": "stdout",
     "output_type": "stream",
     "text": [
      "i am akash\n",
      "i am AI trainer\n"
     ]
    }
   ],
   "source": [
    "super(new)()"
   ]
  },
  {
   "cell_type": "markdown",
   "id": "f79e963d-2a22-4e92-8cdd-bb3d615a80aa",
   "metadata": {},
   "source": [
    "# decorator"
   ]
  },
  {
   "cell_type": "code",
   "execution_count": 124,
   "id": "9f47ae22-471d-483e-87b0-b0c37c1a5735",
   "metadata": {},
   "outputs": [],
   "source": [
    "def super(arg):\n",
    "    def inner():\n",
    "        print(\"i am akash\")\n",
    "        arg()\n",
    "    return inner"
   ]
  },
  {
   "cell_type": "code",
   "execution_count": 128,
   "id": "1bcfba7f-dffe-41cf-ad17-353e460ba2ee",
   "metadata": {},
   "outputs": [],
   "source": [
    "@super\n",
    "def new():\n",
    "    print(\"i am ai trainer\")\n",
    "    print(\"i am ai trainer in micro\")"
   ]
  },
  {
   "cell_type": "code",
   "execution_count": 129,
   "id": "c3cd0040-c36b-4252-b626-3b636d1a3a01",
   "metadata": {},
   "outputs": [
    {
     "name": "stdout",
     "output_type": "stream",
     "text": [
      "i am akash\n",
      "i am ai trainer\n",
      "i am ai trainer in micro\n"
     ]
    }
   ],
   "source": [
    "new()"
   ]
  },
  {
   "cell_type": "markdown",
   "id": "9b7a2a95-cbd5-489f-928b-77889eacd374",
   "metadata": {},
   "source": [
    "# generator(yield)"
   ]
  },
  {
   "cell_type": "code",
   "execution_count": 130,
   "id": "1c01416f-9d78-4f80-8a0f-2599b55bc41e",
   "metadata": {},
   "outputs": [],
   "source": [
    "def step():\n",
    "    yield 1\n",
    "    yield 2\n",
    "    yield 3"
   ]
  },
  {
   "cell_type": "code",
   "execution_count": 139,
   "id": "3a5602b9-12d1-4eaf-9245-511845a7edc6",
   "metadata": {},
   "outputs": [],
   "source": [
    "x=step()"
   ]
  },
  {
   "cell_type": "code",
   "execution_count": 140,
   "id": "28034924-e4d1-4b0f-bd17-7888acbb8cc5",
   "metadata": {},
   "outputs": [
    {
     "data": {
      "text/plain": [
       "1"
      ]
     },
     "execution_count": 140,
     "metadata": {},
     "output_type": "execute_result"
    }
   ],
   "source": [
    "next(x)"
   ]
  },
  {
   "cell_type": "code",
   "execution_count": 143,
   "id": "3cd5c75a-8248-4e49-9eca-12a41d0b561a",
   "metadata": {},
   "outputs": [
    {
     "ename": "StopIteration",
     "evalue": "",
     "output_type": "error",
     "traceback": [
      "\u001b[1;31m---------------------------------------------------------------------------\u001b[0m",
      "\u001b[1;31mStopIteration\u001b[0m                             Traceback (most recent call last)",
      "Cell \u001b[1;32mIn[143], line 1\u001b[0m\n\u001b[1;32m----> 1\u001b[0m \u001b[38;5;28;43mnext\u001b[39;49m\u001b[43m(\u001b[49m\u001b[43mx\u001b[49m\u001b[43m)\u001b[49m\n",
      "\u001b[1;31mStopIteration\u001b[0m: "
     ]
    }
   ],
   "source": [
    "next(x)"
   ]
  },
  {
   "cell_type": "code",
   "execution_count": 144,
   "id": "3df284a0-b7c5-441a-8882-7f2c050b11fb",
   "metadata": {},
   "outputs": [],
   "source": [
    "y=step()"
   ]
  },
  {
   "cell_type": "code",
   "execution_count": 145,
   "id": "911b4e91-ec23-4d7a-8eb4-57847de5663f",
   "metadata": {},
   "outputs": [
    {
     "data": {
      "text/plain": [
       "1"
      ]
     },
     "execution_count": 145,
     "metadata": {},
     "output_type": "execute_result"
    }
   ],
   "source": [
    "y.__next__()"
   ]
  },
  {
   "cell_type": "code",
   "execution_count": 146,
   "id": "746ec3c8-3c50-41d1-a612-767e3d92623f",
   "metadata": {},
   "outputs": [
    {
     "data": {
      "text/plain": [
       "2"
      ]
     },
     "execution_count": 146,
     "metadata": {},
     "output_type": "execute_result"
    }
   ],
   "source": [
    "y.__next__()"
   ]
  },
  {
   "cell_type": "code",
   "execution_count": 147,
   "id": "88c80f8e-a279-4af3-88bc-c8ba1ade9e53",
   "metadata": {},
   "outputs": [
    {
     "data": {
      "text/plain": [
       "3"
      ]
     },
     "execution_count": 147,
     "metadata": {},
     "output_type": "execute_result"
    }
   ],
   "source": [
    "y.__next__()"
   ]
  },
  {
   "cell_type": "markdown",
   "id": "b9329b3d",
   "metadata": {},
   "source": [
    "# lambda:\n",
    "\n",
    "> lambda function doesnot have any name.\n",
    "\n",
    "> lambda function contain single line statement of expression"
   ]
  },
  {
   "cell_type": "code",
   "execution_count": 4,
   "id": "1f576c6d",
   "metadata": {},
   "outputs": [],
   "source": [
    "def add(a,b):\n",
    "    print(a+b)"
   ]
  },
  {
   "cell_type": "code",
   "execution_count": 5,
   "id": "99f3e30b",
   "metadata": {},
   "outputs": [
    {
     "name": "stdout",
     "output_type": "stream",
     "text": [
      "30\n"
     ]
    }
   ],
   "source": [
    "add(10,20)"
   ]
  },
  {
   "cell_type": "code",
   "execution_count": 8,
   "id": "e332fa9f",
   "metadata": {},
   "outputs": [],
   "source": [
    "x=lambda a,b:print(a+b)"
   ]
  },
  {
   "cell_type": "code",
   "execution_count": 9,
   "id": "2af1d23f",
   "metadata": {},
   "outputs": [
    {
     "name": "stdout",
     "output_type": "stream",
     "text": [
      "30\n"
     ]
    }
   ],
   "source": [
    "x(10,20)"
   ]
  },
  {
   "cell_type": "code",
   "execution_count": 10,
   "id": "0780fa95",
   "metadata": {},
   "outputs": [],
   "source": [
    "def intro():\n",
    "    print(\"i am akash\")"
   ]
  },
  {
   "cell_type": "code",
   "execution_count": 11,
   "id": "aa66e100",
   "metadata": {},
   "outputs": [
    {
     "name": "stdout",
     "output_type": "stream",
     "text": [
      "i am akash\n"
     ]
    }
   ],
   "source": [
    "intro()"
   ]
  },
  {
   "cell_type": "code",
   "execution_count": 12,
   "id": "dfa2fb81",
   "metadata": {},
   "outputs": [],
   "source": [
    "y=lambda :print(\"i am akash\")"
   ]
  },
  {
   "cell_type": "code",
   "execution_count": 13,
   "id": "cf5ccec8",
   "metadata": {},
   "outputs": [
    {
     "name": "stdout",
     "output_type": "stream",
     "text": [
      "i am akash\n"
     ]
    }
   ],
   "source": [
    "y()"
   ]
  },
  {
   "cell_type": "code",
   "execution_count": null,
   "id": "71908af2",
   "metadata": {},
   "outputs": [],
   "source": []
  }
 ],
 "metadata": {
  "kernelspec": {
   "display_name": "Python 3 (ipykernel)",
   "language": "python",
   "name": "python3"
  },
  "language_info": {
   "codemirror_mode": {
    "name": "ipython",
    "version": 3
   },
   "file_extension": ".py",
   "mimetype": "text/x-python",
   "name": "python",
   "nbconvert_exporter": "python",
   "pygments_lexer": "ipython3",
   "version": "3.11.4"
  }
 },
 "nbformat": 4,
 "nbformat_minor": 5
}
