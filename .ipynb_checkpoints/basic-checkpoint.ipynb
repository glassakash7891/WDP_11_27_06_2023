{
 "cells": [
  {
   "cell_type": "code",
   "execution_count": 11,
   "id": "55ca0dc4-5118-4022-a543-a4a8ad82b3c0",
   "metadata": {},
   "outputs": [
    {
     "name": "stdout",
     "output_type": "stream",
     "text": [
      "True\n",
      "False\n"
     ]
    }
   ],
   "source": [
    "def test_distinct(data):\n",
    "    if len(data) == len(set(data)):\n",
    "        return True\n",
    "    else:\n",
    "        return False;\n",
    "print(test_distinct([1,5,7,9]))\n",
    "print(test_distinct([2,4,9,9]))"
   ]
  },
  {
   "cell_type": "code",
   "execution_count": 12,
   "id": "a25e8207-148c-4b73-a4cd-3eb29c78faa3",
   "metadata": {},
   "outputs": [
    {
     "name": "stdout",
     "output_type": "stream",
     "text": [
      "oueas\n"
     ]
    }
   ],
   "source": [
    "import random\n",
    "char_list = [\"a\",\"e\",\"s\",\"o\",\"u\"]\n",
    "random.shuffle(char_list)\n",
    "print(\"\".join(char_list))"
   ]
  },
  {
   "cell_type": "code",
   "execution_count": 13,
   "id": "f035be6a-e94b-47dc-acd0-8b2a0a3d7bf1",
   "metadata": {},
   "outputs": [
    {
     "name": "stdout",
     "output_type": "stream",
     "text": [
      "aoeus\n"
     ]
    }
   ],
   "source": [
    "import random\n",
    "char_list = [\"a\",\"e\",\"s\",\"o\",\"u\"]\n",
    "random.shuffle(char_list)\n",
    "print(\"\".join(char_list))"
   ]
  },
  {
   "cell_type": "code",
   "execution_count": 14,
   "id": "6d731adb-7c1a-44d3-8a24-796c946d2001",
   "metadata": {},
   "outputs": [
    {
     "name": "stdout",
     "output_type": "stream",
     "text": [
      "saahk\n"
     ]
    }
   ],
   "source": [
    "import random\n",
    "list = [\"a\",\"k\",\"a\",\"s\",\"h\"]\n",
    "random.shuffle(list)\n",
    "print(\"\".join(list))"
   ]
  },
  {
   "cell_type": "code",
   "execution_count": 19,
   "id": "531e5095-4279-47c2-b5ef-56301399c000",
   "metadata": {},
   "outputs": [
    {
     "name": "stdout",
     "output_type": "stream",
     "text": [
      "30\n",
      "60\n",
      "90\n",
      "40\n",
      "80\n",
      "50\n",
      "20\n",
      "70\n",
      "10\n"
     ]
    }
   ],
   "source": [
    "def remove_num(list):\n",
    "    position =3 - 1\n",
    "    a = 0\n",
    "    len_list =(len(list))\n",
    "    while len_list>0:\n",
    "        a = (position+a)%len_list\n",
    "        print(list.pop(a))\n",
    "        len_list -= 1\n",
    "num = [10,20,30,40,50,60,70,80,90]\n",
    "remove_num(num)\n",
    "        "
   ]
  },
  {
   "cell_type": "code",
   "execution_count": null,
   "id": "4b8d6efe-3902-4627-a493-6f47430dbee9",
   "metadata": {},
   "outputs": [],
   "source": []
  }
 ],
 "metadata": {
  "kernelspec": {
   "display_name": "Python 3 (ipykernel)",
   "language": "python",
   "name": "python3"
  },
  "language_info": {
   "codemirror_mode": {
    "name": "ipython",
    "version": 3
   },
   "file_extension": ".py",
   "mimetype": "text/x-python",
   "name": "python",
   "nbconvert_exporter": "python",
   "pygments_lexer": "ipython3",
   "version": "3.11.5"
  }
 },
 "nbformat": 4,
 "nbformat_minor": 5
}
