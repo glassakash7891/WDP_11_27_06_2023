{
 "cells": [
  {
   "cell_type": "code",
   "execution_count": 2,
   "id": "00fd8329-f745-46c6-a7e1-ff21dda1bcbd",
   "metadata": {},
   "outputs": [
    {
     "name": "stdin",
     "output_type": "stream",
     "text": [
      "Enter your 4 digit atm pin : 2222\n"
     ]
    },
    {
     "data": {
      "text/plain": [
       "'2222'"
      ]
     },
     "execution_count": 2,
     "metadata": {},
     "output_type": "execute_result"
    }
   ],
   "source": [
    "input(\"Enter your 4 digit atm pin :\")"
   ]
  },
  {
   "cell_type": "code",
   "execution_count": 13,
   "id": "5ab7fad8-d774-4254-a5cf-1491320d4aa3",
   "metadata": {},
   "outputs": [
    {
     "name": "stdin",
     "output_type": "stream",
     "text": [
      "Enter your 4 digit atm pin : 2222\n"
     ]
    }
   ],
   "source": [
    "pin=input(\"Enter your 4 digit atm pin :\")"
   ]
  },
  {
   "cell_type": "code",
   "execution_count": 14,
   "id": "36af97d7-ec1e-4379-85c3-9ac1760be8ff",
   "metadata": {},
   "outputs": [
    {
     "data": {
      "text/plain": [
       "'2222'"
      ]
     },
     "execution_count": 14,
     "metadata": {},
     "output_type": "execute_result"
    }
   ],
   "source": [
    "pin"
   ]
  },
  {
   "cell_type": "markdown",
   "id": "63b53763-bca8-40c8-9b62-c24853c6dc2f",
   "metadata": {},
   "source": [
    "input():\n",
    "\n",
    "> it is used to accept input from the user in the form of string only"
   ]
  },
  {
   "cell_type": "code",
   "execution_count": 9,
   "id": "45653abc-24da-4bef-a64a-666d846d7cb1",
   "metadata": {},
   "outputs": [
    {
     "name": "stdin",
     "output_type": "stream",
     "text": [
      "Enter your 1st number : 10\n",
      "Enter your 2nd number : 20\n"
     ]
    }
   ],
   "source": [
    "num1=input(\"Enter your 1st number :\")\n",
    "num2=input(\"Enter your 2nd number :\")"
   ]
  },
  {
   "cell_type": "code",
   "execution_count": 10,
   "id": "3ff03bae-d224-4818-9496-c179907377c9",
   "metadata": {},
   "outputs": [
    {
     "name": "stdin",
     "output_type": "stream",
     "text": [
      "Enter your 1st number : 10\n",
      "Enter your 2nd number : 20\n"
     ]
    },
    {
     "name": "stdout",
     "output_type": "stream",
     "text": [
      "1020\n"
     ]
    }
   ],
   "source": [
    "num1=input(\"Enter your 1st number :\")\n",
    "num2=input(\"Enter your 2nd number :\")\n",
    "print(num1+num2)"
   ]
  },
  {
   "cell_type": "code",
   "execution_count": 18,
   "id": "7f7ff490-d170-4c78-9aa8-19f911f70ce4",
   "metadata": {},
   "outputs": [
    {
     "name": "stdin",
     "output_type": "stream",
     "text": [
      "Enter your 1st number : 10\n",
      "Enter your 2nd number : 20\n"
     ]
    },
    {
     "name": "stdout",
     "output_type": "stream",
     "text": [
      "30\n"
     ]
    }
   ],
   "source": [
    "num1=input(\"Enter your 1st number :\")\n",
    "num1_int=int(num1)\n",
    "num2=input(\"Enter your 2nd number :\")\n",
    "num2_int=int(num2)\n",
    "print(num1_int+num2_int)"
   ]
  },
  {
   "cell_type": "code",
   "execution_count": 6,
   "id": "5c43a33b-7cbd-4f03-ae8f-540c60643709",
   "metadata": {},
   "outputs": [
    {
     "name": "stdin",
     "output_type": "stream",
     "text": [
      "Enter your 1st number : 10\n",
      "Enter your 2nd number : 20\n"
     ]
    },
    {
     "name": "stdout",
     "output_type": "stream",
     "text": [
      "30\n",
      "<class 'int'>\n"
     ]
    }
   ],
   "source": [
    "num1_int=int(input(\"Enter your 1st number :\"))\n",
    "num2_int=int(input(\"Enter your 2nd number :\"))\n",
    "print(num1_int+num2_int)\n",
    "print(type(num1_int))"
   ]
  },
  {
   "cell_type": "code",
   "execution_count": 20,
   "id": "ee25b122-9363-4548-bf4f-62b2421c0f4b",
   "metadata": {},
   "outputs": [
    {
     "name": "stdin",
     "output_type": "stream",
     "text": [
      "Enter your 1st number : 10\n",
      "Enter your 2nd number : 20\n"
     ]
    },
    {
     "name": "stdout",
     "output_type": "stream",
     "text": [
      "30\n"
     ]
    }
   ],
   "source": [
    "print(int(input(\"Enter your 1st number :\"))+int(input(\"Enter your 2nd number :\")))"
   ]
  },
  {
   "cell_type": "code",
   "execution_count": 21,
   "id": "b00f007a-890e-4518-8616-b8f282af4dbc",
   "metadata": {},
   "outputs": [
    {
     "name": "stdin",
     "output_type": "stream",
     "text": [
      "Enter your 1st number : 10.25\n"
     ]
    },
    {
     "ename": "ValueError",
     "evalue": "invalid literal for int() with base 10: '10.25'",
     "output_type": "error",
     "traceback": [
      "\u001b[1;31m---------------------------------------------------------------------------\u001b[0m",
      "\u001b[1;31mValueError\u001b[0m                                Traceback (most recent call last)",
      "Cell \u001b[1;32mIn[21], line 2\u001b[0m\n\u001b[0;32m      1\u001b[0m num1\u001b[38;5;241m=\u001b[39m\u001b[38;5;28minput\u001b[39m(\u001b[38;5;124m\"\u001b[39m\u001b[38;5;124mEnter your 1st number :\u001b[39m\u001b[38;5;124m\"\u001b[39m)\n\u001b[1;32m----> 2\u001b[0m num1_int\u001b[38;5;241m=\u001b[39m\u001b[38;5;28;43mint\u001b[39;49m\u001b[43m(\u001b[49m\u001b[43mnum1\u001b[49m\u001b[43m)\u001b[49m\n\u001b[0;32m      3\u001b[0m num2\u001b[38;5;241m=\u001b[39m\u001b[38;5;28minput\u001b[39m(\u001b[38;5;124m\"\u001b[39m\u001b[38;5;124mEnter your 2nd number :\u001b[39m\u001b[38;5;124m\"\u001b[39m)\n\u001b[0;32m      4\u001b[0m num2_int\u001b[38;5;241m=\u001b[39m\u001b[38;5;28mint\u001b[39m(num2)\n",
      "\u001b[1;31mValueError\u001b[0m: invalid literal for int() with base 10: '10.25'"
     ]
    }
   ],
   "source": [
    "num1=input(\"Enter your 1st number :\")\n",
    "num1_int=int(num1)\n",
    "num2=input(\"Enter your 2nd number :\")\n",
    "num2_int=int(num2)\n",
    "print(num1_int+num2_int)"
   ]
  },
  {
   "cell_type": "code",
   "execution_count": 4,
   "id": "c8d7dec0-b003-45fb-b257-d77994ea50a1",
   "metadata": {},
   "outputs": [
    {
     "name": "stdin",
     "output_type": "stream",
     "text": [
      "Enter your 1st number : 10.25\n",
      "Enter your 2nd number : 20\n"
     ]
    },
    {
     "name": "stdout",
     "output_type": "stream",
     "text": [
      "30.25\n",
      "<class 'float'>\n",
      "<class 'float'>\n"
     ]
    }
   ],
   "source": [
    "num1=input(\"Enter your 1st number :\")\n",
    "num1_int=float(num1)\n",
    "num2=input(\"Enter your 2nd number :\")\n",
    "num2_int=float(num2)\n",
    "print(num1_int+num2_int)\n",
    "print(type(num1_int))\n",
    "print(type(num2_int))"
   ]
  },
  {
   "cell_type": "code",
   "execution_count": null,
   "id": "b29c1480-9732-452b-be30-13527c429b1c",
   "metadata": {},
   "outputs": [],
   "source": []
  },
  {
   "cell_type": "markdown",
   "id": "66793970-9e56-45ad-9eef-b595b986bc51",
   "metadata": {},
   "source": [
    "# eval()\n",
    "\n",
    "> int--> int cast\n",
    "> \n",
    "> float--> float cast"
   ]
  },
  {
   "cell_type": "code",
   "execution_count": 24,
   "id": "7a644ffa-695b-452e-8a3a-bc9b9d9d4325",
   "metadata": {},
   "outputs": [
    {
     "name": "stdin",
     "output_type": "stream",
     "text": [
      "Enter your 1st number : 10.25\n",
      "Enter your 2nd number : 10\n"
     ]
    },
    {
     "name": "stdout",
     "output_type": "stream",
     "text": [
      "20.25\n"
     ]
    }
   ],
   "source": [
    "num1=input(\"Enter your 1st number :\")\n",
    "num1_int=eval(num1)\n",
    "num2=input(\"Enter your 2nd number :\")\n",
    "num2_int=eval(num2)\n",
    "print(num1_int+num2_int)"
   ]
  },
  {
   "cell_type": "code",
   "execution_count": 25,
   "id": "14b447ab-4b5f-47ed-8577-a9e311a500f0",
   "metadata": {},
   "outputs": [
    {
     "name": "stdin",
     "output_type": "stream",
     "text": [
      "Enter your 1st number : 10\n",
      "Enter your 2nd number : 20\n"
     ]
    },
    {
     "name": "stdout",
     "output_type": "stream",
     "text": [
      "30\n"
     ]
    }
   ],
   "source": [
    "num1=input(\"Enter your 1st number :\")\n",
    "num1_int=eval(num1)\n",
    "num2=input(\"Enter your 2nd number :\")\n",
    "num2_int=eval(num2)\n",
    "print(num1_int+num2_int)"
   ]
  }
 ],
 "metadata": {
  "kernelspec": {
   "display_name": "Python 3 (ipykernel)",
   "language": "python",
   "name": "python3"
  },
  "language_info": {
   "codemirror_mode": {
    "name": "ipython",
    "version": 3
   },
   "file_extension": ".py",
   "mimetype": "text/x-python",
   "name": "python",
   "nbconvert_exporter": "python",
   "pygments_lexer": "ipython3",
   "version": "3.11.5"
  }
 },
 "nbformat": 4,
 "nbformat_minor": 5
}
