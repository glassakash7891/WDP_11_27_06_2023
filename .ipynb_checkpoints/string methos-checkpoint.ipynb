{
 "cells": [
  {
   "cell_type": "markdown",
   "id": "3b0215ca-9b20-4c79-9d76-c3ca053edf2a",
   "metadata": {},
   "source": [
    "# concotination"
   ]
  },
  {
   "cell_type": "code",
   "execution_count": 2,
   "id": "ac44eda8-2fdc-46c1-832b-6530ee60e25e",
   "metadata": {},
   "outputs": [
    {
     "name": "stdout",
     "output_type": "stream",
     "text": [
      "akashchetanrajput\n"
     ]
    }
   ],
   "source": [
    "print(\"akash\"+\"chetan\"+\"rajput\")"
   ]
  },
  {
   "cell_type": "code",
   "execution_count": null,
   "id": "334f0fae-fa57-4b8e-bb0a-8420afdc62dd",
   "metadata": {},
   "outputs": [],
   "source": []
  }
 ],
 "metadata": {
  "kernelspec": {
   "display_name": "Python 3 (ipykernel)",
   "language": "python",
   "name": "python3"
  },
  "language_info": {
   "codemirror_mode": {
    "name": "ipython",
    "version": 3
   },
   "file_extension": ".py",
   "mimetype": "text/x-python",
   "name": "python",
   "nbconvert_exporter": "python",
   "pygments_lexer": "ipython3",
   "version": "3.10.9"
  }
 },
 "nbformat": 4,
 "nbformat_minor": 5
}
