{
 "cells": [
  {
   "cell_type": "markdown",
   "id": "acd3b8b1-fa2e-4967-bae9-c23c3868c540",
   "metadata": {},
   "source": [
    "# set\n",
    "\n",
    "> set consturctor is set{}\n",
    "\n",
    "> set literal is not avilable\n",
    "\n",
    "> set is unodered set of sequence of elemnt\n",
    "\n",
    ">set does not support indexing\n",
    "\n",
    "> set doesnot support slicing\n",
    "\n",
    "> set doesnot support concatination\n",
    "\n",
    "> set doesnot support duplicate value\n",
    "\n",
    "> set remove duplicate values using hashing table\n",
    "\n",
    "> set is mutable(unhashable)\n",
    "\n",
    "> set always support immutable datatype.\n",
    "\n",
    "> set doesnot support nested set.\n",
    "\n",
    "> set methods are 16"
   ]
  },
  {
   "cell_type": "code",
   "execution_count": 15,
   "id": "1313ba9c-7b72-455d-afbc-cd1637028e23",
   "metadata": {},
   "outputs": [],
   "source": [
    "a={1,1,1,1,1,1,2,2,2,2,2,3,3,3,3,3,33,7,7,7,6,6,6}"
   ]
  },
  {
   "cell_type": "code",
   "execution_count": 16,
   "id": "1dc1503d-590e-410b-8c99-d8184700a7f3",
   "metadata": {},
   "outputs": [
    {
     "name": "stdout",
     "output_type": "stream",
     "text": [
      "{1, 2, 3, 33, 6, 7}\n"
     ]
    }
   ],
   "source": [
    "print(a)"
   ]
  },
  {
   "cell_type": "code",
   "execution_count": 17,
   "id": "23b66de9-30ae-4ec0-89bb-c09aec0f0d35",
   "metadata": {},
   "outputs": [
    {
     "ename": "TypeError",
     "evalue": "'set' object is not subscriptable",
     "output_type": "error",
     "traceback": [
      "\u001b[1;31m---------------------------------------------------------------------------\u001b[0m",
      "\u001b[1;31mTypeError\u001b[0m                                 Traceback (most recent call last)",
      "Cell \u001b[1;32mIn[17], line 1\u001b[0m\n\u001b[1;32m----> 1\u001b[0m \u001b[43ma\u001b[49m\u001b[43m[\u001b[49m\u001b[38;5;241;43m0\u001b[39;49m\u001b[43m]\u001b[49m \u001b[38;5;66;03m# set dose not support indexing\u001b[39;00m\n",
      "\u001b[1;31mTypeError\u001b[0m: 'set' object is not subscriptable"
     ]
    }
   ],
   "source": [
    "a[0] # set dose not support indexing"
   ]
  },
  {
   "cell_type": "code",
   "execution_count": 18,
   "id": "f87dd474-f68e-423a-bccd-5dd1c7a62eab",
   "metadata": {},
   "outputs": [
    {
     "name": "stdout",
     "output_type": "stream",
     "text": [
      "140710137685064\n"
     ]
    }
   ],
   "source": [
    "c=10\n",
    "print(id(c))"
   ]
  },
  {
   "cell_type": "code",
   "execution_count": 19,
   "id": "a31ae1e2-8272-4809-bf30-2d939796a376",
   "metadata": {},
   "outputs": [
    {
     "name": "stdout",
     "output_type": "stream",
     "text": [
      "140710137685064\n"
     ]
    }
   ],
   "source": [
    "d=10\n",
    "print(id(d))"
   ]
  },
  {
   "cell_type": "code",
   "execution_count": 21,
   "id": "8ab861c2-3a0c-4b2f-a161-b529d359159c",
   "metadata": {},
   "outputs": [
    {
     "name": "stdout",
     "output_type": "stream",
     "text": [
      "{1, 2, 3, 33, 6, 7}\n"
     ]
    }
   ],
   "source": [
    "print(a)"
   ]
  },
  {
   "cell_type": "code",
   "execution_count": null,
   "id": "57180189-34a0-4e91-ab48-19cf9b0ad008",
   "metadata": {},
   "outputs": [],
   "source": []
  },
  {
   "cell_type": "code",
   "execution_count": 23,
   "id": "f45a0c48-7824-4114-a466-17b33fd4643a",
   "metadata": {},
   "outputs": [],
   "source": [
    "a='akash'"
   ]
  },
  {
   "cell_type": "code",
   "execution_count": 26,
   "id": "d41c8663-25d5-47c6-9628-7e4a43c760f0",
   "metadata": {},
   "outputs": [
    {
     "data": {
      "text/plain": [
       "'AKASH'"
      ]
     },
     "execution_count": 26,
     "metadata": {},
     "output_type": "execute_result"
    }
   ],
   "source": [
    "a.upper()# its a immutable. where orignal stucture is not change its called immutable data type"
   ]
  },
  {
   "cell_type": "code",
   "execution_count": 28,
   "id": "bf66ae05-5141-4c6e-8f85-fbabdc733582",
   "metadata": {},
   "outputs": [
    {
     "name": "stdout",
     "output_type": "stream",
     "text": [
      "akash\n"
     ]
    }
   ],
   "source": [
    "print(a)  "
   ]
  },
  {
   "cell_type": "code",
   "execution_count": 30,
   "id": "dd02b383-34cd-4706-8c19-79aad568a9ad",
   "metadata": {},
   "outputs": [],
   "source": [
    "a=[1,2,3]"
   ]
  },
  {
   "cell_type": "code",
   "execution_count": 31,
   "id": "2ae348e4-be8f-4040-b843-37988c344eb3",
   "metadata": {},
   "outputs": [],
   "source": [
    "a.append(10) # its a mutable datatype."
   ]
  },
  {
   "cell_type": "code",
   "execution_count": 32,
   "id": "7e88c474-d1c1-4140-93c5-527774519f08",
   "metadata": {},
   "outputs": [
    {
     "name": "stdout",
     "output_type": "stream",
     "text": [
      "[1, 2, 3, 10]\n"
     ]
    }
   ],
   "source": [
    "print(a)"
   ]
  },
  {
   "cell_type": "code",
   "execution_count": 39,
   "id": "5e36267b-3973-44be-8953-ab38b1c9a416",
   "metadata": {},
   "outputs": [
    {
     "ename": "TypeError",
     "evalue": "unhashable type: 'list'",
     "output_type": "error",
     "traceback": [
      "\u001b[1;31m---------------------------------------------------------------------------\u001b[0m",
      "\u001b[1;31mTypeError\u001b[0m                                 Traceback (most recent call last)",
      "Cell \u001b[1;32mIn[39], line 1\u001b[0m\n\u001b[1;32m----> 1\u001b[0m a\u001b[38;5;241m=\u001b[39m{[\u001b[38;5;241m10.0\u001b[39m]}\n",
      "\u001b[1;31mTypeError\u001b[0m: unhashable type: 'list'"
     ]
    }
   ],
   "source": [
    "a={[10.0]}"
   ]
  },
  {
   "cell_type": "code",
   "execution_count": 38,
   "id": "8bafefb5-e0ea-4a82-86b6-d63050aa6ed6",
   "metadata": {},
   "outputs": [
    {
     "name": "stdout",
     "output_type": "stream",
     "text": [
      "{'10.0'}\n"
     ]
    }
   ],
   "source": [
    "print(a)"
   ]
  },
  {
   "cell_type": "code",
   "execution_count": 40,
   "id": "e3d05e56-5c49-40c9-89e9-67f34d8bcc36",
   "metadata": {},
   "outputs": [],
   "source": [
    "# mutable datatype(unhashable): a datatype whose structure and id dosenot change after applying any method is called mutable datatype, example: list,set\n",
    "\n",
    "# immutable datatype(hashable):a datatype whose structure doesnot change but id get change after applying any method is called immutable datatype, example: int,string,float,tuple"
   ]
  },
  {
   "cell_type": "code",
   "execution_count": 42,
   "id": "fb8ffcb8-dbb5-43de-9843-18989cc5f4da",
   "metadata": {},
   "outputs": [
    {
     "ename": "SyntaxError",
     "evalue": "invalid syntax. Perhaps you forgot a comma? (3973992967.py, line 1)",
     "output_type": "error",
     "traceback": [
      "\u001b[1;36m  Cell \u001b[1;32mIn[42], line 1\u001b[1;36m\u001b[0m\n\u001b[1;33m    a{1,2,3,4{1,2,3,}} # # set not support nested set\u001b[0m\n\u001b[1;37m            ^\u001b[0m\n\u001b[1;31mSyntaxError\u001b[0m\u001b[1;31m:\u001b[0m invalid syntax. Perhaps you forgot a comma?\n"
     ]
    }
   ],
   "source": [
    "a{1,2,3,4{1,2,3,}} # # set not support nested set"
   ]
  },
  {
   "cell_type": "code",
   "execution_count": 44,
   "id": "069b4b74-e75b-4a9d-912f-331ecbbfab12",
   "metadata": {},
   "outputs": [],
   "source": [
    "a=set()"
   ]
  },
  {
   "cell_type": "code",
   "execution_count": 48,
   "id": "9d5523e3-ccc3-47ab-810a-eaecb748522e",
   "metadata": {},
   "outputs": [
    {
     "name": "stdout",
     "output_type": "stream",
     "text": [
      "set()\n"
     ]
    },
    {
     "data": {
      "text/plain": [
       "0"
      ]
     },
     "execution_count": 48,
     "metadata": {},
     "output_type": "execute_result"
    }
   ],
   "source": [
    "print(a)\n",
    "len(a)"
   ]
  },
  {
   "cell_type": "code",
   "execution_count": 49,
   "id": "ce653d6b-799a-45e2-8270-5f592392f317",
   "metadata": {},
   "outputs": [
    {
     "data": {
      "text/plain": [
       "3"
      ]
     },
     "execution_count": 49,
     "metadata": {},
     "output_type": "execute_result"
    }
   ],
   "source": [
    "c=[1,2,3]\n",
    "len(c)"
   ]
  },
  {
   "cell_type": "markdown",
   "id": "dff6f55c-accc-4932-8224-a28ec732da59",
   "metadata": {},
   "source": [
    "# methods of set"
   ]
  },
  {
   "cell_type": "code",
   "execution_count": 71,
   "id": "dacf26fa-1b69-4a53-98a7-a69a489c1d79",
   "metadata": {},
   "outputs": [],
   "source": [
    "a=set()"
   ]
  },
  {
   "cell_type": "code",
   "execution_count": 72,
   "id": "f3e1f405-fa09-4211-b524-bdcaff1fffa0",
   "metadata": {},
   "outputs": [
    {
     "data": {
      "text/plain": [
       "set()"
      ]
     },
     "execution_count": 72,
     "metadata": {},
     "output_type": "execute_result"
    }
   ],
   "source": [
    "a"
   ]
  },
  {
   "cell_type": "code",
   "execution_count": 73,
   "id": "d58d98c4-3e99-45c1-a3ce-db7cdecab613",
   "metadata": {},
   "outputs": [],
   "source": [
    "a.add(10)"
   ]
  },
  {
   "cell_type": "code",
   "execution_count": 74,
   "id": "0f5f47eb-7366-45ef-9118-18654d4b4d0c",
   "metadata": {},
   "outputs": [
    {
     "name": "stdout",
     "output_type": "stream",
     "text": [
      "{10}\n"
     ]
    }
   ],
   "source": [
    "print(a)"
   ]
  },
  {
   "cell_type": "code",
   "execution_count": 75,
   "id": "66f66aad-51c8-4e96-a617-17273eb32cf2",
   "metadata": {},
   "outputs": [],
   "source": [
    "a.add(10.55)"
   ]
  },
  {
   "cell_type": "code",
   "execution_count": 76,
   "id": "b393142d-af07-4d5a-9581-bf81f13484a3",
   "metadata": {},
   "outputs": [
    {
     "name": "stdout",
     "output_type": "stream",
     "text": [
      "{10, 10.55}\n"
     ]
    }
   ],
   "source": [
    "print(a)"
   ]
  },
  {
   "cell_type": "code",
   "execution_count": 77,
   "id": "2a9f4437-12d2-4535-ace7-40da024d7610",
   "metadata": {},
   "outputs": [],
   "source": [
    "a.add(\"akash\")"
   ]
  },
  {
   "cell_type": "code",
   "execution_count": 78,
   "id": "14748f4a-8a44-479a-a2a0-6143628d5352",
   "metadata": {},
   "outputs": [
    {
     "name": "stdout",
     "output_type": "stream",
     "text": [
      "{'akash', 10, 10.55}\n"
     ]
    }
   ],
   "source": [
    "print(a)"
   ]
  },
  {
   "cell_type": "code",
   "execution_count": 80,
   "id": "dd2b46b6-de69-4bf3-afa3-156894e98d9f",
   "metadata": {},
   "outputs": [],
   "source": [
    "a.add((1,))"
   ]
  },
  {
   "cell_type": "code",
   "execution_count": 81,
   "id": "f76a7348-0974-4236-b5f1-1f6a4c216809",
   "metadata": {},
   "outputs": [
    {
     "name": "stdout",
     "output_type": "stream",
     "text": [
      "{'akash', (1,), 10, 10.55}\n"
     ]
    }
   ],
   "source": [
    "print(a)"
   ]
  },
  {
   "cell_type": "code",
   "execution_count": 82,
   "id": "8bd2e935-b41a-4df9-8f93-c439f8100326",
   "metadata": {},
   "outputs": [
    {
     "ename": "TypeError",
     "evalue": "unhashable type: 'list'",
     "output_type": "error",
     "traceback": [
      "\u001b[1;31m---------------------------------------------------------------------------\u001b[0m",
      "\u001b[1;31mTypeError\u001b[0m                                 Traceback (most recent call last)",
      "Cell \u001b[1;32mIn[82], line 1\u001b[0m\n\u001b[1;32m----> 1\u001b[0m \u001b[43ma\u001b[49m\u001b[38;5;241;43m.\u001b[39;49m\u001b[43madd\u001b[49m\u001b[43m(\u001b[49m\u001b[43m[\u001b[49m\u001b[38;5;241;43m1\u001b[39;49m\u001b[43m,\u001b[49m\u001b[38;5;241;43m2\u001b[39;49m\u001b[43m,\u001b[49m\u001b[38;5;241;43m3\u001b[39;49m\u001b[43m,\u001b[49m\u001b[38;5;241;43m4\u001b[39;49m\u001b[43m]\u001b[49m\u001b[43m)\u001b[49m\n",
      "\u001b[1;31mTypeError\u001b[0m: unhashable type: 'list'"
     ]
    }
   ],
   "source": [
    "a.add([1,2,3,4])"
   ]
  },
  {
   "cell_type": "code",
   "execution_count": 83,
   "id": "0bdf5ac3-c2f9-4e24-a397-5867b64a2d84",
   "metadata": {},
   "outputs": [],
   "source": [
    "a.add((1,1,2,3,4,5,6))"
   ]
  },
  {
   "cell_type": "code",
   "execution_count": 84,
   "id": "5e038e95-07d6-4f5e-a89a-6e0e95c6fa9f",
   "metadata": {},
   "outputs": [
    {
     "name": "stdout",
     "output_type": "stream",
     "text": [
      "{'akash', (1, 1, 2, 3, 4, 5, 6), 10, 10.55, (1,)}\n"
     ]
    }
   ],
   "source": [
    "print(a)"
   ]
  },
  {
   "cell_type": "code",
   "execution_count": 85,
   "id": "d1ac1b17-01e9-427b-98fa-019828f23175",
   "metadata": {},
   "outputs": [],
   "source": [
    "a.update((1, 1, 2, 3, 4, 5, 6))"
   ]
  },
  {
   "cell_type": "code",
   "execution_count": 86,
   "id": "1ff0da26-f3ea-4bb8-aa2b-a4cd40bb9b6c",
   "metadata": {},
   "outputs": [
    {
     "name": "stdout",
     "output_type": "stream",
     "text": [
      "{'akash', 1, 2, 3, 4, (1, 1, 2, 3, 4, 5, 6), 5, 6, 10, 10.55, (1,)}\n"
     ]
    }
   ],
   "source": [
    "print(a)"
   ]
  },
  {
   "cell_type": "markdown",
   "id": "fd6ac085-bc7f-41d8-a1b5-65d04059b239",
   "metadata": {},
   "source": [
    "# set remove methods"
   ]
  },
  {
   "cell_type": "code",
   "execution_count": 1,
   "id": "9432519a-a180-4c2c-be11-ac9bd753ec59",
   "metadata": {},
   "outputs": [],
   "source": [
    "a={'akash', 1, 2, 3, 4, (1, 1, 2, 3, 4, 5, 6), 5, 6, 10, 10.55, (1,)}"
   ]
  },
  {
   "cell_type": "code",
   "execution_count": 2,
   "id": "2a9f6450-bb77-456f-88a4-864caa0bd189",
   "metadata": {},
   "outputs": [
    {
     "name": "stdout",
     "output_type": "stream",
     "text": [
      "{1, 2, 3, 'akash', 4, (1, 1, 2, 3, 4, 5, 6), 5, 6, 10, 10.55, (1,)}\n"
     ]
    }
   ],
   "source": [
    "print(a)"
   ]
  },
  {
   "cell_type": "code",
   "execution_count": 3,
   "id": "1bde4765-f2c3-4e2c-becf-6bfee2d6dbe2",
   "metadata": {},
   "outputs": [
    {
     "data": {
      "text/plain": [
       "1"
      ]
     },
     "execution_count": 3,
     "metadata": {},
     "output_type": "execute_result"
    }
   ],
   "source": [
    "a.pop()"
   ]
  },
  {
   "cell_type": "code",
   "execution_count": 4,
   "id": "67a75bd4-4e5f-449b-bfb2-4a32b60306a8",
   "metadata": {},
   "outputs": [
    {
     "name": "stdout",
     "output_type": "stream",
     "text": [
      "{2, 3, 'akash', 4, (1, 1, 2, 3, 4, 5, 6), 5, 6, 10, 10.55, (1,)}\n"
     ]
    }
   ],
   "source": [
    "print(a)"
   ]
  },
  {
   "cell_type": "code",
   "execution_count": 8,
   "id": "9cb27605-da12-4e1a-8435-77134d1970d2",
   "metadata": {},
   "outputs": [],
   "source": [
    "a.remove('akash')"
   ]
  },
  {
   "cell_type": "code",
   "execution_count": 9,
   "id": "a99d851a-e29a-4abd-8edb-e382a81d1526",
   "metadata": {},
   "outputs": [
    {
     "name": "stdout",
     "output_type": "stream",
     "text": [
      "{2, 3, 4, (1, 1, 2, 3, 4, 5, 6), 5, 6, 10, 10.55, (1,)}\n"
     ]
    }
   ],
   "source": [
    "print(a)"
   ]
  },
  {
   "cell_type": "code",
   "execution_count": 10,
   "id": "f9c3c01e-68fa-427e-8d0e-63b66a97f4c2",
   "metadata": {},
   "outputs": [],
   "source": [
    "a.discard('akash')"
   ]
  },
  {
   "cell_type": "code",
   "execution_count": 12,
   "id": "e18b5280-a146-4476-ae44-ad55e2e5e633",
   "metadata": {},
   "outputs": [],
   "source": [
    "a.clear()"
   ]
  },
  {
   "cell_type": "code",
   "execution_count": 13,
   "id": "987b13ee-8220-477c-802a-2f2c2327ff84",
   "metadata": {},
   "outputs": [
    {
     "name": "stdout",
     "output_type": "stream",
     "text": [
      "set()\n"
     ]
    }
   ],
   "source": [
    "print(a)"
   ]
  },
  {
   "cell_type": "code",
   "execution_count": 14,
   "id": "2841d6c7-ab6e-4588-8e11-c318826483bd",
   "metadata": {},
   "outputs": [],
   "source": [
    "a.add((1,2,3,4,5))"
   ]
  },
  {
   "cell_type": "code",
   "execution_count": 15,
   "id": "74914783-8cb6-4953-a651-ba56bf19c981",
   "metadata": {},
   "outputs": [
    {
     "name": "stdout",
     "output_type": "stream",
     "text": [
      "{(1, 2, 3, 4, 5)}\n"
     ]
    }
   ],
   "source": [
    "print(a)"
   ]
  },
  {
   "cell_type": "code",
   "execution_count": 16,
   "id": "ca188257-430d-45b3-8c8e-32d1f0b1d236",
   "metadata": {},
   "outputs": [],
   "source": [
    "a.update((1,2,3,4,5,6))"
   ]
  },
  {
   "cell_type": "code",
   "execution_count": 17,
   "id": "a56892cf-3c8e-4fed-86f2-09ad3ac3b90b",
   "metadata": {},
   "outputs": [
    {
     "name": "stdout",
     "output_type": "stream",
     "text": [
      "{1, 2, 3, 4, 5, 6, (1, 2, 3, 4, 5)}\n"
     ]
    }
   ],
   "source": [
    "print(a)"
   ]
  },
  {
   "cell_type": "code",
   "execution_count": 18,
   "id": "b4ec132d-00a0-4161-9953-593e5d258265",
   "metadata": {},
   "outputs": [],
   "source": [
    "a.discard((1))"
   ]
  },
  {
   "cell_type": "code",
   "execution_count": 19,
   "id": "64fae0a3-a56e-4a01-976b-1ffba16a4c6e",
   "metadata": {},
   "outputs": [
    {
     "name": "stdout",
     "output_type": "stream",
     "text": [
      "{2, 3, 4, 5, 6, (1, 2, 3, 4, 5)}\n"
     ]
    }
   ],
   "source": [
    "print(a)"
   ]
  },
  {
   "cell_type": "code",
   "execution_count": 20,
   "id": "91f7525a-7cfc-49a1-bcf8-9fc02aeac234",
   "metadata": {},
   "outputs": [],
   "source": [
    "a.discard((1))"
   ]
  },
  {
   "cell_type": "code",
   "execution_count": 21,
   "id": "badcb258-b7f1-4e33-bb37-44276b013492",
   "metadata": {},
   "outputs": [
    {
     "name": "stdout",
     "output_type": "stream",
     "text": [
      "{2, 3, 4, 5, 6, (1, 2, 3, 4, 5)}\n"
     ]
    }
   ],
   "source": [
    "print(a)"
   ]
  },
  {
   "cell_type": "code",
   "execution_count": 22,
   "id": "44df2549-291b-4c6f-ad6d-348826873383",
   "metadata": {},
   "outputs": [],
   "source": [
    "a={1,2,3,4,5,6}\n",
    "b={4,5,6,7,8,9}"
   ]
  },
  {
   "cell_type": "code",
   "execution_count": 23,
   "id": "6495cf5e-d2e6-47d7-96b2-684fa823d87c",
   "metadata": {},
   "outputs": [
    {
     "data": {
      "text/plain": [
       "{4, 5, 6}"
      ]
     },
     "execution_count": 23,
     "metadata": {},
     "output_type": "execute_result"
    }
   ],
   "source": [
    "a.intersection(b)"
   ]
  },
  {
   "cell_type": "code",
   "execution_count": 24,
   "id": "52f90079-ad5f-41d0-ab21-68338f67418d",
   "metadata": {},
   "outputs": [],
   "source": [
    "a.intersection_update(b)"
   ]
  },
  {
   "cell_type": "code",
   "execution_count": 25,
   "id": "158ee131-5d12-4366-91c1-f09c80f3d6fe",
   "metadata": {},
   "outputs": [
    {
     "name": "stdout",
     "output_type": "stream",
     "text": [
      "{4, 5, 6}\n"
     ]
    }
   ],
   "source": [
    "print(a)"
   ]
  },
  {
   "cell_type": "code",
   "execution_count": 26,
   "id": "3ee040f5-dc45-439c-9a38-da0eb7fb6f06",
   "metadata": {},
   "outputs": [
    {
     "name": "stdout",
     "output_type": "stream",
     "text": [
      "{4, 5, 6, 7, 8, 9}\n"
     ]
    }
   ],
   "source": [
    "print(b)"
   ]
  },
  {
   "cell_type": "code",
   "execution_count": 27,
   "id": "6ed45e43-01c9-4970-897d-23f0b1a14453",
   "metadata": {},
   "outputs": [],
   "source": [
    "a={1,2,3,4,5,6}"
   ]
  },
  {
   "cell_type": "code",
   "execution_count": 28,
   "id": "fb1a6a41-5ac7-4e7e-beba-1615320170e3",
   "metadata": {},
   "outputs": [
    {
     "name": "stdout",
     "output_type": "stream",
     "text": [
      "{1, 2, 3, 4, 5, 6}\n"
     ]
    }
   ],
   "source": [
    "print(a)"
   ]
  },
  {
   "cell_type": "code",
   "execution_count": 29,
   "id": "4ac2e160-9da2-4b11-b3df-bd1fe69474b6",
   "metadata": {},
   "outputs": [
    {
     "name": "stdout",
     "output_type": "stream",
     "text": [
      "{4, 5, 6, 7, 8, 9}\n"
     ]
    }
   ],
   "source": [
    "print(b)"
   ]
  },
  {
   "cell_type": "code",
   "execution_count": 30,
   "id": "307dc55f-4d2e-4405-a746-13dca0d03905",
   "metadata": {},
   "outputs": [
    {
     "data": {
      "text/plain": [
       "{1, 2, 3}"
      ]
     },
     "execution_count": 30,
     "metadata": {},
     "output_type": "execute_result"
    }
   ],
   "source": [
    "a-b"
   ]
  },
  {
   "cell_type": "code",
   "execution_count": 31,
   "id": "48f2b7fb-3b1a-4106-9d63-c1d754c501ab",
   "metadata": {},
   "outputs": [
    {
     "name": "stdout",
     "output_type": "stream",
     "text": [
      "{1, 2, 3, 4, 5, 6}\n"
     ]
    }
   ],
   "source": [
    "print(a)"
   ]
  },
  {
   "cell_type": "code",
   "execution_count": 32,
   "id": "a2247d0f-f3c3-4309-8be1-0ba6113d08e3",
   "metadata": {},
   "outputs": [
    {
     "name": "stdout",
     "output_type": "stream",
     "text": [
      "{4, 5, 6, 7, 8, 9}\n"
     ]
    }
   ],
   "source": [
    "print(b)"
   ]
  },
  {
   "cell_type": "code",
   "execution_count": 33,
   "id": "90370b61-b95e-4339-9397-19cd165e49ad",
   "metadata": {},
   "outputs": [
    {
     "data": {
      "text/plain": [
       "{1, 2, 3}"
      ]
     },
     "execution_count": 33,
     "metadata": {},
     "output_type": "execute_result"
    }
   ],
   "source": [
    "a.difference(b)"
   ]
  },
  {
   "cell_type": "code",
   "execution_count": 34,
   "id": "ee995762-ac57-4837-a7d7-b4170e58c9e5",
   "metadata": {},
   "outputs": [
    {
     "name": "stdout",
     "output_type": "stream",
     "text": [
      "{1, 2, 3, 4, 5, 6}\n"
     ]
    }
   ],
   "source": [
    "print(a)"
   ]
  },
  {
   "cell_type": "code",
   "execution_count": 35,
   "id": "a9806430-0dc8-4f07-89f0-2ccaf8505a94",
   "metadata": {},
   "outputs": [
    {
     "name": "stdout",
     "output_type": "stream",
     "text": [
      "{4, 5, 6, 7, 8, 9}\n"
     ]
    }
   ],
   "source": [
    "print(b)"
   ]
  },
  {
   "cell_type": "code",
   "execution_count": 36,
   "id": "9e24d1bc-f841-4ccc-b64e-adf37bcfaa88",
   "metadata": {},
   "outputs": [
    {
     "data": {
      "text/plain": [
       "{1, 2, 3, 7, 8, 9}"
      ]
     },
     "execution_count": 36,
     "metadata": {},
     "output_type": "execute_result"
    }
   ],
   "source": [
    "a.symmetric_difference(b)"
   ]
  },
  {
   "cell_type": "code",
   "execution_count": 37,
   "id": "10620dfa-8f61-4c1a-a65d-fcd25a235abf",
   "metadata": {},
   "outputs": [],
   "source": [
    "a.symmetric_difference_update(b)"
   ]
  },
  {
   "cell_type": "code",
   "execution_count": 38,
   "id": "477c5f3a-a493-442b-a9d5-c2a7fa44d051",
   "metadata": {},
   "outputs": [
    {
     "name": "stdout",
     "output_type": "stream",
     "text": [
      "{1, 2, 3, 7, 8, 9}\n"
     ]
    }
   ],
   "source": [
    "print(a)"
   ]
  },
  {
   "cell_type": "code",
   "execution_count": 39,
   "id": "b6df65d1-c420-407a-a2c0-a0ef9bf5aba8",
   "metadata": {},
   "outputs": [
    {
     "name": "stdout",
     "output_type": "stream",
     "text": [
      "{4, 5, 6, 7, 8, 9}\n"
     ]
    }
   ],
   "source": [
    "print(b)"
   ]
  },
  {
   "cell_type": "code",
   "execution_count": 40,
   "id": "d1668903-11ac-47c1-8dab-82ba5218e6a6",
   "metadata": {},
   "outputs": [],
   "source": [
    "c=a"
   ]
  },
  {
   "cell_type": "code",
   "execution_count": 41,
   "id": "39bdbbb8-e9d0-4e20-9032-3cab8ab8c9bc",
   "metadata": {},
   "outputs": [],
   "source": [
    "c.add(1000)"
   ]
  },
  {
   "cell_type": "code",
   "execution_count": 42,
   "id": "33520c25-25f9-4da5-8264-26c330707143",
   "metadata": {},
   "outputs": [
    {
     "name": "stdout",
     "output_type": "stream",
     "text": [
      "{1, 2, 3, 7, 8, 9, 1000}\n"
     ]
    }
   ],
   "source": [
    "print(c)"
   ]
  },
  {
   "cell_type": "code",
   "execution_count": 43,
   "id": "b535f80c-ef40-4ab0-b1c4-7d9236a597ad",
   "metadata": {},
   "outputs": [
    {
     "name": "stdout",
     "output_type": "stream",
     "text": [
      "{1, 2, 3, 7, 8, 9, 1000}\n"
     ]
    }
   ],
   "source": [
    "print(a)"
   ]
  },
  {
   "cell_type": "code",
   "execution_count": 46,
   "id": "8450eaa4-bd76-4978-8a0f-08ab345dcf13",
   "metadata": {},
   "outputs": [
    {
     "name": "stdout",
     "output_type": "stream",
     "text": [
      "2325890138848\n"
     ]
    }
   ],
   "source": [
    "print(id(c))"
   ]
  },
  {
   "cell_type": "raw",
   "id": "6af5c64e-d6b5-490e-9bb6-e09d0b65136e",
   "metadata": {},
   "source": [
    "print(id(a))"
   ]
  },
  {
   "cell_type": "code",
   "execution_count": 47,
   "id": "eda553f6-dd87-4c4d-80e1-ba693bf58a52",
   "metadata": {},
   "outputs": [],
   "source": [
    "d=a.copy()"
   ]
  },
  {
   "cell_type": "code",
   "execution_count": 48,
   "id": "eacb0b94-8a92-46c2-8277-c83c4d6bb619",
   "metadata": {},
   "outputs": [
    {
     "name": "stdout",
     "output_type": "stream",
     "text": [
      "{1, 2, 3, 7, 8, 9, 1000}\n"
     ]
    }
   ],
   "source": [
    "print(a)"
   ]
  },
  {
   "cell_type": "code",
   "execution_count": 49,
   "id": "3d7040b5-bc3e-448e-85c8-bead89cc356a",
   "metadata": {},
   "outputs": [
    {
     "name": "stdout",
     "output_type": "stream",
     "text": [
      "{4, 5, 6, 7, 8, 9}\n"
     ]
    }
   ],
   "source": [
    "print(b)"
   ]
  },
  {
   "cell_type": "code",
   "execution_count": 50,
   "id": "ae3107eb-6177-4891-8548-7db91f1a7402",
   "metadata": {},
   "outputs": [],
   "source": [
    "a.add(999)"
   ]
  },
  {
   "cell_type": "code",
   "execution_count": 51,
   "id": "e65e800b-5673-4d82-88dc-eb06f9859f53",
   "metadata": {},
   "outputs": [
    {
     "name": "stdout",
     "output_type": "stream",
     "text": [
      "{1, 2, 3, 7, 8, 9, 1000, 999}\n"
     ]
    }
   ],
   "source": [
    "print(a)"
   ]
  },
  {
   "cell_type": "code",
   "execution_count": 52,
   "id": "ca39e18c-aa7b-4068-bf9d-5a2171d3b0fc",
   "metadata": {},
   "outputs": [
    {
     "name": "stdout",
     "output_type": "stream",
     "text": [
      "2325890138848\n"
     ]
    }
   ],
   "source": [
    "print(id(a))"
   ]
  },
  {
   "cell_type": "code",
   "execution_count": 53,
   "id": "8b9f1e4c-abfc-4532-b4c9-3e7ff12ab501",
   "metadata": {},
   "outputs": [
    {
     "name": "stdout",
     "output_type": "stream",
     "text": [
      "2325892718976\n"
     ]
    }
   ],
   "source": [
    "print(id(b))"
   ]
  },
  {
   "cell_type": "code",
   "execution_count": 54,
   "id": "d6c4fa9f-98ce-4f69-9e1d-b120dbd00b1e",
   "metadata": {},
   "outputs": [
    {
     "ename": "TypeError",
     "evalue": "unhashable type: 'list'",
     "output_type": "error",
     "traceback": [
      "\u001b[1;31m---------------------------------------------------------------------------\u001b[0m",
      "\u001b[1;31mTypeError\u001b[0m                                 Traceback (most recent call last)",
      "Cell \u001b[1;32mIn[54], line 1\u001b[0m\n\u001b[1;32m----> 1\u001b[0m \u001b[43ma\u001b[49m\u001b[38;5;241;43m.\u001b[39;49m\u001b[43madd\u001b[49m\u001b[43m(\u001b[49m\u001b[43m[\u001b[49m\u001b[38;5;241;43m1\u001b[39;49m\u001b[43m,\u001b[49m\u001b[38;5;241;43m2\u001b[39;49m\u001b[43m,\u001b[49m\u001b[38;5;241;43m3\u001b[39;49m\u001b[43m,\u001b[49m\u001b[38;5;241;43m4\u001b[39;49m\u001b[43m]\u001b[49m\u001b[43m)\u001b[49m\n",
      "\u001b[1;31mTypeError\u001b[0m: unhashable type: 'list'"
     ]
    }
   ],
   "source": [
    "a.add([1,2,3,4])"
   ]
  },
  {
   "cell_type": "code",
   "execution_count": 55,
   "id": "6d1c68ab-e1d8-4fa2-a3b0-a72625bb9363",
   "metadata": {},
   "outputs": [
    {
     "data": {
      "text/plain": [
       "{1, 2, 3, 7, 8, 9, 999, 1000}"
      ]
     },
     "execution_count": 55,
     "metadata": {},
     "output_type": "execute_result"
    }
   ],
   "source": [
    "a"
   ]
  },
  {
   "cell_type": "code",
   "execution_count": 56,
   "id": "7b2d38ae-c151-457e-a3e3-4629d59b307b",
   "metadata": {},
   "outputs": [],
   "source": [
    "a.remove(1000)"
   ]
  },
  {
   "cell_type": "code",
   "execution_count": 57,
   "id": "5f1f34fe-3438-49b9-aed0-f673df8ca419",
   "metadata": {},
   "outputs": [
    {
     "name": "stdout",
     "output_type": "stream",
     "text": [
      "{1, 2, 3, 7, 8, 9, 999}\n"
     ]
    }
   ],
   "source": [
    "print(a)"
   ]
  },
  {
   "cell_type": "code",
   "execution_count": 58,
   "id": "bc1c21c9-99c5-4c4c-948d-abddab475399",
   "metadata": {},
   "outputs": [],
   "source": [
    "a.discard(999)"
   ]
  },
  {
   "cell_type": "code",
   "execution_count": 59,
   "id": "656b29cf-fbc3-4dd7-8eed-fb7e2aacbe23",
   "metadata": {},
   "outputs": [
    {
     "name": "stdout",
     "output_type": "stream",
     "text": [
      "{1, 2, 3, 7, 8, 9}\n"
     ]
    }
   ],
   "source": [
    "print(a)"
   ]
  },
  {
   "cell_type": "code",
   "execution_count": 60,
   "id": "c9236731-2754-4cf8-bbce-2134df345897",
   "metadata": {},
   "outputs": [],
   "source": [
    "a.discard(9999999)"
   ]
  },
  {
   "cell_type": "code",
   "execution_count": 62,
   "id": "eee53ed4-7b51-4cf7-aa5a-80901ae2c753",
   "metadata": {},
   "outputs": [
    {
     "name": "stdout",
     "output_type": "stream",
     "text": [
      "{1, 2, 3, 7, 8, 9}\n"
     ]
    }
   ],
   "source": [
    "print(a)"
   ]
  },
  {
   "cell_type": "code",
   "execution_count": 64,
   "id": "858a8d2f-c6d1-48de-b095-712641267818",
   "metadata": {},
   "outputs": [
    {
     "name": "stdout",
     "output_type": "stream",
     "text": [
      "{4, 5, 6, 7, 8, 9}\n"
     ]
    }
   ],
   "source": [
    "print(b)"
   ]
  },
  {
   "cell_type": "code",
   "execution_count": 65,
   "id": "ef8bb35c-a648-42d1-a084-be869863d510",
   "metadata": {},
   "outputs": [
    {
     "data": {
      "text/plain": [
       "{1, 2, 3, 4, 5, 6, 7, 8, 9}"
      ]
     },
     "execution_count": 65,
     "metadata": {},
     "output_type": "execute_result"
    }
   ],
   "source": [
    "a.union(b)"
   ]
  },
  {
   "cell_type": "code",
   "execution_count": 66,
   "id": "3513f0d0-defa-49b8-bfb8-ce47a75d70da",
   "metadata": {},
   "outputs": [
    {
     "data": {
      "text/plain": [
       "False"
      ]
     },
     "execution_count": 66,
     "metadata": {},
     "output_type": "execute_result"
    }
   ],
   "source": [
    " a.issuperset(b)"
   ]
  },
  {
   "cell_type": "code",
   "execution_count": 67,
   "id": "49a012b1-8e66-4aa8-84ef-4b494432d47a",
   "metadata": {},
   "outputs": [
    {
     "data": {
      "text/plain": [
       "False"
      ]
     },
     "execution_count": 67,
     "metadata": {},
     "output_type": "execute_result"
    }
   ],
   "source": [
    "b.issuperset(a)"
   ]
  },
  {
   "cell_type": "code",
   "execution_count": 69,
   "id": "86242185-be34-4067-a71b-f8e0f01fb446",
   "metadata": {},
   "outputs": [],
   "source": [
    "a={1,2,3,4,5,6}\n",
    "b={1,2}"
   ]
  },
  {
   "cell_type": "code",
   "execution_count": 70,
   "id": "5c06a26d-34a9-46be-865a-c8000afc670c",
   "metadata": {},
   "outputs": [
    {
     "data": {
      "text/plain": [
       "True"
      ]
     },
     "execution_count": 70,
     "metadata": {},
     "output_type": "execute_result"
    }
   ],
   "source": [
    "a.issuperset(b)"
   ]
  },
  {
   "cell_type": "code",
   "execution_count": 71,
   "id": "6ea804b9-e668-4417-83f1-e4e768650089",
   "metadata": {},
   "outputs": [
    {
     "data": {
      "text/plain": [
       "False"
      ]
     },
     "execution_count": 71,
     "metadata": {},
     "output_type": "execute_result"
    }
   ],
   "source": [
    "a.issubset(b)"
   ]
  },
  {
   "cell_type": "code",
   "execution_count": 72,
   "id": "96778d8d-e42d-4be2-b2d5-856d65db418d",
   "metadata": {},
   "outputs": [
    {
     "data": {
      "text/plain": [
       "True"
      ]
     },
     "execution_count": 72,
     "metadata": {},
     "output_type": "execute_result"
    }
   ],
   "source": [
    "b.issubset(a)"
   ]
  },
  {
   "cell_type": "code",
   "execution_count": 73,
   "id": "5c75f2fc-7bfb-4d66-9d53-cca3aedd0c0b",
   "metadata": {},
   "outputs": [],
   "source": [
    "a={1,2,3,4,5,6}\n",
    "b={10,11,13}"
   ]
  },
  {
   "cell_type": "code",
   "execution_count": 74,
   "id": "d4ea07c4-1e29-45c7-af6d-5db7fbee6c76",
   "metadata": {},
   "outputs": [
    {
     "data": {
      "text/plain": [
       "True"
      ]
     },
     "execution_count": 74,
     "metadata": {},
     "output_type": "execute_result"
    }
   ],
   "source": [
    "a.isdisjoint(b)"
   ]
  },
  {
   "cell_type": "code",
   "execution_count": 75,
   "id": "ac5660da-edc6-436f-bd5b-79b56c48c6a5",
   "metadata": {},
   "outputs": [],
   "source": [
    "a={1,2,3,4,5,6}\n",
    "b={10,11,13,1}"
   ]
  },
  {
   "cell_type": "code",
   "execution_count": 76,
   "id": "c71f6e1a-3b2c-4f48-a1da-8a56b74d0a29",
   "metadata": {},
   "outputs": [
    {
     "data": {
      "text/plain": [
       "False"
      ]
     },
     "execution_count": 76,
     "metadata": {},
     "output_type": "execute_result"
    }
   ],
   "source": [
    "a.isdisjoint(b)"
   ]
  },
  {
   "cell_type": "markdown",
   "id": "438132de-f864-4650-ba18-02987f6b9e39",
   "metadata": {},
   "source": [
    "# set is used for unique value "
   ]
  },
  {
   "cell_type": "code",
   "execution_count": null,
   "id": "36556f08-5b97-462c-b53f-5985100f4821",
   "metadata": {},
   "outputs": [],
   "source": []
  }
 ],
 "metadata": {
  "kernelspec": {
   "display_name": "Python 3 (ipykernel)",
   "language": "python",
   "name": "python3"
  },
  "language_info": {
   "codemirror_mode": {
    "name": "ipython",
    "version": 3
   },
   "file_extension": ".py",
   "mimetype": "text/x-python",
   "name": "python",
   "nbconvert_exporter": "python",
   "pygments_lexer": "ipython3",
   "version": "3.11.4"
  }
 },
 "nbformat": 4,
 "nbformat_minor": 5
}
