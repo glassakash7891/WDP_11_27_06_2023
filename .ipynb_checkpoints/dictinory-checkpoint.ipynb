{
 "cells": [
  {
   "cell_type": "markdown",
   "id": "e5a1f5bb-38cf-4ed6-b276-643edbd65265",
   "metadata": {},
   "source": [
    "# dictinory\n",
    "\n",
    "> dictinory constructor is dict()\n",
    "\n",
    "> dictinory literal is {}\n",
    "\n",
    "> dictinory is combination of key and value pair called item\n",
    "\n",
    "> dictinory is ordered set of sequence of item since version 3.6\n",
    "\n",
    "> dictinory key must be mutable\n",
    "\n",
    "> dictinory support indexing\n",
    "\n",
    "> dictinory doesnot support slicing\n",
    "\n",
    "> dictinory doesnot support concatination\n",
    "\n",
    "> dictinory support nested dictinory\n",
    "\n",
    "> dictinory is mutable\n",
    "\n",
    "> dictinory methods"
   ]
  },
  {
   "cell_type": "code",
   "execution_count": 3,
   "id": "ba1243ea-97ee-4c59-886b-454c4336189b",
   "metadata": {},
   "outputs": [],
   "source": [
    "a={2:'akash',1:'pankaj',3:'ravi',4:'ravi'}"
   ]
  },
  {
   "cell_type": "code",
   "execution_count": 4,
   "id": "7c307a75-d490-40cb-8030-85c3e36e3fe7",
   "metadata": {},
   "outputs": [
    {
     "name": "stdout",
     "output_type": "stream",
     "text": [
      "{2: 'akash', 1: 'pankaj', 3: 'ravi', 4: 'ravi'}\n"
     ]
    }
   ],
   "source": [
    "print(a)"
   ]
  },
  {
   "cell_type": "code",
   "execution_count": 5,
   "id": "eae7aea9-10c4-4889-8fc5-33fd5ceb3e2c",
   "metadata": {},
   "outputs": [
    {
     "name": "stdout",
     "output_type": "stream",
     "text": [
      "<class 'dict'>\n"
     ]
    }
   ],
   "source": [
    "print(type(a))"
   ]
  },
  {
   "cell_type": "code",
   "execution_count": 6,
   "id": "f7c6fab6-614a-481c-8853-8824796cff2c",
   "metadata": {},
   "outputs": [
    {
     "name": "stdout",
     "output_type": "stream",
     "text": [
      "pankaj\n"
     ]
    }
   ],
   "source": [
    "print(a[1])"
   ]
  },
  {
   "cell_type": "code",
   "execution_count": 7,
   "id": "d5468f0d-e069-4c03-b3d2-1290fe09cb37",
   "metadata": {},
   "outputs": [],
   "source": [
    "a={1:'akash',1:'pankaj',3:'ravi',4:'ravi'}"
   ]
  },
  {
   "cell_type": "code",
   "execution_count": 8,
   "id": "445313f1-91fe-46f8-b63e-6003640250d2",
   "metadata": {},
   "outputs": [],
   "source": [
    "b=10"
   ]
  },
  {
   "cell_type": "code",
   "execution_count": 9,
   "id": "86514317-c628-4124-b659-3f119f6514b5",
   "metadata": {},
   "outputs": [],
   "source": [
    "b=20"
   ]
  },
  {
   "cell_type": "code",
   "execution_count": 10,
   "id": "0c9ed434-de8e-44f0-84da-c4322dee16be",
   "metadata": {},
   "outputs": [
    {
     "name": "stdout",
     "output_type": "stream",
     "text": [
      "20\n"
     ]
    }
   ],
   "source": [
    "print(b) # its a overwriting method"
   ]
  },
  {
   "cell_type": "code",
   "execution_count": 11,
   "id": "472fbed6-f3e7-49ab-b687-ea29b2bdabac",
   "metadata": {},
   "outputs": [
    {
     "name": "stdout",
     "output_type": "stream",
     "text": [
      "{1: 'pankaj', 3: 'ravi', 4: 'ravi'}\n"
     ]
    }
   ],
   "source": [
    "print(a)"
   ]
  },
  {
   "cell_type": "code",
   "execution_count": 12,
   "id": "045b4436-88b2-4cb6-8b2e-3fe3fc548068",
   "metadata": {},
   "outputs": [
    {
     "data": {
      "text/plain": [
       "{'akash'}"
      ]
     },
     "execution_count": 12,
     "metadata": {},
     "output_type": "execute_result"
    }
   ],
   "source": [
    "{'akash'}"
   ]
  },
  {
   "cell_type": "code",
   "execution_count": 13,
   "id": "17005d6a-c263-4688-98e8-d77f347c8a5e",
   "metadata": {},
   "outputs": [],
   "source": [
    "b={1:'abc',10.99:'xyz',\"10\":'klm',(10,11):'mno',frozenset({1,2}):'lmno'}"
   ]
  },
  {
   "cell_type": "code",
   "execution_count": 14,
   "id": "868714a8-9448-4ee6-adb1-76779b3191c1",
   "metadata": {},
   "outputs": [
    {
     "name": "stdout",
     "output_type": "stream",
     "text": [
      "{1: 'abc', 10.99: 'xyz', '10': 'klm', (10, 11): 'mno', frozenset({1, 2}): 'lmno'}\n"
     ]
    }
   ],
   "source": [
    "print(b)"
   ]
  },
  {
   "cell_type": "code",
   "execution_count": 15,
   "id": "9f0c9306-15ac-4751-8ab4-81c96d1aabcd",
   "metadata": {},
   "outputs": [
    {
     "name": "stdout",
     "output_type": "stream",
     "text": [
      "dict_keys([1, 10.99, '10', (10, 11), frozenset({1, 2})])\n"
     ]
    }
   ],
   "source": [
    "print(b.keys())"
   ]
  },
  {
   "cell_type": "code",
   "execution_count": 16,
   "id": "ecef83df-7468-42dd-8308-4d56f0ddeb76",
   "metadata": {},
   "outputs": [
    {
     "name": "stdout",
     "output_type": "stream",
     "text": [
      "dict_values(['abc', 'xyz', 'klm', 'mno', 'lmno'])\n"
     ]
    }
   ],
   "source": [
    "print(b.values())"
   ]
  },
  {
   "cell_type": "code",
   "execution_count": 17,
   "id": "0b5223d2-58d5-45c6-b1f7-4988655dbc66",
   "metadata": {},
   "outputs": [],
   "source": [
    "c={1:{'student':'akash','mother':'suman','father':'sunil'},\n",
    "   2:{'student':'ravi','mother':'suman','father':'sunil'}}"
   ]
  },
  {
   "cell_type": "code",
   "execution_count": 18,
   "id": "d7319f35-fbee-4ebe-81a6-9209724fbabf",
   "metadata": {},
   "outputs": [
    {
     "name": "stdout",
     "output_type": "stream",
     "text": [
      "{1: {'student': 'akash', 'mother': 'suman', 'father': 'sunil'}, 2: {'student': 'ravi', 'mother': 'suman', 'father': 'sunil'}}\n"
     ]
    }
   ],
   "source": [
    "print(c)"
   ]
  },
  {
   "cell_type": "code",
   "execution_count": 19,
   "id": "a0c2f742-a125-42d2-b91a-6824b344c24a",
   "metadata": {},
   "outputs": [
    {
     "name": "stdout",
     "output_type": "stream",
     "text": [
      "akash\n"
     ]
    }
   ],
   "source": [
    "print(c[1]['student'])"
   ]
  },
  {
   "cell_type": "code",
   "execution_count": 20,
   "id": "8594f190-6179-4a72-97a5-0686ba097074",
   "metadata": {},
   "outputs": [
    {
     "name": "stdout",
     "output_type": "stream",
     "text": [
      "ravi\n"
     ]
    }
   ],
   "source": [
    "print(c[2]['student'])"
   ]
  },
  {
   "cell_type": "code",
   "execution_count": 21,
   "id": "978efa04-c2ad-47cb-99c4-e23129dd201f",
   "metadata": {},
   "outputs": [
    {
     "name": "stdout",
     "output_type": "stream",
     "text": [
      "sunil\n"
     ]
    }
   ],
   "source": [
    "print(c[1]['father'])"
   ]
  },
  {
   "cell_type": "code",
   "execution_count": 22,
   "id": "c728e250-4793-4a12-803c-51b76a37aa0e",
   "metadata": {},
   "outputs": [
    {
     "name": "stdout",
     "output_type": "stream",
     "text": [
      "{}\n"
     ]
    }
   ],
   "source": [
    "a=dict()\n",
    "print(a)"
   ]
  },
  {
   "cell_type": "code",
   "execution_count": 23,
   "id": "c2ad8b75-ff1a-4097-a4a9-7979eacf8359",
   "metadata": {},
   "outputs": [
    {
     "name": "stdout",
     "output_type": "stream",
     "text": [
      "{}\n"
     ]
    }
   ],
   "source": [
    "d={}\n",
    "print(d)"
   ]
  },
  {
   "cell_type": "code",
   "execution_count": 24,
   "id": "3e33cd4b-01f6-42b2-85a7-59b84f55990d",
   "metadata": {},
   "outputs": [],
   "source": [
    "# add methods in dictinory"
   ]
  },
  {
   "cell_type": "code",
   "execution_count": 25,
   "id": "1e7cd0d0-5353-4f33-8a4d-137f049636fc",
   "metadata": {},
   "outputs": [
    {
     "name": "stdout",
     "output_type": "stream",
     "text": [
      "None\n"
     ]
    }
   ],
   "source": [
    "print(a.update({1:'akash',2:'pankaj',3:'ravi',4:'ravi'}))"
   ]
  },
  {
   "cell_type": "code",
   "execution_count": 26,
   "id": "2ee58e4c-9850-48c7-8a68-dde945ce8df2",
   "metadata": {},
   "outputs": [
    {
     "name": "stdout",
     "output_type": "stream",
     "text": [
      "{1: 'akash', 2: 'pankaj', 3: 'ravi', 4: 'ravi'}\n"
     ]
    }
   ],
   "source": [
    "print(a)"
   ]
  },
  {
   "cell_type": "code",
   "execution_count": 27,
   "id": "94865301-00e1-4784-b56f-e231e501fe4a",
   "metadata": {},
   "outputs": [
    {
     "name": "stdout",
     "output_type": "stream",
     "text": [
      "pankaj\n"
     ]
    }
   ],
   "source": [
    "print(a[2])"
   ]
  },
  {
   "cell_type": "code",
   "execution_count": 28,
   "id": "54e89d60-0212-402e-9dbd-8ccc9882103c",
   "metadata": {},
   "outputs": [],
   "source": [
    "a[2]='aryan'"
   ]
  },
  {
   "cell_type": "code",
   "execution_count": 29,
   "id": "4a1fe1ee-5e61-4f4d-bfcc-903b1b6a2a16",
   "metadata": {},
   "outputs": [
    {
     "name": "stdout",
     "output_type": "stream",
     "text": [
      "{1: 'akash', 2: 'aryan', 3: 'ravi', 4: 'ravi'}\n"
     ]
    }
   ],
   "source": [
    "print(a)"
   ]
  },
  {
   "cell_type": "code",
   "execution_count": 30,
   "id": "5cf6a210-5bc5-4012-bdf7-f6b0c101bd9f",
   "metadata": {},
   "outputs": [
    {
     "name": "stdout",
     "output_type": "stream",
     "text": [
      "None\n"
     ]
    }
   ],
   "source": [
    "print(a.update({2:'pankaj'}))"
   ]
  },
  {
   "cell_type": "code",
   "execution_count": 31,
   "id": "a885f8b5-f786-4df9-96fc-31e598592937",
   "metadata": {},
   "outputs": [
    {
     "name": "stdout",
     "output_type": "stream",
     "text": [
      "{1: 'akash', 2: 'pankaj', 3: 'ravi', 4: 'ravi'}\n"
     ]
    }
   ],
   "source": [
    "print(a)"
   ]
  },
  {
   "cell_type": "code",
   "execution_count": 32,
   "id": "eeffb8ed-cf8a-4d5a-8523-601e20bbc8bb",
   "metadata": {},
   "outputs": [
    {
     "name": "stdout",
     "output_type": "stream",
     "text": [
      "pankaj\n"
     ]
    }
   ],
   "source": [
    "print(a.get(2))"
   ]
  },
  {
   "cell_type": "code",
   "execution_count": 33,
   "id": "1b05c1c2-69c6-4d4b-ac64-1f21cbcd27f1",
   "metadata": {},
   "outputs": [
    {
     "name": "stdout",
     "output_type": "stream",
     "text": [
      "None\n"
     ]
    }
   ],
   "source": [
    "print(a.get(10))"
   ]
  },
  {
   "cell_type": "code",
   "execution_count": 34,
   "id": "430472ea-13aa-40fe-9219-83ad4977343c",
   "metadata": {},
   "outputs": [
    {
     "name": "stdout",
     "output_type": "stream",
     "text": [
      "this value is not available\n"
     ]
    }
   ],
   "source": [
    "print(a.get(10,'this value is not available'))"
   ]
  },
  {
   "cell_type": "code",
   "execution_count": 35,
   "id": "f861f8c7-a804-4578-96e8-17126d949adb",
   "metadata": {},
   "outputs": [
    {
     "name": "stdout",
     "output_type": "stream",
     "text": [
      "pankaj\n"
     ]
    }
   ],
   "source": [
    "print(a.pop(2))"
   ]
  },
  {
   "cell_type": "code",
   "execution_count": 36,
   "id": "eae60e78-0ddf-4fab-a333-28741fd69e23",
   "metadata": {},
   "outputs": [
    {
     "name": "stdout",
     "output_type": "stream",
     "text": [
      "{1: 'akash', 3: 'ravi', 4: 'ravi'}\n"
     ]
    }
   ],
   "source": [
    "print(a)"
   ]
  },
  {
   "cell_type": "code",
   "execution_count": 37,
   "id": "3a20ad78-d408-4b41-a28e-b313f31ea6ef",
   "metadata": {},
   "outputs": [
    {
     "name": "stdout",
     "output_type": "stream",
     "text": [
      "(4, 'ravi')\n"
     ]
    }
   ],
   "source": [
    "print(a.popitem())"
   ]
  },
  {
   "cell_type": "code",
   "execution_count": 38,
   "id": "97fa8d2b-ae09-4539-9056-8b8e5367d742",
   "metadata": {},
   "outputs": [
    {
     "name": "stdout",
     "output_type": "stream",
     "text": [
      "{1: 'akash', 3: 'ravi'}\n"
     ]
    }
   ],
   "source": [
    "print(a)"
   ]
  },
  {
   "cell_type": "code",
   "execution_count": 39,
   "id": "9577230a-1f08-4389-9008-58e3110235b1",
   "metadata": {},
   "outputs": [
    {
     "name": "stdout",
     "output_type": "stream",
     "text": [
      "None\n"
     ]
    }
   ],
   "source": [
    "print(a.clear())"
   ]
  },
  {
   "cell_type": "code",
   "execution_count": 40,
   "id": "2dc4629d-ea25-4604-8c4b-12d6348d1ea9",
   "metadata": {},
   "outputs": [
    {
     "name": "stdout",
     "output_type": "stream",
     "text": [
      "{}\n"
     ]
    }
   ],
   "source": [
    "print(a)"
   ]
  },
  {
   "cell_type": "code",
   "execution_count": 41,
   "id": "bd67d02c-7658-4985-b343-bb681dac5a4e",
   "metadata": {},
   "outputs": [
    {
     "name": "stdout",
     "output_type": "stream",
     "text": [
      "None\n"
     ]
    }
   ],
   "source": [
    "print(a.update({1:'akash',2:'pankaj',3:'ravi',4:'ravi'}))"
   ]
  },
  {
   "cell_type": "code",
   "execution_count": 42,
   "id": "7decf4b3-e902-45d6-aa0d-4b1512e3d17b",
   "metadata": {},
   "outputs": [
    {
     "name": "stdout",
     "output_type": "stream",
     "text": [
      "{1: 'akash', 2: 'pankaj', 3: 'ravi', 4: 'ravi'}\n"
     ]
    }
   ],
   "source": [
    "print(a)"
   ]
  },
  {
   "cell_type": "code",
   "execution_count": 43,
   "id": "62f87bd7-a66d-49fa-88ca-5194b77ab40d",
   "metadata": {},
   "outputs": [],
   "source": [
    "b=a.copy()"
   ]
  },
  {
   "cell_type": "code",
   "execution_count": 44,
   "id": "dfa71ff9-78dc-427b-8a2f-c0ce06e0aa94",
   "metadata": {},
   "outputs": [
    {
     "name": "stdout",
     "output_type": "stream",
     "text": [
      "{1: 'akash', 2: 'pankaj', 3: 'ravi', 4: 'ravi'}\n"
     ]
    }
   ],
   "source": [
    "print(a)"
   ]
  },
  {
   "cell_type": "code",
   "execution_count": 45,
   "id": "4417d8be-e5e1-4f03-aefc-1712bbfe3ad1",
   "metadata": {},
   "outputs": [
    {
     "name": "stdout",
     "output_type": "stream",
     "text": [
      "{1: 'akash', 2: 'pankaj', 3: 'ravi', 4: 'ravi'}\n"
     ]
    }
   ],
   "source": [
    "print(b)"
   ]
  },
  {
   "cell_type": "code",
   "execution_count": 46,
   "id": "9c445a35-b2d4-4126-8552-cac47d250acc",
   "metadata": {},
   "outputs": [
    {
     "name": "stdout",
     "output_type": "stream",
     "text": [
      "None\n"
     ]
    }
   ],
   "source": [
    "print(b.update({10:'parbhu'}))"
   ]
  },
  {
   "cell_type": "code",
   "execution_count": 47,
   "id": "261026eb-c243-4f6b-b3db-63266dac6f07",
   "metadata": {},
   "outputs": [
    {
     "name": "stdout",
     "output_type": "stream",
     "text": [
      "{1: 'akash', 2: 'pankaj', 3: 'ravi', 4: 'ravi', 10: 'parbhu'}\n"
     ]
    }
   ],
   "source": [
    "print(b)"
   ]
  },
  {
   "cell_type": "code",
   "execution_count": 48,
   "id": "e8e231e9-cfcf-4907-9337-9a126fd3f53b",
   "metadata": {},
   "outputs": [
    {
     "name": "stdout",
     "output_type": "stream",
     "text": [
      "2087672089792\n"
     ]
    }
   ],
   "source": [
    "print(id(b))"
   ]
  },
  {
   "cell_type": "code",
   "execution_count": 49,
   "id": "d8ded0cb-4e0b-4e94-9d60-9f651c1cfc28",
   "metadata": {},
   "outputs": [
    {
     "name": "stdout",
     "output_type": "stream",
     "text": [
      "2087666207360\n"
     ]
    }
   ],
   "source": [
    "print(id(a))"
   ]
  },
  {
   "cell_type": "code",
   "execution_count": 50,
   "id": "7822845d-2acc-4af6-863f-fdd366417f02",
   "metadata": {},
   "outputs": [
    {
     "name": "stdout",
     "output_type": "stream",
     "text": [
      "required\n"
     ]
    }
   ],
   "source": [
    "print(a.setdefault('plumber','required'))"
   ]
  },
  {
   "cell_type": "code",
   "execution_count": 51,
   "id": "34cc83a8-9ab5-4fe5-ad9a-8ba939b9ebe5",
   "metadata": {},
   "outputs": [
    {
     "name": "stdout",
     "output_type": "stream",
     "text": [
      "{1: 'akash', 2: 'pankaj', 3: 'ravi', 4: 'ravi', 'plumber': 'required'}\n"
     ]
    }
   ],
   "source": [
    "print(a)"
   ]
  },
  {
   "cell_type": "code",
   "execution_count": 52,
   "id": "e9a383c3-279b-420d-a511-6c746555490c",
   "metadata": {},
   "outputs": [],
   "source": [
    "a['plumber']='amar'"
   ]
  },
  {
   "cell_type": "code",
   "execution_count": 53,
   "id": "5318eb69-135e-4612-b75d-440c864b1a77",
   "metadata": {},
   "outputs": [
    {
     "name": "stdout",
     "output_type": "stream",
     "text": [
      "{1: 'akash', 2: 'pankaj', 3: 'ravi', 4: 'ravi', 'plumber': 'amar'}\n"
     ]
    }
   ],
   "source": [
    "print(a)"
   ]
  },
  {
   "cell_type": "code",
   "execution_count": 54,
   "id": "a53797eb-6340-4a81-97bf-ef19b6822613",
   "metadata": {},
   "outputs": [],
   "source": [
    "b=a.fromkeys({1,2,3,4,5,6,7,8,9},'available')"
   ]
  },
  {
   "cell_type": "code",
   "execution_count": 55,
   "id": "dfcf8b15-275a-4d06-9982-ca1fc476fccc",
   "metadata": {},
   "outputs": [
    {
     "name": "stdout",
     "output_type": "stream",
     "text": [
      "{1: 'available', 2: 'available', 3: 'available', 4: 'available', 5: 'available', 6: 'available', 7: 'available', 8: 'available', 9: 'available'}\n"
     ]
    }
   ],
   "source": [
    "print(b)"
   ]
  },
  {
   "cell_type": "code",
   "execution_count": 56,
   "id": "256938f0-7946-4af0-b8f8-eafe29ccc24a",
   "metadata": {},
   "outputs": [],
   "source": [
    "b[1]='akash'"
   ]
  },
  {
   "cell_type": "code",
   "execution_count": 57,
   "id": "bd9d0492-d7a9-4e4a-b0e0-907e3b593c62",
   "metadata": {},
   "outputs": [
    {
     "name": "stdout",
     "output_type": "stream",
     "text": [
      "{1: 'akash', 2: 'available', 3: 'available', 4: 'available', 5: 'available', 6: 'available', 7: 'available', 8: 'available', 9: 'available'}\n"
     ]
    }
   ],
   "source": [
    "print(b)"
   ]
  },
  {
   "cell_type": "code",
   "execution_count": 66,
   "id": "e9ef5b02-f91e-4bcd-9f62-44d23a3e7a75",
   "metadata": {},
   "outputs": [],
   "source": [
    "b[2]='pankaj'"
   ]
  }
 ],
 "metadata": {
  "kernelspec": {
   "display_name": "Python 3 (ipykernel)",
   "language": "python",
   "name": "python3"
  },
  "language_info": {
   "codemirror_mode": {
    "name": "ipython",
    "version": 3
   },
   "file_extension": ".py",
   "mimetype": "text/x-python",
   "name": "python",
   "nbconvert_exporter": "python",
   "pygments_lexer": "ipython3",
   "version": "3.11.4"
  }
 },
 "nbformat": 4,
 "nbformat_minor": 5
}
