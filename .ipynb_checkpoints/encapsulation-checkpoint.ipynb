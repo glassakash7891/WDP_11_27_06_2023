{
 "cells": [
  {
   "cell_type": "code",
   "execution_count": 20,
   "metadata": {},
   "outputs": [],
   "source": [
    "class ATM:             \n",
    "    def __init__(self):   \n",
    "        self.__pin=2122      \n",
    "        self.balance=10001\n",
    "    def __show_pin(self):\n",
    "        print(\"your account pin is: \",self.__pin)\n",
    "    def __show_balance(self):\n",
    "        print(\"your account balance is : \",self.balance)\n",
    "        \n",
    "        "
   ]
  },
  {
   "cell_type": "code",
   "execution_count": 21,
   "metadata": {},
   "outputs": [],
   "source": [
    "akash=ATM()"
   ]
  },
  {
   "cell_type": "code",
   "execution_count": 22,
   "metadata": {},
   "outputs": [
    {
     "ename": "AttributeError",
     "evalue": "'ATM' object has no attribute 'show_pin'",
     "output_type": "error",
     "traceback": [
      "\u001b[1;31m---------------------------------------------------------------------------\u001b[0m",
      "\u001b[1;31mAttributeError\u001b[0m                            Traceback (most recent call last)",
      "Cell \u001b[1;32mIn[22], line 1\u001b[0m\n\u001b[1;32m----> 1\u001b[0m akash\u001b[39m.\u001b[39;49mshow_pin()\n",
      "\u001b[1;31mAttributeError\u001b[0m: 'ATM' object has no attribute 'show_pin'"
     ]
    }
   ],
   "source": [
    "akash.show_pin()"
   ]
  },
  {
   "cell_type": "code",
   "execution_count": 18,
   "metadata": {},
   "outputs": [
    {
     "ename": "AttributeError",
     "evalue": "'ATM' object has no attribute 'pin'",
     "output_type": "error",
     "traceback": [
      "\u001b[1;31m---------------------------------------------------------------------------\u001b[0m",
      "\u001b[1;31mAttributeError\u001b[0m                            Traceback (most recent call last)",
      "Cell \u001b[1;32mIn[18], line 1\u001b[0m\n\u001b[1;32m----> 1\u001b[0m akash\u001b[39m.\u001b[39;49mpin\n",
      "\u001b[1;31mAttributeError\u001b[0m: 'ATM' object has no attribute 'pin'"
     ]
    }
   ],
   "source": [
    "akash.pin"
   ]
  },
  {
   "cell_type": "code",
   "execution_count": 9,
   "metadata": {},
   "outputs": [
    {
     "name": "stdout",
     "output_type": "stream",
     "text": [
      "your account balance is :  10001\n"
     ]
    }
   ],
   "source": [
    "akash.show_balance()"
   ]
  },
  {
   "cell_type": "code",
   "execution_count": null,
   "metadata": {},
   "outputs": [],
   "source": []
  },
  {
   "cell_type": "code",
   "execution_count": 1,
   "metadata": {},
   "outputs": [],
   "source": [
    "import random\n",
    "class ATM:             \n",
    "    def __init__(self):   \n",
    "        self.__pin=\"2122\"      \n",
    "        self.__balance=10001\n",
    "        self.__mobile=\"8368012757\"\n",
    "        self.__otp=random.randint(1000,9999)\n",
    "    def change_pin(self):\n",
    "        user=input(\"kindly enter your old pin:\")\n",
    "        mob=input(\"enter your mobile number:\")\n",
    "        if mob==self.__mobile:\n",
    "            print(\"your otp is:\",self.__otp)\n",
    "            otp=int(input(\"kindly enter your 4 digit otp:\"))\n",
    "            if otp==self.__otp:\n",
    "                                \n",
    "                if self.__pin==user:\n",
    "\n",
    "                    user1=input(\"kindly enter your new pin:\")\n",
    "                    user2=input(\"kindly re-enter your new pin:\")\n",
    "                    if user1==user2:\n",
    "                        print(\"your pin change successfully\")\n",
    "                        self.__pin=user1\n",
    "                    else:\n",
    "                        print(\"wrong pin\")\n",
    "                else:\n",
    "                    print(\"old pin is wrong\")\n",
    "            else:\n",
    "                print(\"invalid otp\")\n",
    "        else:\n",
    "            print(\"kindly enter your correct mobile nummber\")\n",
    "    def show_balance(self):\n",
    "        user1=input(\"enter your pin:\")\n",
    "        if user1==self.__pin:\n",
    "            print(\"your account balance is : \",self.__balance)\n",
    "        else:\n",
    "                print(\"try again\")\n",
    "        "
   ]
  },
  {
   "cell_type": "code",
   "execution_count": null,
   "metadata": {},
   "outputs": [],
   "source": []
  },
  {
   "cell_type": "code",
   "execution_count": 2,
   "metadata": {},
   "outputs": [],
   "source": [
    "akash=ATM()"
   ]
  },
  {
   "cell_type": "code",
   "execution_count": 3,
   "metadata": {},
   "outputs": [
    {
     "name": "stdin",
     "output_type": "stream",
     "text": [
      "kindly enter your old pin: 2122\n",
      "enter your mobile number: 8368012757\n"
     ]
    },
    {
     "name": "stdout",
     "output_type": "stream",
     "text": [
      "your otp is: 5391\n"
     ]
    },
    {
     "name": "stdin",
     "output_type": "stream",
     "text": [
      "kindly enter your 4 digit otp: 5391\n",
      "kindly enter your new pin: 3322\n",
      "kindly re-enter your new pin: 3322\n"
     ]
    },
    {
     "name": "stdout",
     "output_type": "stream",
     "text": [
      "your pin change successfully\n"
     ]
    }
   ],
   "source": [
    "\n",
    "akash.change_pin()"
   ]
  },
  {
   "cell_type": "code",
   "execution_count": 5,
   "metadata": {},
   "outputs": [
    {
     "name": "stdin",
     "output_type": "stream",
     "text": [
      "enter your pin: 2133\n"
     ]
    },
    {
     "name": "stdout",
     "output_type": "stream",
     "text": [
      "try again\n"
     ]
    }
   ],
   "source": [
    "akash.show_balance()\n"
   ]
  },
  {
   "cell_type": "code",
   "execution_count": 57,
   "metadata": {},
   "outputs": [],
   "source": [
    "import random\n",
    "class ATM1:\n",
    "    def __init__(self):\n",
    "        self.__pin=\"2222\"\n",
    "        self.__balance=29999\n",
    "        self.__mobile=\"8368012757\"\n",
    "        self.__otp=random.randint(1000,9999)\n",
    "    def change_pin(self):\n",
    "        user=input(\"Enter your old pin:\")\n",
    "        mob=input(\"enter your correct mobile number:\")\n",
    "        if mob==self.__mobile:\n",
    "            print(\"your otp is:\", self.__otp)\n",
    "            otp=int(input(\"enter your otp:\"))\n",
    "            if otp==self.__otp:\n",
    "                if self.__pin==user:\n",
    "                    user1=input(\"enter your new pin:\")\n",
    "                    user2=input(\"re-enter your new pin:\")\n",
    "                    if user1==user2:\n",
    "                        print(\"your pin has been upadate\")\n",
    "                        self.__pin=user1\n",
    "                    else:\n",
    "                        print(\"try again\")\n",
    "                else:\n",
    "                    print(\"pin wrong\")\n",
    "            else:\n",
    "                print(\"enterd a wrong otp please try again\")\n",
    "        else:\n",
    "            print(\"your mobile number is wrong\")\n",
    "    def show_balance(self):\n",
    "        user=input(\"enter your pin:\")\n",
    "        if user==self.__pin:\n",
    "            print(\" your account balance is:\", self.__balance)\n",
    "        else:\n",
    "            print(\"your pin is wrong\")        "
   ]
  },
  {
   "cell_type": "code",
   "execution_count": 58,
   "metadata": {},
   "outputs": [],
   "source": [
    "pankaj=ATM1()"
   ]
  },
  {
   "cell_type": "code",
   "execution_count": 59,
   "metadata": {},
   "outputs": [
    {
     "name": "stdin",
     "output_type": "stream",
     "text": [
      "Enter your old pin: 2222\n",
      "enter your correct mobile number: 8368012757\n"
     ]
    },
    {
     "name": "stdout",
     "output_type": "stream",
     "text": [
      "your otp is: 2421\n"
     ]
    },
    {
     "name": "stdin",
     "output_type": "stream",
     "text": [
      "enter your otp: 2421\n",
      "enter your new pin: 1234\n",
      "re-enter your new pin: 1234\n"
     ]
    },
    {
     "name": "stdout",
     "output_type": "stream",
     "text": [
      "your pin has been upadate\n"
     ]
    }
   ],
   "source": [
    "pankaj.change_pin()"
   ]
  },
  {
   "cell_type": "code",
   "execution_count": 69,
   "metadata": {},
   "outputs": [
    {
     "ename": "TypeError",
     "evalue": "'str' object is not callable",
     "output_type": "error",
     "traceback": [
      "\u001b[1;31m---------------------------------------------------------------------------\u001b[0m",
      "\u001b[1;31mTypeError\u001b[0m                                 Traceback (most recent call last)",
      "Cell \u001b[1;32mIn[69], line 1\u001b[0m\n\u001b[1;32m----> 1\u001b[0m \u001b[43mpankaj\u001b[49m\u001b[38;5;241;43m.\u001b[39;49m\u001b[43mshow_balance\u001b[49m\u001b[43m(\u001b[49m\u001b[43m)\u001b[49m\n",
      "\u001b[1;31mTypeError\u001b[0m: 'str' object is not callable"
     ]
    }
   ],
   "source": [
    "pankaj.show_balance()"
   ]
  },
  {
   "cell_type": "code",
   "execution_count": 65,
   "metadata": {},
   "outputs": [],
   "source": [
    "pankaj.show_balance=\"234\""
   ]
  },
  {
   "cell_type": "code",
   "execution_count": 68,
   "metadata": {},
   "outputs": [
    {
     "data": {
      "text/plain": [
       "'234'"
      ]
     },
     "execution_count": 68,
     "metadata": {},
     "output_type": "execute_result"
    }
   ],
   "source": [
    "pankaj.show_balance"
   ]
  },
  {
   "cell_type": "code",
   "execution_count": null,
   "metadata": {},
   "outputs": [],
   "source": [
    "p"
   ]
  }
 ],
 "metadata": {
  "kernelspec": {
   "display_name": "Python 3 (ipykernel)",
   "language": "python",
   "name": "python3"
  },
  "language_info": {
   "codemirror_mode": {
    "name": "ipython",
    "version": 3
   },
   "file_extension": ".py",
   "mimetype": "text/x-python",
   "name": "python",
   "nbconvert_exporter": "python",
   "pygments_lexer": "ipython3",
   "version": "3.11.5"
  }
 },
 "nbformat": 4,
 "nbformat_minor": 4
}
