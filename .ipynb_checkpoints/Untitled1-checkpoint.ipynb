{
 "cells": [
  {
   "cell_type": "code",
   "execution_count": 10,
   "id": "0b598acc-5ce1-401c-8286-6f169aa396b5",
   "metadata": {},
   "outputs": [],
   "source": [
    "num1=10"
   ]
  },
  {
   "cell_type": "code",
   "execution_count": null,
   "id": "67a77d2a",
   "metadata": {},
   "outputs": [],
   "source": []
  },
  {
   "cell_type": "code",
   "execution_count": 11,
   "id": "3239ff49-da74-4762-a52f-d97dcfe6621b",
   "metadata": {},
   "outputs": [
    {
     "data": {
      "text/plain": [
       "10"
      ]
     },
     "execution_count": 11,
     "metadata": {},
     "output_type": "execute_result"
    }
   ],
   "source": [
    "num1"
   ]
  },
  {
   "cell_type": "code",
   "execution_count": 2,
   "id": "d94f42e9-89f5-4566-9eed-4d43b5091bac",
   "metadata": {},
   "outputs": [
    {
     "name": "stdout",
     "output_type": "stream",
     "text": [
      "The number is odd\n",
      "the number is positive\n"
     ]
    }
   ],
   "source": [
    "num1=int(input(\"Enter a number:\"))\n",
    "if num1-2==0:\n",
    "    print(\"The number is even\")\n",
    "    if num1>=0:\n",
    "        print(\"positive\")\n",
    "    else:\n",
    "        print(\"negative\")\n",
    "else:\n",
    "    print(\"The number is odd\")\n",
    "    if num1>=0:\n",
    "        print(\"the number is positive\")\n",
    "    else:\n",
    "        print(\"the number is negative\")"
   ]
  },
  {
   "cell_type": "code",
   "execution_count": 5,
   "id": "52bcd7a7",
   "metadata": {},
   "outputs": [
    {
     "name": "stdin",
     "output_type": "stream",
     "text": [
      "enter a number: 10\n"
     ]
    },
    {
     "name": "stdout",
     "output_type": "stream",
     "text": [
      "this number is even\n",
      "positive\n"
     ]
    }
   ],
   "source": [
    "num1=int(input(\"enter a number:\"))\n",
    "if num1%2==0:\n",
    "    print(\"this number is even\")\n",
    "    if num1>=0:\n",
    "        print(\"positive\")\n",
    "    else:\n",
    "        print(\"negative\")\n",
    "else:\n",
    "    print(\"this is odd\")\n",
    "    if num1>=1:\n",
    "        print(\"this number is positive\")\n",
    "    else:\n",
    "        print(\"this number is negative\")\n",
    "         "
   ]
  },
  {
   "cell_type": "code",
   "execution_count": 2,
   "id": "7ed7e3dc",
   "metadata": {},
   "outputs": [
    {
     "name": "stdout",
     "output_type": "stream",
     "text": [
      "\n",
      "1  \n",
      "2  2  \n",
      "3  3  3  \n",
      "4  4  4  4  \n",
      "5  5  5  5  5  \n",
      "6  6  6  6  6  6  \n",
      "5  5  5  5  5  \n",
      "4  4  4  4  \n",
      "3  3  3  \n",
      "2  2  \n",
      "1  \n"
     ]
    }
   ],
   "source": [
    "i=0\n",
    "for i in range(6):\n",
    "    for j in range(i):\n",
    "        print(i,\" \",end=\"\")\n",
    "    print(\"\")\n",
    "\n",
    "for i in range(6,0,-1):\n",
    "    for j in range(i):\n",
    "        print(i,\" \",end=\"\")\n",
    "    print(\"\")"
   ]
  },
  {
   "cell_type": "code",
   "execution_count": 28,
   "id": "b8952097",
   "metadata": {},
   "outputs": [
    {
     "name": "stdout",
     "output_type": "stream",
     "text": [
      "\n",
      "* \n",
      "* * \n",
      "* * * \n",
      "* * * * \n",
      "* * * * * \n",
      "* * * * \n",
      "* * * \n",
      "* * \n",
      "* \n"
     ]
    }
   ],
   "source": [
    "i=0\n",
    "for i in range(5):\n",
    "    for j in range(i):\n",
    "        print('* ',end=\"\")\n",
    "    print(\"\")\n",
    "\n",
    "for i in range(5,0,-1):\n",
    "    for j in range(i):\n",
    "        print('* ',end=\"\")\n",
    "    print(\"\")"
   ]
  },
  {
   "cell_type": "code",
   "execution_count": 10,
   "id": "415d4102",
   "metadata": {},
   "outputs": [
    {
     "name": "stdout",
     "output_type": "stream",
     "text": [
      "    *\n",
      "   **\n",
      "  ***\n",
      " ****\n",
      "*****\n",
      " ****\n",
      "  ***\n",
      "   **\n",
      "    *\n"
     ]
    }
   ],
   "source": [
    "print((\" \"*4)+(\"*\"*1))\n",
    "print((\" \"*3)+(\"*\"*2))\n",
    "print((\" \"*2)+(\"*\"*3))\n",
    "print((\" \"*1)+(\"*\"*4))\n",
    "print((\" \"*0)+(\"*\"*5))\n",
    "print((\" \"*1)+(\"*\"*4))\n",
    "print((\" \"*2)+(\"*\"*3))\n",
    "print((\" \"*3)+(\"*\"*2))\n",
    "print((\" \"*4)+(\"*\"*1))"
   ]
  },
  {
   "cell_type": "code",
   "execution_count": 26,
   "id": "91974d86",
   "metadata": {},
   "outputs": [
    {
     "name": "stdout",
     "output_type": "stream",
     "text": [
      "         \n",
      "        \n",
      "       \n",
      "      \n",
      "     \n"
     ]
    }
   ],
   "source": [
    "i=0\n",
    "for i in range(5,0,-1):\n",
    "        print(\" \"*(4+i)+'*'*(i-5))\n",
    "    \n",
    "\n"
   ]
  },
  {
   "cell_type": "code",
   "execution_count": 1,
   "id": "acfb6085",
   "metadata": {},
   "outputs": [],
   "source": [
    "num1=10"
   ]
  }
 ],
 "metadata": {
  "kernelspec": {
   "display_name": "Python 3 (ipykernel)",
   "language": "python",
   "name": "python3"
  },
  "language_info": {
   "codemirror_mode": {
    "name": "ipython",
    "version": 3
   },
   "file_extension": ".py",
   "mimetype": "text/x-python",
   "name": "python",
   "nbconvert_exporter": "python",
   "pygments_lexer": "ipython3",
   "version": "3.11.4"
  }
 },
 "nbformat": 4,
 "nbformat_minor": 5
}
