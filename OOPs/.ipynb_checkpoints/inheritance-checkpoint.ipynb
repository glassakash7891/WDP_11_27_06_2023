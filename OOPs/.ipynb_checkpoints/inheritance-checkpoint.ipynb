{
 "cells": [
  {
   "cell_type": "markdown",
   "metadata": {},
   "source": [
    "# inheritance"
   ]
  },
  {
   "cell_type": "code",
   "execution_count": 5,
   "metadata": {},
   "outputs": [],
   "source": [
    "class Buyer:\n",
    "    def register(self):\n",
    "        print(\"welcome to register section\")\n",
    "    def login(self):\n",
    "        print(\"welcome to login section\")\n",
    "    def payment(self):\n",
    "        print(\"welcome to payment section\")"
   ]
  },
  {
   "cell_type": "code",
   "execution_count": 6,
   "metadata": {},
   "outputs": [],
   "source": [
    "class Seller:\n",
    "    def register(self):\n",
    "        print(\"welcome to register section\")\n",
    "    def login(self):\n",
    "        print(\"welcome to login section\")\n",
    "    def collection(self):\n",
    "        print(\"welcome to payment collection\")"
   ]
  },
  {
   "cell_type": "code",
   "execution_count": 7,
   "metadata": {},
   "outputs": [],
   "source": [
    "akash=Buyer()"
   ]
  },
  {
   "cell_type": "code",
   "execution_count": 8,
   "metadata": {},
   "outputs": [],
   "source": [
    "akki=Seller()"
   ]
  },
  {
   "cell_type": "markdown",
   "metadata": {},
   "source": [
    "# After inheritance"
   ]
  },
  {
   "cell_type": "code",
   "execution_count": 12,
   "metadata": {},
   "outputs": [],
   "source": [
    "class Login_register:\n",
    "    def register(self):\n",
    "        print(\"welcome to register section\")\n",
    "    def login(self):\n",
    "        print(\"welcome to login section\")\n",
    "\n",
    "class Buyer(Login_register):\n",
    "    def payment(self):\n",
    "        print(\"welcome to payment section\")\n",
    "\n",
    "class Seller(Login_register):\n",
    "    def collection(self):\n",
    "        print(\"welcome to payment collection\")"
   ]
  },
  {
   "cell_type": "code",
   "execution_count": 14,
   "metadata": {},
   "outputs": [],
   "source": [
    "zoom=Buyer()"
   ]
  },
  {
   "cell_type": "code",
   "execution_count": 16,
   "metadata": {},
   "outputs": [],
   "source": [
    "car=Seller()"
   ]
  },
  {
   "cell_type": "markdown",
   "metadata": {},
   "source": [
    "# single level inheritance"
   ]
  },
  {
   "cell_type": "code",
   "execution_count": 28,
   "metadata": {},
   "outputs": [],
   "source": [
    "class A:\n",
    "    def x(self):\n",
    "        print(\"i am A\")\n",
    "class B(A):\n",
    "    def y(self):\n",
    "        print(\"i am Y\")"
   ]
  },
  {
   "cell_type": "code",
   "execution_count": 29,
   "metadata": {},
   "outputs": [],
   "source": [
    "abc=B()"
   ]
  },
  {
   "cell_type": "code",
   "execution_count": 30,
   "metadata": {},
   "outputs": [
    {
     "name": "stdout",
     "output_type": "stream",
     "text": [
      "i am Y\n"
     ]
    }
   ],
   "source": [
    "abc.y()"
   ]
  },
  {
   "cell_type": "code",
   "execution_count": 31,
   "metadata": {},
   "outputs": [
    {
     "name": "stdout",
     "output_type": "stream",
     "text": [
      "i am A\n"
     ]
    }
   ],
   "source": [
    "abc.x()"
   ]
  },
  {
   "cell_type": "markdown",
   "metadata": {},
   "source": [
    "# multi level inheritance"
   ]
  },
  {
   "cell_type": "code",
   "execution_count": 35,
   "metadata": {},
   "outputs": [],
   "source": [
    "class A:\n",
    "    def x(self):\n",
    "        print(\"i am A\")\n",
    "class B(A):\n",
    "    def y(self):\n",
    "        print(\"i am Y\")\n",
    "class C(B):\n",
    "    def z(self):\n",
    "        print(\"i am C\")"
   ]
  },
  {
   "cell_type": "code",
   "execution_count": 36,
   "metadata": {},
   "outputs": [],
   "source": [
    "akash=C()"
   ]
  },
  {
   "cell_type": "code",
   "execution_count": 37,
   "metadata": {},
   "outputs": [
    {
     "name": "stdout",
     "output_type": "stream",
     "text": [
      "i am C\n"
     ]
    }
   ],
   "source": [
    "akash.z()"
   ]
  },
  {
   "cell_type": "code",
   "execution_count": 38,
   "metadata": {},
   "outputs": [
    {
     "name": "stdout",
     "output_type": "stream",
     "text": [
      "i am A\n"
     ]
    }
   ],
   "source": [
    "akash.x()"
   ]
  },
  {
   "cell_type": "code",
   "execution_count": 39,
   "metadata": {},
   "outputs": [
    {
     "name": "stdout",
     "output_type": "stream",
     "text": [
      "i am Y\n"
     ]
    }
   ],
   "source": [
    "akash.y()"
   ]
  },
  {
   "cell_type": "markdown",
   "metadata": {},
   "source": [
    "# Hierarchocal inheritance"
   ]
  },
  {
   "cell_type": "code",
   "execution_count": 40,
   "metadata": {},
   "outputs": [],
   "source": [
    "class A:\n",
    "    def login(self):\n",
    "        print(\"welcome to login section\")\n",
    "class Balance(A):\n",
    "    def enquiry(self):\n",
    "        print(\"welcome to balance enquiry section\")\n",
    "class Collection(A):\n",
    "    def withdrawal(self):\n",
    "        print(\"welcome to withdrawal section\")"
   ]
  },
  {
   "cell_type": "code",
   "execution_count": 41,
   "metadata": {},
   "outputs": [],
   "source": [
    "akash=Balance()"
   ]
  },
  {
   "cell_type": "code",
   "execution_count": 43,
   "metadata": {},
   "outputs": [],
   "source": [
    "akash=Collection()"
   ]
  },
  {
   "cell_type": "markdown",
   "metadata": {},
   "source": [
    "# multiple inheritance"
   ]
  },
  {
   "cell_type": "code",
   "execution_count": 44,
   "metadata": {},
   "outputs": [],
   "source": [
    "class A:\n",
    "    def A(self):\n",
    "        print(\"i am A\")\n",
    "class D:\n",
    "    def B(self):\n",
    "        print(\"i am B\")\n",
    "class E:\n",
    "    def C(self):\n",
    "        print(\"i am c\")\n",
    "class akki(A,D,E):\n",
    "    pass"
   ]
  },
  {
   "cell_type": "code",
   "execution_count": 45,
   "metadata": {},
   "outputs": [],
   "source": [
    "akash=akki()"
   ]
  },
  {
   "cell_type": "code",
   "execution_count": 46,
   "metadata": {},
   "outputs": [
    {
     "name": "stdout",
     "output_type": "stream",
     "text": [
      "i am A\n"
     ]
    }
   ],
   "source": [
    "akash.A()"
   ]
  },
  {
   "cell_type": "code",
   "execution_count": null,
   "metadata": {},
   "outputs": [],
   "source": []
  }
 ],
 "metadata": {
  "kernelspec": {
   "display_name": "Python 3",
   "language": "python",
   "name": "python3"
  },
  "language_info": {
   "codemirror_mode": {
    "name": "ipython",
    "version": 3
   },
   "file_extension": ".py",
   "mimetype": "text/x-python",
   "name": "python",
   "nbconvert_exporter": "python",
   "pygments_lexer": "ipython3",
   "version": "3.11.5"
  },
  "orig_nbformat": 4
 },
 "nbformat": 4,
 "nbformat_minor": 2
}
