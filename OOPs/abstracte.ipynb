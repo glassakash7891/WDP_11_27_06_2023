{
 "cells": [
  {
   "cell_type": "code",
   "execution_count": 2,
   "id": "ea4a6015-c5e0-45f0-9feb-19259caad006",
   "metadata": {},
   "outputs": [],
   "source": [
    "from abc import ABC , abstractmethod\n",
    "class lanko(ABC):\n",
    "    @abstractmethod\n",
    "    def registration(self):    # manoj\n",
    "        pass\n",
    "    def login(self):           # akki\n",
    "        pass\n",
    "    def payment(self):         # pank\n",
    "        pass\n",
    "    def location(self):        #ravi\n",
    "        pass"
   ]
  },
  {
   "cell_type": "code",
   "execution_count": 3,
   "id": "e588796b-0951-4ebf-8f26-48aba3c34a36",
   "metadata": {},
   "outputs": [
    {
     "ename": "TypeError",
     "evalue": "Can't instantiate abstract class lanko with abstract method registration",
     "output_type": "error",
     "traceback": [
      "\u001b[1;31m---------------------------------------------------------------------------\u001b[0m",
      "\u001b[1;31mTypeError\u001b[0m                                 Traceback (most recent call last)",
      "Cell \u001b[1;32mIn[3], line 1\u001b[0m\n\u001b[1;32m----> 1\u001b[0m akash\u001b[38;5;241m=\u001b[39m\u001b[43mlanko\u001b[49m\u001b[43m(\u001b[49m\u001b[43m)\u001b[49m\n",
      "\u001b[1;31mTypeError\u001b[0m: Can't instantiate abstract class lanko with abstract method registration"
     ]
    }
   ],
   "source": [
    "akash=lanko()"
   ]
  },
  {
   "cell_type": "code",
   "execution_count": 6,
   "id": "23a26662-e916-437a-a866-5ace4ea62c87",
   "metadata": {},
   "outputs": [],
   "source": [
    "class manoj:\n",
    "    def registration(self):\n",
    "        print(\"welcome to registration section\")\n"
   ]
  },
  {
   "cell_type": "code",
   "execution_count": 7,
   "id": "fce74874-3783-4782-94cc-b17309476be3",
   "metadata": {},
   "outputs": [],
   "source": [
    "manoj=manoj()"
   ]
  },
  {
   "cell_type": "code",
   "execution_count": 10,
   "id": "8c8bd5c8-88e9-4763-aecc-76fc8a75249a",
   "metadata": {},
   "outputs": [
    {
     "name": "stdout",
     "output_type": "stream",
     "text": [
      "welcome to registration section\n"
     ]
    }
   ],
   "source": [
    "manoj.registration()"
   ]
  },
  {
   "cell_type": "code",
   "execution_count": null,
   "id": "d2398962-47d2-4423-b0b2-3d4beb3eaa80",
   "metadata": {},
   "outputs": [],
   "source": []
  }
 ],
 "metadata": {
  "kernelspec": {
   "display_name": "Python 3 (ipykernel)",
   "language": "python",
   "name": "python3"
  },
  "language_info": {
   "codemirror_mode": {
    "name": "ipython",
    "version": 3
   },
   "file_extension": ".py",
   "mimetype": "text/x-python",
   "name": "python",
   "nbconvert_exporter": "python",
   "pygments_lexer": "ipython3",
   "version": "3.11.5"
  }
 },
 "nbformat": 4,
 "nbformat_minor": 5
}
