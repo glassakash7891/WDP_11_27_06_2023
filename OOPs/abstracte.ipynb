{
 "cells": [
  {
   "cell_type": "markdown",
   "id": "1e6dc7b7-3f14-4215-b346-e372d5ab809d",
   "metadata": {},
   "source": [
    "# abstraction:\n",
    "\n",
    "# concrete class\n",
    "   > (a class whoose instantiate is possible( we can create object)\n",
    "\n",
    "# abstract class\n",
    "\n",
    "> a class whose instantiate is not possible\n",
    "\n",
    "> child class must inherite ABC class as parent class\n",
    "\n",
    "> at least one method of child must be a abstract method"
   ]
  },
  {
   "cell_type": "code",
   "execution_count": 1,
   "id": "b48e15b8-8743-4271-a256-334676dd791c",
   "metadata": {},
   "outputs": [],
   "source": [
    "from abc import ABC , abstractmethod\n",
    "class lanko(ABC):\n",
    "    @abstractmethod\n",
    "    def registration(self):    # manoj\n",
    "        pass\n",
    "    def login(self):           # akki\n",
    "        pass\n",
    "    def payment(self):         # pank\n",
    "        pass\n",
    "    def location(self):        #ravia\n",
    "        pass"
   ]
  },
  {
   "cell_type": "code",
   "execution_count": 2,
   "id": "4de237e5-3831-44bb-ad5b-f7f13a830d1e",
   "metadata": {},
   "outputs": [
    {
     "ename": "TypeError",
     "evalue": "Can't instantiate abstract class lanko with abstract method registration",
     "output_type": "error",
     "traceback": [
      "\u001b[1;31m---------------------------------------------------------------------------\u001b[0m",
      "\u001b[1;31mTypeError\u001b[0m                                 Traceback (most recent call last)",
      "Cell \u001b[1;32mIn[2], line 1\u001b[0m\n\u001b[1;32m----> 1\u001b[0m akash\u001b[38;5;241m=\u001b[39m\u001b[43mlanko\u001b[49m\u001b[43m(\u001b[49m\u001b[43m)\u001b[49m\n",
      "\u001b[1;31mTypeError\u001b[0m: Can't instantiate abstract class lanko with abstract method registration"
     ]
    }
   ],
   "source": [
    "akash=lanko()"
   ]
  },
  {
   "cell_type": "code",
   "execution_count": 4,
   "id": "4b19a552-e980-4a10-a703-740798ad1b9b",
   "metadata": {},
   "outputs": [],
   "source": [
    "from abc import ABC , abstractmethod\n",
    "class lanko(ABC):\n",
    "    @abstractmethod\n",
    "    def registration(self):    # manoj\n",
    "        pass\n",
    "    def login(self):           # akki\n",
    "        pass\n",
    "    def payment(self):         # pank\n",
    "        pass\n",
    "    def location(self):        # ravi\n",
    "        pass"
   ]
  },
  {
   "cell_type": "code",
   "execution_count": 5,
   "id": "a1c76133-f847-46de-a5b5-c98917ab8bc3",
   "metadata": {},
   "outputs": [],
   "source": [
    "class manoj_lanko(lanko):\n",
    "    def registration(self):\n",
    "        print(\"welecome to registration system\")"
   ]
  },
  {
   "cell_type": "code",
   "execution_count": 6,
   "id": "d105158d-b3f7-400c-9c0d-7aaf60f286fe",
   "metadata": {},
   "outputs": [],
   "source": [
    "man=manoj_lanko()"
   ]
  },
  {
   "cell_type": "code",
   "execution_count": 6,
   "id": "47170589-7cda-469d-a4a8-6b70e036198b",
   "metadata": {},
   "outputs": [],
   "source": [
    "from abc import ABC , abstractmethod\n",
    "class lanko(ABC):\n",
    "    @abstractmethod\n",
    "    def registration(self):    # manoj\n",
    "        pass\n",
    "    @abstractmethod\n",
    "    def login(self):           # akki\n",
    "        pass\n",
    "    @abstractmethod\n",
    "    def payment(self):         # pank\n",
    "        pass\n",
    "    @abstractmethod\n",
    "    def location(self):        # ravi\n",
    "        pass"
   ]
  },
  {
   "cell_type": "code",
   "execution_count": 9,
   "id": "85247577-570a-484b-8d98-e531898b898d",
   "metadata": {},
   "outputs": [],
   "source": [
    "class akki_lanko(lanko):\n",
    "    def registration(self):\n",
    "        pass\n",
    "    def login(self):\n",
    "        print(\"welecome to login section\")\n",
    "    def payment(self):\n",
    "        pass\n",
    "    def location(self):\n",
    "        pass"
   ]
  },
  {
   "cell_type": "code",
   "execution_count": 10,
   "id": "fbe154f4-b018-487f-8489-6f2c3e34c93b",
   "metadata": {},
   "outputs": [],
   "source": [
    "akki=akki_lanko()"
   ]
  },
  {
   "cell_type": "code",
   "execution_count": 11,
   "id": "52c92e6a-a79b-4934-a50f-2ad6cc5f3087",
   "metadata": {},
   "outputs": [],
   "source": [
    "class pank_lanko(lanko):\n",
    "    def registration(self):\n",
    "        pass\n",
    "    def login(self):\n",
    "        pass\n",
    "    def payment(self):\n",
    "        print(\"welecome to payment section\")\n",
    "    def location(self):\n",
    "        pass"
   ]
  },
  {
   "cell_type": "code",
   "execution_count": 12,
   "id": "2df7af72-cb8d-4357-8199-542b66975b7c",
   "metadata": {},
   "outputs": [],
   "source": [
    "pank=pank_lanko()"
   ]
  },
  {
   "cell_type": "code",
   "execution_count": 13,
   "id": "03a174b0-44c3-46b2-acd1-6d9762587780",
   "metadata": {},
   "outputs": [],
   "source": [
    "class ravi_lanko(lanko):\n",
    "    def registration(self):\n",
    "        pass\n",
    "    def login(self):\n",
    "        pass\n",
    "    def payment(self):\n",
    "        pass\n",
    "    def location(self):\n",
    "        print(\"welecome to location system\")"
   ]
  },
  {
   "cell_type": "code",
   "execution_count": 14,
   "id": "f5b8f356-dfb8-4995-8b7f-8bdb5e4c2848",
   "metadata": {},
   "outputs": [],
   "source": [
    "ravi=ravi_lanko()"
   ]
  },
  {
   "cell_type": "code",
   "execution_count": 15,
   "id": "469e4750-8e53-4481-a790-5711273a97e9",
   "metadata": {},
   "outputs": [],
   "source": [
    "\n",
    "class lanko():\n",
    "    def registration(self):\n",
    "        print(\"welecome to registration system\")\n",
    "    def login(self):\n",
    "        print(\"welecome to login section\")\n",
    "    def payment(self):\n",
    "        print(\"welecome to payment section\")\n",
    "    def location(self):\n",
    "        print(\"welecome to location system\")"
   ]
  },
  {
   "cell_type": "code",
   "execution_count": 16,
   "id": "878ba151-edfe-4240-86a5-93f5d5baff80",
   "metadata": {},
   "outputs": [],
   "source": [
    "akash=lanko()"
   ]
  },
  {
   "cell_type": "code",
   "execution_count": 17,
   "id": "be196d13-d310-4804-b009-df54ce7830b9",
   "metadata": {},
   "outputs": [
    {
     "name": "stdout",
     "output_type": "stream",
     "text": [
      "welecome to registration system\n"
     ]
    }
   ],
   "source": [
    "akash.registration()"
   ]
  },
  {
   "cell_type": "code",
   "execution_count": 18,
   "id": "e28fd8d3-3946-4d84-8253-7f4149568b25",
   "metadata": {},
   "outputs": [
    {
     "name": "stdout",
     "output_type": "stream",
     "text": [
      "welecome to location system\n"
     ]
    }
   ],
   "source": [
    "akash.location()"
   ]
  },
  {
   "cell_type": "code",
   "execution_count": 20,
   "id": "7232c735-b987-444c-bbd7-0776bb8e9b26",
   "metadata": {},
   "outputs": [
    {
     "name": "stdout",
     "output_type": "stream",
     "text": [
      "welecome to login section\n"
     ]
    }
   ],
   "source": [
    "akash.login()"
   ]
  },
  {
   "cell_type": "code",
   "execution_count": 21,
   "id": "1533f39f-d0f1-4a9d-beca-f190d616e3e0",
   "metadata": {},
   "outputs": [
    {
     "name": "stdout",
     "output_type": "stream",
     "text": [
      "welecome to payment section\n"
     ]
    }
   ],
   "source": [
    "akash.payment()"
   ]
  },
  {
   "cell_type": "code",
   "execution_count": null,
   "id": "3dbfe118-beb4-403d-9094-c90be721b3e0",
   "metadata": {},
   "outputs": [],
   "source": []
  }
 ],
 "metadata": {
  "kernelspec": {
   "display_name": "Python 3 (ipykernel)",
   "language": "python",
   "name": "python3"
  },
  "language_info": {
   "codemirror_mode": {
    "name": "ipython",
    "version": 3
   },
   "file_extension": ".py",
   "mimetype": "text/x-python",
   "name": "python",
   "nbconvert_exporter": "python",
   "pygments_lexer": "ipython3",
   "version": "3.11.5"
  }
 },
 "nbformat": 4,
 "nbformat_minor": 5
}
