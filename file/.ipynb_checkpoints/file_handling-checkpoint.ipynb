{
 "cells": [
  {
   "cell_type": "markdown",
   "id": "bfb9cfe5-4d06-4370-94d3-e7a083cda1cf",
   "metadata": {},
   "source": [
    "x: create a file\n",
    "\n",
    "r: read a file \n",
    "\n",
    "w: write something on a file\n",
    "\n",
    "a: append something on a file\n",
    "\n"
   ]
  },
  {
   "cell_type": "code",
   "execution_count": 1,
   "id": "624f8532-18fa-4ae4-a9a8-20d1437cc1c3",
   "metadata": {
    "editable": true,
    "slideshow": {
     "slide_type": ""
    },
    "tags": []
   },
   "outputs": [],
   "source": [
    "f1=open(\"akash.txt\",'x')"
   ]
  },
  {
   "cell_type": "code",
   "execution_count": 2,
   "id": "bbf0461f-8489-415a-8be5-68b5986279b3",
   "metadata": {},
   "outputs": [],
   "source": [
    "f1.close()"
   ]
  },
  {
   "cell_type": "code",
   "execution_count": 5,
   "id": "47faf7cd-99dc-4405-8afe-26d7385fac6b",
   "metadata": {},
   "outputs": [],
   "source": [
    "f2=open(\"akash.txt\",\"r\")"
   ]
  },
  {
   "cell_type": "code",
   "execution_count": 7,
   "id": "54b2e059-b4e0-41a2-9fd4-a0eac6d1a961",
   "metadata": {},
   "outputs": [
    {
     "data": {
      "text/plain": [
       "'1 som'"
      ]
     },
     "execution_count": 7,
     "metadata": {},
     "output_type": "execute_result"
    }
   ],
   "source": [
    "f2.read(5)"
   ]
  },
  {
   "cell_type": "code",
   "execution_count": 9,
   "id": "6c8cf989-e511-4259-b22e-f9c60a0ad06d",
   "metadata": {},
   "outputs": [
    {
     "data": {
      "text/plain": [
       "'g'"
      ]
     },
     "execution_count": 9,
     "metadata": {},
     "output_type": "execute_result"
    }
   ],
   "source": [
    "f2.read(6)"
   ]
  },
  {
   "cell_type": "code",
   "execution_count": 10,
   "id": "039cbcee-9321-4a27-a1c9-feba5aa6a80c",
   "metadata": {},
   "outputs": [
    {
     "data": {
      "text/plain": [
       "0"
      ]
     },
     "execution_count": 10,
     "metadata": {},
     "output_type": "execute_result"
    }
   ],
   "source": [
    "f2.seek(0)"
   ]
  },
  {
   "cell_type": "code",
   "execution_count": 13,
   "id": "fe01bb17-befb-4bd3-9df8-d9b4c99b2590",
   "metadata": {},
   "outputs": [
    {
     "data": {
      "text/plain": [
       "''"
      ]
     },
     "execution_count": 13,
     "metadata": {},
     "output_type": "execute_result"
    }
   ],
   "source": [
    "f2.readline()"
   ]
  },
  {
   "cell_type": "code",
   "execution_count": 14,
   "id": "9e54ca7f-e4fe-4b9f-b0a6-7a6a15740daf",
   "metadata": {},
   "outputs": [],
   "source": [
    "f2.close()"
   ]
  },
  {
   "cell_type": "code",
   "execution_count": 15,
   "id": "4a676c43-8257-41b8-bd50-8706ee094701",
   "metadata": {},
   "outputs": [],
   "source": [
    "f3=open(\"akash.txt\",\"w\")"
   ]
  },
  {
   "cell_type": "code",
   "execution_count": 22,
   "id": "9244b85c-a6c9-4fb8-9408-7f16b155cf1f",
   "metadata": {},
   "outputs": [],
   "source": [
    "f4=open(\"akash.txt\",\"w\")"
   ]
  },
  {
   "cell_type": "code",
   "execution_count": 23,
   "id": "a6a7e1f1-7e95-4a26-b869-26742f0c1b9e",
   "metadata": {},
   "outputs": [
    {
     "data": {
      "text/plain": [
       "11"
      ]
     },
     "execution_count": 23,
     "metadata": {},
     "output_type": "execute_result"
    }
   ],
   "source": [
    "f4.write(\"I am akash\\n\")"
   ]
  },
  {
   "cell_type": "code",
   "execution_count": 24,
   "id": "f3ff5e07-4b9f-4a65-8cef-8f3f11876df5",
   "metadata": {},
   "outputs": [],
   "source": [
    "f4.close()"
   ]
  },
  {
   "cell_type": "code",
   "execution_count": 25,
   "id": "ea3b4782-681b-4f59-b99f-57fc5c8c7513",
   "metadata": {},
   "outputs": [],
   "source": [
    "f5=open(\"akash.txt\",\"a\")"
   ]
  },
  {
   "cell_type": "code",
   "execution_count": 26,
   "id": "e86633d3-6ec3-448c-a438-f97bc8905491",
   "metadata": {},
   "outputs": [
    {
     "data": {
      "text/plain": [
       "24"
      ]
     },
     "execution_count": 26,
     "metadata": {},
     "output_type": "execute_result"
    }
   ],
   "source": [
    "f5.write(\"i am in b.tech\\ni am free\")"
   ]
  },
  {
   "cell_type": "code",
   "execution_count": 27,
   "id": "9efd5a87-8883-4f97-b473-b88407e729d9",
   "metadata": {},
   "outputs": [],
   "source": [
    "f5.close()"
   ]
  },
  {
   "cell_type": "code",
   "execution_count": 28,
   "id": "4caccb25-9ad5-4a8d-b8b1-c3433d4da446",
   "metadata": {},
   "outputs": [],
   "source": [
    "f6=open(\"akash.txt\",\"a\")\n",
    "f6.write(\"\\n\")\n",
    "for i in range(10):\n",
    "    f6.write(\"hello world\\n\")\n",
    "f6.close()\n",
    "    "
   ]
  },
  {
   "cell_type": "code",
   "execution_count": null,
   "id": "0512d34c-8af1-470e-86f7-4fcd3e9181b6",
   "metadata": {},
   "outputs": [],
   "source": []
  }
 ],
 "metadata": {
  "kernelspec": {
   "display_name": "Python 3 (ipykernel)",
   "language": "python",
   "name": "python3"
  },
  "language_info": {
   "codemirror_mode": {
    "name": "ipython",
    "version": 3
   },
   "file_extension": ".py",
   "mimetype": "text/x-python",
   "name": "python",
   "nbconvert_exporter": "python",
   "pygments_lexer": "ipython3",
   "version": "3.11.5"
  }
 },
 "nbformat": 4,
 "nbformat_minor": 5
}
