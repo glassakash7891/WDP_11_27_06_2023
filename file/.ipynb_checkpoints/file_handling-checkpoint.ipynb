{
 "cells": [
  {
   "cell_type": "markdown",
   "id": "bfb9cfe5-4d06-4370-94d3-e7a083cda1cf",
   "metadata": {},
   "source": [
    "x: create a file\n",
    "\n",
    "r: read a file \n",
    "\n",
    "w: write something on a file\n",
    "\n",
    "a: append something on a file\n",
    "\n"
   ]
  },
  {
   "cell_type": "code",
   "execution_count": 8,
   "id": "88085ccc-3065-4dea-948b-cc9e290f90a2",
   "metadata": {},
   "outputs": [],
   "source": [
    "f1=open(\"akash13.txt\",'x')"
   ]
  },
  {
   "cell_type": "code",
   "execution_count": 11,
   "id": "557bc807-4f73-4dcd-a5bb-9e9320df8bc9",
   "metadata": {},
   "outputs": [],
   "source": [
    "f1.close()"
   ]
  },
  {
   "cell_type": "code",
   "execution_count": null,
   "id": "624f8532-18fa-4ae4-a9a8-20d1437cc1c3",
   "metadata": {
    "editable": true,
    "slideshow": {
     "slide_type": ""
    },
    "tags": []
   },
   "outputs": [],
   "source": []
  }
 ],
 "metadata": {
  "kernelspec": {
   "display_name": "Python 3 (ipykernel)",
   "language": "python",
   "name": "python3"
  },
  "language_info": {
   "codemirror_mode": {
    "name": "ipython",
    "version": 3
   },
   "file_extension": ".py",
   "mimetype": "text/x-python",
   "name": "python",
   "nbconvert_exporter": "python",
   "pygments_lexer": "ipython3",
   "version": "3.11.5"
  }
 },
 "nbformat": 4,
 "nbformat_minor": 5
}
