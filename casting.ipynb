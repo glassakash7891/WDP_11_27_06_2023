{
 "cells": [
  {
   "cell_type": "markdown",
   "id": "126a4999-f105-4750-b00a-fbeeda47917f",
   "metadata": {},
   "source": [
    "# casting\n",
    "\n",
    "> conversion of one datatype to another datatype called casting"
   ]
  },
  {
   "cell_type": "code",
   "execution_count": 1,
   "id": "c8177ba8-5ed8-4293-826e-fa8ce32da361",
   "metadata": {},
   "outputs": [
    {
     "data": {
      "text/plain": [
       "(0, 0.0, '', (), set(), frozenset(), {}, 0j, False, [])"
      ]
     },
     "execution_count": 1,
     "metadata": {},
     "output_type": "execute_result"
    }
   ],
   "source": [
    "int(),float(),str(),tuple(),set(),frozenset(),dict(),complex(),bool(),list()"
   ]
  },
  {
   "cell_type": "code",
   "execution_count": 6,
   "id": "960d302f-7c7f-41ff-8ff8-7fc484e33988",
   "metadata": {},
   "outputs": [
    {
     "name": "stdout",
     "output_type": "stream",
     "text": [
      "<class 'int'> 10\n"
     ]
    }
   ],
   "source": [
    "a=10\n",
    "print(type(a),a)"
   ]
  },
  {
   "cell_type": "markdown",
   "id": "31aae906-5446-4803-870c-021020615162",
   "metadata": {},
   "source": [
    "# int change into float & string"
   ]
  },
  {
   "cell_type": "code",
   "execution_count": 7,
   "id": "09109e27-383b-42cf-b932-9fb9a36e39f2",
   "metadata": {},
   "outputs": [
    {
     "data": {
      "text/plain": [
       "10.0"
      ]
     },
     "execution_count": 7,
     "metadata": {},
     "output_type": "execute_result"
    }
   ],
   "source": [
    "float(a)"
   ]
  },
  {
   "cell_type": "code",
   "execution_count": 8,
   "id": "49c6d50a-f5a8-4bc3-a059-98c726a647ec",
   "metadata": {},
   "outputs": [],
   "source": [
    "b=float(a)"
   ]
  },
  {
   "cell_type": "code",
   "execution_count": 9,
   "id": "318902da-a7c2-435c-bb92-6063b94f457e",
   "metadata": {},
   "outputs": [
    {
     "name": "stdout",
     "output_type": "stream",
     "text": [
      "10.0\n"
     ]
    }
   ],
   "source": [
    "print(b)"
   ]
  },
  {
   "cell_type": "code",
   "execution_count": 10,
   "id": "ce3a8050-1209-4c06-817b-af457f572aeb",
   "metadata": {},
   "outputs": [],
   "source": [
    "c=str(a)"
   ]
  },
  {
   "cell_type": "code",
   "execution_count": 11,
   "id": "6e8293a6-ebbd-45a3-ba57-ed4309ac3c28",
   "metadata": {},
   "outputs": [
    {
     "name": "stdout",
     "output_type": "stream",
     "text": [
      "10\n"
     ]
    }
   ],
   "source": [
    "print(a)"
   ]
  },
  {
   "cell_type": "code",
   "execution_count": 12,
   "id": "24de3f40-0443-45c6-8989-91f5316c55db",
   "metadata": {},
   "outputs": [
    {
     "data": {
      "text/plain": [
       "'10'"
      ]
     },
     "execution_count": 12,
     "metadata": {},
     "output_type": "execute_result"
    }
   ],
   "source": [
    "c"
   ]
  },
  {
   "cell_type": "markdown",
   "id": "301e90ff-ca35-4dba-b0e8-a9ba1c2e559d",
   "metadata": {},
   "source": [
    "# float into int & string"
   ]
  },
  {
   "cell_type": "code",
   "execution_count": 13,
   "id": "2343001a-c666-4451-bc51-52c2846c590d",
   "metadata": {},
   "outputs": [
    {
     "name": "stdout",
     "output_type": "stream",
     "text": [
      "<class 'float'> 10.99\n"
     ]
    }
   ],
   "source": [
    "a=10.99\n",
    "print(type(a),a)"
   ]
  },
  {
   "cell_type": "code",
   "execution_count": 16,
   "id": "ae9d79da-18f4-4cd2-958f-90202987dfda",
   "metadata": {},
   "outputs": [
    {
     "name": "stdout",
     "output_type": "stream",
     "text": [
      "10\n"
     ]
    }
   ],
   "source": [
    "b=print(int(a))"
   ]
  },
  {
   "cell_type": "code",
   "execution_count": 17,
   "id": "12d062a7-b09f-48dd-ad30-dee9cd1b4548",
   "metadata": {},
   "outputs": [
    {
     "name": "stdout",
     "output_type": "stream",
     "text": [
      "10.99\n"
     ]
    }
   ],
   "source": [
    "c=print(str(a))"
   ]
  },
  {
   "cell_type": "markdown",
   "id": "cdfb5936-a64e-4b1e-a42b-3aec35314d26",
   "metadata": {},
   "source": [
    "# string into int & float"
   ]
  },
  {
   "cell_type": "code",
   "execution_count": 18,
   "id": "f61f1a46-0a54-4846-998a-4cfc620e140a",
   "metadata": {},
   "outputs": [],
   "source": [
    "a=\"10\""
   ]
  },
  {
   "cell_type": "code",
   "execution_count": 19,
   "id": "08bbc16e-89dd-4c06-b366-4ca0d01fba02",
   "metadata": {},
   "outputs": [
    {
     "name": "stdout",
     "output_type": "stream",
     "text": [
      "10\n"
     ]
    }
   ],
   "source": [
    "b=print(int(a))"
   ]
  },
  {
   "cell_type": "code",
   "execution_count": 22,
   "id": "89ef8a03-a74d-42c7-b552-347b70e74e0b",
   "metadata": {},
   "outputs": [
    {
     "name": "stdout",
     "output_type": "stream",
     "text": [
      "10.0\n"
     ]
    }
   ],
   "source": [
    "c=print(float(a))"
   ]
  },
  {
   "cell_type": "code",
   "execution_count": 26,
   "id": "04c48bbd-5ff9-41b0-a315-2b5054e39d0e",
   "metadata": {},
   "outputs": [
    {
     "name": "stdout",
     "output_type": "stream",
     "text": [
      "<class 'str'>\n"
     ]
    }
   ],
   "source": [
    "z='10.99'\n",
    "print(type(z))"
   ]
  },
  {
   "cell_type": "code",
   "execution_count": 24,
   "id": "f0f45555-875e-4b8c-a809-a945094a8495",
   "metadata": {},
   "outputs": [
    {
     "ename": "ValueError",
     "evalue": "invalid literal for int() with base 10: '10.99'",
     "output_type": "error",
     "traceback": [
      "\u001b[1;31m---------------------------------------------------------------------------\u001b[0m",
      "\u001b[1;31mValueError\u001b[0m                                Traceback (most recent call last)",
      "Cell \u001b[1;32mIn[24], line 1\u001b[0m\n\u001b[1;32m----> 1\u001b[0m \u001b[38;5;28;43mint\u001b[39;49m\u001b[43m(\u001b[49m\u001b[43mz\u001b[49m\u001b[43m)\u001b[49m\n",
      "\u001b[1;31mValueError\u001b[0m: invalid literal for int() with base 10: '10.99'"
     ]
    }
   ],
   "source": [
    "int(z)"
   ]
  },
  {
   "cell_type": "code",
   "execution_count": 27,
   "id": "2f2008fe-8ce3-49d2-b9d2-3f4be25e7c59",
   "metadata": {},
   "outputs": [],
   "source": [
    "x=float(z)"
   ]
  },
  {
   "cell_type": "code",
   "execution_count": 29,
   "id": "3146ed4b-bdb6-413a-ad25-ac546141efeb",
   "metadata": {},
   "outputs": [
    {
     "name": "stdout",
     "output_type": "stream",
     "text": [
      "10.99\n"
     ]
    }
   ],
   "source": [
    "print(x)"
   ]
  },
  {
   "cell_type": "code",
   "execution_count": 31,
   "id": "e5163118-05e3-4668-a967-aa69d2bfdb53",
   "metadata": {},
   "outputs": [
    {
     "name": "stdout",
     "output_type": "stream",
     "text": [
      "10\n"
     ]
    }
   ],
   "source": [
    "print(int(x))"
   ]
  },
  {
   "cell_type": "markdown",
   "id": "5e5e3fb9-4ea3-4b32-9a8b-a7734333a349",
   "metadata": {},
   "source": [
    "# list,tuple,set,frozenset"
   ]
  },
  {
   "cell_type": "code",
   "execution_count": 33,
   "id": "e3ee32bf-013e-48d9-9a4c-7e508517d401",
   "metadata": {},
   "outputs": [],
   "source": [
    "a=[1,2,3,4,5,6,6]"
   ]
  },
  {
   "cell_type": "code",
   "execution_count": 34,
   "id": "4dae5b85-d2e0-45e1-bf96-e714da558758",
   "metadata": {},
   "outputs": [
    {
     "name": "stdout",
     "output_type": "stream",
     "text": [
      "(1, 2, 3, 4, 5, 6, 6)\n"
     ]
    }
   ],
   "source": [
    "print(tuple(a))"
   ]
  },
  {
   "cell_type": "code",
   "execution_count": 35,
   "id": "bd75fccc-1a76-4fe7-87f9-1fe3e60744bf",
   "metadata": {},
   "outputs": [
    {
     "name": "stdout",
     "output_type": "stream",
     "text": [
      "{1, 2, 3, 4, 5, 6}\n"
     ]
    }
   ],
   "source": [
    "print(set(a))"
   ]
  },
  {
   "cell_type": "code",
   "execution_count": 36,
   "id": "fcd12796-d6c1-4e09-a09f-a0884dd853d6",
   "metadata": {},
   "outputs": [
    {
     "name": "stdout",
     "output_type": "stream",
     "text": [
      "frozenset({1, 2, 3, 4, 5, 6})\n"
     ]
    }
   ],
   "source": [
    "print(frozenset(a))"
   ]
  },
  {
   "cell_type": "code",
   "execution_count": 37,
   "id": "f3776ec3-d85c-46ed-8555-d7906f05bc0a",
   "metadata": {},
   "outputs": [],
   "source": [
    "a=(1,2,3,4,5,6,7,8)"
   ]
  },
  {
   "cell_type": "code",
   "execution_count": 38,
   "id": "54d9f2c9-6aeb-421d-96c3-b967c446272f",
   "metadata": {},
   "outputs": [],
   "source": [
    "b=list(a)"
   ]
  },
  {
   "cell_type": "code",
   "execution_count": 39,
   "id": "1a6f6369-bb08-482e-890f-ddbfa0040f1e",
   "metadata": {},
   "outputs": [],
   "source": [
    "b.append(10)"
   ]
  },
  {
   "cell_type": "code",
   "execution_count": 40,
   "id": "e0a638a9-a4e1-4a2a-9752-a1723fe18276",
   "metadata": {},
   "outputs": [
    {
     "data": {
      "text/plain": [
       "[1, 2, 3, 4, 5, 6, 7, 8, 10]"
      ]
     },
     "execution_count": 40,
     "metadata": {},
     "output_type": "execute_result"
    }
   ],
   "source": [
    "b\n"
   ]
  },
  {
   "cell_type": "code",
   "execution_count": 41,
   "id": "001bab4d-937e-41d0-b330-eb9741205079",
   "metadata": {},
   "outputs": [],
   "source": [
    "a=tuple(b)"
   ]
  },
  {
   "cell_type": "code",
   "execution_count": 44,
   "id": "58f424ef-093c-40fb-8ccb-d26218be40e9",
   "metadata": {},
   "outputs": [
    {
     "name": "stdout",
     "output_type": "stream",
     "text": [
      "(1, 2, 3, 4, 5, 6, 7, 8, 10)\n",
      "<class 'tuple'>\n"
     ]
    }
   ],
   "source": [
    "print(a)\n",
    "print(type(a))"
   ]
  },
  {
   "cell_type": "code",
   "execution_count": null,
   "id": "6f1fb2c0-7a6e-4a4a-a0cf-39e6524e4b5a",
   "metadata": {},
   "outputs": [],
   "source": []
  }
 ],
 "metadata": {
  "kernelspec": {
   "display_name": "Python 3 (ipykernel)",
   "language": "python",
   "name": "python3"
  },
  "language_info": {
   "codemirror_mode": {
    "name": "ipython",
    "version": 3
   },
   "file_extension": ".py",
   "mimetype": "text/x-python",
   "name": "python",
   "nbconvert_exporter": "python",
   "pygments_lexer": "ipython3",
   "version": "3.11.4"
  }
 },
 "nbformat": 4,
 "nbformat_minor": 5
}
