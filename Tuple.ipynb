{
 "cells": [
  {
   "cell_type": "markdown",
   "id": "db033b02-b1ab-4eff-b030-75f23325dab7",
   "metadata": {},
   "source": [
    "# tuple\n",
    "\n",
    "> tuple constructor is tuple()\n",
    "\n",
    "> tuple literal is ()\n",
    "\n",
    "> tuple is set of sequence of element\n",
    "\n",
    "> tuple support indexing\n",
    "\n",
    "> tuple support slicing\n",
    "\n",
    "> tuple support concatination\n",
    "\n",
    "> tuple support nested tuple\n",
    "\n",
    "> tuple methods.index().count()"
   ]
  },
  {
   "cell_type": "code",
   "execution_count": 2,
   "id": "b2ef8c5e-e8a3-4550-95c2-de4260261d79",
   "metadata": {},
   "outputs": [],
   "source": [
    "a=(10,10.0,\"10\",[1,2,3],(1,2,3,4))"
   ]
  },
  {
   "cell_type": "code",
   "execution_count": 3,
   "id": "f3b6dd95-5cc3-4825-9237-b823137debf2",
   "metadata": {},
   "outputs": [
    {
     "name": "stdout",
     "output_type": "stream",
     "text": [
      "(10, 10.0, '10', [1, 2, 3], (1, 2, 3, 4))\n"
     ]
    }
   ],
   "source": [
    "print(a)"
   ]
  },
  {
   "cell_type": "code",
   "execution_count": 7,
   "id": "a9176b69-a271-440e-a046-abb8a8fdd5bc",
   "metadata": {},
   "outputs": [
    {
     "name": "stdout",
     "output_type": "stream",
     "text": [
      "<class 'str'>\n",
      "[10.0]\n"
     ]
    }
   ],
   "source": [
    "b=\"[10.0]\"\n",
    "print(type(b))\n",
    "print(b)"
   ]
  },
  {
   "cell_type": "code",
   "execution_count": 11,
   "id": "b8715d01-15ef-4753-bc57-bed2f1d4f35d",
   "metadata": {},
   "outputs": [
    {
     "name": "stdout",
     "output_type": "stream",
     "text": [
      "<class 'tuple'>\n",
      "(['10.0'],)\n"
     ]
    }
   ],
   "source": [
    "c=([\"10.0\"],)\n",
    "print(type(c))  # if we need to made tuple in sigle element to need (,)coma.\n",
    "print(c)"
   ]
  },
  {
   "cell_type": "code",
   "execution_count": 13,
   "id": "8ebe1862-0212-4f97-a8eb-5a7bada6af49",
   "metadata": {},
   "outputs": [
    {
     "name": "stdout",
     "output_type": "stream",
     "text": [
      "<class 'tuple'>\n",
      "()\n"
     ]
    }
   ],
   "source": [
    "c=()\n",
    "print(type(c)) \n",
    "print(c)"
   ]
  },
  {
   "cell_type": "code",
   "execution_count": 16,
   "id": "db6ab7a7-fe0a-4383-8d50-dd848f16af92",
   "metadata": {},
   "outputs": [
    {
     "name": "stdout",
     "output_type": "stream",
     "text": [
      "<class 'tuple'>\n",
      "(1,)\n"
     ]
    }
   ],
   "source": [
    "c=(1,)\n",
    "print(type(c))\n",
    "print(c)"
   ]
  },
  {
   "cell_type": "code",
   "execution_count": 19,
   "id": "c53833d6-09cb-4fe6-979c-62c7e3977a29",
   "metadata": {},
   "outputs": [
    {
     "name": "stdout",
     "output_type": "stream",
     "text": [
      "<class 'tuple'>\n",
      "()\n"
     ]
    }
   ],
   "source": [
    "a=tuple()\n",
    "print(type(a))\n",
    "print(a)"
   ]
  },
  {
   "cell_type": "code",
   "execution_count": 30,
   "id": "777ce303-b596-47f9-b3c0-8fdf26012de7",
   "metadata": {},
   "outputs": [],
   "source": [
    "b=(10,10.0,\"10\",[1,2,3],(1,2,3,4))"
   ]
  },
  {
   "cell_type": "code",
   "execution_count": 31,
   "id": "5c55aeb2-f451-430a-9a21-ab4cbe09cfa5",
   "metadata": {},
   "outputs": [
    {
     "name": "stdout",
     "output_type": "stream",
     "text": [
      "(10, 10.0, '10', [1, 2, 3], (1, 2, 3, 4))\n"
     ]
    }
   ],
   "source": [
    "print(b)"
   ]
  },
  {
   "cell_type": "code",
   "execution_count": 36,
   "id": "a13de9af-cc30-4025-b012-0a043dda96ea",
   "metadata": {},
   "outputs": [
    {
     "name": "stdout",
     "output_type": "stream",
     "text": [
      "(1, 2, 3, 4)\n"
     ]
    }
   ],
   "source": [
    "print(b[4])"
   ]
  },
  {
   "cell_type": "code",
   "execution_count": 37,
   "id": "854adff3-1c00-4a1d-92d3-9c6ba434cce1",
   "metadata": {},
   "outputs": [
    {
     "name": "stdout",
     "output_type": "stream",
     "text": [
      "(10.0, '10')\n",
      "<class 'tuple'>\n"
     ]
    }
   ],
   "source": [
    "print(b[1:3])\n",
    "print(type(b))"
   ]
  },
  {
   "cell_type": "code",
   "execution_count": 39,
   "id": "e2ed0289-260b-4085-8d85-1639c629ee2d",
   "metadata": {},
   "outputs": [
    {
     "name": "stdout",
     "output_type": "stream",
     "text": [
      "(4, 3, 2, 1)\n"
     ]
    }
   ],
   "source": [
    "print(b[4][::-1])"
   ]
  },
  {
   "cell_type": "code",
   "execution_count": 41,
   "id": "b04979cd-6f45-4ebd-b465-e46d70fb126e",
   "metadata": {},
   "outputs": [
    {
     "name": "stdout",
     "output_type": "stream",
     "text": [
      "(10, 10.0, '10', [1, 2, 3], (1, 2, 3, 4))\n"
     ]
    }
   ],
   "source": [
    "print(b)"
   ]
  },
  {
   "cell_type": "code",
   "execution_count": 43,
   "id": "8474a777-dc2a-41b8-961b-c30b83748ab5",
   "metadata": {},
   "outputs": [
    {
     "name": "stdout",
     "output_type": "stream",
     "text": [
      "('10', [1, 2, 3], (1, 2, 3, 4))\n"
     ]
    }
   ],
   "source": [
    "print(b[2:5])"
   ]
  },
  {
   "cell_type": "code",
   "execution_count": 45,
   "id": "efcedcf1-262b-4b1d-b0c6-04661887fbb3",
   "metadata": {},
   "outputs": [
    {
     "data": {
      "text/plain": [
       "(1, 2, 3, 5, 6, 7, 7, 8)"
      ]
     },
     "execution_count": 45,
     "metadata": {},
     "output_type": "execute_result"
    }
   ],
   "source": [
    "(1,2,3)+(5,6,7,7,8)"
   ]
  },
  {
   "cell_type": "code",
   "execution_count": 12,
   "id": "656e553b-f998-4c1f-8ee2-01a7e6962260",
   "metadata": {},
   "outputs": [],
   "source": [
    "a=(1,2,2,2,2,3,3,3,4,4,5,6,7)"
   ]
  },
  {
   "cell_type": "code",
   "execution_count": 13,
   "id": "699f3626-2310-490b-9315-1fcd48414c13",
   "metadata": {},
   "outputs": [
    {
     "name": "stdout",
     "output_type": "stream",
     "text": [
      "4\n"
     ]
    }
   ],
   "source": [
    "print(a.count(2))"
   ]
  },
  {
   "cell_type": "code",
   "execution_count": 14,
   "id": "9422728d-42bf-466a-8bdb-73ceb2ba6215",
   "metadata": {},
   "outputs": [
    {
     "name": "stdout",
     "output_type": "stream",
     "text": [
      "1\n"
     ]
    }
   ],
   "source": [
    "print(a.index(2))"
   ]
  },
  {
   "cell_type": "code",
   "execution_count": 15,
   "id": "f0120b18-180a-4683-89c5-0c875e83723a",
   "metadata": {},
   "outputs": [
    {
     "name": "stdout",
     "output_type": "stream",
     "text": [
      "10\n"
     ]
    }
   ],
   "source": [
    "print(a.index(5))"
   ]
  },
  {
   "cell_type": "markdown",
   "id": "539fe5e3-a4a8-4f97-a5a1-49043278cd5e",
   "metadata": {},
   "source": [
    "# packing and unpacking"
   ]
  },
  {
   "cell_type": "code",
   "execution_count": 1,
   "id": "0b0007ec-110f-4091-bed8-d743ee697607",
   "metadata": {},
   "outputs": [],
   "source": [
    "a=10,10.0,\"10\" # example of packing"
   ]
  },
  {
   "cell_type": "code",
   "execution_count": 2,
   "id": "6ba4969d-eb01-40a1-bdbf-fd2f733e5b11",
   "metadata": {},
   "outputs": [
    {
     "name": "stdout",
     "output_type": "stream",
     "text": [
      "(10, 10.0, '10')\n",
      "<class 'tuple'>\n"
     ]
    }
   ],
   "source": [
    "print(a)\n",
    "print(type(a))"
   ]
  },
  {
   "cell_type": "code",
   "execution_count": 3,
   "id": "4a227018-5f2f-440d-9d25-6907abf0e88f",
   "metadata": {},
   "outputs": [],
   "source": [
    "akash,chetan,rajput=10,10.0,\"10\""
   ]
  },
  {
   "cell_type": "code",
   "execution_count": 4,
   "id": "bce9e2dd-865e-4883-b925-b1467beda29e",
   "metadata": {},
   "outputs": [
    {
     "name": "stdout",
     "output_type": "stream",
     "text": [
      "10\n"
     ]
    }
   ],
   "source": [
    "print(akash)"
   ]
  },
  {
   "cell_type": "code",
   "execution_count": 5,
   "id": "b6caa1fb-a048-4047-87e1-22cac9a09a4d",
   "metadata": {},
   "outputs": [
    {
     "name": "stdout",
     "output_type": "stream",
     "text": [
      "10.0\n"
     ]
    }
   ],
   "source": [
    "print(chetan)"
   ]
  },
  {
   "cell_type": "code",
   "execution_count": 6,
   "id": "6fe90a36-be04-4b5f-a8a7-56d10c8f3c33",
   "metadata": {},
   "outputs": [
    {
     "name": "stdout",
     "output_type": "stream",
     "text": [
      "10\n"
     ]
    }
   ],
   "source": [
    "print(rajput)"
   ]
  },
  {
   "cell_type": "code",
   "execution_count": 7,
   "id": "cc7aa694-53f1-45bf-a1f0-0f3f7f63e677",
   "metadata": {},
   "outputs": [
    {
     "name": "stdout",
     "output_type": "stream",
     "text": [
      "10 10.0 10\n"
     ]
    }
   ],
   "source": [
    "print(akash,chetan,rajput)"
   ]
  },
  {
   "cell_type": "code",
   "execution_count": 8,
   "id": "351e4aae-73f6-4dd6-b753-adceae6121f1",
   "metadata": {},
   "outputs": [
    {
     "ename": "ValueError",
     "evalue": "too many values to unpack (expected 3)",
     "output_type": "error",
     "traceback": [
      "\u001b[1;31m---------------------------------------------------------------------------\u001b[0m",
      "\u001b[1;31mValueError\u001b[0m                                Traceback (most recent call last)",
      "Cell \u001b[1;32mIn[8], line 1\u001b[0m\n\u001b[1;32m----> 1\u001b[0m akash,chetan,rajput\u001b[38;5;241m=\u001b[39m\u001b[38;5;241m10\u001b[39m,\u001b[38;5;241m10.0\u001b[39m,\u001b[38;5;124m\"\u001b[39m\u001b[38;5;124m10\u001b[39m\u001b[38;5;124m\"\u001b[39m,[\u001b[38;5;241m1\u001b[39m,\u001b[38;5;241m2\u001b[39m]\n",
      "\u001b[1;31mValueError\u001b[0m: too many values to unpack (expected 3)"
     ]
    }
   ],
   "source": [
    "akash,chetan,rajput=10,10.0,\"10\",[1,2]"
   ]
  },
  {
   "cell_type": "code",
   "execution_count": null,
   "id": "af70f007-d396-407b-ab2b-241e72f9052c",
   "metadata": {},
   "outputs": [],
   "source": [
    "akash,chetan,*rajput=10,10.0,\"10\",[1,2]"
   ]
  },
  {
   "cell_type": "code",
   "execution_count": 9,
   "id": "9fa8aa81-8388-4d16-bcda-2a35c051e7e7",
   "metadata": {},
   "outputs": [
    {
     "name": "stdout",
     "output_type": "stream",
     "text": [
      "10 10.0 10\n"
     ]
    }
   ],
   "source": [
    "print(akash,chetan,rajput)"
   ]
  },
  {
   "cell_type": "code",
   "execution_count": 10,
   "id": "ffc1cc5a-a02b-4598-9c10-5a672c20bed2",
   "metadata": {},
   "outputs": [],
   "source": [
    "*akash,chetan,rajput=10,10.0,\"10\",[1,2]"
   ]
  },
  {
   "cell_type": "code",
   "execution_count": 11,
   "id": "aa09771e-aee1-495b-9c21-0c4b42b76262",
   "metadata": {},
   "outputs": [
    {
     "name": "stdout",
     "output_type": "stream",
     "text": [
      "[10, 10.0] 10 [1, 2]\n"
     ]
    }
   ],
   "source": [
    "print(akash,chetan,rajput)"
   ]
  },
  {
   "cell_type": "code",
   "execution_count": null,
   "id": "d50761ab-979c-4c11-8703-3a0c46f3c38c",
   "metadata": {},
   "outputs": [],
   "source": []
  }
 ],
 "metadata": {
  "kernelspec": {
   "display_name": "Python 3 (ipykernel)",
   "language": "python",
   "name": "python3"
  },
  "language_info": {
   "codemirror_mode": {
    "name": "ipython",
    "version": 3
   },
   "file_extension": ".py",
   "mimetype": "text/x-python",
   "name": "python",
   "nbconvert_exporter": "python",
   "pygments_lexer": "ipython3",
   "version": "3.11.4"
  }
 },
 "nbformat": 4,
 "nbformat_minor": 5
}
