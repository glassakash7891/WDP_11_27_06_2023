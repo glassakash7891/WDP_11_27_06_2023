{
 "cells": [
  {
   "cell_type": "markdown",
   "id": "d9f948a5-6074-4612-8bf3-fc7dc159a18e",
   "metadata": {},
   "source": [
    "# complex\n",
    "\n",
    "> complex constructor is complex()\n",
    "\n",
    "> complex literal is 0j\n",
    "\n",
    "> in math complex expression is a+bi"
   ]
  },
  {
   "cell_type": "code",
   "execution_count": 1,
   "id": "86719cfc-d5f3-40a2-8f0e-4cd5f1db002b",
   "metadata": {},
   "outputs": [
    {
     "data": {
      "text/plain": [
       "0j"
      ]
     },
     "execution_count": 1,
     "metadata": {},
     "output_type": "execute_result"
    }
   ],
   "source": [
    "complex()"
   ]
  },
  {
   "cell_type": "code",
   "execution_count": 2,
   "id": "ad60e624-f096-4aa7-8cde-83b6b211d6da",
   "metadata": {},
   "outputs": [
    {
     "data": {
      "text/plain": [
       "0j"
      ]
     },
     "execution_count": 2,
     "metadata": {},
     "output_type": "execute_result"
    }
   ],
   "source": [
    "0j"
   ]
  },
  {
   "cell_type": "code",
   "execution_count": 4,
   "id": "e1d9339b-9149-4a3b-b036-5accbc284246",
   "metadata": {},
   "outputs": [
    {
     "name": "stdout",
     "output_type": "stream",
     "text": [
      "0j\n"
     ]
    }
   ],
   "source": [
    "print(0j)"
   ]
  },
  {
   "cell_type": "code",
   "execution_count": 5,
   "id": "33a4ba50-4908-4b72-b9c7-9dccb8401ec7",
   "metadata": {},
   "outputs": [],
   "source": [
    "a=2+2j"
   ]
  },
  {
   "cell_type": "code",
   "execution_count": 6,
   "id": "d44a6642-b9f9-40a8-a2bf-a20c8b880f06",
   "metadata": {},
   "outputs": [
    {
     "name": "stdout",
     "output_type": "stream",
     "text": [
      "(2+2j)\n"
     ]
    }
   ],
   "source": [
    "print(a)"
   ]
  },
  {
   "cell_type": "code",
   "execution_count": 7,
   "id": "7148001c-7dc3-412c-847d-fa0f4ec73ffc",
   "metadata": {},
   "outputs": [],
   "source": [
    "b=2+4j"
   ]
  },
  {
   "cell_type": "code",
   "execution_count": 8,
   "id": "66186068-b4ce-4fb2-b09a-bb67c90ea707",
   "metadata": {},
   "outputs": [
    {
     "name": "stdout",
     "output_type": "stream",
     "text": [
      "(2+4j)\n"
     ]
    }
   ],
   "source": [
    "print(b)"
   ]
  },
  {
   "cell_type": "code",
   "execution_count": 9,
   "id": "51f7bea4-65cf-4bc3-a34e-69eb8588be23",
   "metadata": {},
   "outputs": [
    {
     "name": "stdout",
     "output_type": "stream",
     "text": [
      "(4+6j)\n"
     ]
    }
   ],
   "source": [
    "print(a+b)"
   ]
  },
  {
   "cell_type": "code",
   "execution_count": 10,
   "id": "68168664-15ab-4db8-bf59-03d303a87494",
   "metadata": {},
   "outputs": [
    {
     "name": "stdout",
     "output_type": "stream",
     "text": [
      "-2j\n"
     ]
    }
   ],
   "source": [
    "print(a-b)"
   ]
  },
  {
   "cell_type": "code",
   "execution_count": 11,
   "id": "e28208a2-a473-41e0-a3ab-4aeda43364d7",
   "metadata": {},
   "outputs": [
    {
     "name": "stdout",
     "output_type": "stream",
     "text": [
      "(0.6-0.2j)\n"
     ]
    }
   ],
   "source": [
    "print(a/b)"
   ]
  },
  {
   "cell_type": "code",
   "execution_count": 12,
   "id": "952951f8-591b-48fa-b893-61862a4a6407",
   "metadata": {},
   "outputs": [
    {
     "name": "stdout",
     "output_type": "stream",
     "text": [
      "<class 'complex'>\n"
     ]
    }
   ],
   "source": [
    "print(type(a))"
   ]
  },
  {
   "cell_type": "code",
   "execution_count": 13,
   "id": "02d883b8-6cc4-4e05-be8d-94a5cea43e80",
   "metadata": {},
   "outputs": [
    {
     "name": "stdout",
     "output_type": "stream",
     "text": [
      "(-4+12j)\n"
     ]
    }
   ],
   "source": [
    "print(a*b)"
   ]
  },
  {
   "cell_type": "code",
   "execution_count": 14,
   "id": "7314d712-56db-4476-8f80-841ea68fa4a3",
   "metadata": {},
   "outputs": [
    {
     "data": {
      "text/plain": [
       "(2+0j)"
      ]
     },
     "execution_count": 14,
     "metadata": {},
     "output_type": "execute_result"
    }
   ],
   "source": [
    "complex(2)"
   ]
  },
  {
   "cell_type": "code",
   "execution_count": 15,
   "id": "dbca42ea-0275-4b72-bde9-948cfd774482",
   "metadata": {},
   "outputs": [
    {
     "data": {
      "text/plain": [
       "(3+2j)"
      ]
     },
     "execution_count": 15,
     "metadata": {},
     "output_type": "execute_result"
    }
   ],
   "source": [
    "complex(3,2)"
   ]
  },
  {
   "cell_type": "code",
   "execution_count": null,
   "id": "ed39c2e6-8d70-4ca4-a3db-e89f51539b7c",
   "metadata": {},
   "outputs": [],
   "source": []
  }
 ],
 "metadata": {
  "kernelspec": {
   "display_name": "Python 3 (ipykernel)",
   "language": "python",
   "name": "python3"
  },
  "language_info": {
   "codemirror_mode": {
    "name": "ipython",
    "version": 3
   },
   "file_extension": ".py",
   "mimetype": "text/x-python",
   "name": "python",
   "nbconvert_exporter": "python",
   "pygments_lexer": "ipython3",
   "version": "3.11.4"
  }
 },
 "nbformat": 4,
 "nbformat_minor": 5
}
