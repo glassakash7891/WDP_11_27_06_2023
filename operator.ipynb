{
 "cells": [
  {
   "cell_type": "markdown",
   "id": "8dbb7bdc-0f6e-48e0-b31a-232682166a79",
   "metadata": {},
   "source": [
    "# operator\n",
    "\n",
    "> Arithmetic operators\n",
    "    \n",
    "> Assignment operators\n",
    "    \n",
    "> Comparison operators\n",
    "\n",
    "> Logical operators\n",
    "\n",
    "> Identity operators\n",
    "\n",
    "> Membership operators\n",
    "\n",
    "> Bitwise operators"
   ]
  },
  {
   "cell_type": "markdown",
   "id": "d28283b2-5cb2-41ef-909f-10bf1d7e5f92",
   "metadata": {},
   "source": [
    "# arithmetic operators\n",
    "\n",
    " , + , - , / , // , % , * , **"
   ]
  },
  {
   "cell_type": "code",
   "execution_count": 1,
   "id": "2c6c9e12-3eb3-404d-bcda-3c65ed3a4f35",
   "metadata": {},
   "outputs": [],
   "source": [
    "a=10\n",
    "b=20"
   ]
  },
  {
   "cell_type": "code",
   "execution_count": 2,
   "id": "ffd18c67-fe78-4717-a7bc-24175eae760b",
   "metadata": {},
   "outputs": [
    {
     "name": "stdout",
     "output_type": "stream",
     "text": [
      "30\n"
     ]
    }
   ],
   "source": [
    "print(a+b)"
   ]
  },
  {
   "cell_type": "code",
   "execution_count": 3,
   "id": "a565645a-f41e-4d2b-b2f0-52c3505cb8d2",
   "metadata": {},
   "outputs": [
    {
     "name": "stdout",
     "output_type": "stream",
     "text": [
      "-10\n"
     ]
    }
   ],
   "source": [
    "print(a-b)"
   ]
  },
  {
   "cell_type": "code",
   "execution_count": 4,
   "id": "8d3abfa4-949c-4ece-839b-8169e7854cd8",
   "metadata": {},
   "outputs": [
    {
     "name": "stdout",
     "output_type": "stream",
     "text": [
      "200\n"
     ]
    }
   ],
   "source": [
    "print(a*b)"
   ]
  },
  {
   "cell_type": "code",
   "execution_count": 5,
   "id": "2f197dc8-df15-468d-9c9a-7ab48f7767bb",
   "metadata": {},
   "outputs": [
    {
     "name": "stdout",
     "output_type": "stream",
     "text": [
      "100000000000000000000\n"
     ]
    }
   ],
   "source": [
    "print(a**b)"
   ]
  },
  {
   "cell_type": "code",
   "execution_count": 6,
   "id": "90e9da32-ef3b-406a-871b-2dbb2e30ecaa",
   "metadata": {},
   "outputs": [
    {
     "name": "stdout",
     "output_type": "stream",
     "text": [
      "2.0\n"
     ]
    }
   ],
   "source": [
    "print(b/a)"
   ]
  },
  {
   "cell_type": "code",
   "execution_count": 7,
   "id": "83fac881-79d5-46f3-99a1-07d60ad89b7f",
   "metadata": {},
   "outputs": [
    {
     "data": {
      "text/plain": [
       "3.3333333333333335"
      ]
     },
     "execution_count": 7,
     "metadata": {},
     "output_type": "execute_result"
    }
   ],
   "source": [
    "10/3"
   ]
  },
  {
   "cell_type": "code",
   "execution_count": 8,
   "id": "198597ba-e72e-43b7-a49a-fb931c0c722d",
   "metadata": {},
   "outputs": [
    {
     "data": {
      "text/plain": [
       "1"
      ]
     },
     "execution_count": 8,
     "metadata": {},
     "output_type": "execute_result"
    }
   ],
   "source": [
    "10%3"
   ]
  },
  {
   "cell_type": "code",
   "execution_count": 9,
   "id": "d966396b-c8c2-4dfc-b5a3-1a8e35308087",
   "metadata": {},
   "outputs": [
    {
     "data": {
      "text/plain": [
       "3"
      ]
     },
     "execution_count": 9,
     "metadata": {},
     "output_type": "execute_result"
    }
   ],
   "source": [
    "10//3"
   ]
  },
  {
   "cell_type": "code",
   "execution_count": 10,
   "id": "65aff3d7-6f0a-4db5-bfc1-90947cb87ff9",
   "metadata": {},
   "outputs": [
    {
     "data": {
      "text/plain": [
       "3.0"
      ]
     },
     "execution_count": 10,
     "metadata": {},
     "output_type": "execute_result"
    }
   ],
   "source": [
    "10//3.0"
   ]
  },
  {
   "cell_type": "markdown",
   "id": "54c6ce27-f65d-4474-8c00-8716105ade5d",
   "metadata": {},
   "source": [
    "# assignment operators\n",
    "= , +=, -=, /=, *=, **=, //=, %="
   ]
  },
  {
   "cell_type": "code",
   "execution_count": 24,
   "id": "aeb63290-44ef-452d-86f5-98949bc218b8",
   "metadata": {},
   "outputs": [],
   "source": [
    "akash=10"
   ]
  },
  {
   "cell_type": "code",
   "execution_count": 25,
   "id": "a8d95b07-8c8c-4b38-bc4d-8ec6e4872cd5",
   "metadata": {},
   "outputs": [],
   "source": [
    "akash=akash+1"
   ]
  },
  {
   "cell_type": "code",
   "execution_count": 27,
   "id": "284cdf91-7aee-4729-9e2e-8a0a22f141a6",
   "metadata": {},
   "outputs": [
    {
     "name": "stdout",
     "output_type": "stream",
     "text": [
      "11\n"
     ]
    }
   ],
   "source": [
    "print(akash)"
   ]
  },
  {
   "cell_type": "code",
   "execution_count": 32,
   "id": "f9e405d8-24b5-472b-86ef-1e7c1d0971d0",
   "metadata": {},
   "outputs": [],
   "source": [
    "akash+=1"
   ]
  },
  {
   "cell_type": "code",
   "execution_count": 33,
   "id": "4d9f26c1-53c2-402d-bf9a-fed16e83461b",
   "metadata": {},
   "outputs": [
    {
     "name": "stdout",
     "output_type": "stream",
     "text": [
      "23\n"
     ]
    }
   ],
   "source": [
    "print(akash)"
   ]
  },
  {
   "cell_type": "code",
   "execution_count": 34,
   "id": "8366f6c2-1194-44fe-bfb2-0efe675cdfa0",
   "metadata": {},
   "outputs": [],
   "source": [
    "akash+=10"
   ]
  },
  {
   "cell_type": "code",
   "execution_count": 35,
   "id": "82f51271-e831-479c-b0aa-40790dd4d39c",
   "metadata": {},
   "outputs": [
    {
     "name": "stdout",
     "output_type": "stream",
     "text": [
      "33\n"
     ]
    }
   ],
   "source": [
    "print(akash)"
   ]
  },
  {
   "cell_type": "code",
   "execution_count": 36,
   "id": "3e57e728-a9b3-4f48-b3da-e61b2ed2248d",
   "metadata": {},
   "outputs": [],
   "source": [
    "akash-=10"
   ]
  },
  {
   "cell_type": "code",
   "execution_count": 37,
   "id": "f81e097c-9bf2-401f-9025-fad58edfa6f1",
   "metadata": {},
   "outputs": [
    {
     "name": "stdout",
     "output_type": "stream",
     "text": [
      "23\n"
     ]
    }
   ],
   "source": [
    "print(akash)"
   ]
  },
  {
   "cell_type": "code",
   "execution_count": 38,
   "id": "f4b12b1f-871b-47a5-951a-163d0a331b3c",
   "metadata": {},
   "outputs": [],
   "source": [
    "akash+=2"
   ]
  },
  {
   "cell_type": "code",
   "execution_count": 39,
   "id": "16a13252-740c-4a1c-91d2-3cc496b4d66c",
   "metadata": {},
   "outputs": [],
   "source": [
    "akash-=10"
   ]
  },
  {
   "cell_type": "code",
   "execution_count": 40,
   "id": "8497781b-9481-4825-9f06-c2f38884c024",
   "metadata": {},
   "outputs": [],
   "source": [
    "akash*=2"
   ]
  },
  {
   "cell_type": "code",
   "execution_count": 41,
   "id": "2e4e52d3-4585-4647-b71a-6872b3574ed4",
   "metadata": {},
   "outputs": [
    {
     "name": "stdout",
     "output_type": "stream",
     "text": [
      "30\n"
     ]
    }
   ],
   "source": [
    "print(akash)"
   ]
  },
  {
   "cell_type": "code",
   "execution_count": 42,
   "id": "e29b5965-2620-4ff7-a65d-cc0d1835adb3",
   "metadata": {},
   "outputs": [],
   "source": [
    "akash/=3"
   ]
  },
  {
   "cell_type": "code",
   "execution_count": 44,
   "id": "3cf55c51-6fdd-4e26-8951-27e8c941adee",
   "metadata": {},
   "outputs": [
    {
     "name": "stdout",
     "output_type": "stream",
     "text": [
      "10.0\n"
     ]
    }
   ],
   "source": [
    "print(akash)"
   ]
  },
  {
   "cell_type": "code",
   "execution_count": 45,
   "id": "e52a6591-c513-4023-95eb-211ae021ed6d",
   "metadata": {},
   "outputs": [],
   "source": [
    "akash//=3"
   ]
  },
  {
   "cell_type": "code",
   "execution_count": 46,
   "id": "1b6b6c10-5735-4020-b1e0-0d0d65d706a0",
   "metadata": {},
   "outputs": [
    {
     "name": "stdout",
     "output_type": "stream",
     "text": [
      "3.0\n"
     ]
    }
   ],
   "source": [
    "print(akash)"
   ]
  },
  {
   "cell_type": "code",
   "execution_count": 47,
   "id": "f6dc5c15-8bd8-4175-8c2c-f042cf79a97e",
   "metadata": {},
   "outputs": [],
   "source": [
    "akash=int(akash)"
   ]
  },
  {
   "cell_type": "code",
   "execution_count": 48,
   "id": "7b9964b6-5e87-43c3-8610-1fa1c9e3cf19",
   "metadata": {},
   "outputs": [
    {
     "name": "stdout",
     "output_type": "stream",
     "text": [
      "3\n"
     ]
    }
   ],
   "source": [
    "print(akash)"
   ]
  },
  {
   "cell_type": "code",
   "execution_count": 49,
   "id": "a7c845a7-ebcb-42c3-aeb3-89a87b34789a",
   "metadata": {},
   "outputs": [],
   "source": [
    "akash%=2"
   ]
  },
  {
   "cell_type": "code",
   "execution_count": 50,
   "id": "e8041a9b-555e-4ca4-8ac4-e65d00a2ef36",
   "metadata": {},
   "outputs": [
    {
     "name": "stdout",
     "output_type": "stream",
     "text": [
      "1\n"
     ]
    }
   ],
   "source": [
    "print(akash)"
   ]
  },
  {
   "cell_type": "code",
   "execution_count": 51,
   "id": "d564a8df-9a57-42ff-941e-43c4f37505ea",
   "metadata": {},
   "outputs": [],
   "source": [
    "akash**=1000"
   ]
  },
  {
   "cell_type": "code",
   "execution_count": 52,
   "id": "ef8a1723-1ddf-4e0a-998a-5368a7c6b10f",
   "metadata": {},
   "outputs": [
    {
     "name": "stdout",
     "output_type": "stream",
     "text": [
      "1\n"
     ]
    }
   ],
   "source": [
    "print(akash)"
   ]
  },
  {
   "cell_type": "markdown",
   "id": "43f62dcb-ec12-4a30-a90d-03e15f0f8e6f",
   "metadata": {},
   "source": [
    "# comparison operators\n",
    "\n",
    " , > , <, >=, <=, ==, !="
   ]
  },
  {
   "cell_type": "code",
   "execution_count": 57,
   "id": "6d902596-3fe1-4ab6-ba8e-2572c039d465",
   "metadata": {},
   "outputs": [
    {
     "data": {
      "text/plain": [
       "False"
      ]
     },
     "execution_count": 57,
     "metadata": {},
     "output_type": "execute_result"
    }
   ],
   "source": [
    "10<10"
   ]
  },
  {
   "cell_type": "code",
   "execution_count": 58,
   "id": "5b10afeb-9d50-4f1f-a3ce-7fc024203148",
   "metadata": {},
   "outputs": [
    {
     "data": {
      "text/plain": [
       "True"
      ]
     },
     "execution_count": 58,
     "metadata": {},
     "output_type": "execute_result"
    }
   ],
   "source": [
    "10<=10"
   ]
  },
  {
   "cell_type": "code",
   "execution_count": 54,
   "id": "8ae75caf-51d0-4ac5-889b-9fa8c42850fd",
   "metadata": {},
   "outputs": [
    {
     "data": {
      "text/plain": [
       "False"
      ]
     },
     "execution_count": 54,
     "metadata": {},
     "output_type": "execute_result"
    }
   ],
   "source": [
    "10>10"
   ]
  },
  {
   "cell_type": "code",
   "execution_count": 59,
   "id": "b6c15a98-fd31-46ba-9b41-fc735acb4429",
   "metadata": {},
   "outputs": [
    {
     "data": {
      "text/plain": [
       "True"
      ]
     },
     "execution_count": 59,
     "metadata": {},
     "output_type": "execute_result"
    }
   ],
   "source": [
    "10>=10"
   ]
  },
  {
   "cell_type": "code",
   "execution_count": 56,
   "id": "43a39022-f7dd-4f45-8f97-55257382fedd",
   "metadata": {},
   "outputs": [
    {
     "data": {
      "text/plain": [
       "True"
      ]
     },
     "execution_count": 56,
     "metadata": {},
     "output_type": "execute_result"
    }
   ],
   "source": [
    "10==10"
   ]
  },
  {
   "cell_type": "code",
   "execution_count": 60,
   "id": "0c1ddcea-3180-4de5-9bd3-98849b45f138",
   "metadata": {},
   "outputs": [
    {
     "data": {
      "text/plain": [
       "False"
      ]
     },
     "execution_count": 60,
     "metadata": {},
     "output_type": "execute_result"
    }
   ],
   "source": [
    "10!=10"
   ]
  },
  {
   "cell_type": "markdown",
   "id": "b4a524a6-cf34-4709-a08b-710bf92ceb54",
   "metadata": {},
   "source": [
    "# logical operators\n",
    "\n",
    " and, or, not"
   ]
  },
  {
   "cell_type": "code",
   "execution_count": 62,
   "id": "6fda28e2-1968-4a78-809a-59cfcc7e004d",
   "metadata": {},
   "outputs": [
    {
     "data": {
      "text/plain": [
       "True"
      ]
     },
     "execution_count": 62,
     "metadata": {},
     "output_type": "execute_result"
    }
   ],
   "source": [
    "10==10 and 20==20"
   ]
  },
  {
   "cell_type": "code",
   "execution_count": 63,
   "id": "6338cb1e-7321-49e0-815a-b389063fd90a",
   "metadata": {},
   "outputs": [
    {
     "data": {
      "text/plain": [
       "False"
      ]
     },
     "execution_count": 63,
     "metadata": {},
     "output_type": "execute_result"
    }
   ],
   "source": [
    "10==10 and 20!=20"
   ]
  },
  {
   "cell_type": "code",
   "execution_count": 66,
   "id": "4442887c-5e2a-4213-9ae1-6019d6c15f06",
   "metadata": {},
   "outputs": [
    {
     "data": {
      "text/plain": [
       "True"
      ]
     },
     "execution_count": 66,
     "metadata": {},
     "output_type": "execute_result"
    }
   ],
   "source": [
    "10==10 or 20!=20"
   ]
  },
  {
   "cell_type": "code",
   "execution_count": 67,
   "id": "6d45125e-1d47-45de-87cf-c0b971f24c7a",
   "metadata": {},
   "outputs": [
    {
     "data": {
      "text/plain": [
       "True"
      ]
     },
     "execution_count": 67,
     "metadata": {},
     "output_type": "execute_result"
    }
   ],
   "source": [
    "10==10 and 20==20"
   ]
  },
  {
   "cell_type": "code",
   "execution_count": 68,
   "id": "16730cda-29d8-411e-9812-2ca7c56c94f9",
   "metadata": {},
   "outputs": [
    {
     "data": {
      "text/plain": [
       "True"
      ]
     },
     "execution_count": 68,
     "metadata": {},
     "output_type": "execute_result"
    }
   ],
   "source": [
    "10==10 or 20==20"
   ]
  },
  {
   "cell_type": "code",
   "execution_count": 70,
   "id": "73567cd8-a1d5-4809-861b-674edb81f83d",
   "metadata": {},
   "outputs": [
    {
     "data": {
      "text/plain": [
       "True"
      ]
     },
     "execution_count": 70,
     "metadata": {},
     "output_type": "execute_result"
    }
   ],
   "source": [
    "10==10 and 20==20 or 20!=20"
   ]
  },
  {
   "cell_type": "code",
   "execution_count": 71,
   "id": "4b7008f7-d0b3-4257-900a-f100f59a4bbc",
   "metadata": {},
   "outputs": [
    {
     "data": {
      "text/plain": [
       "False"
      ]
     },
     "execution_count": 71,
     "metadata": {},
     "output_type": "execute_result"
    }
   ],
   "source": [
    "10!=10 and 20==20 or 20!=20"
   ]
  },
  {
   "cell_type": "code",
   "execution_count": 73,
   "id": "7b0b88b7-0b1b-42f4-9a4a-dbc7cf933166",
   "metadata": {},
   "outputs": [
    {
     "data": {
      "text/plain": [
       "True"
      ]
     },
     "execution_count": 73,
     "metadata": {},
     "output_type": "execute_result"
    }
   ],
   "source": [
    "not 10!=10 and 20==20 or 20!=20"
   ]
  },
  {
   "cell_type": "code",
   "execution_count": 74,
   "id": "bf0ebc72-5b79-44d8-a4e2-fdca3c75347b",
   "metadata": {},
   "outputs": [
    {
     "data": {
      "text/plain": [
       "False"
      ]
     },
     "execution_count": 74,
     "metadata": {},
     "output_type": "execute_result"
    }
   ],
   "source": [
    "not 10==10 and 20==20 or 20!=20"
   ]
  },
  {
   "cell_type": "code",
   "execution_count": 77,
   "id": "d68a660d-9e69-4674-9026-473b2626bb54",
   "metadata": {},
   "outputs": [
    {
     "data": {
      "text/plain": [
       "True"
      ]
     },
     "execution_count": 77,
     "metadata": {},
     "output_type": "execute_result"
    }
   ],
   "source": [
    "not(10!=10 and 20!=20 or 20!=20)"
   ]
  },
  {
   "cell_type": "code",
   "execution_count": null,
   "id": "759962df-078f-43c6-af58-fd8319bdc8f8",
   "metadata": {},
   "outputs": [],
   "source": []
  }
 ],
 "metadata": {
  "kernelspec": {
   "display_name": "Python 3 (ipykernel)",
   "language": "python",
   "name": "python3"
  },
  "language_info": {
   "codemirror_mode": {
    "name": "ipython",
    "version": 3
   },
   "file_extension": ".py",
   "mimetype": "text/x-python",
   "name": "python",
   "nbconvert_exporter": "python",
   "pygments_lexer": "ipython3",
   "version": "3.11.4"
  }
 },
 "nbformat": 4,
 "nbformat_minor": 5
}
