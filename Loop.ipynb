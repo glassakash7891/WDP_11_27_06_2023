{
 "cells": [
  {
   "cell_type": "raw",
   "id": "5f80f894-819e-4d14-937a-30ff86c556e7",
   "metadata": {},
   "source": [
    "> loop\n",
    "   > for\n",
    "      > nested for loop\n",
    "      > single for loop for pattern\n",
    "      > nested for loop for pattern\n",
    "      > list comprehension\n",
    "      > dictionary comprehension\n",
    "      > set comprehension\n",
    "      > tuple comprehension(exception it generate a generator object)\n",
    "> while\n",
    "      > nested while loop\n",
    "      > single while loop for pattern\n",
    "      > nested while loop for pattern"
   ]
  },
  {
   "cell_type": "code",
   "execution_count": 1,
   "id": "f3175b32-29d6-4735-b34b-82aeca113ca6",
   "metadata": {},
   "outputs": [
    {
     "name": "stdout",
     "output_type": "stream",
     "text": [
      "hello world\n",
      "hello world\n",
      "hello world\n",
      "hello world\n",
      "hello world\n"
     ]
    }
   ],
   "source": [
    "print(\"hello world\")\n",
    "print(\"hello world\")\n",
    "print(\"hello world\")\n",
    "print(\"hello world\")\n",
    "print(\"hello world\")"
   ]
  },
  {
   "cell_type": "raw",
   "id": "2c7233dc-cbe9-405d-aebc-493053518fae",
   "metadata": {},
   "source": [
    "iterable: a datatype which contain a magic method or dundur method(def__iter__()), called iterable\n",
    "\n",
    "int\n",
    "float\n",
    "str\n",
    "list\n",
    "tuple\n",
    "set\n",
    "frozenset\n",
    "dict\n",
    "complex\n",
    "bool"
   ]
  },
  {
   "cell_type": "code",
   "execution_count": 2,
   "id": "da6badd5-5ecc-455f-99f5-dac08b54e9f7",
   "metadata": {},
   "outputs": [],
   "source": [
    "a=str()"
   ]
  },
  {
   "cell_type": "code",
   "execution_count": 3,
   "id": "b03a5ae4-f14c-4eee-8a27-f470b13e4713",
   "metadata": {},
   "outputs": [
    {
     "data": {
      "text/plain": [
       "['__add__',\n",
       " '__class__',\n",
       " '__contains__',\n",
       " '__delattr__',\n",
       " '__dir__',\n",
       " '__doc__',\n",
       " '__eq__',\n",
       " '__format__',\n",
       " '__ge__',\n",
       " '__getattribute__',\n",
       " '__getitem__',\n",
       " '__getnewargs__',\n",
       " '__getstate__',\n",
       " '__gt__',\n",
       " '__hash__',\n",
       " '__init__',\n",
       " '__init_subclass__',\n",
       " '__iter__',\n",
       " '__le__',\n",
       " '__len__',\n",
       " '__lt__',\n",
       " '__mod__',\n",
       " '__mul__',\n",
       " '__ne__',\n",
       " '__new__',\n",
       " '__reduce__',\n",
       " '__reduce_ex__',\n",
       " '__repr__',\n",
       " '__rmod__',\n",
       " '__rmul__',\n",
       " '__setattr__',\n",
       " '__sizeof__',\n",
       " '__str__',\n",
       " '__subclasshook__',\n",
       " 'capitalize',\n",
       " 'casefold',\n",
       " 'center',\n",
       " 'count',\n",
       " 'encode',\n",
       " 'endswith',\n",
       " 'expandtabs',\n",
       " 'find',\n",
       " 'format',\n",
       " 'format_map',\n",
       " 'index',\n",
       " 'isalnum',\n",
       " 'isalpha',\n",
       " 'isascii',\n",
       " 'isdecimal',\n",
       " 'isdigit',\n",
       " 'isidentifier',\n",
       " 'islower',\n",
       " 'isnumeric',\n",
       " 'isprintable',\n",
       " 'isspace',\n",
       " 'istitle',\n",
       " 'isupper',\n",
       " 'join',\n",
       " 'ljust',\n",
       " 'lower',\n",
       " 'lstrip',\n",
       " 'maketrans',\n",
       " 'partition',\n",
       " 'removeprefix',\n",
       " 'removesuffix',\n",
       " 'replace',\n",
       " 'rfind',\n",
       " 'rindex',\n",
       " 'rjust',\n",
       " 'rpartition',\n",
       " 'rsplit',\n",
       " 'rstrip',\n",
       " 'split',\n",
       " 'splitlines',\n",
       " 'startswith',\n",
       " 'strip',\n",
       " 'swapcase',\n",
       " 'title',\n",
       " 'translate',\n",
       " 'upper',\n",
       " 'zfill']"
      ]
     },
     "execution_count": 3,
     "metadata": {},
     "output_type": "execute_result"
    }
   ],
   "source": [
    "dir(a)"
   ]
  },
  {
   "cell_type": "code",
   "execution_count": 37,
   "id": "cbbd60f9-9778-4d7a-b1f4-f308b424ef98",
   "metadata": {},
   "outputs": [
    {
     "name": "stdout",
     "output_type": "stream",
     "text": [
      "hi akash abc\n",
      "hi akash abc\n",
      "hi akash abc\n",
      "hi akash abc\n",
      "hi akash abc\n"
     ]
    }
   ],
   "source": [
    "for i in range(5):\n",
    "    print(\"hi akash\",end=\" \")\n",
    "    print(\"abc\")"
   ]
  },
  {
   "cell_type": "code",
   "execution_count": 2,
   "id": "38cf93b9-2338-429f-a092-02266a420025",
   "metadata": {},
   "outputs": [
    {
     "name": "stdout",
     "output_type": "stream",
     "text": [
      "hi akash\n",
      "hi akash\n",
      "hi akash\n",
      "hi akash\n",
      "hi akash\n"
     ]
    }
   ],
   "source": [
    "for i in [1,2,3,4,5]:\n",
    "    print(\"hi akash\")"
   ]
  },
  {
   "cell_type": "code",
   "execution_count": 42,
   "id": "f3906602-97b2-46a7-9f7c-4670349084e2",
   "metadata": {},
   "outputs": [
    {
     "name": "stdout",
     "output_type": "stream",
     "text": [
      "1 hi akash\n",
      "2 hi akash\n",
      "3 hi akash\n",
      "4 hi akash\n",
      "5 hi akash\n"
     ]
    }
   ],
   "source": [
    "for i in [1,2,3,4,5]:\n",
    "    print(i,\"hi akash\")"
   ]
  },
  {
   "cell_type": "code",
   "execution_count": 3,
   "id": "043ad2de-2f1d-4034-a666-8f7773413cec",
   "metadata": {},
   "outputs": [
    {
     "name": "stdout",
     "output_type": "stream",
     "text": [
      "hi akash\n",
      "hi akash\n",
      "hi akash\n",
      "hi akash\n",
      "hi akash\n",
      "hi akash\n",
      "hi akash\n",
      "hi akash\n",
      "hi akash\n",
      "hi akash\n"
     ]
    }
   ],
   "source": [
    "for i in range(10):\n",
    "    print(\"hi akash\")"
   ]
  },
  {
   "cell_type": "code",
   "execution_count": 5,
   "id": "93b51c42-e817-4a00-9962-3dfc1f216a78",
   "metadata": {},
   "outputs": [
    {
     "name": "stdout",
     "output_type": "stream",
     "text": [
      "0 hi akash\n",
      "1 hi akash\n",
      "2 hi akash\n",
      "3 hi akash\n",
      "4 hi akash\n",
      "5 hi akash\n",
      "6 hi akash\n",
      "7 hi akash\n",
      "8 hi akash\n",
      "9 hi akash\n"
     ]
    }
   ],
   "source": [
    "for i in range(10):\n",
    "    print(i,\"hi akash\")"
   ]
  },
  {
   "cell_type": "code",
   "execution_count": 6,
   "id": "355d37b5-a65e-476e-8969-8e1c82ebfb40",
   "metadata": {},
   "outputs": [
    {
     "name": "stdout",
     "output_type": "stream",
     "text": [
      "2 hi akash\n",
      "3 hi akash\n",
      "4 hi akash\n",
      "5 hi akash\n",
      "6 hi akash\n",
      "7 hi akash\n",
      "8 hi akash\n",
      "9 hi akash\n"
     ]
    }
   ],
   "source": [
    "for i in range(2,10):\n",
    "    print(i,\"hi akash\")"
   ]
  },
  {
   "cell_type": "code",
   "execution_count": 7,
   "id": "94e6ba22-a14c-4254-a6d5-6139f743c6d1",
   "metadata": {},
   "outputs": [
    {
     "name": "stdout",
     "output_type": "stream",
     "text": [
      "1 hi akash\n",
      "2 hi akash\n",
      "3 hi akash\n",
      "4 hi akash\n",
      "5 hi akash\n",
      "6 hi akash\n",
      "7 hi akash\n",
      "8 hi akash\n",
      "9 hi akash\n"
     ]
    }
   ],
   "source": [
    "for i in range(1,10):\n",
    "    print(i,\"hi akash\")"
   ]
  },
  {
   "cell_type": "code",
   "execution_count": 9,
   "id": "a0ca678e-52e5-410f-a0e4-5a55dd00622d",
   "metadata": {},
   "outputs": [
    {
     "name": "stdout",
     "output_type": "stream",
     "text": [
      "0 hi akash\n",
      "2 hi akash\n",
      "4 hi akash\n",
      "6 hi akash\n",
      "8 hi akash\n"
     ]
    }
   ],
   "source": [
    "for i in range(0,10,2):\n",
    "    print(i,\"hi akash\")"
   ]
  },
  {
   "cell_type": "code",
   "execution_count": 10,
   "id": "95554761-e2e7-4863-8e0d-f2513c0d32f7",
   "metadata": {},
   "outputs": [
    {
     "name": "stdout",
     "output_type": "stream",
     "text": [
      "10 hi akash\n",
      "9 hi akash\n",
      "8 hi akash\n",
      "7 hi akash\n",
      "6 hi akash\n",
      "5 hi akash\n",
      "4 hi akash\n",
      "3 hi akash\n",
      "2 hi akash\n",
      "1 hi akash\n"
     ]
    }
   ],
   "source": [
    "for i in range(10,0,-1):\n",
    "    print(i,\"hi akash\")"
   ]
  },
  {
   "cell_type": "code",
   "execution_count": 11,
   "id": "1a5273c2-9b51-46ea-a709-c71f1e8d97c8",
   "metadata": {},
   "outputs": [
    {
     "name": "stdout",
     "output_type": "stream",
     "text": [
      "10 hi akash\n",
      "9 hi akash\n",
      "8 hi akash\n",
      "7 hi akash\n",
      "6 hi akash\n",
      "5 hi akash\n",
      "4 hi akash\n",
      "3 hi akash\n",
      "2 hi akash\n"
     ]
    }
   ],
   "source": [
    "for i in range(10,1,-1):\n",
    "    print(i,\"hi akash\")"
   ]
  },
  {
   "cell_type": "code",
   "execution_count": 27,
   "id": "b89e19c4-93f1-4e65-87a6-6655d3bddce7",
   "metadata": {},
   "outputs": [
    {
     "name": "stdout",
     "output_type": "stream",
     "text": [
      "10 hi akash\n",
      "9 hi akash\n",
      "8 hi akash\n",
      "7 hi akash\n",
      "6 hi akash\n",
      "5 hi akash\n",
      "4 hi akash\n",
      "3 hi akash\n",
      "2 hi akash\n"
     ]
    }
   ],
   "source": [
    "for i in range(10,1,-1):\n",
    "    print(i,\"hi akash\")"
   ]
  },
  {
   "cell_type": "code",
   "execution_count": 41,
   "id": "64565f81-1b60-4070-b331-88d36b3b9e24",
   "metadata": {},
   "outputs": [
    {
     "name": "stdout",
     "output_type": "stream",
     "text": [
      "hi akash\n",
      "rajput\n",
      "hi akash\n",
      "rajput\n",
      "hi akash\n",
      "rajput\n",
      "hi akash\n",
      "rajput\n",
      "hi akash\n",
      "rajput\n"
     ]
    }
   ],
   "source": [
    "for i in range(5):\n",
    "    print(\"hi akash\")\n",
    "    print(\"rajput\")"
   ]
  },
  {
   "cell_type": "code",
   "execution_count": 40,
   "id": "40435ee1-cef2-4191-8d08-92a8a468970c",
   "metadata": {},
   "outputs": [
    {
     "name": "stdout",
     "output_type": "stream",
     "text": [
      "hi akash rajput\n",
      "hi akash rajput\n",
      "hi akash rajput\n",
      "hi akash rajput\n",
      "hi akash rajput\n"
     ]
    }
   ],
   "source": [
    "for i in range(5):\n",
    "    print(\"hi akash\",end=\" \")\n",
    "    print(\"rajput\")"
   ]
  },
  {
   "cell_type": "code",
   "execution_count": null,
   "id": "d1e9584e-3bdb-438d-879d-023342200522",
   "metadata": {},
   "outputs": [],
   "source": []
  }
 ],
 "metadata": {
  "kernelspec": {
   "display_name": "Python 3 (ipykernel)",
   "language": "python",
   "name": "python3"
  },
  "language_info": {
   "codemirror_mode": {
    "name": "ipython",
    "version": 3
   },
   "file_extension": ".py",
   "mimetype": "text/x-python",
   "name": "python",
   "nbconvert_exporter": "python",
   "pygments_lexer": "ipython3",
   "version": "3.11.4"
  }
 },
 "nbformat": 4,
 "nbformat_minor": 5
}
