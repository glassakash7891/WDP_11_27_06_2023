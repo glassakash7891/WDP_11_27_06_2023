{
 "cells": [
  {
   "cell_type": "raw",
   "id": "5f80f894-819e-4d14-937a-30ff86c556e7",
   "metadata": {},
   "source": [
    "> loop\n",
    "   > for\n",
    "      > break\n",
    "      > continue\n",
    "      > pass\n",
    "      > nested for loop\n",
    "      > pattern\n",
    "           > single for loop for pattern\n",
    "           > nested for loop for pattern\n",
    "      > list comprehension\n",
    "      > dictionary comprehension\n",
    "      > set comprehension\n",
    "      > tuple comprehension(create generator)\n",
    "      > frozenset comprehension\n",
    "> while\n",
    "      > nested while loop\n",
    "      > pattern\n",
    "         > single while loop for pattern\n",
    "         > nested while loop for pattern\n",
    "         > multiloop pattern"
   ]
  },
  {
   "cell_type": "code",
   "execution_count": 1,
   "id": "f3175b32-29d6-4735-b34b-82aeca113ca6",
   "metadata": {},
   "outputs": [
    {
     "name": "stdout",
     "output_type": "stream",
     "text": [
      "hello world\n",
      "hello world\n",
      "hello world\n",
      "hello world\n",
      "hello world\n"
     ]
    }
   ],
   "source": [
    "print(\"hello world\")\n",
    "print(\"hello world\")\n",
    "print(\"hello world\")\n",
    "print(\"hello world\")\n",
    "print(\"hello world\")"
   ]
  },
  {
   "cell_type": "code",
   "execution_count": 3,
   "id": "adb1b819-37d3-4f66-bb15-ac4c0301b416",
   "metadata": {},
   "outputs": [
    {
     "data": {
      "text/plain": [
       "True"
      ]
     },
     "execution_count": 3,
     "metadata": {},
     "output_type": "execute_result"
    }
   ],
   "source": [
    "2 in range(5)  #[0,1,2,3,4]"
   ]
  },
  {
   "cell_type": "code",
   "execution_count": 2,
   "id": "f000ec36-9c8e-4120-a42a-84ecd0cba386",
   "metadata": {},
   "outputs": [
    {
     "data": {
      "text/plain": [
       "True"
      ]
     },
     "execution_count": 2,
     "metadata": {},
     "output_type": "execute_result"
    }
   ],
   "source": [
    "3 in range(5)  #[0,1,2,3,4]"
   ]
  },
  {
   "cell_type": "code",
   "execution_count": 4,
   "id": "cb2746fe-1c1c-4a6d-bef6-a433ff2584ac",
   "metadata": {},
   "outputs": [
    {
     "data": {
      "text/plain": [
       "False"
      ]
     },
     "execution_count": 4,
     "metadata": {},
     "output_type": "execute_result"
    }
   ],
   "source": [
    "5 in range(5)   #[0,1,2,3,4]"
   ]
  },
  {
   "cell_type": "code",
   "execution_count": 37,
   "id": "cbbd60f9-9778-4d7a-b1f4-f308b424ef98",
   "metadata": {},
   "outputs": [
    {
     "name": "stdout",
     "output_type": "stream",
     "text": [
      "hi akash abc\n",
      "hi akash abc\n",
      "hi akash abc\n",
      "hi akash abc\n",
      "hi akash abc\n"
     ]
    }
   ],
   "source": [
    "for i in range(5):\n",
    "    print(\"hi akash\",end=\" \")\n",
    "    print(\"abc\")"
   ]
  },
  {
   "cell_type": "code",
   "execution_count": 2,
   "id": "38cf93b9-2338-429f-a092-02266a420025",
   "metadata": {},
   "outputs": [
    {
     "name": "stdout",
     "output_type": "stream",
     "text": [
      "hi akash\n",
      "hi akash\n",
      "hi akash\n",
      "hi akash\n",
      "hi akash\n"
     ]
    }
   ],
   "source": [
    "for i in [1,2,3,4,5]:\n",
    "    print(\"hi akash\")"
   ]
  },
  {
   "cell_type": "code",
   "execution_count": 42,
   "id": "f3906602-97b2-46a7-9f7c-4670349084e2",
   "metadata": {},
   "outputs": [
    {
     "name": "stdout",
     "output_type": "stream",
     "text": [
      "1 hi akash\n",
      "2 hi akash\n",
      "3 hi akash\n",
      "4 hi akash\n",
      "5 hi akash\n"
     ]
    }
   ],
   "source": [
    "for i in [1,2,3,4,5]:\n",
    "    print(i,\"hi akash\")"
   ]
  },
  {
   "cell_type": "code",
   "execution_count": 3,
   "id": "043ad2de-2f1d-4034-a666-8f7773413cec",
   "metadata": {},
   "outputs": [
    {
     "name": "stdout",
     "output_type": "stream",
     "text": [
      "hi akash\n",
      "hi akash\n",
      "hi akash\n",
      "hi akash\n",
      "hi akash\n",
      "hi akash\n",
      "hi akash\n",
      "hi akash\n",
      "hi akash\n",
      "hi akash\n"
     ]
    }
   ],
   "source": [
    "for i in range(10):\n",
    "    print(\"hi akash\")"
   ]
  },
  {
   "cell_type": "raw",
   "id": "506f3507-bdf8-411c-a294-f8aaae98216d",
   "metadata": {},
   "source": [
    "iterable: a datatype which contain a magic method or dunder method(def__iter__()), called iterable\n",
    "\n",
    "example: list,tuple,set,frozenset,dict"
   ]
  },
  {
   "cell_type": "raw",
   "id": "2c7233dc-cbe9-405d-aebc-493053518fae",
   "metadata": {},
   "source": [
    "datatype:\n",
    "\n",
    "int\n",
    "float\n",
    "str\n",
    "list\n",
    "tuple\n",
    "set\n",
    "frozenset\n",
    "dict\n",
    "complex\n",
    "bool"
   ]
  },
  {
   "cell_type": "code",
   "execution_count": 5,
   "id": "1f1a37b3-59a6-4390-b303-c5f061c204a7",
   "metadata": {
    "scrolled": true
   },
   "outputs": [
    {
     "data": {
      "text/plain": [
       "['__abs__',\n",
       " '__add__',\n",
       " '__and__',\n",
       " '__bool__',\n",
       " '__ceil__',\n",
       " '__class__',\n",
       " '__delattr__',\n",
       " '__dir__',\n",
       " '__divmod__',\n",
       " '__doc__',\n",
       " '__eq__',\n",
       " '__float__',\n",
       " '__floor__',\n",
       " '__floordiv__',\n",
       " '__format__',\n",
       " '__ge__',\n",
       " '__getattribute__',\n",
       " '__getnewargs__',\n",
       " '__getstate__',\n",
       " '__gt__',\n",
       " '__hash__',\n",
       " '__index__',\n",
       " '__init__',\n",
       " '__init_subclass__',\n",
       " '__int__',\n",
       " '__invert__',\n",
       " '__le__',\n",
       " '__lshift__',\n",
       " '__lt__',\n",
       " '__mod__',\n",
       " '__mul__',\n",
       " '__ne__',\n",
       " '__neg__',\n",
       " '__new__',\n",
       " '__or__',\n",
       " '__pos__',\n",
       " '__pow__',\n",
       " '__radd__',\n",
       " '__rand__',\n",
       " '__rdivmod__',\n",
       " '__reduce__',\n",
       " '__reduce_ex__',\n",
       " '__repr__',\n",
       " '__rfloordiv__',\n",
       " '__rlshift__',\n",
       " '__rmod__',\n",
       " '__rmul__',\n",
       " '__ror__',\n",
       " '__round__',\n",
       " '__rpow__',\n",
       " '__rrshift__',\n",
       " '__rshift__',\n",
       " '__rsub__',\n",
       " '__rtruediv__',\n",
       " '__rxor__',\n",
       " '__setattr__',\n",
       " '__sizeof__',\n",
       " '__str__',\n",
       " '__sub__',\n",
       " '__subclasshook__',\n",
       " '__truediv__',\n",
       " '__trunc__',\n",
       " '__xor__',\n",
       " 'as_integer_ratio',\n",
       " 'bit_count',\n",
       " 'bit_length',\n",
       " 'conjugate',\n",
       " 'denominator',\n",
       " 'from_bytes',\n",
       " 'imag',\n",
       " 'numerator',\n",
       " 'real',\n",
       " 'to_bytes']"
      ]
     },
     "execution_count": 5,
     "metadata": {},
     "output_type": "execute_result"
    }
   ],
   "source": [
    "a=(0)\n",
    "dir(a)"
   ]
  },
  {
   "cell_type": "code",
   "execution_count": 6,
   "id": "e33a905b-2ccb-46a6-a900-4e63b7e6fbd0",
   "metadata": {},
   "outputs": [
    {
     "data": {
      "text/plain": [
       "['__and__',\n",
       " '__class__',\n",
       " '__class_getitem__',\n",
       " '__contains__',\n",
       " '__delattr__',\n",
       " '__dir__',\n",
       " '__doc__',\n",
       " '__eq__',\n",
       " '__format__',\n",
       " '__ge__',\n",
       " '__getattribute__',\n",
       " '__getstate__',\n",
       " '__gt__',\n",
       " '__hash__',\n",
       " '__iand__',\n",
       " '__init__',\n",
       " '__init_subclass__',\n",
       " '__ior__',\n",
       " '__isub__',\n",
       " '__iter__',\n",
       " '__ixor__',\n",
       " '__le__',\n",
       " '__len__',\n",
       " '__lt__',\n",
       " '__ne__',\n",
       " '__new__',\n",
       " '__or__',\n",
       " '__rand__',\n",
       " '__reduce__',\n",
       " '__reduce_ex__',\n",
       " '__repr__',\n",
       " '__ror__',\n",
       " '__rsub__',\n",
       " '__rxor__',\n",
       " '__setattr__',\n",
       " '__sizeof__',\n",
       " '__str__',\n",
       " '__sub__',\n",
       " '__subclasshook__',\n",
       " '__xor__',\n",
       " 'add',\n",
       " 'clear',\n",
       " 'copy',\n",
       " 'difference',\n",
       " 'difference_update',\n",
       " 'discard',\n",
       " 'intersection',\n",
       " 'intersection_update',\n",
       " 'isdisjoint',\n",
       " 'issubset',\n",
       " 'issuperset',\n",
       " 'pop',\n",
       " 'remove',\n",
       " 'symmetric_difference',\n",
       " 'symmetric_difference_update',\n",
       " 'union',\n",
       " 'update']"
      ]
     },
     "execution_count": 6,
     "metadata": {},
     "output_type": "execute_result"
    }
   ],
   "source": [
    "a=set()\n",
    "dir(a)\n"
   ]
  },
  {
   "cell_type": "code",
   "execution_count": 7,
   "id": "dd2b8ae2-de38-487c-a869-20a2af812f6c",
   "metadata": {},
   "outputs": [
    {
     "data": {
      "text/plain": [
       "['__and__',\n",
       " '__class__',\n",
       " '__class_getitem__',\n",
       " '__contains__',\n",
       " '__delattr__',\n",
       " '__dir__',\n",
       " '__doc__',\n",
       " '__eq__',\n",
       " '__format__',\n",
       " '__ge__',\n",
       " '__getattribute__',\n",
       " '__getstate__',\n",
       " '__gt__',\n",
       " '__hash__',\n",
       " '__init__',\n",
       " '__init_subclass__',\n",
       " '__iter__',\n",
       " '__le__',\n",
       " '__len__',\n",
       " '__lt__',\n",
       " '__ne__',\n",
       " '__new__',\n",
       " '__or__',\n",
       " '__rand__',\n",
       " '__reduce__',\n",
       " '__reduce_ex__',\n",
       " '__repr__',\n",
       " '__ror__',\n",
       " '__rsub__',\n",
       " '__rxor__',\n",
       " '__setattr__',\n",
       " '__sizeof__',\n",
       " '__str__',\n",
       " '__sub__',\n",
       " '__subclasshook__',\n",
       " '__xor__',\n",
       " 'copy',\n",
       " 'difference',\n",
       " 'intersection',\n",
       " 'isdisjoint',\n",
       " 'issubset',\n",
       " 'issuperset',\n",
       " 'symmetric_difference',\n",
       " 'union']"
      ]
     },
     "execution_count": 7,
     "metadata": {},
     "output_type": "execute_result"
    }
   ],
   "source": [
    "a=frozenset()\n",
    "dir(a)"
   ]
  },
  {
   "cell_type": "code",
   "execution_count": 5,
   "id": "93b51c42-e817-4a00-9962-3dfc1f216a78",
   "metadata": {},
   "outputs": [
    {
     "name": "stdout",
     "output_type": "stream",
     "text": [
      "0 hi akash\n",
      "1 hi akash\n",
      "2 hi akash\n",
      "3 hi akash\n",
      "4 hi akash\n",
      "5 hi akash\n",
      "6 hi akash\n",
      "7 hi akash\n",
      "8 hi akash\n",
      "9 hi akash\n"
     ]
    }
   ],
   "source": [
    "for i in range(10):\n",
    "    print(i,\"hi akash\")"
   ]
  },
  {
   "cell_type": "code",
   "execution_count": 6,
   "id": "355d37b5-a65e-476e-8969-8e1c82ebfb40",
   "metadata": {},
   "outputs": [
    {
     "name": "stdout",
     "output_type": "stream",
     "text": [
      "2 hi akash\n",
      "3 hi akash\n",
      "4 hi akash\n",
      "5 hi akash\n",
      "6 hi akash\n",
      "7 hi akash\n",
      "8 hi akash\n",
      "9 hi akash\n"
     ]
    }
   ],
   "source": [
    "for i in range(2,10):\n",
    "    print(i,\"hi akash\")"
   ]
  },
  {
   "cell_type": "code",
   "execution_count": 7,
   "id": "94e6ba22-a14c-4254-a6d5-6139f743c6d1",
   "metadata": {},
   "outputs": [
    {
     "name": "stdout",
     "output_type": "stream",
     "text": [
      "1 hi akash\n",
      "2 hi akash\n",
      "3 hi akash\n",
      "4 hi akash\n",
      "5 hi akash\n",
      "6 hi akash\n",
      "7 hi akash\n",
      "8 hi akash\n",
      "9 hi akash\n"
     ]
    }
   ],
   "source": [
    "for i in range(1,10):\n",
    "    print(i,\"hi akash\")"
   ]
  },
  {
   "cell_type": "code",
   "execution_count": 9,
   "id": "a0ca678e-52e5-410f-a0e4-5a55dd00622d",
   "metadata": {},
   "outputs": [
    {
     "name": "stdout",
     "output_type": "stream",
     "text": [
      "0 hi akash\n",
      "2 hi akash\n",
      "4 hi akash\n",
      "6 hi akash\n",
      "8 hi akash\n"
     ]
    }
   ],
   "source": [
    "for i in range(0,10,2):\n",
    "    print(i,\"hi akash\")"
   ]
  },
  {
   "cell_type": "code",
   "execution_count": 10,
   "id": "95554761-e2e7-4863-8e0d-f2513c0d32f7",
   "metadata": {},
   "outputs": [
    {
     "name": "stdout",
     "output_type": "stream",
     "text": [
      "10 hi akash\n",
      "9 hi akash\n",
      "8 hi akash\n",
      "7 hi akash\n",
      "6 hi akash\n",
      "5 hi akash\n",
      "4 hi akash\n",
      "3 hi akash\n",
      "2 hi akash\n",
      "1 hi akash\n"
     ]
    }
   ],
   "source": [
    "for i in range(10,0,-1):\n",
    "    print(i,\"hi akash\")"
   ]
  },
  {
   "cell_type": "code",
   "execution_count": 10,
   "id": "1a5273c2-9b51-46ea-a709-c71f1e8d97c8",
   "metadata": {},
   "outputs": [
    {
     "name": "stdout",
     "output_type": "stream",
     "text": [
      "10 hi akash\n",
      "9 hi akash\n",
      "8 hi akash\n",
      "7 hi akash\n",
      "6 hi akash\n",
      "5 hi akash\n",
      "4 hi akash\n",
      "3 hi akash\n",
      "2 hi akash\n",
      "1 hi akash\n"
     ]
    }
   ],
   "source": [
    "for i in range(10,0,-1):\n",
    "    print(i,\"hi akash\")"
   ]
  },
  {
   "cell_type": "code",
   "execution_count": 9,
   "id": "b89e19c4-93f1-4e65-87a6-6655d3bddce7",
   "metadata": {},
   "outputs": [
    {
     "name": "stdout",
     "output_type": "stream",
     "text": [
      "10 hi akash\n",
      "9 hi akash\n",
      "8 hi akash\n",
      "7 hi akash\n",
      "6 hi akash\n",
      "5 hi akash\n",
      "4 hi akash\n",
      "3 hi akash\n",
      "2 hi akash\n"
     ]
    }
   ],
   "source": [
    "for i in range(10,1,-1):\n",
    "    print(i,\"hi akash\")"
   ]
  },
  {
   "cell_type": "code",
   "execution_count": 41,
   "id": "64565f81-1b60-4070-b331-88d36b3b9e24",
   "metadata": {},
   "outputs": [
    {
     "name": "stdout",
     "output_type": "stream",
     "text": [
      "hi akash\n",
      "rajput\n",
      "hi akash\n",
      "rajput\n",
      "hi akash\n",
      "rajput\n",
      "hi akash\n",
      "rajput\n",
      "hi akash\n",
      "rajput\n"
     ]
    }
   ],
   "source": [
    "for i in range(5):\n",
    "    print(\"hi akash\")\n",
    "    print(\"rajput\")"
   ]
  },
  {
   "cell_type": "code",
   "execution_count": 1,
   "id": "40435ee1-cef2-4191-8d08-92a8a468970c",
   "metadata": {},
   "outputs": [
    {
     "name": "stdout",
     "output_type": "stream",
     "text": [
      "hi akash rajput\n",
      "hi akash rajput\n",
      "hi akash rajput\n",
      "hi akash rajput\n",
      "hi akash rajput\n"
     ]
    }
   ],
   "source": [
    "for i in range(5):\n",
    "    print(\"hi akash\",end=\" \")\n",
    "    print(\"rajput\")"
   ]
  },
  {
   "cell_type": "markdown",
   "id": "06b11a8d-a8f0-41f4-936a-a6d388c87787",
   "metadata": {},
   "source": [
    "# "
   ]
  },
  {
   "cell_type": "raw",
   "id": "0b42746c-19fe-49f0-87ec-3c5a40cc046f",
   "metadata": {},
   "source": [
    "# continue(always work inside loop)\n",
    "\n",
    "# break(always work inside loop)\n",
    "\n",
    "# pass"
   ]
  },
  {
   "cell_type": "markdown",
   "id": "b380730f-ba8d-49f9-9c4a-26f8f579756f",
   "metadata": {},
   "source": [
    "# continue"
   ]
  },
  {
   "cell_type": "code",
   "execution_count": 2,
   "id": "8f8d4817-2f28-40b7-977b-4622a6b37973",
   "metadata": {},
   "outputs": [
    {
     "name": "stdout",
     "output_type": "stream",
     "text": [
      "0 hi akash\n",
      "1 hi akash\n",
      "2 hi akash\n",
      "3 hi akash\n",
      "4 hi akash\n",
      "5 hi akash\n",
      "6 hi akash\n",
      "7 hi akash\n",
      "8 hi akash\n",
      "9 hi akash\n"
     ]
    }
   ],
   "source": [
    "for i in range(10):\n",
    "    print(i,\"hi akash\")"
   ]
  },
  {
   "cell_type": "code",
   "execution_count": 27,
   "id": "4d3fa41f-c69e-4c10-917d-e72893e66dd3",
   "metadata": {},
   "outputs": [
    {
     "name": "stdout",
     "output_type": "stream",
     "text": [
      "0 hi akash\n",
      "1 hi akash\n",
      "3 hi akash\n",
      "4 hi akash\n"
     ]
    }
   ],
   "source": [
    "for i in range(5):\n",
    "    if i==2:\n",
    "        continue\n",
    "    print(i,\"hi akash\")"
   ]
  },
  {
   "cell_type": "code",
   "execution_count": 28,
   "id": "d63a668f-e794-4825-abd4-81211582a1c0",
   "metadata": {},
   "outputs": [
    {
     "name": "stdout",
     "output_type": "stream",
     "text": [
      "0 hi akash\n",
      "1 hi akash\n",
      "3 hi akash\n",
      "4 hi akash\n",
      "5 hi akash\n",
      "6 hi akash\n",
      "7 hi akash\n",
      "8 hi akash\n",
      "9 hi akash\n"
     ]
    }
   ],
   "source": [
    "for i in range(10):\n",
    "    if i==2:\n",
    "        continue\n",
    "    print(i,\"hi akash\")"
   ]
  },
  {
   "cell_type": "code",
   "execution_count": 29,
   "id": "7470d58c-40de-4d64-bf8a-0815f91621b3",
   "metadata": {},
   "outputs": [
    {
     "name": "stdout",
     "output_type": "stream",
     "text": [
      "0 hi akash\n",
      "1 hi akash\n",
      "3 hi akash\n",
      "4 hi akash\n",
      "6 hi akash\n",
      "7 hi akash\n",
      "9 hi akash\n"
     ]
    }
   ],
   "source": [
    "for i in range(10):\n",
    "    if i==2 or i==5 or i==8:\n",
    "        continue\n",
    "    print(i,\"hi akash\")"
   ]
  },
  {
   "cell_type": "code",
   "execution_count": 40,
   "id": "94ae92e9-4617-4290-8f57-abab9ece8148",
   "metadata": {},
   "outputs": [
    {
     "name": "stdout",
     "output_type": "stream",
     "text": [
      "0 hi akash\n",
      "1 hi akash\n",
      "2 hi akash\n",
      "4 hi akash\n",
      "5 hi akash\n",
      "7 hi akash\n",
      "8 hi akash\n"
     ]
    }
   ],
   "source": [
    "for i in range(10):\n",
    "    if i in [3,6,9]:\n",
    "        continue\n",
    "    print(i,\"hi akash\")"
   ]
  },
  {
   "cell_type": "code",
   "execution_count": 45,
   "id": "bf921c12-7e86-4085-a065-b689e1181453",
   "metadata": {},
   "outputs": [
    {
     "name": "stdout",
     "output_type": "stream",
     "text": [
      "s akash\n",
      "h akash\n"
     ]
    }
   ],
   "source": [
    "for i in \"akash\":\n",
    "    if i in \"ak\":\n",
    "        continue\n",
    "    print(i,\"akash\")"
   ]
  },
  {
   "cell_type": "markdown",
   "id": "72616253-1c13-4dce-a05f-7130f0c3a3d9",
   "metadata": {},
   "source": [
    "# break"
   ]
  },
  {
   "cell_type": "code",
   "execution_count": 3,
   "id": "0c2e0341-c523-4f7d-9ff8-955cff0cd47b",
   "metadata": {},
   "outputs": [
    {
     "name": "stdout",
     "output_type": "stream",
     "text": [
      "0 hi akash\n",
      "1 hi akash\n",
      "2 hi akash\n",
      "3 hi akash\n",
      "4 hi akash\n",
      "5 hi akash\n"
     ]
    }
   ],
   "source": [
    "for i in range(10):\n",
    "    if i in [6]:\n",
    "        break\n",
    "    print(i,\"hi akash\")"
   ]
  },
  {
   "cell_type": "code",
   "execution_count": 5,
   "id": "f2a26390-14b8-42e7-9e66-1e74d405d78b",
   "metadata": {},
   "outputs": [
    {
     "name": "stdout",
     "output_type": "stream",
     "text": [
      "0 hi akash\n",
      "1 hi akash\n",
      "2 hi akash\n",
      "3 hi akash\n",
      "4 hi akash\n",
      "5 hi akash\n",
      "6 hi akash\n"
     ]
    }
   ],
   "source": [
    "for i in range(10):\n",
    "    print(i,\"hi akash\")\n",
    "    if i in [6]:\n",
    "        break"
   ]
  },
  {
   "cell_type": "code",
   "execution_count": 6,
   "id": "a57d7b99-f0d1-4b70-a3ae-a7632e35bd2a",
   "metadata": {},
   "outputs": [
    {
     "name": "stdout",
     "output_type": "stream",
     "text": [
      "0 hi akash\n",
      "1 hi akash\n",
      "2 hi akash\n",
      "3 hi akash\n",
      "4 hi akash\n",
      "5 hi akash\n"
     ]
    }
   ],
   "source": [
    "for i in range(10):\n",
    "    if i==6:\n",
    "        break\n",
    "    print(i,\"hi akash\")"
   ]
  },
  {
   "cell_type": "code",
   "execution_count": 7,
   "id": "f9f1dbcb-64f8-4430-b83a-2b04737a1de7",
   "metadata": {},
   "outputs": [
    {
     "name": "stdout",
     "output_type": "stream",
     "text": [
      "0 hi akash\n",
      "2 hi akash\n",
      "4 hi akash\n",
      "5 hi akash\n"
     ]
    }
   ],
   "source": [
    "for i in range(10):\n",
    "    if i==1 or i==3:\n",
    "        continue\n",
    "    if i in [6]:\n",
    "        break\n",
    "    print(i,\"hi akash\")"
   ]
  },
  {
   "cell_type": "markdown",
   "id": "2a0b367f-8afe-429e-962c-7e6647fa3975",
   "metadata": {},
   "source": [
    "# pass"
   ]
  },
  {
   "cell_type": "code",
   "execution_count": 8,
   "id": "63e62fbe-bf72-4def-9889-670625337acb",
   "metadata": {},
   "outputs": [
    {
     "name": "stdout",
     "output_type": "stream",
     "text": [
      "10 is equal to 10\n",
      "i am akash\n"
     ]
    }
   ],
   "source": [
    "if 10==10:\n",
    "    print(\"10 is equal to 10\")\n",
    "else:\n",
    "    print(\"bye\")\n",
    "print(\"i am akash\")"
   ]
  },
  {
   "cell_type": "code",
   "execution_count": 9,
   "id": "ddd8cbb6-6e87-4bf5-add7-27fa9b14dbea",
   "metadata": {},
   "outputs": [
    {
     "name": "stdout",
     "output_type": "stream",
     "text": [
      "bye\n",
      "i am akash\n"
     ]
    }
   ],
   "source": [
    "if 10==9:\n",
    "    print(\"10 is equal to 10\")\n",
    "else:\n",
    "    print(\"bye\")\n",
    "print(\"i am akash\")"
   ]
  },
  {
   "cell_type": "code",
   "execution_count": 12,
   "id": "485542c8-c840-48e6-8b1a-d4325343e568",
   "metadata": {},
   "outputs": [
    {
     "ename": "IndentationError",
     "evalue": "expected an indented block after 'if' statement on line 1 (905404155.py, line 3)",
     "output_type": "error",
     "traceback": [
      "\u001b[1;36m  Cell \u001b[1;32mIn[12], line 3\u001b[1;36m\u001b[0m\n\u001b[1;33m    else:\u001b[0m\n\u001b[1;37m    ^\u001b[0m\n\u001b[1;31mIndentationError\u001b[0m\u001b[1;31m:\u001b[0m expected an indented block after 'if' statement on line 1\n"
     ]
    }
   ],
   "source": [
    "if 10==10:\n",
    "    \n",
    "else:\n",
    "    print(\"bye\")\n",
    "print(\"i am akash\")"
   ]
  },
  {
   "cell_type": "code",
   "execution_count": 13,
   "id": "16295386-4f19-44ed-a862-f7212e0a2389",
   "metadata": {},
   "outputs": [
    {
     "name": "stdout",
     "output_type": "stream",
     "text": [
      "i am akash\n"
     ]
    }
   ],
   "source": [
    "if 10==10:\n",
    "    pass\n",
    "else:\n",
    "    print(\"bye\")\n",
    "print(\"i am akash\")"
   ]
  },
  {
   "cell_type": "code",
   "execution_count": 14,
   "id": "79e189da-e0b8-47cc-821f-935864d422ac",
   "metadata": {},
   "outputs": [
    {
     "name": "stdout",
     "output_type": "stream",
     "text": [
      "hello world\n"
     ]
    }
   ],
   "source": [
    "for i in range(5):\n",
    "    pass\n",
    "\n",
    "print(\"hello world\")"
   ]
  },
  {
   "cell_type": "code",
   "execution_count": 15,
   "id": "8a7dac0e-97af-4e1f-8883-4bc5b99d7838",
   "metadata": {},
   "outputs": [
    {
     "name": "stdout",
     "output_type": "stream",
     "text": [
      "0 hi akash\n",
      "1 hi akash\n",
      "2 hi akash\n",
      "hello world\n"
     ]
    }
   ],
   "source": [
    "for i in range(5):\n",
    "    if i==3:\n",
    "        break\n",
    "    print(i,\"hi akash\")\n",
    "\n",
    "print(\"hello world\")"
   ]
  },
  {
   "cell_type": "markdown",
   "id": "be114804-ccf5-4c1f-8c92-4744767e470a",
   "metadata": {},
   "source": [
    "# pattern\n",
    "\n",
    " > single for loop for pattern"
   ]
  },
  {
   "cell_type": "code",
   "execution_count": 1,
   "id": "49d1cafa-3d5a-4e1c-b5e3-36c32902f2e2",
   "metadata": {},
   "outputs": [
    {
     "name": "stdout",
     "output_type": "stream",
     "text": [
      "*\n",
      "**\n",
      "***\n",
      "****\n",
      "*****\n"
     ]
    }
   ],
   "source": [
    "print(\"*\"*1)\n",
    "print(\"*\"*2)\n",
    "print(\"*\"*3)\n",
    "print(\"*\"*4)\n",
    "print(\"*\"*5)"
   ]
  },
  {
   "cell_type": "code",
   "execution_count": 5,
   "id": "a7fa3e86-4462-45e7-9697-2a04b22a59b5",
   "metadata": {},
   "outputs": [
    {
     "name": "stdout",
     "output_type": "stream",
     "text": [
      "*\n",
      "**\n",
      "***\n",
      "****\n",
      "*****\n"
     ]
    }
   ],
   "source": [
    "for i in range(5):\n",
    "    print(\"*\"*(i+1))"
   ]
  },
  {
   "cell_type": "code",
   "execution_count": 6,
   "id": "fb003687-9fe5-42be-ac3f-616d5085aa41",
   "metadata": {},
   "outputs": [
    {
     "name": "stdout",
     "output_type": "stream",
     "text": [
      "* \n",
      "* * \n",
      "* * * \n",
      "* * * * \n",
      "* * * * * \n"
     ]
    }
   ],
   "source": [
    "for i in range(5):\n",
    "    print(\"* \"*(i+1))"
   ]
  },
  {
   "cell_type": "code",
   "execution_count": 8,
   "id": "7a5e4569-dda9-432c-8ce9-d6be5dd2b1f9",
   "metadata": {},
   "outputs": [
    {
     "name": "stdout",
     "output_type": "stream",
     "text": [
      "*\n",
      "***\n",
      "*****\n"
     ]
    }
   ],
   "source": [
    "for i in range(5):\n",
    "    if i==1 or i==3:\n",
    "        continue\n",
    "    print(\"*\"*(i+1))"
   ]
  },
  {
   "cell_type": "code",
   "execution_count": 35,
   "id": "2a99d6b1-eb4d-4eaa-9a81-03b2eb70151b",
   "metadata": {},
   "outputs": [
    {
     "name": "stdout",
     "output_type": "stream",
     "text": [
      "***\n",
      "***\n",
      "***\n",
      "***\n",
      "****\n"
     ]
    }
   ],
   "source": [
    "print(\"*\"*(4-1)+\"*\"*(0 ))\n",
    "print(\"*\"*(3-1)+\"*\"*(1))\n",
    "print(\"*\"*(2-1)+\"*\"*(2))\n",
    "print(\"*\"*(1-1)+\"*\"*(3))\n",
    "print(\"*\"*(0-1)+\"*\"*(4))"
   ]
  },
  {
   "cell_type": "code",
   "execution_count": 42,
   "id": "a178cdbe-9796-4f5a-b211-c311afa77b99",
   "metadata": {},
   "outputs": [
    {
     "name": "stdout",
     "output_type": "stream",
     "text": [
      "*\n",
      "**\n",
      "***\n",
      "****\n",
      "*****\n"
     ]
    }
   ],
   "source": [
    "for i in range(5):\n",
    "    print(\"*\"*(i+1))"
   ]
  },
  {
   "cell_type": "code",
   "execution_count": 43,
   "id": "877817c3-2735-421d-8b2e-19982da7aad3",
   "metadata": {},
   "outputs": [
    {
     "name": "stdout",
     "output_type": "stream",
     "text": [
      "*****\n",
      "****\n",
      "***\n",
      "**\n",
      "*\n"
     ]
    }
   ],
   "source": [
    "print(\"*\"*5)\n",
    "print(\"*\"*4)\n",
    "print(\"*\"*3)\n",
    "print(\"*\"*2)\n",
    "print(\"*\"*1)"
   ]
  },
  {
   "cell_type": "code",
   "execution_count": 65,
   "id": "11625163-7c21-4b34-b223-ae24f3c22296",
   "metadata": {},
   "outputs": [
    {
     "name": "stdout",
     "output_type": "stream",
     "text": [
      "0 *****\n",
      "1 ****\n",
      "2 ***\n",
      "3 **\n",
      "4 *\n"
     ]
    }
   ],
   "source": [
    "for i in range(5):\n",
    "    print(i,\"*\"*(5-i))"
   ]
  },
  {
   "cell_type": "code",
   "execution_count": 69,
   "id": "f2e7b470-fe8c-4250-99a4-896a1a822edb",
   "metadata": {},
   "outputs": [
    {
     "name": "stdout",
     "output_type": "stream",
     "text": [
      "*****\n",
      "**** \n",
      "***  \n",
      "**   \n",
      "*    \n"
     ]
    }
   ],
   "source": [
    "print(\"*\"*5+\" \"*0)\n",
    "print(\"*\"*4+\" \"*1)\n",
    "print(\"*\"*3+\" \"*2)\n",
    "print(\"*\"*2+\" \"*3)\n",
    "print(\"*\"*1+\" \"*4)"
   ]
  },
  {
   "cell_type": "code",
   "execution_count": 70,
   "id": "8a068f98-1e51-4887-a65e-d10209056512",
   "metadata": {},
   "outputs": [
    {
     "name": "stdout",
     "output_type": "stream",
     "text": [
      "    *\n",
      "   **\n",
      "  ***\n",
      " ****\n",
      "*****\n"
     ]
    }
   ],
   "source": [
    "print(\" \"*4+\"*\"*1)\n",
    "print(\" \"*3+\"*\"*2)\n",
    "print(\" \"*2+\"*\"*3)\n",
    "print(\" \"*1+\"*\"*4)\n",
    "print(\" \"*0+\"*\"*5)"
   ]
  },
  {
   "cell_type": "code",
   "execution_count": 75,
   "id": "3e52cdd0-6876-418f-9ccc-8b1138a756e3",
   "metadata": {},
   "outputs": [
    {
     "name": "stdout",
     "output_type": "stream",
     "text": [
      "    ******\n",
      "   ****** \n",
      "  ******  \n",
      " ******   \n",
      "******    \n"
     ]
    }
   ],
   "source": [
    "print((\" \"*4+\"*\"*1)+(\"*\"*5+\" \"*0))\n",
    "print((\" \"*3+\"*\"*2)+(\"*\"*4+\" \"*1))\n",
    "print((\" \"*2+\"*\"*3)+(\"*\"*3+\" \"*2))\n",
    "print((\" \"*1+\"*\"*4)+(\"*\"*2+\" \"*3))\n",
    "print((\" \"*0+\"*\"*5)+(\"*\"*1+\" \"*4))"
   ]
  },
  {
   "cell_type": "code",
   "execution_count": 76,
   "id": "13717836-bf21-4b8b-920a-d6acee84ed6b",
   "metadata": {},
   "outputs": [
    {
     "name": "stdout",
     "output_type": "stream",
     "text": [
      "    *    \n",
      "   ***   \n",
      "  *****  \n",
      " ******* \n",
      "*********\n"
     ]
    }
   ],
   "source": [
    "print((\" \"*4+\"*\"*1)+(\"*\"*0+\" \"*4))\n",
    "print((\" \"*3+\"*\"*2)+(\"*\"*1+\" \"*3))\n",
    "print((\" \"*2+\"*\"*3)+(\"*\"*2+\" \"*2))\n",
    "print((\" \"*1+\"*\"*4)+(\"*\"*3+\" \"*1))\n",
    "print((\" \"*0+\"*\"*5)+(\"*\"*4+\" \"*0))"
   ]
  },
  {
   "cell_type": "code",
   "execution_count": 149,
   "id": "24939135-6908-47db-8621-a823a97fea6b",
   "metadata": {},
   "outputs": [
    {
     "name": "stdout",
     "output_type": "stream",
     "text": [
      "0     *\n",
      "1    ***\n",
      "2   *****\n",
      "3  *******\n",
      "4 *********\n"
     ]
    }
   ],
   "source": [
    "for i in range(5):\n",
    "    print(i,\" \"*(4-i)+\"*\"*(i-0)+(\"*\"*(1+i)+\" \"*(i-4)))\n"
   ]
  },
  {
   "cell_type": "code",
   "execution_count": 150,
   "id": "6ed81a38-629e-453a-a79b-a26f69002e64",
   "metadata": {},
   "outputs": [
    {
     "name": "stdout",
     "output_type": "stream",
     "text": [
      "5 *********\n",
      "4  *******\n",
      "3   ***** \n",
      "2    ***  \n",
      "1     *   \n"
     ]
    }
   ],
   "source": [
    "for i in range(5,0,-1):\n",
    "    print(i,\" \"*(5-i)+\"*\"*(i-1)+(\"*\"*(0+i)+\" \"*(4-i)))\n"
   ]
  },
  {
   "cell_type": "code",
   "execution_count": 113,
   "id": "934bd7ae-207f-4be7-b1ee-0e4dd731d842",
   "metadata": {},
   "outputs": [
    {
     "name": "stdout",
     "output_type": "stream",
     "text": [
      "********* \n",
      " *******  \n",
      "  *****   \n",
      "   ***    \n",
      "    *     \n"
     ]
    }
   ],
   "source": [
    "print((\" \"*0+\"*\"*5)+(\"*\"*4+\" \"*1))\n",
    "print((\" \"*1+\"*\"*4)+(\"*\"*3+\" \"*2))\n",
    "print((\" \"*2+\"*\"*3)+(\"*\"*2+\" \"*3))\n",
    "print((\" \"*3+\"*\"*2)+(\"*\"*1+\" \"*4))\n",
    "print((\" \"*4+\"*\"*1)+(\"*\"*0+\" \"*5))"
   ]
  },
  {
   "cell_type": "code",
   "execution_count": 143,
   "id": "6bc1e8ca-e704-47f1-beb2-ff2ee8828400",
   "metadata": {},
   "outputs": [
    {
     "name": "stdout",
     "output_type": "stream",
     "text": [
      "*********\n",
      " ******* \n",
      "  *****  \n",
      "   ***   \n",
      "    *    \n"
     ]
    }
   ],
   "source": [
    "for i in range(5):\n",
    "    print((\" \"*(0+i)+\"*\"*(5-i)+(\"*\"*(4-i)+\" \"*(i+0))))"
   ]
  },
  {
   "cell_type": "code",
   "execution_count": 2,
   "id": "9cba9c29-052c-49a2-a019-2fd4a95edef3",
   "metadata": {},
   "outputs": [
    {
     "name": "stdout",
     "output_type": "stream",
     "text": [
      "*\n",
      "**\n",
      "***\n",
      "****\n",
      "*****\n"
     ]
    }
   ],
   "source": [
    "for i in range(5):\n",
    "    print(\"*\"*(1+i))"
   ]
  },
  {
   "cell_type": "code",
   "execution_count": 9,
   "id": "466c213b-4cfe-4ec1-ad9f-80517af89fca",
   "metadata": {},
   "outputs": [
    {
     "name": "stdout",
     "output_type": "stream",
     "text": [
      "    *\n",
      "   **\n",
      "  ***\n",
      " ****\n",
      "*****\n"
     ]
    }
   ],
   "source": [
    "print(\"    \"+\"*\")\n",
    "print(\"   \"+\"**\")\n",
    "print(\"  \"+\"***\")\n",
    "print(\" \"+\"****\")\n",
    "print(\"\"+\"*****\")"
   ]
  },
  {
   "cell_type": "code",
   "execution_count": 5,
   "id": "d37414f6-044b-4f87-9f4f-3ae0c35d97b7",
   "metadata": {},
   "outputs": [
    {
     "name": "stdout",
     "output_type": "stream",
     "text": [
      "    *\n",
      "   **\n",
      "  ***\n",
      " ****\n",
      "*****\n"
     ]
    }
   ],
   "source": [
    "print(\" \"*4+\"*\"*1)\n",
    "print(\" \"*3+\"*\"*2)\n",
    "print(\" \"*2+\"*\"*3)\n",
    "print(\" \"*1+\"*\"*4)\n",
    "print(\" \"*0+\"*\"*5)"
   ]
  },
  {
   "cell_type": "code",
   "execution_count": 21,
   "id": "d0aa03b4-e153-4bf8-9ac4-982ca40c4027",
   "metadata": {},
   "outputs": [
    {
     "name": "stdout",
     "output_type": "stream",
     "text": [
      "    *\n",
      "   **\n",
      "  ***\n",
      " ****\n",
      "*****\n"
     ]
    }
   ],
   "source": [
    "for i in range(5):\n",
    "    print(\" \"*(4-i)+\"*\"*(i+1))"
   ]
  },
  {
   "cell_type": "code",
   "execution_count": 18,
   "id": "80ac25eb-4507-43e6-a2b3-d2e0ef3b1b90",
   "metadata": {},
   "outputs": [
    {
     "name": "stdout",
     "output_type": "stream",
     "text": [
      "    *\n",
      "  ***\n",
      "*****\n"
     ]
    }
   ],
   "source": [
    "for i in range(5):\n",
    "    if i==1 or i==3:\n",
    "        continue\n",
    "    print(\" \"*(4-i)+\"*\"*(i+1))"
   ]
  },
  {
   "cell_type": "code",
   "execution_count": 22,
   "id": "f7f1f7af-a565-4fc0-a77a-d1d8ef9834b9",
   "metadata": {},
   "outputs": [
    {
     "name": "stdout",
     "output_type": "stream",
     "text": [
      "     *\n",
      "   * * *\n",
      " * * * * *\n"
     ]
    }
   ],
   "source": [
    "for i in range(5):\n",
    "    if i==1 or i==3:\n",
    "        continue\n",
    "    print(\" \"*(4-i)+\" *\"*(i+1))    # we used space before \"_*\""
   ]
  },
  {
   "cell_type": "code",
   "execution_count": 24,
   "id": "e8858381-0817-4f72-995d-2e4e77c6a5a1",
   "metadata": {},
   "outputs": [
    {
     "name": "stdout",
     "output_type": "stream",
     "text": [
      "    *\n",
      "   ***\n",
      "  *****\n",
      " *******\n",
      "*********\n"
     ]
    }
   ],
   "source": [
    "for i in range(5):\n",
    "    print(\" \"*(4-i)+\"*\"*(i+1)+\"*\"*(i))"
   ]
  },
  {
   "cell_type": "code",
   "execution_count": 37,
   "id": "56d74245-66cd-4ada-81c9-cde2dce26072",
   "metadata": {},
   "outputs": [
    {
     "name": "stdout",
     "output_type": "stream",
     "text": [
      "*****\n",
      " ****\n",
      "  ***\n",
      "   **\n",
      "    *\n"
     ]
    }
   ],
   "source": [
    "for i in range(5):\n",
    "    print(\" \"*(4-i)+\" *\"*(i+1))"
   ]
  },
  {
   "cell_type": "code",
   "execution_count": 38,
   "id": "fd44fa7e-9833-4c3a-be9a-dd7fd0302150",
   "metadata": {},
   "outputs": [
    {
     "name": "stdout",
     "output_type": "stream",
     "text": [
      "*****\n",
      " ****\n",
      "  ***\n",
      "   **\n",
      "    *\n"
     ]
    }
   ],
   "source": [
    "print(\" \"*0+\"*\"*5)\n",
    "print(\" \"*1+\"*\"*4)\n",
    "print(\" \"*2+\"*\"*3)\n",
    "print(\" \"*3+\"*\"*2)\n",
    "print(\" \"*4+\"*\"*1)"
   ]
  },
  {
   "cell_type": "code",
   "execution_count": 39,
   "id": "2b24062e-a045-4849-9dca-2c6046599007",
   "metadata": {},
   "outputs": [
    {
     "name": "stdout",
     "output_type": "stream",
     "text": [
      "*****\n",
      " ****\n",
      "  ***\n",
      "   **\n",
      "    *\n"
     ]
    }
   ],
   "source": [
    "for i in range(5):\n",
    "    print(\" \"*(0+i)+\"*\"*(5-i))"
   ]
  },
  {
   "cell_type": "code",
   "execution_count": 43,
   "id": "b444e5f1-2510-48fc-808f-b43acc83d7c5",
   "metadata": {},
   "outputs": [
    {
     "name": "stdout",
     "output_type": "stream",
     "text": [
      "* * * * * \n",
      "  * * * \n",
      "    * \n"
     ]
    }
   ],
   "source": [
    "for i in range(5):\n",
    "    if i==1 or i==3:\n",
    "        continue\n",
    "    print(\" \"*(0+i)+\"* \"*(5-i))"
   ]
  },
  {
   "cell_type": "code",
   "execution_count": 51,
   "id": "68264eec-4082-47fa-9e68-ddf6d239c97c",
   "metadata": {},
   "outputs": [
    {
     "name": "stdout",
     "output_type": "stream",
     "text": [
      "* * * * * \n",
      "  * * * * * \n",
      "    * * * * * \n",
      "      * * * * * \n",
      "        * * * * * \n"
     ]
    }
   ],
   "source": [
    "for i in range(5):\n",
    "    print(((\" \"*(1+i)+\" \"*(0+i)+\"* \"*(5)))[1:])"
   ]
  },
  {
   "cell_type": "markdown",
   "id": "0f19ac90-e9ef-4a4d-a307-9c46bd336a88",
   "metadata": {},
   "source": [
    "# pattern using nested for loop"
   ]
  },
  {
   "cell_type": "code",
   "execution_count": 2,
   "id": "dc1b2971-b3b4-4b31-b2d1-c2415a0b5052",
   "metadata": {},
   "outputs": [
    {
     "name": "stdout",
     "output_type": "stream",
     "text": [
      "    *\n",
      "   **\n",
      "  ***\n",
      " ****\n",
      "*****\n"
     ]
    }
   ],
   "source": [
    "for i in range(5):\n",
    "    for j in range(5):\n",
    "        if j<(4-i):\n",
    "            print(\" \",end=\"\")\n",
    "        else:\n",
    "            print(\"*\",end=\"\")\n",
    "    print()\n",
    "    "
   ]
  },
  {
   "cell_type": "markdown",
   "id": "1f5faa6b-e44b-416d-b85d-2b647b3daedc",
   "metadata": {},
   "source": [
    "# list comprehension"
   ]
  },
  {
   "cell_type": "code",
   "execution_count": 4,
   "id": "241c0a07-467e-400c-9196-db93ee234d5d",
   "metadata": {},
   "outputs": [
    {
     "name": "stdout",
     "output_type": "stream",
     "text": [
      "0\n",
      "1\n",
      "2\n",
      "3\n",
      "4\n",
      "5\n",
      "6\n",
      "7\n",
      "8\n",
      "9\n"
     ]
    }
   ],
   "source": [
    "a=[]\n",
    "for i in range(10):\n",
    "    print(i)"
   ]
  },
  {
   "cell_type": "code",
   "execution_count": 5,
   "id": "9feac96f-c574-4bf9-bf58-b2a2fad7fa3a",
   "metadata": {},
   "outputs": [
    {
     "name": "stdout",
     "output_type": "stream",
     "text": [
      "[0, 1, 2, 3, 4, 5, 6, 7, 8, 9]\n"
     ]
    }
   ],
   "source": [
    "a=[]\n",
    "for i in range(10):\n",
    "    a.append(i)\n",
    "print(a)"
   ]
  },
  {
   "cell_type": "code",
   "execution_count": 6,
   "id": "5d2baf79-b9ee-4692-af9a-1561e6453181",
   "metadata": {},
   "outputs": [
    {
     "name": "stdout",
     "output_type": "stream",
     "text": [
      "[0, 1, 2, 3, 4, 5, 6, 7, 8, 9]\n"
     ]
    }
   ],
   "source": [
    "b=[i for i in range(10)]\n",
    "print(b)"
   ]
  },
  {
   "cell_type": "code",
   "execution_count": 7,
   "id": "6e0dca6b-1bd5-43d1-a99b-c7f85a4b1c89",
   "metadata": {},
   "outputs": [
    {
     "name": "stdout",
     "output_type": "stream",
     "text": [
      "[0, 1, 2, 3, 4, 5, 6, 7, 8, 9]\n"
     ]
    }
   ],
   "source": [
    "print([i for i in range(10)])"
   ]
  },
  {
   "cell_type": "markdown",
   "id": "794b6174-6526-4550-9073-e4cbb211f7a2",
   "metadata": {},
   "source": [
    "# set comprehension"
   ]
  },
  {
   "cell_type": "code",
   "execution_count": 8,
   "id": "40af7001-4b13-4b18-a1c0-ecf003b482c8",
   "metadata": {},
   "outputs": [
    {
     "name": "stdout",
     "output_type": "stream",
     "text": [
      "{0, 1, 2, 3, 4, 5, 6, 7, 8, 9}\n"
     ]
    }
   ],
   "source": [
    "a=set()\n",
    "for i in range(10):\n",
    "    a.add(i)\n",
    "print(a)"
   ]
  },
  {
   "cell_type": "code",
   "execution_count": 10,
   "id": "aebaed97-2465-44bf-9858-19c9d1c9115b",
   "metadata": {},
   "outputs": [
    {
     "name": "stdout",
     "output_type": "stream",
     "text": [
      "<class 'dict'>\n"
     ]
    }
   ],
   "source": [
    "a={}\n",
    "print(type(a))"
   ]
  },
  {
   "cell_type": "code",
   "execution_count": 13,
   "id": "02568577-daea-4165-8f67-414e0611de8f",
   "metadata": {},
   "outputs": [
    {
     "name": "stdout",
     "output_type": "stream",
     "text": [
      "<class 'dict'>\n"
     ]
    }
   ],
   "source": [
    "a={1:\"akash\"}\n",
    "print(type(a))"
   ]
  },
  {
   "cell_type": "code",
   "execution_count": 14,
   "id": "7e43983a-402d-4df3-ae12-022e865d979a",
   "metadata": {},
   "outputs": [
    {
     "name": "stdout",
     "output_type": "stream",
     "text": [
      "<class 'set'>\n"
     ]
    }
   ],
   "source": [
    "a={1}\n",
    "print(type(a))"
   ]
  },
  {
   "cell_type": "code",
   "execution_count": 15,
   "id": "2eae32fd-30e8-400c-b88a-8c188adf1ae5",
   "metadata": {},
   "outputs": [
    {
     "name": "stdout",
     "output_type": "stream",
     "text": [
      "{0, 1, 2, 3, 4, 5, 6, 7, 8, 9}\n"
     ]
    }
   ],
   "source": [
    "a={i for i in range(10)}\n",
    "print(a)"
   ]
  },
  {
   "cell_type": "markdown",
   "id": "7057430a-9ed6-4677-b5b6-b85e53c9920e",
   "metadata": {},
   "source": [
    "# frozenset comprehension"
   ]
  },
  {
   "cell_type": "code",
   "execution_count": 21,
   "id": "f39b9825-8de2-45c5-a216-d3fd5011f742",
   "metadata": {},
   "outputs": [
    {
     "name": "stdout",
     "output_type": "stream",
     "text": [
      "frozenset({0, 1, 2, 3, 4, 5, 6, 7, 8, 9})\n"
     ]
    }
   ],
   "source": [
    "a=frozenset()\n",
    "for i in range(10):\n",
    "    a=a.union(frozenset({i}))\n",
    "print(a)"
   ]
  },
  {
   "cell_type": "code",
   "execution_count": 23,
   "id": "33f4018e-fa18-4e4a-bd43-ec05186fc69a",
   "metadata": {},
   "outputs": [
    {
     "name": "stdout",
     "output_type": "stream",
     "text": [
      "frozenset({0, 1, 2, 3, 4, 5, 6, 7, 8, 9})\n"
     ]
    }
   ],
   "source": [
    "b=frozenset({i for i in range(10)})\n",
    "print(b)"
   ]
  },
  {
   "cell_type": "markdown",
   "id": "4306dacf-5d25-4954-ad2f-a6e7e735daae",
   "metadata": {},
   "source": [
    "# tuple comprehension( create generator object)"
   ]
  },
  {
   "cell_type": "code",
   "execution_count": 24,
   "id": "deb851b6-e3c1-4e56-a555-d70f78ecdcef",
   "metadata": {},
   "outputs": [
    {
     "name": "stdout",
     "output_type": "stream",
     "text": [
      "(0, 1, 2, 3, 4, 5, 6, 7, 8, 9)\n"
     ]
    }
   ],
   "source": [
    "a=()\n",
    "for i in range(10):\n",
    "    a=a+(i,)\n",
    "print(a)"
   ]
  },
  {
   "cell_type": "code",
   "execution_count": 25,
   "id": "f5ca0986-36b2-4155-83cd-c36be7b51e33",
   "metadata": {},
   "outputs": [],
   "source": [
    "b=(i for i in range(10))"
   ]
  },
  {
   "cell_type": "code",
   "execution_count": 26,
   "id": "b5c3647d-ea10-4870-b06a-6a4ee83537b4",
   "metadata": {},
   "outputs": [
    {
     "name": "stdout",
     "output_type": "stream",
     "text": [
      "<generator object <genexpr> at 0x0000027FE2641490>\n"
     ]
    }
   ],
   "source": [
    "print(b)"
   ]
  },
  {
   "cell_type": "code",
   "execution_count": 28,
   "id": "c354b606-0dc6-4ee0-a336-62a5e2deb590",
   "metadata": {},
   "outputs": [
    {
     "data": {
      "text/plain": [
       "0"
      ]
     },
     "execution_count": 28,
     "metadata": {},
     "output_type": "execute_result"
    }
   ],
   "source": [
    "next(b)"
   ]
  },
  {
   "cell_type": "code",
   "execution_count": 29,
   "id": "1205dc17-958c-419c-802c-0ff4fd624c66",
   "metadata": {},
   "outputs": [
    {
     "data": {
      "text/plain": [
       "1"
      ]
     },
     "execution_count": 29,
     "metadata": {},
     "output_type": "execute_result"
    }
   ],
   "source": [
    "next(b)"
   ]
  },
  {
   "cell_type": "code",
   "execution_count": 30,
   "id": "c9c01f89-1a67-4505-98f1-73df183839f0",
   "metadata": {},
   "outputs": [
    {
     "data": {
      "text/plain": [
       "2"
      ]
     },
     "execution_count": 30,
     "metadata": {},
     "output_type": "execute_result"
    }
   ],
   "source": [
    "next(b)"
   ]
  },
  {
   "cell_type": "code",
   "execution_count": 31,
   "id": "2418a40a-e4aa-4ba9-8b98-008883a264da",
   "metadata": {},
   "outputs": [
    {
     "data": {
      "text/plain": [
       "3"
      ]
     },
     "execution_count": 31,
     "metadata": {},
     "output_type": "execute_result"
    }
   ],
   "source": [
    "next(b)"
   ]
  },
  {
   "cell_type": "code",
   "execution_count": 32,
   "id": "de714ac9-e5e5-4980-a94f-cc9f6ec3b048",
   "metadata": {},
   "outputs": [
    {
     "data": {
      "text/plain": [
       "4"
      ]
     },
     "execution_count": 32,
     "metadata": {},
     "output_type": "execute_result"
    }
   ],
   "source": [
    "next(b)"
   ]
  },
  {
   "cell_type": "code",
   "execution_count": 33,
   "id": "3262fd5a-9615-4b2c-ab7a-70ee15c0aac8",
   "metadata": {},
   "outputs": [
    {
     "data": {
      "text/plain": [
       "5"
      ]
     },
     "execution_count": 33,
     "metadata": {},
     "output_type": "execute_result"
    }
   ],
   "source": [
    "next(b)"
   ]
  },
  {
   "cell_type": "code",
   "execution_count": 34,
   "id": "fa3bbc71-df79-42b7-ad73-0dafb39db411",
   "metadata": {},
   "outputs": [
    {
     "data": {
      "text/plain": [
       "6"
      ]
     },
     "execution_count": 34,
     "metadata": {},
     "output_type": "execute_result"
    }
   ],
   "source": [
    "next(b)"
   ]
  },
  {
   "cell_type": "code",
   "execution_count": 35,
   "id": "17a0926e-0019-4610-bd9b-e09ef640b3e1",
   "metadata": {},
   "outputs": [
    {
     "data": {
      "text/plain": [
       "7"
      ]
     },
     "execution_count": 35,
     "metadata": {},
     "output_type": "execute_result"
    }
   ],
   "source": [
    "next(b)"
   ]
  },
  {
   "cell_type": "code",
   "execution_count": 36,
   "id": "56e77f43-7431-43da-b681-ea84c6cee0ed",
   "metadata": {},
   "outputs": [
    {
     "data": {
      "text/plain": [
       "8"
      ]
     },
     "execution_count": 36,
     "metadata": {},
     "output_type": "execute_result"
    }
   ],
   "source": [
    "next(b)"
   ]
  },
  {
   "cell_type": "code",
   "execution_count": 37,
   "id": "59abc620-b7be-4e3a-a0e2-bc5470549260",
   "metadata": {},
   "outputs": [
    {
     "data": {
      "text/plain": [
       "9"
      ]
     },
     "execution_count": 37,
     "metadata": {},
     "output_type": "execute_result"
    }
   ],
   "source": [
    "next(b)"
   ]
  },
  {
   "cell_type": "code",
   "execution_count": 38,
   "id": "ff5fb216-79c0-4833-889b-992b52f981df",
   "metadata": {},
   "outputs": [
    {
     "ename": "StopIteration",
     "evalue": "",
     "output_type": "error",
     "traceback": [
      "\u001b[1;31m---------------------------------------------------------------------------\u001b[0m",
      "\u001b[1;31mStopIteration\u001b[0m                             Traceback (most recent call last)",
      "Cell \u001b[1;32mIn[38], line 1\u001b[0m\n\u001b[1;32m----> 1\u001b[0m \u001b[38;5;28;43mnext\u001b[39;49m\u001b[43m(\u001b[49m\u001b[43mb\u001b[49m\u001b[43m)\u001b[49m\n",
      "\u001b[1;31mStopIteration\u001b[0m: "
     ]
    }
   ],
   "source": [
    "next(b)"
   ]
  },
  {
   "cell_type": "markdown",
   "id": "b7ca37d7-44e8-4f01-8967-6b32c75ae841",
   "metadata": {},
   "source": [
    "# dictanory comprehension"
   ]
  },
  {
   "cell_type": "code",
   "execution_count": 6,
   "id": "bc3bd4ed-772a-4ec6-8458-b1d2c12f5ca8",
   "metadata": {},
   "outputs": [],
   "source": [
    "enrollment=[1,2,3,4,5]\n",
    "name=[\"akash\",\"ravi\",\"shyam\",\"rohan\",\"alok\"]"
   ]
  },
  {
   "cell_type": "code",
   "execution_count": 7,
   "id": "aeaf078c-17ee-4ae9-a4e8-96cfff26c1d0",
   "metadata": {},
   "outputs": [
    {
     "name": "stdout",
     "output_type": "stream",
     "text": [
      "1\n",
      "2\n",
      "3\n",
      "4\n",
      "5\n"
     ]
    }
   ],
   "source": [
    "for i in enrollment:\n",
    "    print(i)"
   ]
  },
  {
   "cell_type": "code",
   "execution_count": 8,
   "id": "32ef00d7-3429-45fd-9141-af1a23abd686",
   "metadata": {},
   "outputs": [
    {
     "name": "stdout",
     "output_type": "stream",
     "text": [
      "[1, 2, 3, 4, 5]\n",
      "['akash', 'ravi', 'shyam', 'rohan', 'alok']\n"
     ]
    }
   ],
   "source": [
    "for i in enrollment,name:\n",
    "    print(i)"
   ]
  },
  {
   "cell_type": "code",
   "execution_count": 9,
   "id": "9968722f-f7aa-4789-a38c-769168563620",
   "metadata": {},
   "outputs": [
    {
     "name": "stdout",
     "output_type": "stream",
     "text": [
      "1:akash\n",
      "2:ravi\n",
      "3:shyam\n",
      "4:rohan\n",
      "5:alok\n"
     ]
    }
   ],
   "source": [
    "for i,j in zip(enrollment,name):\n",
    "    print(f\"{i}:{j}\")"
   ]
  },
  {
   "cell_type": "code",
   "execution_count": 10,
   "id": "6a5ef02f-6582-4fd4-8a8d-9139fe1e2821",
   "metadata": {},
   "outputs": [],
   "source": [
    "new_dict={}\n",
    "for i,j in zip(enrollment,name):\n",
    "    new_dict.update({i:j})"
   ]
  },
  {
   "cell_type": "code",
   "execution_count": 11,
   "id": "83ba6ee3-37e2-44fd-a274-791cd05e14b6",
   "metadata": {},
   "outputs": [
    {
     "data": {
      "text/plain": [
       "{1: 'akash', 2: 'ravi', 3: 'shyam', 4: 'rohan', 5: 'alok'}"
      ]
     },
     "execution_count": 11,
     "metadata": {},
     "output_type": "execute_result"
    }
   ],
   "source": [
    "new_dict"
   ]
  },
  {
   "cell_type": "code",
   "execution_count": 12,
   "id": "6e4db504-75e4-4f05-9f1f-eb3acfdfa108",
   "metadata": {},
   "outputs": [],
   "source": [
    "new_dict1={i:j for i,j in zip(enrollment,name)}"
   ]
  },
  {
   "cell_type": "code",
   "execution_count": 13,
   "id": "eea6d70f-955c-4ad5-8c0c-e0f8dd5269be",
   "metadata": {},
   "outputs": [
    {
     "data": {
      "text/plain": [
       "{1: 'akash', 2: 'ravi', 3: 'shyam', 4: 'rohan', 5: 'alok'}"
      ]
     },
     "execution_count": 13,
     "metadata": {},
     "output_type": "execute_result"
    }
   ],
   "source": [
    "new_dict1"
   ]
  },
  {
   "cell_type": "raw",
   "id": "cf26ddab-b89c-45ae-99de-659627907ee1",
   "metadata": {},
   "source": [
    "# while loop\n",
    "   > single while loop\n",
    "   > pattern\n",
    "        >single loop pattern\n",
    "        >multiloop pattern\n",
    "   > continue\n",
    "   > break\n",
    "   > pass"
   ]
  },
  {
   "cell_type": "raw",
   "id": "3eb9a4ae-bfad-40f1-99af-b2e3f5022680",
   "metadata": {},
   "source": [
    "initializer\n",
    "while condition:\n",
    "    statement(s)\n",
    "    increment/decrement"
   ]
  },
  {
   "cell_type": "code",
   "execution_count": 3,
   "id": "6ccd6895-b816-4a97-bae2-b1fe92b36e40",
   "metadata": {},
   "outputs": [
    {
     "name": "stdout",
     "output_type": "stream",
     "text": [
      "1 hello world\n",
      "2 hello world\n",
      "3 hello world\n",
      "4 hello world\n",
      "5 hello world\n"
     ]
    }
   ],
   "source": [
    "i=1\n",
    "while i<=5:\n",
    "    print(i,\"hello world\")\n",
    "    i=i+1"
   ]
  },
  {
   "cell_type": "code",
   "execution_count": 4,
   "id": "430d7319-696d-46e0-b159-16dafcec122e",
   "metadata": {},
   "outputs": [
    {
     "name": "stdout",
     "output_type": "stream",
     "text": [
      "*\n",
      "**\n",
      "***\n",
      "****\n",
      "*****\n"
     ]
    }
   ],
   "source": [
    "for i in range(5):\n",
    "    print(\"*\"*(i+1))"
   ]
  },
  {
   "cell_type": "code",
   "execution_count": 5,
   "id": "e3663cbf-bb61-446c-890d-b4930335ea70",
   "metadata": {},
   "outputs": [
    {
     "name": "stdout",
     "output_type": "stream",
     "text": [
      "*\n",
      "**\n",
      "***\n",
      "****\n",
      "*****\n"
     ]
    }
   ],
   "source": [
    "i=1\n",
    "while i<=5:\n",
    "    print(\"*\"*i)\n",
    "    i=i+1"
   ]
  },
  {
   "cell_type": "code",
   "execution_count": 18,
   "id": "19bad6f6-6ccb-4bbc-acf7-a2e5d554b0ae",
   "metadata": {},
   "outputs": [
    {
     "name": "stdout",
     "output_type": "stream",
     "text": [
      "    *\n",
      "   **\n",
      "  ***\n",
      " ****\n",
      "*****\n"
     ]
    }
   ],
   "source": [
    "n=5\n",
    "for i in range(n):\n",
    "    print(\" \"*(4-i)+\"*\"*(i+1))\n"
   ]
  },
  {
   "cell_type": "code",
   "execution_count": 10,
   "id": "356e8d6e-9c6b-4467-b77b-08b0fd612880",
   "metadata": {
    "scrolled": true
   },
   "outputs": [
    {
     "name": "stdout",
     "output_type": "stream",
     "text": [
      "    *\n",
      "   **\n",
      "  ***\n",
      " ****\n",
      "*****\n"
     ]
    }
   ],
   "source": [
    "i=1\n",
    "while i<=5:\n",
    "    print(\" \"*(5-i)+\"*\"*(i+0))\n",
    "    i=i+1"
   ]
  },
  {
   "cell_type": "markdown",
   "id": "e8705546-fb1e-4ff4-ab70-adae86e4d5f3",
   "metadata": {},
   "source": [
    "# nested while loop"
   ]
  },
  {
   "cell_type": "code",
   "execution_count": 3,
   "id": "7338562c-9223-406f-a416-499716104d2b",
   "metadata": {},
   "outputs": [
    {
     "name": "stdout",
     "output_type": "stream",
     "text": [
      "    *\n",
      "   **\n",
      "  ***\n",
      " ****\n",
      "*****\n"
     ]
    }
   ],
   "source": [
    "i=0\n",
    "while i<=4:\n",
    "    j=1\n",
    "    while j<=5:\n",
    "        if j<=(4-i):\n",
    "            print(\" \",end=\"\")\n",
    "        else:\n",
    "            print(\"*\",end=\"\")\n",
    "        j=j+1\n",
    "    print()\n",
    "    i=i+1"
   ]
  },
  {
   "cell_type": "markdown",
   "id": "616b206b-20a1-44de-bafd-b62738d94851",
   "metadata": {},
   "source": [
    "# pass while loop"
   ]
  },
  {
   "cell_type": "code",
   "execution_count": 4,
   "id": "4575df3b-7de2-46ee-aac6-84d669d4ad2a",
   "metadata": {},
   "outputs": [
    {
     "ename": "KeyboardInterrupt",
     "evalue": "",
     "output_type": "error",
     "traceback": [
      "\u001b[1;31m---------------------------------------------------------------------------\u001b[0m",
      "\u001b[1;31mKeyboardInterrupt\u001b[0m                         Traceback (most recent call last)",
      "Cell \u001b[1;32mIn[4], line 2\u001b[0m\n\u001b[0;32m      1\u001b[0m akash\u001b[38;5;241m=\u001b[39m\u001b[38;5;241m1\u001b[39m\n\u001b[1;32m----> 2\u001b[0m \u001b[38;5;28;01mwhile\u001b[39;00m akash\u001b[38;5;241m<\u001b[39m\u001b[38;5;241m=\u001b[39m\u001b[38;5;241m5\u001b[39m:\n\u001b[0;32m      3\u001b[0m     \u001b[38;5;28;01mpass\u001b[39;00m\n\u001b[0;32m      4\u001b[0m \u001b[38;5;28mprint\u001b[39m(\u001b[38;5;124m\"\u001b[39m\u001b[38;5;124mhello world\u001b[39m\u001b[38;5;124m\"\u001b[39m)\n",
      "\u001b[1;31mKeyboardInterrupt\u001b[0m: "
     ]
    }
   ],
   "source": [
    "akash=1\n",
    "while akash<=5:\n",
    "    pass\n",
    "print(\"hello world\")"
   ]
  },
  {
   "cell_type": "code",
   "execution_count": 5,
   "id": "14961874-75d9-4552-9d36-7aaf631ec8e6",
   "metadata": {},
   "outputs": [
    {
     "name": "stdout",
     "output_type": "stream",
     "text": [
      "hello world\n"
     ]
    }
   ],
   "source": [
    "akash=1\n",
    "while akash<=5:\n",
    "    pass\n",
    "    akash+=1\n",
    "print(\"hello world\")"
   ]
  },
  {
   "cell_type": "code",
   "execution_count": 6,
   "id": "99f7db78-80db-4b7a-bd44-00d7ab34cdee",
   "metadata": {},
   "outputs": [
    {
     "name": "stdout",
     "output_type": "stream",
     "text": [
      "hello akash\n",
      "hello akash\n",
      "hello akash\n",
      "hello akash\n",
      "hello akash\n",
      "hello world\n"
     ]
    }
   ],
   "source": [
    "akash=1\n",
    "while akash<=5:\n",
    "    print(\"hello akash\")\n",
    "    akash+=1\n",
    "print(\"hello world\")"
   ]
  },
  {
   "cell_type": "markdown",
   "id": "88a1cc95-6651-498e-8885-b47423182faf",
   "metadata": {},
   "source": [
    "# continue and break while loop"
   ]
  },
  {
   "cell_type": "code",
   "execution_count": 10,
   "id": "d622a41c-0125-421b-a8f5-d89fbc1c41cd",
   "metadata": {},
   "outputs": [
    {
     "name": "stdout",
     "output_type": "stream",
     "text": [
      "1 hello akash\n",
      "2 hello akash\n",
      "3 hello akash\n",
      "5 hello akash\n",
      "hello world\n"
     ]
    }
   ],
   "source": [
    "akash=1\n",
    "while akash<=5:\n",
    "    if akash==4:\n",
    "        akash+=1\n",
    "        continue\n",
    "    print(akash,\"hello akash\")\n",
    "    akash+=1\n",
    "print(\"hello world\")"
   ]
  },
  {
   "cell_type": "code",
   "execution_count": 1,
   "id": "9330b214-2c93-4499-941a-d4fc8d17aaa0",
   "metadata": {},
   "outputs": [
    {
     "name": "stdout",
     "output_type": "stream",
     "text": [
      "1 hello akash\n",
      "2 hello akash\n",
      "3 hello akash\n",
      "5 hello akash\n",
      "hello world\n"
     ]
    }
   ],
   "source": [
    "akash=1\n",
    "while akash<=5:\n",
    "    if akash==4:\n",
    "        akash+=1\n",
    "        continue\n",
    "    print(akash,\"hello akash\")\n",
    "    akash+=1\n",
    "print(\"hello world\")"
   ]
  },
  {
   "cell_type": "code",
   "execution_count": 4,
   "id": "cc101cc8-d364-4845-8b3e-c253a5fd28db",
   "metadata": {},
   "outputs": [
    {
     "name": "stdout",
     "output_type": "stream",
     "text": [
      "1 hello akash\n",
      "2 hello akash\n",
      "3 hello akash\n",
      "hello world\n"
     ]
    }
   ],
   "source": [
    "akash=1\n",
    "while akash<=5:\n",
    "    if akash==4:\n",
    "        akash+=1\n",
    "        break\n",
    "    print(akash,\"hello akash\")\n",
    "    akash+=1\n",
    "print(\"hello world\")"
   ]
  },
  {
   "cell_type": "code",
   "execution_count": 5,
   "id": "22285134-3e7a-4cae-a795-a2377caf9abc",
   "metadata": {},
   "outputs": [
    {
     "name": "stdout",
     "output_type": "stream",
     "text": [
      "1 hello akash\n",
      "2 hello akash\n",
      "hello world\n"
     ]
    }
   ],
   "source": [
    "akash=1\n",
    "while akash<=5:\n",
    "    if akash==3:\n",
    "        akash+=1\n",
    "        break\n",
    "    print(akash,\"hello akash\")\n",
    "    akash+=1\n",
    "print(\"hello world\")"
   ]
  },
  {
   "cell_type": "code",
   "execution_count": 10,
   "id": "40ab7ca8-a33d-495e-8856-74da84f4a4ac",
   "metadata": {},
   "outputs": [
    {
     "name": "stdout",
     "output_type": "stream",
     "text": [
      "i am akash kumar\n"
     ]
    }
   ],
   "source": [
    "name=\"akash\"\n",
    "print(f\"i am {name} kumar\")"
   ]
  },
  {
   "cell_type": "code",
   "execution_count": 11,
   "id": "23d888ef-f4f6-4f8c-a293-518121c6c0b5",
   "metadata": {},
   "outputs": [
    {
     "name": "stdout",
     "output_type": "stream",
     "text": [
      "i am akash kumar\n"
     ]
    }
   ],
   "source": [
    "name=\"akash\"\n",
    "print(\"i am {} kumar\".format(name))"
   ]
  },
  {
   "cell_type": "code",
   "execution_count": 21,
   "id": "5c93fb55-9307-46b0-9b26-0d98849142e7",
   "metadata": {},
   "outputs": [
    {
     "data": {
      "text/plain": [
       "'13579'"
      ]
     },
     "execution_count": 21,
     "metadata": {},
     "output_type": "execute_result"
    }
   ],
   "source": [
    "a=\"123456789\"\n",
    "a[0:9:2]"
   ]
  },
  {
   "cell_type": "code",
   "execution_count": 22,
   "id": "29dc8244-25a4-4b36-900e-70644b3efd29",
   "metadata": {},
   "outputs": [
    {
     "name": "stdout",
     "output_type": "stream",
     "text": [
      "<class 'set'>\n"
     ]
    }
   ],
   "source": [
    "a={1}\n",
    "print(type(a))"
   ]
  },
  {
   "cell_type": "code",
   "execution_count": null,
   "id": "0e9ebe6f-a715-4de8-97e8-6c16aea63c78",
   "metadata": {},
   "outputs": [],
   "source": []
  }
 ],
 "metadata": {
  "kernelspec": {
   "display_name": "Python 3 (ipykernel)",
   "language": "python",
   "name": "python3"
  },
  "language_info": {
   "codemirror_mode": {
    "name": "ipython",
    "version": 3
   },
   "file_extension": ".py",
   "mimetype": "text/x-python",
   "name": "python",
   "nbconvert_exporter": "python",
   "pygments_lexer": "ipython3",
   "version": "3.11.4"
  }
 },
 "nbformat": 4,
 "nbformat_minor": 5
}
