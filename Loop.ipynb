{
 "cells": [
  {
   "cell_type": "raw",
   "id": "5f80f894-819e-4d14-937a-30ff86c556e7",
   "metadata": {},
   "source": [
    "> loop\n",
    "   > for\n",
    "      > break\n",
    "      > continue\n",
    "      > pass\n",
    "      > nested for loop\n",
    "      > pattern\n",
    "           > single for loop for pattern\n",
    "           > nested for loop for pattern\n",
    "      > list comprehension\n",
    "      > dictionary comprehension\n",
    "      > set comprehension\n",
    "      > tuple comprehension(create generator)\n",
    "> while\n",
    "      > nested while loop\n",
    "      > pattern\n",
    "         > single while loop for pattern\n",
    "         > nested while loop for pattern\n",
    "         > multiloop pattern"
   ]
  },
  {
   "cell_type": "code",
   "execution_count": 1,
   "id": "f3175b32-29d6-4735-b34b-82aeca113ca6",
   "metadata": {},
   "outputs": [
    {
     "name": "stdout",
     "output_type": "stream",
     "text": [
      "hello world\n",
      "hello world\n",
      "hello world\n",
      "hello world\n",
      "hello world\n"
     ]
    }
   ],
   "source": [
    "print(\"hello world\")\n",
    "print(\"hello world\")\n",
    "print(\"hello world\")\n",
    "print(\"hello world\")\n",
    "print(\"hello world\")"
   ]
  },
  {
   "cell_type": "code",
   "execution_count": 3,
   "id": "adb1b819-37d3-4f66-bb15-ac4c0301b416",
   "metadata": {},
   "outputs": [
    {
     "data": {
      "text/plain": [
       "True"
      ]
     },
     "execution_count": 3,
     "metadata": {},
     "output_type": "execute_result"
    }
   ],
   "source": [
    "2 in range(5)  #[0,1,2,3,4]"
   ]
  },
  {
   "cell_type": "code",
   "execution_count": 2,
   "id": "f000ec36-9c8e-4120-a42a-84ecd0cba386",
   "metadata": {},
   "outputs": [
    {
     "data": {
      "text/plain": [
       "True"
      ]
     },
     "execution_count": 2,
     "metadata": {},
     "output_type": "execute_result"
    }
   ],
   "source": [
    "3 in range(5)  #[0,1,2,3,4]"
   ]
  },
  {
   "cell_type": "code",
   "execution_count": 4,
   "id": "cb2746fe-1c1c-4a6d-bef6-a433ff2584ac",
   "metadata": {},
   "outputs": [
    {
     "data": {
      "text/plain": [
       "False"
      ]
     },
     "execution_count": 4,
     "metadata": {},
     "output_type": "execute_result"
    }
   ],
   "source": [
    "5 in range(5)   #[0,1,2,3,4]"
   ]
  },
  {
   "cell_type": "code",
   "execution_count": 37,
   "id": "cbbd60f9-9778-4d7a-b1f4-f308b424ef98",
   "metadata": {},
   "outputs": [
    {
     "name": "stdout",
     "output_type": "stream",
     "text": [
      "hi akash abc\n",
      "hi akash abc\n",
      "hi akash abc\n",
      "hi akash abc\n",
      "hi akash abc\n"
     ]
    }
   ],
   "source": [
    "for i in range(5):\n",
    "    print(\"hi akash\",end=\" \")\n",
    "    print(\"abc\")"
   ]
  },
  {
   "cell_type": "code",
   "execution_count": 2,
   "id": "38cf93b9-2338-429f-a092-02266a420025",
   "metadata": {},
   "outputs": [
    {
     "name": "stdout",
     "output_type": "stream",
     "text": [
      "hi akash\n",
      "hi akash\n",
      "hi akash\n",
      "hi akash\n",
      "hi akash\n"
     ]
    }
   ],
   "source": [
    "for i in [1,2,3,4,5]:\n",
    "    print(\"hi akash\")"
   ]
  },
  {
   "cell_type": "code",
   "execution_count": 42,
   "id": "f3906602-97b2-46a7-9f7c-4670349084e2",
   "metadata": {},
   "outputs": [
    {
     "name": "stdout",
     "output_type": "stream",
     "text": [
      "1 hi akash\n",
      "2 hi akash\n",
      "3 hi akash\n",
      "4 hi akash\n",
      "5 hi akash\n"
     ]
    }
   ],
   "source": [
    "for i in [1,2,3,4,5]:\n",
    "    print(i,\"hi akash\")"
   ]
  },
  {
   "cell_type": "code",
   "execution_count": 3,
   "id": "043ad2de-2f1d-4034-a666-8f7773413cec",
   "metadata": {},
   "outputs": [
    {
     "name": "stdout",
     "output_type": "stream",
     "text": [
      "hi akash\n",
      "hi akash\n",
      "hi akash\n",
      "hi akash\n",
      "hi akash\n",
      "hi akash\n",
      "hi akash\n",
      "hi akash\n",
      "hi akash\n",
      "hi akash\n"
     ]
    }
   ],
   "source": [
    "for i in range(10):\n",
    "    print(\"hi akash\")"
   ]
  },
  {
   "cell_type": "raw",
   "id": "506f3507-bdf8-411c-a294-f8aaae98216d",
   "metadata": {},
   "source": [
    "iterable: a datatype which contain a magic method or dunder method(def__iter__()), called iterable\n",
    "\n",
    "example: list,tuple,set,frozenset,dict"
   ]
  },
  {
   "cell_type": "raw",
   "id": "2c7233dc-cbe9-405d-aebc-493053518fae",
   "metadata": {},
   "source": [
    "datatype:\n",
    "\n",
    "int\n",
    "float\n",
    "str\n",
    "list\n",
    "tuple\n",
    "set\n",
    "frozenset\n",
    "dict\n",
    "complex\n",
    "bool"
   ]
  },
  {
   "cell_type": "code",
   "execution_count": 5,
   "id": "1f1a37b3-59a6-4390-b303-c5f061c204a7",
   "metadata": {},
   "outputs": [
    {
     "data": {
      "text/plain": [
       "['__abs__',\n",
       " '__add__',\n",
       " '__and__',\n",
       " '__bool__',\n",
       " '__ceil__',\n",
       " '__class__',\n",
       " '__delattr__',\n",
       " '__dir__',\n",
       " '__divmod__',\n",
       " '__doc__',\n",
       " '__eq__',\n",
       " '__float__',\n",
       " '__floor__',\n",
       " '__floordiv__',\n",
       " '__format__',\n",
       " '__ge__',\n",
       " '__getattribute__',\n",
       " '__getnewargs__',\n",
       " '__getstate__',\n",
       " '__gt__',\n",
       " '__hash__',\n",
       " '__index__',\n",
       " '__init__',\n",
       " '__init_subclass__',\n",
       " '__int__',\n",
       " '__invert__',\n",
       " '__le__',\n",
       " '__lshift__',\n",
       " '__lt__',\n",
       " '__mod__',\n",
       " '__mul__',\n",
       " '__ne__',\n",
       " '__neg__',\n",
       " '__new__',\n",
       " '__or__',\n",
       " '__pos__',\n",
       " '__pow__',\n",
       " '__radd__',\n",
       " '__rand__',\n",
       " '__rdivmod__',\n",
       " '__reduce__',\n",
       " '__reduce_ex__',\n",
       " '__repr__',\n",
       " '__rfloordiv__',\n",
       " '__rlshift__',\n",
       " '__rmod__',\n",
       " '__rmul__',\n",
       " '__ror__',\n",
       " '__round__',\n",
       " '__rpow__',\n",
       " '__rrshift__',\n",
       " '__rshift__',\n",
       " '__rsub__',\n",
       " '__rtruediv__',\n",
       " '__rxor__',\n",
       " '__setattr__',\n",
       " '__sizeof__',\n",
       " '__str__',\n",
       " '__sub__',\n",
       " '__subclasshook__',\n",
       " '__truediv__',\n",
       " '__trunc__',\n",
       " '__xor__',\n",
       " 'as_integer_ratio',\n",
       " 'bit_count',\n",
       " 'bit_length',\n",
       " 'conjugate',\n",
       " 'denominator',\n",
       " 'from_bytes',\n",
       " 'imag',\n",
       " 'numerator',\n",
       " 'real',\n",
       " 'to_bytes']"
      ]
     },
     "execution_count": 5,
     "metadata": {},
     "output_type": "execute_result"
    }
   ],
   "source": [
    "a=(0)\n",
    "dir(a)"
   ]
  },
  {
   "cell_type": "code",
   "execution_count": 6,
   "id": "e33a905b-2ccb-46a6-a900-4e63b7e6fbd0",
   "metadata": {},
   "outputs": [
    {
     "data": {
      "text/plain": [
       "['__and__',\n",
       " '__class__',\n",
       " '__class_getitem__',\n",
       " '__contains__',\n",
       " '__delattr__',\n",
       " '__dir__',\n",
       " '__doc__',\n",
       " '__eq__',\n",
       " '__format__',\n",
       " '__ge__',\n",
       " '__getattribute__',\n",
       " '__getstate__',\n",
       " '__gt__',\n",
       " '__hash__',\n",
       " '__iand__',\n",
       " '__init__',\n",
       " '__init_subclass__',\n",
       " '__ior__',\n",
       " '__isub__',\n",
       " '__iter__',\n",
       " '__ixor__',\n",
       " '__le__',\n",
       " '__len__',\n",
       " '__lt__',\n",
       " '__ne__',\n",
       " '__new__',\n",
       " '__or__',\n",
       " '__rand__',\n",
       " '__reduce__',\n",
       " '__reduce_ex__',\n",
       " '__repr__',\n",
       " '__ror__',\n",
       " '__rsub__',\n",
       " '__rxor__',\n",
       " '__setattr__',\n",
       " '__sizeof__',\n",
       " '__str__',\n",
       " '__sub__',\n",
       " '__subclasshook__',\n",
       " '__xor__',\n",
       " 'add',\n",
       " 'clear',\n",
       " 'copy',\n",
       " 'difference',\n",
       " 'difference_update',\n",
       " 'discard',\n",
       " 'intersection',\n",
       " 'intersection_update',\n",
       " 'isdisjoint',\n",
       " 'issubset',\n",
       " 'issuperset',\n",
       " 'pop',\n",
       " 'remove',\n",
       " 'symmetric_difference',\n",
       " 'symmetric_difference_update',\n",
       " 'union',\n",
       " 'update']"
      ]
     },
     "execution_count": 6,
     "metadata": {},
     "output_type": "execute_result"
    }
   ],
   "source": [
    "a=set()\n",
    "dir(a)\n"
   ]
  },
  {
   "cell_type": "code",
   "execution_count": 7,
   "id": "dd2b8ae2-de38-487c-a869-20a2af812f6c",
   "metadata": {},
   "outputs": [
    {
     "data": {
      "text/plain": [
       "['__and__',\n",
       " '__class__',\n",
       " '__class_getitem__',\n",
       " '__contains__',\n",
       " '__delattr__',\n",
       " '__dir__',\n",
       " '__doc__',\n",
       " '__eq__',\n",
       " '__format__',\n",
       " '__ge__',\n",
       " '__getattribute__',\n",
       " '__getstate__',\n",
       " '__gt__',\n",
       " '__hash__',\n",
       " '__init__',\n",
       " '__init_subclass__',\n",
       " '__iter__',\n",
       " '__le__',\n",
       " '__len__',\n",
       " '__lt__',\n",
       " '__ne__',\n",
       " '__new__',\n",
       " '__or__',\n",
       " '__rand__',\n",
       " '__reduce__',\n",
       " '__reduce_ex__',\n",
       " '__repr__',\n",
       " '__ror__',\n",
       " '__rsub__',\n",
       " '__rxor__',\n",
       " '__setattr__',\n",
       " '__sizeof__',\n",
       " '__str__',\n",
       " '__sub__',\n",
       " '__subclasshook__',\n",
       " '__xor__',\n",
       " 'copy',\n",
       " 'difference',\n",
       " 'intersection',\n",
       " 'isdisjoint',\n",
       " 'issubset',\n",
       " 'issuperset',\n",
       " 'symmetric_difference',\n",
       " 'union']"
      ]
     },
     "execution_count": 7,
     "metadata": {},
     "output_type": "execute_result"
    }
   ],
   "source": [
    "a=frozenset()\n",
    "dir(a)"
   ]
  },
  {
   "cell_type": "code",
   "execution_count": 5,
   "id": "93b51c42-e817-4a00-9962-3dfc1f216a78",
   "metadata": {},
   "outputs": [
    {
     "name": "stdout",
     "output_type": "stream",
     "text": [
      "0 hi akash\n",
      "1 hi akash\n",
      "2 hi akash\n",
      "3 hi akash\n",
      "4 hi akash\n",
      "5 hi akash\n",
      "6 hi akash\n",
      "7 hi akash\n",
      "8 hi akash\n",
      "9 hi akash\n"
     ]
    }
   ],
   "source": [
    "for i in range(10):\n",
    "    print(i,\"hi akash\")"
   ]
  },
  {
   "cell_type": "code",
   "execution_count": 6,
   "id": "355d37b5-a65e-476e-8969-8e1c82ebfb40",
   "metadata": {},
   "outputs": [
    {
     "name": "stdout",
     "output_type": "stream",
     "text": [
      "2 hi akash\n",
      "3 hi akash\n",
      "4 hi akash\n",
      "5 hi akash\n",
      "6 hi akash\n",
      "7 hi akash\n",
      "8 hi akash\n",
      "9 hi akash\n"
     ]
    }
   ],
   "source": [
    "for i in range(2,10):\n",
    "    print(i,\"hi akash\")"
   ]
  },
  {
   "cell_type": "code",
   "execution_count": 7,
   "id": "94e6ba22-a14c-4254-a6d5-6139f743c6d1",
   "metadata": {},
   "outputs": [
    {
     "name": "stdout",
     "output_type": "stream",
     "text": [
      "1 hi akash\n",
      "2 hi akash\n",
      "3 hi akash\n",
      "4 hi akash\n",
      "5 hi akash\n",
      "6 hi akash\n",
      "7 hi akash\n",
      "8 hi akash\n",
      "9 hi akash\n"
     ]
    }
   ],
   "source": [
    "for i in range(1,10):\n",
    "    print(i,\"hi akash\")"
   ]
  },
  {
   "cell_type": "code",
   "execution_count": 9,
   "id": "a0ca678e-52e5-410f-a0e4-5a55dd00622d",
   "metadata": {},
   "outputs": [
    {
     "name": "stdout",
     "output_type": "stream",
     "text": [
      "0 hi akash\n",
      "2 hi akash\n",
      "4 hi akash\n",
      "6 hi akash\n",
      "8 hi akash\n"
     ]
    }
   ],
   "source": [
    "for i in range(0,10,2):\n",
    "    print(i,\"hi akash\")"
   ]
  },
  {
   "cell_type": "code",
   "execution_count": 10,
   "id": "95554761-e2e7-4863-8e0d-f2513c0d32f7",
   "metadata": {},
   "outputs": [
    {
     "name": "stdout",
     "output_type": "stream",
     "text": [
      "10 hi akash\n",
      "9 hi akash\n",
      "8 hi akash\n",
      "7 hi akash\n",
      "6 hi akash\n",
      "5 hi akash\n",
      "4 hi akash\n",
      "3 hi akash\n",
      "2 hi akash\n",
      "1 hi akash\n"
     ]
    }
   ],
   "source": [
    "for i in range(10,0,-1):\n",
    "    print(i,\"hi akash\")"
   ]
  },
  {
   "cell_type": "code",
   "execution_count": 10,
   "id": "1a5273c2-9b51-46ea-a709-c71f1e8d97c8",
   "metadata": {},
   "outputs": [
    {
     "name": "stdout",
     "output_type": "stream",
     "text": [
      "10 hi akash\n",
      "9 hi akash\n",
      "8 hi akash\n",
      "7 hi akash\n",
      "6 hi akash\n",
      "5 hi akash\n",
      "4 hi akash\n",
      "3 hi akash\n",
      "2 hi akash\n",
      "1 hi akash\n"
     ]
    }
   ],
   "source": [
    "for i in range(10,0,-1):\n",
    "    print(i,\"hi akash\")"
   ]
  },
  {
   "cell_type": "code",
   "execution_count": 9,
   "id": "b89e19c4-93f1-4e65-87a6-6655d3bddce7",
   "metadata": {},
   "outputs": [
    {
     "name": "stdout",
     "output_type": "stream",
     "text": [
      "10 hi akash\n",
      "9 hi akash\n",
      "8 hi akash\n",
      "7 hi akash\n",
      "6 hi akash\n",
      "5 hi akash\n",
      "4 hi akash\n",
      "3 hi akash\n",
      "2 hi akash\n"
     ]
    }
   ],
   "source": [
    "for i in range(10,1,-1):\n",
    "    print(i,\"hi akash\")"
   ]
  },
  {
   "cell_type": "code",
   "execution_count": 41,
   "id": "64565f81-1b60-4070-b331-88d36b3b9e24",
   "metadata": {},
   "outputs": [
    {
     "name": "stdout",
     "output_type": "stream",
     "text": [
      "hi akash\n",
      "rajput\n",
      "hi akash\n",
      "rajput\n",
      "hi akash\n",
      "rajput\n",
      "hi akash\n",
      "rajput\n",
      "hi akash\n",
      "rajput\n"
     ]
    }
   ],
   "source": [
    "for i in range(5):\n",
    "    print(\"hi akash\")\n",
    "    print(\"rajput\")"
   ]
  },
  {
   "cell_type": "code",
   "execution_count": 40,
   "id": "40435ee1-cef2-4191-8d08-92a8a468970c",
   "metadata": {},
   "outputs": [
    {
     "name": "stdout",
     "output_type": "stream",
     "text": [
      "hi akash rajput\n",
      "hi akash rajput\n",
      "hi akash rajput\n",
      "hi akash rajput\n",
      "hi akash rajput\n"
     ]
    }
   ],
   "source": [
    "for i in range(5):\n",
    "    print(\"hi akash\",end=\" \")\n",
    "    print(\"rajput\")"
   ]
  },
  {
   "cell_type": "code",
   "execution_count": null,
   "id": "d1e9584e-3bdb-438d-879d-023342200522",
   "metadata": {},
   "outputs": [],
   "source": []
  }
 ],
 "metadata": {
  "kernelspec": {
   "display_name": "Python 3 (ipykernel)",
   "language": "python",
   "name": "python3"
  },
  "language_info": {
   "codemirror_mode": {
    "name": "ipython",
    "version": 3
   },
   "file_extension": ".py",
   "mimetype": "text/x-python",
   "name": "python",
   "nbconvert_exporter": "python",
   "pygments_lexer": "ipython3",
   "version": "3.11.4"
  }
 },
 "nbformat": 4,
 "nbformat_minor": 5
}
