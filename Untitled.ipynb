{
 "cells": [
  {
   "cell_type": "code",
   "execution_count": 2,
   "id": "f5aa3b35-d8b2-4255-ab2e-617c4052fd74",
   "metadata": {},
   "outputs": [
    {
     "name": "stdout",
     "output_type": "stream",
     "text": [
      "akash chetan\n",
      "rajput\n"
     ]
    }
   ],
   "source": [
    "print(\"akash\",\"chetan\");print(\"rajput\")"
   ]
  },
  {
   "cell_type": "code",
   "execution_count": 7,
   "id": "a0cdefb5-45f4-49f6-9866-d63b2f4944d4",
   "metadata": {},
   "outputs": [
    {
     "name": "stdout",
     "output_type": "stream",
     "text": [
      "akash chetan\n",
      "rajput\n"
     ]
    }
   ],
   "source": [
    "print(\"akash\",\"chetan\",end=\"\\n\");print(\"rajput\")"
   ]
  },
  {
   "cell_type": "code",
   "execution_count": 8,
   "id": "d85f4f42-4563-4a8d-858d-92308e3df5a5",
   "metadata": {},
   "outputs": [
    {
     "name": "stdout",
     "output_type": "stream",
     "text": [
      "akash chetan\n",
      "rajput\n"
     ]
    }
   ],
   "source": [
    "print(\"akash\",\"chetan\");print(\"rajput\")"
   ]
  },
  {
   "cell_type": "code",
   "execution_count": 9,
   "id": "12866fad-ccb4-4424-893a-6457b8c4232e",
   "metadata": {},
   "outputs": [
    {
     "name": "stdout",
     "output_type": "stream",
     "text": [
      "akash chetan rajput\n"
     ]
    }
   ],
   "source": [
    "print(\"akash\",\"chetan\",end=\" \");print(\"rajput\")"
   ]
  },
  {
   "cell_type": "code",
   "execution_count": 14,
   "id": "18a72f88-56b8-46ee-a690-5b15c2b4df59",
   "metadata": {},
   "outputs": [
    {
     "name": "stdout",
     "output_type": "stream",
     "text": [
      "akash chetan\n",
      "\n",
      "rajput$"
     ]
    }
   ],
   "source": [
    "print(\"akash\",\"chetan\"\"\\n\");print(\"rajput\",end=\"$\")   # if we use \"\\n\" between two sentence in onle. its give space interval in changing line "
   ]
  },
  {
   "cell_type": "code",
   "execution_count": 19,
   "id": "faaa49cc-83f8-4e72-ac13-e807ce4e9c49",
   "metadata": {},
   "outputs": [],
   "source": [
    "a=\"        GLASSAKASH@GMAIL.COM        \""
   ]
  },
  {
   "cell_type": "code",
   "execution_count": 24,
   "id": "6b2452f5-8cec-4392-8c83-515e62859a39",
   "metadata": {},
   "outputs": [
    {
     "name": "stdout",
     "output_type": "stream",
     "text": [
      "glassakash@gmail.com\n"
     ]
    }
   ],
   "source": [
    "print(a.casefold().strip())"
   ]
  },
  {
   "cell_type": "code",
   "execution_count": 40,
   "id": "79f154f6-4b62-41af-84c5-8add84be2920",
   "metadata": {},
   "outputs": [],
   "source": [
    "a=[1,2,4,5,6]\n",
    "b=[10]"
   ]
  },
  {
   "cell_type": "code",
   "execution_count": 41,
   "id": "5592fb05-9555-4a57-a962-332dac678aab",
   "metadata": {},
   "outputs": [
    {
     "name": "stdout",
     "output_type": "stream",
     "text": [
      "None\n"
     ]
    }
   ],
   "source": [
    "print(a.append(10))"
   ]
  },
  {
   "cell_type": "code",
   "execution_count": 42,
   "id": "99083c90-0c1c-4043-a39e-83323a2ec9ea",
   "metadata": {},
   "outputs": [
    {
     "name": "stdout",
     "output_type": "stream",
     "text": [
      "[1, 2, 4, 5, 6, 10]\n"
     ]
    }
   ],
   "source": [
    "print(a)"
   ]
  },
  {
   "cell_type": "code",
   "execution_count": 43,
   "id": "5d164e39-1e09-4728-9c48-747c555c5c20",
   "metadata": {},
   "outputs": [
    {
     "name": "stdout",
     "output_type": "stream",
     "text": [
      "[]\n"
     ]
    }
   ],
   "source": [
    "z=[]\n",
    "print(z)"
   ]
  },
  {
   "cell_type": "code",
   "execution_count": 44,
   "id": "7a5f497c-deb2-4d0d-8fc4-d52524f8c952",
   "metadata": {},
   "outputs": [
    {
     "name": "stdout",
     "output_type": "stream",
     "text": [
      "None\n"
     ]
    }
   ],
   "source": [
    "print(z.append(a))"
   ]
  },
  {
   "cell_type": "code",
   "execution_count": 45,
   "id": "8b4b9972-dab9-40f0-a8fb-127f8db7fe6f",
   "metadata": {},
   "outputs": [
    {
     "name": "stdout",
     "output_type": "stream",
     "text": [
      "[[1, 2, 4, 5, 6, 10]]\n"
     ]
    }
   ],
   "source": [
    "print(z)"
   ]
  },
  {
   "cell_type": "code",
   "execution_count": 46,
   "id": "3c8868f2-577b-4c85-ac73-435ce0b68213",
   "metadata": {},
   "outputs": [
    {
     "name": "stdout",
     "output_type": "stream",
     "text": [
      "None\n"
     ]
    }
   ],
   "source": [
    "print(b.append(z))"
   ]
  },
  {
   "cell_type": "code",
   "execution_count": 39,
   "id": "8f8d7a35-f912-42f8-9dc6-319a7ca4a800",
   "metadata": {},
   "outputs": [
    {
     "name": "stdout",
     "output_type": "stream",
     "text": [
      "[10, [(1, 2, 4, 5, 6)]]\n"
     ]
    }
   ],
   "source": [
    "print(b)"
   ]
  },
  {
   "cell_type": "code",
   "execution_count": 47,
   "id": "f99b7a1e-7ab5-4af1-afed-7090e0ca0301",
   "metadata": {},
   "outputs": [
    {
     "name": "stdout",
     "output_type": "stream",
     "text": [
      "[[1, 2, 4, 5, 6, 10]]\n"
     ]
    }
   ],
   "source": [
    "print(b.pop())"
   ]
  },
  {
   "cell_type": "code",
   "execution_count": 48,
   "id": "025bb697-960c-4bed-a4fe-bea2d7529434",
   "metadata": {},
   "outputs": [
    {
     "ename": "ValueError",
     "evalue": "list.remove(x): x not in list",
     "output_type": "error",
     "traceback": [
      "\u001b[1;31m---------------------------------------------------------------------------\u001b[0m",
      "\u001b[1;31mValueError\u001b[0m                                Traceback (most recent call last)",
      "Cell \u001b[1;32mIn[48], line 1\u001b[0m\n\u001b[1;32m----> 1\u001b[0m \u001b[38;5;28mprint\u001b[39m(\u001b[43mb\u001b[49m\u001b[38;5;241;43m.\u001b[39;49m\u001b[43mremove\u001b[49m\u001b[43m(\u001b[49m\u001b[38;5;241;43m5\u001b[39;49m\u001b[43m)\u001b[49m)\n",
      "\u001b[1;31mValueError\u001b[0m: list.remove(x): x not in list"
     ]
    }
   ],
   "source": [
    "print(b.remove(5))"
   ]
  },
  {
   "cell_type": "code",
   "execution_count": null,
   "id": "d60d617a-56f6-4d64-8cae-acce23bb343c",
   "metadata": {},
   "outputs": [],
   "source": []
  }
 ],
 "metadata": {
  "kernelspec": {
   "display_name": "Python 3 (ipykernel)",
   "language": "python",
   "name": "python3"
  },
  "language_info": {
   "codemirror_mode": {
    "name": "ipython",
    "version": 3
   },
   "file_extension": ".py",
   "mimetype": "text/x-python",
   "name": "python",
   "nbconvert_exporter": "python",
   "pygments_lexer": "ipython3",
   "version": "3.11.4"
  }
 },
 "nbformat": 4,
 "nbformat_minor": 5
}
