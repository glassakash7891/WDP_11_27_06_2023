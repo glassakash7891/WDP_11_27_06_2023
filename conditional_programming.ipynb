{
 "cells": [
  {
   "cell_type": "markdown",
   "id": "4800bbcd-3de1-43c6-b3d3-ae096a4bf86d",
   "metadata": {},
   "source": [
    "conditional programming\n",
    "\n",
    "> if else\n",
    "\n",
    "> nested if else\n",
    "\n",
    "> if elif else\n",
    "\n",
    "> nested if elif else\n",
    "\n",
    "> ternary operator\n",
    "\n",
    "> nested ternary operator"
   ]
  },
  {
   "cell_type": "code",
   "execution_count": 2,
   "id": "19ef6fa9-82a8-4250-abe0-081b871250a3",
   "metadata": {},
   "outputs": [
    {
     "data": {
      "text/plain": [
       "5.0"
      ]
     },
     "execution_count": 2,
     "metadata": {},
     "output_type": "execute_result"
    }
   ],
   "source": [
    "10/2"
   ]
  },
  {
   "cell_type": "code",
   "execution_count": 3,
   "id": "b0687c83-40e3-4f79-9b48-0fc4406e98e7",
   "metadata": {},
   "outputs": [
    {
     "data": {
      "text/plain": [
       "0"
      ]
     },
     "execution_count": 3,
     "metadata": {},
     "output_type": "execute_result"
    }
   ],
   "source": [
    "10%2"
   ]
  },
  {
   "cell_type": "code",
   "execution_count": 5,
   "id": "dff8ab9e-a526-49ea-bdc8-302af4838070",
   "metadata": {},
   "outputs": [
    {
     "data": {
      "text/plain": [
       "True"
      ]
     },
     "execution_count": 5,
     "metadata": {},
     "output_type": "execute_result"
    }
   ],
   "source": [
    "10%2==0"
   ]
  },
  {
   "cell_type": "code",
   "execution_count": 18,
   "id": "b1495908-1915-4cf5-ab22-1c4f34503c7a",
   "metadata": {},
   "outputs": [
    {
     "name": "stdin",
     "output_type": "stream",
     "text": [
      "choose a path : goa\n"
     ]
    }
   ],
   "source": [
    "user=input(\"choose a path :\")"
   ]
  },
  {
   "cell_type": "code",
   "execution_count": 19,
   "id": "1dc52969-8893-488b-8119-f9afe39e952b",
   "metadata": {},
   "outputs": [
    {
     "data": {
      "text/plain": [
       "'goa'"
      ]
     },
     "execution_count": 19,
     "metadata": {},
     "output_type": "execute_result"
    }
   ],
   "source": [
    "user"
   ]
  },
  {
   "cell_type": "code",
   "execution_count": 23,
   "id": "0ee2af00-b70e-43b4-82ca-4527a861088b",
   "metadata": {},
   "outputs": [
    {
     "data": {
      "text/plain": [
       "True"
      ]
     },
     "execution_count": 23,
     "metadata": {},
     "output_type": "execute_result"
    }
   ],
   "source": [
    "user==\"goa\""
   ]
  },
  {
   "cell_type": "code",
   "execution_count": 28,
   "id": "68250a35-f357-41f8-b227-18b9c18a5403",
   "metadata": {},
   "outputs": [
    {
     "name": "stdout",
     "output_type": "stream",
     "text": [
      "I am going to goa\n",
      "I will buy a water bottle\n"
     ]
    }
   ],
   "source": [
    "if user==\"goa\":\n",
    "    print(\"I am going to goa\")\n",
    "    print(\"I will buy a water bottle\")"
   ]
  },
  {
   "cell_type": "code",
   "execution_count": 33,
   "id": "36218e58-675c-4b4f-b5db-fea1a6ee6f6e",
   "metadata": {},
   "outputs": [
    {
     "name": "stdin",
     "output_type": "stream",
     "text": [
      "choose a path : goa\n"
     ]
    },
    {
     "name": "stdout",
     "output_type": "stream",
     "text": [
      "I am going to goa\n",
      "I will buy a water bottle\n"
     ]
    }
   ],
   "source": [
    "user=input(\"choose a path :\")\n",
    "if user==\"goa\":\n",
    "    print(\"I am going to goa\")\n",
    "    print(\"I will buy a water bottle\")"
   ]
  },
  {
   "cell_type": "code",
   "execution_count": 34,
   "id": "ac792079-2cfd-48be-99f2-0a6b62d7bc3f",
   "metadata": {},
   "outputs": [
    {
     "name": "stdin",
     "output_type": "stream",
     "text": [
      "choose a path : agra\n"
     ]
    }
   ],
   "source": [
    "user=input(\"choose a path :\")\n",
    "if user==\"goa\":\n",
    "    print(\"I am going to goa\")\n",
    "    print(\"I will buy a water bottle\")"
   ]
  },
  {
   "cell_type": "code",
   "execution_count": 36,
   "id": "4a1bce82-5de0-4114-b31c-23dd9a673d5c",
   "metadata": {},
   "outputs": [
    {
     "name": "stdin",
     "output_type": "stream",
     "text": [
      "choose a path : agra\n"
     ]
    },
    {
     "name": "stdout",
     "output_type": "stream",
     "text": [
      "I am going to home\n"
     ]
    }
   ],
   "source": [
    "user=input(\"choose a path :\")\n",
    "if user==\"goa\":\n",
    "    print(\"I am going to goa\")\n",
    "    print(\"I will buy a water bottle\")\n",
    "else:\n",
    "    print(\"I am going to home\")"
   ]
  },
  {
   "cell_type": "code",
   "execution_count": 37,
   "id": "520a3ff5-85f6-40b4-9a82-33c96076f7d3",
   "metadata": {},
   "outputs": [
    {
     "name": "stdin",
     "output_type": "stream",
     "text": [
      "choose a path : goa\n"
     ]
    },
    {
     "name": "stdout",
     "output_type": "stream",
     "text": [
      "I am going to goa\n",
      "I will buy a water bottle\n",
      "This is abc\n"
     ]
    }
   ],
   "source": [
    "user=input(\"choose a path :\")\n",
    "if user==\"goa\":\n",
    "    print(\"I am going to goa\")\n",
    "    print(\"I will buy a water bottle\")\n",
    "else:\n",
    "    print(\"I am going to home\")\n",
    "print(\"This is abc\")"
   ]
  },
  {
   "cell_type": "markdown",
   "id": "9c2fac99-fd5c-402d-add2-2a89130650c0",
   "metadata": {},
   "source": [
    "# nested if else"
   ]
  },
  {
   "cell_type": "code",
   "execution_count": 38,
   "id": "1907197b-f8d2-4fa8-8797-ea376414b7c0",
   "metadata": {},
   "outputs": [
    {
     "name": "stdin",
     "output_type": "stream",
     "text": [
      "Enter a number: 11\n"
     ]
    }
   ],
   "source": [
    "num1=int(input(\"Enter a number:\"))"
   ]
  },
  {
   "cell_type": "code",
   "execution_count": 41,
   "id": "4705e95d-4aba-4fce-a704-8bc97722cbab",
   "metadata": {},
   "outputs": [
    {
     "name": "stdout",
     "output_type": "stream",
     "text": [
      "The number is odd\n"
     ]
    }
   ],
   "source": [
    "if num1%2==0:\n",
    "    print(\"The number is even\")\n",
    "else:\n",
    "    print(\"The number is odd\")"
   ]
  },
  {
   "cell_type": "code",
   "execution_count": 43,
   "id": "923ff45f-a9ca-429c-b088-2ec954c4e7ed",
   "metadata": {},
   "outputs": [
    {
     "name": "stdin",
     "output_type": "stream",
     "text": [
      "Enter a number: 10\n"
     ]
    },
    {
     "name": "stdout",
     "output_type": "stream",
     "text": [
      "The number is even\n"
     ]
    }
   ],
   "source": [
    "num1=int(input(\"Enter a number:\"))\n",
    "if num1%2==0:\n",
    "    print(\"The number is even\")\n",
    "else:\n",
    "    print(\"The number is odd\")"
   ]
  },
  {
   "cell_type": "code",
   "execution_count": 44,
   "id": "67157d2e-e827-489f-8287-675750ded2a1",
   "metadata": {},
   "outputs": [
    {
     "name": "stdin",
     "output_type": "stream",
     "text": [
      "Enter a number: 11\n"
     ]
    },
    {
     "name": "stdout",
     "output_type": "stream",
     "text": [
      "The number is odd\n"
     ]
    }
   ],
   "source": [
    "num1=int(input(\"Enter a number:\"))\n",
    "if num1%2==0:\n",
    "    print(\"The number is even\")\n",
    "else:\n",
    "    print(\"The number is odd\")"
   ]
  },
  {
   "cell_type": "code",
   "execution_count": 49,
   "id": "a892c152-cac3-48b0-b379-f9246cc76643",
   "metadata": {},
   "outputs": [
    {
     "name": "stdin",
     "output_type": "stream",
     "text": [
      "Enter a number: 10\n"
     ]
    },
    {
     "name": "stdout",
     "output_type": "stream",
     "text": [
      "The number is even\n",
      "positive\n"
     ]
    }
   ],
   "source": [
    "num1=int(input(\"Enter a number:\"))\n",
    "if num1%2==0:\n",
    "    print(\"The number is even\")\n",
    "    if num1>=0:\n",
    "        print(\"positive\")\n",
    "    else:\n",
    "        print(\"negative\")\n",
    "else:\n",
    "    print(\"The number is odd\")"
   ]
  },
  {
   "cell_type": "code",
   "execution_count": 45,
   "id": "747d8c1e-3f90-411c-adb4-caf111fdc793",
   "metadata": {},
   "outputs": [
    {
     "data": {
      "text/plain": [
       "11"
      ]
     },
     "execution_count": 45,
     "metadata": {},
     "output_type": "execute_result"
    }
   ],
   "source": [
    "num1"
   ]
  },
  {
   "cell_type": "code",
   "execution_count": 47,
   "id": "689e3e8e-b748-4bcc-a800-b96dc0b9fe56",
   "metadata": {},
   "outputs": [
    {
     "data": {
      "text/plain": [
       "True"
      ]
     },
     "execution_count": 47,
     "metadata": {},
     "output_type": "execute_result"
    }
   ],
   "source": [
    "num1>=0"
   ]
  },
  {
   "cell_type": "code",
   "execution_count": 50,
   "id": "4cf7e15b-194d-4177-affe-711ad8d07ca2",
   "metadata": {},
   "outputs": [
    {
     "name": "stdin",
     "output_type": "stream",
     "text": [
      "Enter a number: -10\n"
     ]
    },
    {
     "name": "stdout",
     "output_type": "stream",
     "text": [
      "The number is even\n",
      "negative\n"
     ]
    }
   ],
   "source": [
    "num1=int(input(\"Enter a number:\"))\n",
    "if num1%2==0:\n",
    "    print(\"The number is even\")\n",
    "    if num1>=0:\n",
    "        print(\"positive\")\n",
    "    else:\n",
    "        print(\"negative\")\n",
    "else:\n",
    "    print(\"The number is odd\")"
   ]
  },
  {
   "cell_type": "code",
   "execution_count": 53,
   "id": "e72e5d75-c159-402f-b6c2-63496c5edb0a",
   "metadata": {},
   "outputs": [
    {
     "name": "stdin",
     "output_type": "stream",
     "text": [
      "Enter a number: -11\n"
     ]
    },
    {
     "name": "stdout",
     "output_type": "stream",
     "text": [
      "The number is odd\n"
     ]
    }
   ],
   "source": [
    "num1=int(input(\"Enter a number:\"))\n",
    "if num1%2==0:\n",
    "    print(\"The number is even\")\n",
    "    if num1>=0:\n",
    "        print(\"positive\")\n",
    "    else:\n",
    "        print(\"negative\")\n",
    "else:\n",
    "    print(\"The number is odd\")"
   ]
  },
  {
   "cell_type": "code",
   "execution_count": 54,
   "id": "f1dc581a-b31a-44f3-a166-3e5bd886a0eb",
   "metadata": {},
   "outputs": [
    {
     "name": "stdin",
     "output_type": "stream",
     "text": [
      "Enter a number: -11\n"
     ]
    },
    {
     "name": "stdout",
     "output_type": "stream",
     "text": [
      "The number is odd\n",
      "the number is negative\n"
     ]
    }
   ],
   "source": [
    "num1=int(input(\"Enter a number:\"))\n",
    "if num1%2==0:\n",
    "    print(\"The number is even\")\n",
    "    if num1>=0:\n",
    "        print(\"positive\")\n",
    "    else:\n",
    "        print(\"negative\")\n",
    "else:\n",
    "    print(\"The number is odd\")\n",
    "    if num1>=0:\n",
    "        print(\"the number is positive\")\n",
    "    else:\n",
    "        print(\"the number is negative\")"
   ]
  },
  {
   "cell_type": "code",
   "execution_count": 55,
   "id": "47af0a2e-d109-4499-b286-56fd19a8e503",
   "metadata": {},
   "outputs": [
    {
     "name": "stdin",
     "output_type": "stream",
     "text": [
      "Enter a number: 11\n"
     ]
    },
    {
     "name": "stdout",
     "output_type": "stream",
     "text": [
      "The number is odd\n",
      "the number is positive\n"
     ]
    }
   ],
   "source": [
    "num1=int(input(\"Enter a number:\"))\n",
    "if num1%2==0:\n",
    "    print(\"The number is even\")\n",
    "    if num1>=0:\n",
    "        print(\"positive\")\n",
    "    else:\n",
    "        print(\"negative\")\n",
    "else:\n",
    "    print(\"The number is odd\")\n",
    "    if num1>=0:\n",
    "        print(\"the number is positive\")\n",
    "    else:\n",
    "        print(\"the number is negative\")"
   ]
  },
  {
   "cell_type": "markdown",
   "id": "4516733f-f2c1-4905-91ef-71acfc1a8071",
   "metadata": {},
   "source": [
    "# if elif else"
   ]
  },
  {
   "cell_type": "code",
   "execution_count": 2,
   "id": "3c04ff4d-e252-41a4-a31a-1ccbe2c013bb",
   "metadata": {},
   "outputs": [
    {
     "name": "stdin",
     "output_type": "stream",
     "text": [
      "Enter your age: 18\n"
     ]
    }
   ],
   "source": [
    "age=int(input(\"Enter your age:\"))"
   ]
  },
  {
   "cell_type": "code",
   "execution_count": 3,
   "id": "f07a9b16-917c-498a-b231-f9465d672f85",
   "metadata": {},
   "outputs": [
    {
     "data": {
      "text/plain": [
       "18"
      ]
     },
     "execution_count": 3,
     "metadata": {},
     "output_type": "execute_result"
    }
   ],
   "source": [
    "age"
   ]
  },
  {
   "cell_type": "code",
   "execution_count": 14,
   "id": "27a08d54-ef9d-4a0c-9511-9419f00b18c0",
   "metadata": {},
   "outputs": [
    {
     "name": "stdin",
     "output_type": "stream",
     "text": [
      "Enter your age: 101\n"
     ]
    },
    {
     "name": "stdout",
     "output_type": "stream",
     "text": [
      "i will give you poisions\n"
     ]
    }
   ],
   "source": [
    "age=int(input(\"Enter your age:\"))\n",
    "if age>0 and age<=18:\n",
    "    print(\"i will give pen\")\n",
    "elif age>18 and age<60:\n",
    "    print(\"i will give you car\")\n",
    "elif age>60 and age<=100:\n",
    "    print(\"i will give you poision\")\n",
    "else:\n",
    "    print(\"i will give you poisions\")"
   ]
  },
  {
   "cell_type": "code",
   "execution_count": 11,
   "id": "77a0597d-8d4a-49b1-b900-f721cd70b045",
   "metadata": {},
   "outputs": [
    {
     "name": "stdin",
     "output_type": "stream",
     "text": [
      "Enter your age: 19\n"
     ]
    },
    {
     "name": "stdout",
     "output_type": "stream",
     "text": [
      "i will give you car\n"
     ]
    }
   ],
   "source": [
    "age=int(input(\"Enter your age:\"))\n",
    "if age>0 and age<=18:\n",
    "    print(\"i will give pen\")\n",
    "elif age>18 and age<60:\n",
    "    print(\"i will give you car\")\n",
    "elif age>60 and age<100:\n",
    "    print(\"i will give you poision\")"
   ]
  },
  {
   "cell_type": "code",
   "execution_count": 19,
   "id": "519ed3e9-7648-4258-8e40-c78029268e91",
   "metadata": {},
   "outputs": [
    {
     "name": "stdin",
     "output_type": "stream",
     "text": [
      "Enter your age: 18\n"
     ]
    },
    {
     "name": "stdout",
     "output_type": "stream",
     "text": [
      "i will give you ktm\n"
     ]
    }
   ],
   "source": [
    "age=int(input(\"Enter your age:\"))\n",
    "if age>0 and age<=18:\n",
    "    if age>0 and age<=5:\n",
    "        print(\"i will give pen\")\n",
    "    elif age>5 and age<=15:\n",
    "        print(\"i will give cycle\")\n",
    "    else:\n",
    "        print(\"i will give you ktm\")\n",
    "elif age>18 and age<60:\n",
    "    print(\"i will give you car\")\n",
    "elif age>60 and age<=100:\n",
    "    print(\"i will give you poision\")\n",
    "else:\n",
    "    print(\"i will give you poisions\")"
   ]
  },
  {
   "cell_type": "code",
   "execution_count": 3,
   "id": "1d654161-138f-4d13-8979-7e7fc442e9c0",
   "metadata": {},
   "outputs": [
    {
     "name": "stdin",
     "output_type": "stream",
     "text": [
      "Enter your age: 41\n"
     ]
    },
    {
     "name": "stdout",
     "output_type": "stream",
     "text": [
      "i will give you car\n"
     ]
    }
   ],
   "source": [
    "age=int(input(\"Enter your age:\"))\n",
    "if age>0 and age<=18:\n",
    "    if age>0 and age<=5:\n",
    "        print(\"i will give pen\")\n",
    "    elif age>5 and age<=15:\n",
    "        print(\"i will give cycle\")\n",
    "    else:\n",
    "        print(\"i will give you ktm\")\n",
    "elif age>18 and age<60:\n",
    "    if age>18 and age<=30:\n",
    "        print(\"i will give you bullet\")\n",
    "    else:\n",
    "        print(\"i will give you car\")\n",
    "elif age>60 and age<=100:\n",
    "    print(\"i will give you poision\")\n",
    "else:\n",
    "    print(\"i will give you poisions\")"
   ]
  },
  {
   "cell_type": "code",
   "execution_count": 9,
   "id": "5aedca4d-f829-4eff-a43e-0f32fa3a4f42",
   "metadata": {},
   "outputs": [
    {
     "name": "stdin",
     "output_type": "stream",
     "text": [
      "choose a option: A\n"
     ]
    },
    {
     "name": "stdout",
     "output_type": "stream",
     "text": [
      "option A\n"
     ]
    }
   ],
   "source": [
    "option=input(\"choose a option:\")\n",
    "if option==\"A\":\n",
    "    print(\"option A\")\n",
    "elif option==\"B\":\n",
    "    print(\"option B\")\n",
    "elif option==\"c\":\n",
    "    print(\"option C\")\n",
    "elif option==\"D\":\n",
    "    print(\"option D\")\n",
    "else:\n",
    "    print(\"go to home\")"
   ]
  },
  {
   "cell_type": "code",
   "execution_count": null,
   "id": "94146f27-dd28-47fe-838f-5546b3a5f805",
   "metadata": {},
   "outputs": [],
   "source": []
  }
 ],
 "metadata": {
  "kernelspec": {
   "display_name": "Python 3 (ipykernel)",
   "language": "python",
   "name": "python3"
  },
  "language_info": {
   "codemirror_mode": {
    "name": "ipython",
    "version": 3
   },
   "file_extension": ".py",
   "mimetype": "text/x-python",
   "name": "python",
   "nbconvert_exporter": "python",
   "pygments_lexer": "ipython3",
   "version": "3.11.4"
  }
 },
 "nbformat": 4,
 "nbformat_minor": 5
}
