{
 "cells": [
  {
   "cell_type": "code",
   "execution_count": 1,
   "metadata": {},
   "outputs": [],
   "source": [
    "newlist=[12,35,9,56,24]"
   ]
  },
  {
   "cell_type": "code",
   "execution_count": 7,
   "metadata": {},
   "outputs": [
    {
     "name": "stdout",
     "output_type": "stream",
     "text": [
      "[24, 35, 9, 56, [...]]\n"
     ]
    }
   ],
   "source": [
    "def swaplist(newlist):\n",
    "    size = len(newlist)\n",
    "\n",
    "    temp=newlist\n",
    "    newlist[0]=newlist[size-1]\n",
    "    newlist[size-1]=temp\n",
    "\n",
    "    return newlist\n",
    "\n",
    "newlist=[12,35,9,56,24]\n",
    "\n",
    "print(swaplist(newlist))"
   ]
  },
  {
   "cell_type": "code",
   "execution_count": 8,
   "metadata": {},
   "outputs": [
    {
     "name": "stdout",
     "output_type": "stream",
     "text": [
      "[24, 35, 9, 56, [...]]\n"
     ]
    }
   ],
   "source": [
    "def swaplist(newlist):\n",
    "    size = len(newlist)\n",
    "\n",
    "    temp=newlist\n",
    "    newlist[0]=newlist[size-1]\n",
    "    newlist[size-1]=temp\n",
    "\n",
    "    return newlist\n",
    "\n",
    "newlist=[12,35,9,56,24]\n",
    "\n",
    "print(swaplist(newlist))"
   ]
  },
  {
   "cell_type": "code",
   "execution_count": 13,
   "metadata": {},
   "outputs": [
    {
     "name": "stdout",
     "output_type": "stream",
     "text": [
      "[12, 35, 9, 56, 24]\n"
     ]
    }
   ],
   "source": [
    "def swaplist(list):\n",
    "    get=list[-1],list[0]\n",
    "    list[0],list[-1]=get\n",
    "\n",
    "    return list\n",
    "\n",
    "newlist=[24,35,9,56,12]\n",
    "print(swaplist(newlist))"
   ]
  },
  {
   "cell_type": "code",
   "execution_count": 14,
   "metadata": {},
   "outputs": [],
   "source": [
    "list=[1,2,3,4]\n",
    "a,*b,c=list"
   ]
  },
  {
   "cell_type": "code",
   "execution_count": 15,
   "metadata": {},
   "outputs": [
    {
     "name": "stdout",
     "output_type": "stream",
     "text": [
      "1\n",
      "[2, 3]\n",
      "4\n"
     ]
    }
   ],
   "source": [
    "print(a)\n",
    "print(b)\n",
    "print(c)"
   ]
  },
  {
   "cell_type": "code",
   "execution_count": 17,
   "metadata": {},
   "outputs": [
    {
     "name": "stdout",
     "output_type": "stream",
     "text": [
      "[66, 33, 44, 55, 22]\n"
     ]
    }
   ],
   "source": [
    "def swaplist(list):\n",
    "    start,*middle,end=list\n",
    "    list=[end,*middle,start]\n",
    "\n",
    "    return list\n",
    "\n",
    "newlist=[22,33,44,55,66]\n",
    "print(swaplist(newlist))"
   ]
  },
  {
   "cell_type": "code",
   "execution_count": null,
   "metadata": {},
   "outputs": [],
   "source": []
  }
 ],
 "metadata": {
  "kernelspec": {
   "display_name": "Python 3",
   "language": "python",
   "name": "python3"
  },
  "language_info": {
   "codemirror_mode": {
    "name": "ipython",
    "version": 3
   },
   "file_extension": ".py",
   "mimetype": "text/x-python",
   "name": "python",
   "nbconvert_exporter": "python",
   "pygments_lexer": "ipython3",
   "version": "3.11.4"
  },
  "orig_nbformat": 4
 },
 "nbformat": 4,
 "nbformat_minor": 2
}
