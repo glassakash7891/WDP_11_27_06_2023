{
 "cells": [
  {
   "cell_type": "markdown",
   "id": "5e3e39a8-ba78-40de-b4ea-2fc1c0083fd3",
   "metadata": {},
   "source": [
    "# string\n",
    "\n",
    "> string constructor is str()\n",
    "\n",
    "> string literal is ' ',\"\",\"\"\"\"\"\",''''''\n",
    "\n",
    "> string is set of sequence of character\n",
    "\n",
    "> string support indexing\n",
    "\n",
    "> string support slicing\n",
    "\n",
    "> string support concatination\n",
    "\n",
    "> string is immutable (alaso known as hasable)"
   ]
  },
  {
   "cell_type": "code",
   "execution_count": 1,
   "id": "f8ac95ad-1331-4cdd-b2f6-ec28f41fefe8",
   "metadata": {},
   "outputs": [
    {
     "name": "stdout",
     "output_type": "stream",
     "text": [
      "hello world\n"
     ]
    }
   ],
   "source": [
    "print(\"hello world\")"
   ]
  },
  {
   "cell_type": "code",
   "execution_count": 2,
   "id": "b0b37815-b121-4a32-801d-9fe3e915f879",
   "metadata": {},
   "outputs": [
    {
     "name": "stdout",
     "output_type": "stream",
     "text": [
      "hello world\n"
     ]
    }
   ],
   "source": [
    "print('hello world')"
   ]
  },
  {
   "cell_type": "code",
   "execution_count": 3,
   "id": "25c94811-c411-483a-a60d-0924092c5b4f",
   "metadata": {},
   "outputs": [
    {
     "name": "stdout",
     "output_type": "stream",
     "text": [
      "hello world\n"
     ]
    }
   ],
   "source": [
    "print(\"\"\"hello world\"\"\")"
   ]
  },
  {
   "cell_type": "code",
   "execution_count": 4,
   "id": "f7ae32a8-41d6-4785-9350-d2f22869a3ba",
   "metadata": {},
   "outputs": [
    {
     "name": "stdout",
     "output_type": "stream",
     "text": [
      "hello world\n"
     ]
    }
   ],
   "source": [
    "print('''hello world''')"
   ]
  },
  {
   "cell_type": "code",
   "execution_count": 5,
   "id": "d243ceef-b754-462b-be7b-4524be06e9a9",
   "metadata": {},
   "outputs": [
    {
     "name": "stdout",
     "output_type": "stream",
     "text": [
      "hello akash\n",
      "hello akash\n"
     ]
    }
   ],
   "source": [
    "print(\"hello akash\")\n",
    "print('hello akash')"
   ]
  },
  {
   "cell_type": "code",
   "execution_count": 6,
   "id": "434efe64-149e-4f2b-bb7b-bcac9ebb2e68",
   "metadata": {},
   "outputs": [
    {
     "name": "stdout",
     "output_type": "stream",
     "text": [
      "hello world\n",
      "hello world\n"
     ]
    }
   ],
   "source": [
    "print(\"\"\"hello world\"\"\")\n",
    "print('''hello world''')"
   ]
  },
  {
   "cell_type": "code",
   "execution_count": 7,
   "id": "32e90569-cf78-4112-9489-620d55b45611",
   "metadata": {},
   "outputs": [
    {
     "ename": "SyntaxError",
     "evalue": "unterminated string literal (detected at line 1) (2631347814.py, line 1)",
     "output_type": "error",
     "traceback": [
      "\u001b[1;36m  Cell \u001b[1;32mIn[7], line 1\u001b[1;36m\u001b[0m\n\u001b[1;33m    print(\"hello\u001b[0m\n\u001b[1;37m          ^\u001b[0m\n\u001b[1;31mSyntaxError\u001b[0m\u001b[1;31m:\u001b[0m unterminated string literal (detected at line 1)\n"
     ]
    }
   ],
   "source": [
    "print(\"hello\n",
    "      \n",
    "      akash\")\n",
    "print('hello akash')"
   ]
  },
  {
   "cell_type": "code",
   "execution_count": 8,
   "id": "2c7c27d3-9ee0-48cf-a6cc-e902f5ce113d",
   "metadata": {},
   "outputs": [
    {
     "name": "stdout",
     "output_type": "stream",
     "text": [
      "hello\n",
      "             \n",
      "             \n",
      "             world\n",
      "hello world\n"
     ]
    }
   ],
   "source": [
    "print(\"\"\"hello\n",
    "             \n",
    "             \n",
    "             world\"\"\")\n",
    "print('''hello world''')"
   ]
  },
  {
   "cell_type": "code",
   "execution_count": 11,
   "id": "2772a452-a058-49e2-bc30-413c7ee7028a",
   "metadata": {},
   "outputs": [
    {
     "name": "stdout",
     "output_type": "stream",
     "text": [
      "hello world\n",
      "i am akash\n"
     ]
    }
   ],
   "source": [
    "print(\"hello world\")\n",
    "print(\"i am akash\")"
   ]
  },
  {
   "cell_type": "code",
   "execution_count": 12,
   "id": "d42f3b31-0cb7-4796-aff1-e7ee4983d873",
   "metadata": {},
   "outputs": [
    {
     "name": "stdout",
     "output_type": "stream",
     "text": [
      "hello world\n",
      "i am akash\n"
     ]
    }
   ],
   "source": [
    "print(\"hello world\");print(\"i am akash\")"
   ]
  },
  {
   "cell_type": "code",
   "execution_count": 13,
   "id": "5406f70b-e40e-4635-81c9-d307cc90d4c2",
   "metadata": {},
   "outputs": [
    {
     "name": "stdout",
     "output_type": "stream",
     "text": [
      "hello world\n",
      "i am akash\n"
     ]
    }
   ],
   "source": [
    "print(\"hello world\",end=\"\\n\");print(\"i am akash\")"
   ]
  },
  {
   "cell_type": "code",
   "execution_count": 16,
   "id": "e9630797-5ef1-462d-b920-118c7fea5ea6",
   "metadata": {},
   "outputs": [
    {
     "name": "stdout",
     "output_type": "stream",
     "text": [
      "hello world i am akash\n"
     ]
    }
   ],
   "source": [
    "print(\"hello world\",end=\" \");print(\"i am akash\")"
   ]
  },
  {
   "cell_type": "code",
   "execution_count": 18,
   "id": "4646e377-6171-45b2-96b4-ea54d161ec52",
   "metadata": {},
   "outputs": [
    {
     "name": "stdout",
     "output_type": "stream",
     "text": [
      "hello world$i am akash\n",
      "i am in final year\n"
     ]
    }
   ],
   "source": [
    "print(\"hello world\",end=\"$\");\n",
    "print(\"i am akash\",end=\"\\n\")\n",
    "print(\"i am in final year\")"
   ]
  },
  {
   "cell_type": "code",
   "execution_count": 21,
   "id": "86adf6fe-cd0f-4d1e-8006-a7c79b1d1fa1",
   "metadata": {},
   "outputs": [
    {
     "name": "stdout",
     "output_type": "stream",
     "text": [
      "tajmahal$humautomb$redfort\n"
     ]
    }
   ],
   "source": [
    "print(\"tajmahal\",\"humautomb\",\"redfort\",sep=\"$\")"
   ]
  },
  {
   "cell_type": "code",
   "execution_count": 23,
   "id": "cffeb7db-39e9-4aeb-9299-2631be0d0b50",
   "metadata": {},
   "outputs": [
    {
     "name": "stdout",
     "output_type": "stream",
     "text": [
      "tajmahal\n",
      "humautomb\n",
      "redfort\n"
     ]
    }
   ],
   "source": [
    "print(\"tajmahal\",\"humautomb\",\"redfort\",sep=\"\\n\")"
   ]
  },
  {
   "cell_type": "code",
   "execution_count": 24,
   "id": "01ddd901-f2ee-4c48-b601-59b8a3f6451d",
   "metadata": {},
   "outputs": [
    {
     "name": "stdout",
     "output_type": "stream",
     "text": [
      "this is \n",
      "swaminatham\n"
     ]
    }
   ],
   "source": [
    "print(\"this is \\nswaminatham\")"
   ]
  },
  {
   "cell_type": "code",
   "execution_count": 25,
   "id": "c80eba3d-6e32-416d-9ca2-0dadaf4d6d2e",
   "metadata": {},
   "outputs": [
    {
     "data": {
      "text/plain": [
       "'this is \\nswaminatham'"
      ]
     },
     "execution_count": 25,
     "metadata": {},
     "output_type": "execute_result"
    }
   ],
   "source": [
    "#\"this is \\nswaminatham\""
   ]
  },
  {
   "cell_type": "code",
   "execution_count": 27,
   "id": "71a9f717-f316-4ed3-9cd2-82c79ddd7216",
   "metadata": {},
   "outputs": [
    {
     "ename": "SyntaxError",
     "evalue": "invalid syntax. Perhaps you forgot a comma? (3253555002.py, line 1)",
     "output_type": "error",
     "traceback": [
      "\u001b[1;36m  Cell \u001b[1;32mIn[27], line 1\u001b[1;36m\u001b[0m\n\u001b[1;33m    print(\"this is \"laptop\"\")\u001b[0m\n\u001b[1;37m          ^\u001b[0m\n\u001b[1;31mSyntaxError\u001b[0m\u001b[1;31m:\u001b[0m invalid syntax. Perhaps you forgot a comma?\n"
     ]
    }
   ],
   "source": [
    "print(\"this is \"laptop\"\")"
   ]
  },
  {
   "cell_type": "code",
   "execution_count": 28,
   "id": "290b977d-0f69-43be-809b-aaf78cff0926",
   "metadata": {},
   "outputs": [
    {
     "name": "stdout",
     "output_type": "stream",
     "text": [
      "this is \"laptop\"\n"
     ]
    }
   ],
   "source": [
    "print('this is \"laptop\"') # in this case only use single (')"
   ]
  },
  {
   "cell_type": "code",
   "execution_count": 29,
   "id": "c1353ba7-bdb3-4847-a962-e1675e42a536",
   "metadata": {},
   "outputs": [
    {
     "name": "stdout",
     "output_type": "stream",
     "text": [
      "this is \"laptop\"\n"
     ]
    }
   ],
   "source": [
    "print(\"this is \\\"laptop\\\"\")"
   ]
  },
  {
   "cell_type": "code",
   "execution_count": 31,
   "id": "2b7de35b-5dd9-43af-98df-9331a5e4a361",
   "metadata": {},
   "outputs": [
    {
     "name": "stdout",
     "output_type": "stream",
     "text": [
      "\n"
     ]
    }
   ],
   "source": [
    "a=str()\n",
    "print(a)"
   ]
  },
  {
   "cell_type": "code",
   "execution_count": 34,
   "id": "e9864c47-4992-414d-9fb1-4f3fc40a234c",
   "metadata": {},
   "outputs": [
    {
     "name": "stdout",
     "output_type": "stream",
     "text": [
      "<class 'str'>\n"
     ]
    },
    {
     "data": {
      "text/plain": [
       "''"
      ]
     },
     "execution_count": 34,
     "metadata": {},
     "output_type": "execute_result"
    }
   ],
   "source": [
    "a=str() # constructor is use to creat empty string\n",
    "print(type(a))\n",
    "a"
   ]
  },
  {
   "cell_type": "code",
   "execution_count": 37,
   "id": "b2cb0670-b094-4e3e-a422-755d41065e96",
   "metadata": {},
   "outputs": [
    {
     "name": "stdout",
     "output_type": "stream",
     "text": [
      "<class 'str'>\n"
     ]
    },
    {
     "data": {
      "text/plain": [
       "''"
      ]
     },
     "execution_count": 37,
     "metadata": {},
     "output_type": "execute_result"
    }
   ],
   "source": [
    "b=''   # using literal of string '' creat empty string\n",
    "print(type(b))\n",
    "b"
   ]
  },
  {
   "cell_type": "code",
   "execution_count": 38,
   "id": "e471c4ca-9448-47ff-9138-0e37782c70c6",
   "metadata": {},
   "outputs": [
    {
     "data": {
      "text/plain": [
       "''"
      ]
     },
     "execution_count": 38,
     "metadata": {},
     "output_type": "execute_result"
    }
   ],
   "source": [
    "c=\"\"\n",
    "c"
   ]
  },
  {
   "cell_type": "code",
   "execution_count": 39,
   "id": "04d0512b-ebc6-41c4-a448-1f641a5cfc0c",
   "metadata": {},
   "outputs": [
    {
     "data": {
      "text/plain": [
       "''"
      ]
     },
     "execution_count": 39,
     "metadata": {},
     "output_type": "execute_result"
    }
   ],
   "source": [
    "d=\"\"\"\"\"\"\n",
    "d"
   ]
  },
  {
   "cell_type": "code",
   "execution_count": 40,
   "id": "a44c6519-51d8-45ba-bd44-68573d9ff61d",
   "metadata": {},
   "outputs": [
    {
     "data": {
      "text/plain": [
       "''"
      ]
     },
     "execution_count": 40,
     "metadata": {},
     "output_type": "execute_result"
    }
   ],
   "source": [
    "e=''''''\n",
    "e"
   ]
  },
  {
   "cell_type": "code",
   "execution_count": 1,
   "id": "95c94bd3-becd-4bc3-ab60-32f7cca81755",
   "metadata": {},
   "outputs": [],
   "source": [
    "a=\"AKASH\""
   ]
  },
  {
   "cell_type": "code",
   "execution_count": 2,
   "id": "b5654128-fbf8-4527-b73f-32fe4c3a1a09",
   "metadata": {},
   "outputs": [
    {
     "name": "stdout",
     "output_type": "stream",
     "text": [
      "AKASH\n"
     ]
    }
   ],
   "source": [
    "print(a)"
   ]
  },
  {
   "cell_type": "code",
   "execution_count": 3,
   "id": "8e8b122c-592b-4bd7-9fc4-7a23591329cf",
   "metadata": {},
   "outputs": [
    {
     "name": "stdout",
     "output_type": "stream",
     "text": [
      "K\n"
     ]
    }
   ],
   "source": [
    "print(a[1])"
   ]
  },
  {
   "cell_type": "code",
   "execution_count": 4,
   "id": "e05a3db3-ef4d-4d8f-8b94-7d843236f116",
   "metadata": {},
   "outputs": [
    {
     "name": "stdout",
     "output_type": "stream",
     "text": [
      "K\n"
     ]
    }
   ],
   "source": [
    "print(a[-4])"
   ]
  },
  {
   "cell_type": "code",
   "execution_count": 5,
   "id": "938ea538-7ed9-4cbe-9f20-dec86608920c",
   "metadata": {},
   "outputs": [
    {
     "name": "stdout",
     "output_type": "stream",
     "text": [
      "KA\n"
     ]
    }
   ],
   "source": [
    "print(a[1:3])"
   ]
  },
  {
   "cell_type": "code",
   "execution_count": 6,
   "id": "fc0d10ca-f11e-48ee-93a7-9bd30c9f9b4d",
   "metadata": {},
   "outputs": [
    {
     "name": "stdout",
     "output_type": "stream",
     "text": [
      "KAS\n"
     ]
    }
   ],
   "source": [
    "print(a[1:4:1]) # its called slicing"
   ]
  },
  {
   "cell_type": "code",
   "execution_count": 7,
   "id": "3049bb32-8b80-49f7-911c-dacbeee81cfb",
   "metadata": {},
   "outputs": [
    {
     "name": "stdout",
     "output_type": "stream",
     "text": [
      "KS\n"
     ]
    }
   ],
   "source": [
    "print(a[1:4:2])"
   ]
  },
  {
   "cell_type": "code",
   "execution_count": 8,
   "id": "6b6eadfd-9c09-4d62-bc75-1ca8d3709181",
   "metadata": {},
   "outputs": [
    {
     "name": "stdout",
     "output_type": "stream",
     "text": [
      "H\n"
     ]
    }
   ],
   "source": [
    "print(a[-1])"
   ]
  },
  {
   "cell_type": "code",
   "execution_count": 10,
   "id": "111d506c-9b10-4a1d-8c0d-a7527c4e268b",
   "metadata": {},
   "outputs": [
    {
     "data": {
      "text/plain": [
       "'akashrajput'"
      ]
     },
     "execution_count": 10,
     "metadata": {},
     "output_type": "execute_result"
    }
   ],
   "source": [
    "\"akash\"+\"rajput\"  # concotination use + sing is compolsary"
   ]
  },
  {
   "cell_type": "code",
   "execution_count": 14,
   "id": "513c01b6-a4fe-4a8e-8fb2-df00932d648f",
   "metadata": {},
   "outputs": [
    {
     "name": "stdout",
     "output_type": "stream",
     "text": [
      "akashrajput\n"
     ]
    }
   ],
   "source": [
    "print(\"akash\"\"rajput\") # this is not concotination"
   ]
  },
  {
   "cell_type": "code",
   "execution_count": 17,
   "id": "762f5175-bccd-4f5b-ba21-bf5e9b04b78c",
   "metadata": {},
   "outputs": [
    {
     "name": "stdout",
     "output_type": "stream",
     "text": [
      "akashrajput\n"
     ]
    }
   ],
   "source": [
    "print(\"akash\",\"rajput\",sep=\"\")"
   ]
  },
  {
   "cell_type": "code",
   "execution_count": 18,
   "id": "aa030d2e-bc8a-4241-89bd-269d9ac104e9",
   "metadata": {},
   "outputs": [],
   "source": [
    "a=\"akash\""
   ]
  },
  {
   "cell_type": "code",
   "execution_count": 19,
   "id": "ae821837-7ece-41c1-8c55-dad3773038b7",
   "metadata": {},
   "outputs": [
    {
     "data": {
      "text/plain": [
       "'AKASH'"
      ]
     },
     "execution_count": 19,
     "metadata": {},
     "output_type": "execute_result"
    }
   ],
   "source": [
    "a.upper()"
   ]
  },
  {
   "cell_type": "code",
   "execution_count": 20,
   "id": "0044945c-7976-46fe-a1fe-b1af952b28c5",
   "metadata": {},
   "outputs": [],
   "source": [
    "a=\"        Glassakash@gmail.com        \""
   ]
  },
  {
   "cell_type": "code",
   "execution_count": 22,
   "id": "94b2ade6-a84f-41ff-ae18-1e0e2fcd5861",
   "metadata": {},
   "outputs": [
    {
     "name": "stdout",
     "output_type": "stream",
     "text": [
      "        Glassakash@gmail.com        \n"
     ]
    }
   ],
   "source": [
    "print(a)"
   ]
  },
  {
   "cell_type": "code",
   "execution_count": 25,
   "id": "00b9072d-74ad-4721-924a-016a767db3e1",
   "metadata": {},
   "outputs": [
    {
     "data": {
      "text/plain": [
       "'        glassakash@gmail.com        '"
      ]
     },
     "execution_count": 25,
     "metadata": {},
     "output_type": "execute_result"
    }
   ],
   "source": [
    "b=a.casefold()\n",
    "b"
   ]
  },
  {
   "cell_type": "code",
   "execution_count": 27,
   "id": "85f86aac-0d6c-482b-8b17-8c9aa11a743e",
   "metadata": {},
   "outputs": [
    {
     "data": {
      "text/plain": [
       "'glassakash@gmail.com'"
      ]
     },
     "execution_count": 27,
     "metadata": {},
     "output_type": "execute_result"
    }
   ],
   "source": [
    "c=b.strip()\n",
    "c"
   ]
  },
  {
   "cell_type": "code",
   "execution_count": 28,
   "id": "5fea03b1-9312-40da-a361-9928f6eeae7c",
   "metadata": {},
   "outputs": [
    {
     "data": {
      "text/plain": [
       "'glassakash@gmail.com'"
      ]
     },
     "execution_count": 28,
     "metadata": {},
     "output_type": "execute_result"
    }
   ],
   "source": [
    "a=\"        Glassakash@gmail.com        \"\n",
    "b=a.casefold()\n",
    "c=b.strip()\n",
    "c"
   ]
  },
  {
   "cell_type": "code",
   "execution_count": 29,
   "id": "3b0bab8a-4372-4458-994f-91b66f30ea2c",
   "metadata": {},
   "outputs": [
    {
     "name": "stdout",
     "output_type": "stream",
     "text": [
      "glassakash@gmail.com\n"
     ]
    }
   ],
   "source": [
    "print(\"        Glassakash@gmail.com        \".casefold().strip())"
   ]
  },
  {
   "cell_type": "code",
   "execution_count": null,
   "id": "b66f21dd-893a-4b1a-8e60-c6bfe1cf7fbc",
   "metadata": {},
   "outputs": [],
   "source": []
  },
  {
   "cell_type": "markdown",
   "id": "f91e6669-583e-4861-b1bb-adb25c85e5d7",
   "metadata": {},
   "source": [
    "# list\n",
    "\n",
    "> list consturctor is list()\n",
    "\n",
    "> list literal is []\n",
    "\n",
    "> list is a set of sequence of elements(datatypes)\n",
    "\n",
    "> list is muteable(unhasable)\n",
    "\n",
    "> list support indexing\n",
    "\n",
    "> list support slicing\n",
    "\n",
    "> list support concotination\n",
    "\n",
    "> list support nested list\n",
    "\n",
    "> list method"
   ]
  },
  {
   "cell_type": "code",
   "execution_count": 1,
   "id": "c8b4964e-7a09-4ac8-9620-39d34491d68a",
   "metadata": {},
   "outputs": [],
   "source": [
    "a=[1,3,4]+[7,8,9]"
   ]
  },
  {
   "cell_type": "code",
   "execution_count": 2,
   "id": "a94da389-5bea-437d-b8af-730ed875512c",
   "metadata": {},
   "outputs": [
    {
     "name": "stdout",
     "output_type": "stream",
     "text": [
      "<class 'list'>\n"
     ]
    }
   ],
   "source": [
    "print(type(a))"
   ]
  },
  {
   "cell_type": "code",
   "execution_count": 3,
   "id": "841cdc98-973c-43e2-a58a-2b0d388eeec7",
   "metadata": {},
   "outputs": [
    {
     "name": "stdout",
     "output_type": "stream",
     "text": [
      "[1, 3, 4, 7, 8, 9]\n"
     ]
    }
   ],
   "source": [
    "print(a)"
   ]
  },
  {
   "cell_type": "code",
   "execution_count": 4,
   "id": "058e410b-8f02-47f8-8f79-f5479fb29b6b",
   "metadata": {},
   "outputs": [
    {
     "name": "stdout",
     "output_type": "stream",
     "text": [
      "[1, 3, 4, 7, 8, 9]\n"
     ]
    }
   ],
   "source": [
    "b=a\n",
    "print(b)"
   ]
  },
  {
   "cell_type": "code",
   "execution_count": 5,
   "id": "c3725430-eace-43ac-b762-23c5745f6d5e",
   "metadata": {
    "tags": []
   },
   "outputs": [
    {
     "data": {
      "text/plain": [
       "4"
      ]
     },
     "execution_count": 5,
     "metadata": {},
     "output_type": "execute_result"
    }
   ],
   "source": [
    "b[2]"
   ]
  },
  {
   "cell_type": "code",
   "execution_count": 6,
   "id": "bbf1cae4-b828-4ac3-aa49-d7f612426ff5",
   "metadata": {},
   "outputs": [
    {
     "name": "stdout",
     "output_type": "stream",
     "text": [
      "[1, 3, 4, 7, 8, 9]\n"
     ]
    }
   ],
   "source": [
    "print(b[0:6:1])"
   ]
  },
  {
   "cell_type": "code",
   "execution_count": 7,
   "id": "4725b085-ae58-4475-8090-e9f6eaffa597",
   "metadata": {},
   "outputs": [
    {
     "name": "stdout",
     "output_type": "stream",
     "text": [
      "[1, 3, 4, 7, 8, 9]\n"
     ]
    }
   ],
   "source": [
    "print(b[0::1])"
   ]
  },
  {
   "cell_type": "code",
   "execution_count": 8,
   "id": "5965c1f9-2239-4040-9450-3fcf775da881",
   "metadata": {},
   "outputs": [
    {
     "name": "stdout",
     "output_type": "stream",
     "text": [
      "[1, 3, 4, 7, 8, 9]\n"
     ]
    }
   ],
   "source": [
    "print(b[::1])"
   ]
  },
  {
   "cell_type": "code",
   "execution_count": 9,
   "id": "60aa6046-af22-4c91-b1e5-7d0cd7f5891e",
   "metadata": {},
   "outputs": [],
   "source": [
    "a=[1,2,3,[4,5,6,7,8],3,1,4]"
   ]
  },
  {
   "cell_type": "code",
   "execution_count": 10,
   "id": "62269440-5461-4848-b875-71676b059e9d",
   "metadata": {},
   "outputs": [
    {
     "name": "stdout",
     "output_type": "stream",
     "text": [
      "[1, 2, 3, [4, 5, 6, 7, 8], 3, 1, 4]\n"
     ]
    }
   ],
   "source": [
    "print(a)"
   ]
  },
  {
   "cell_type": "code",
   "execution_count": 11,
   "id": "dc32537c-6cdf-4838-8464-11388cd0623e",
   "metadata": {},
   "outputs": [
    {
     "name": "stdout",
     "output_type": "stream",
     "text": [
      "7\n"
     ]
    }
   ],
   "source": [
    "print(len(a))"
   ]
  },
  {
   "cell_type": "code",
   "execution_count": 20,
   "id": "c5d0cf5f-1e2f-4eaa-ba6d-7b91963cb942",
   "metadata": {},
   "outputs": [
    {
     "name": "stdout",
     "output_type": "stream",
     "text": [
      "[4, 5, 6, 7, 8]\n"
     ]
    }
   ],
   "source": [
    "b=(a[3])\n",
    "print(b)"
   ]
  },
  {
   "cell_type": "code",
   "execution_count": 21,
   "id": "14a2478f-e15b-4c19-bdfe-fd0583b65bbc",
   "metadata": {},
   "outputs": [
    {
     "name": "stdout",
     "output_type": "stream",
     "text": [
      "6\n"
     ]
    }
   ],
   "source": [
    "print(b[2])"
   ]
  },
  {
   "cell_type": "code",
   "execution_count": 23,
   "id": "45976177-ecc8-4090-ae8c-540e3b1388db",
   "metadata": {},
   "outputs": [
    {
     "name": "stdout",
     "output_type": "stream",
     "text": [
      "6\n"
     ]
    }
   ],
   "source": [
    "print(a[3][2])"
   ]
  },
  {
   "cell_type": "code",
   "execution_count": 25,
   "id": "08100af2-5580-4898-a515-a719224e21ad",
   "metadata": {},
   "outputs": [],
   "source": [
    "a=[1,2,3,[4,5,6,[1,2,3,3],7,8],3,1,4]"
   ]
  },
  {
   "cell_type": "code",
   "execution_count": 26,
   "id": "f7bca3c9-895f-4dc5-91e4-009f3ffbd5ff",
   "metadata": {},
   "outputs": [
    {
     "name": "stdout",
     "output_type": "stream",
     "text": [
      "2\n"
     ]
    }
   ],
   "source": [
    "print(a[3][3][1])"
   ]
  },
  {
   "cell_type": "code",
   "execution_count": 27,
   "id": "90235bed-3b1c-479b-af3e-24bfffd561ce",
   "metadata": {},
   "outputs": [
    {
     "name": "stdout",
     "output_type": "stream",
     "text": [
      "[2, 3]\n"
     ]
    }
   ],
   "source": [
    "print(a[3][3][1:3])"
   ]
  },
  {
   "cell_type": "code",
   "execution_count": 29,
   "id": "77529ecc-8307-4cb7-845a-4e7eb4b904ba",
   "metadata": {},
   "outputs": [
    {
     "name": "stdout",
     "output_type": "stream",
     "text": [
      "[1, 3]\n"
     ]
    }
   ],
   "source": [
    "print(a[3][3][0:100:2])"
   ]
  },
  {
   "cell_type": "code",
   "execution_count": 30,
   "id": "740f0cf4-652a-4602-9c83-a5d4f9afda58",
   "metadata": {},
   "outputs": [
    {
     "data": {
      "text/plain": [
       "[1, 2, 3, 4, 4, 5, 6, 7]"
      ]
     },
     "execution_count": 30,
     "metadata": {},
     "output_type": "execute_result"
    }
   ],
   "source": [
    "[1,2,3,4]+[4,5,6,7]"
   ]
  },
  {
   "cell_type": "code",
   "execution_count": 32,
   "id": "a46b6b85-01a1-4938-bcc5-9e10156f2a8f",
   "metadata": {},
   "outputs": [
    {
     "name": "stdout",
     "output_type": "stream",
     "text": [
      "<class 'list'>\n",
      "[]\n"
     ]
    }
   ],
   "source": [
    "a=list()\n",
    "print(type(a))\n",
    "print(a)"
   ]
  },
  {
   "cell_type": "code",
   "execution_count": 34,
   "id": "826cecda-0d1f-4f2c-95cb-cc2d87e9d399",
   "metadata": {},
   "outputs": [
    {
     "name": "stdout",
     "output_type": "stream",
     "text": [
      "<class 'list'>\n",
      "[]\n"
     ]
    }
   ],
   "source": [
    "b=[]\n",
    "print(type(b))\n",
    "print(b)"
   ]
  },
  {
   "cell_type": "code",
   "execution_count": 36,
   "id": "65e69e6c-9a50-4fa0-8bbb-9ec889c3cde1",
   "metadata": {},
   "outputs": [
    {
     "name": "stdout",
     "output_type": "stream",
     "text": [
      "<class 'str'>\n",
      "[]\n"
     ]
    }
   ],
   "source": [
    "a=\"[]\"\n",
    "print(type(a))\n",
    "print(a)"
   ]
  },
  {
   "cell_type": "markdown",
   "id": "e758f632-1499-4ed4-9bc3-1629c0f144b7",
   "metadata": {},
   "source": [
    "# methods of list"
   ]
  },
  {
   "cell_type": "code",
   "execution_count": 72,
   "id": "ecdff1aa-3bed-4868-b5a8-738089e3f209",
   "metadata": {},
   "outputs": [],
   "source": [
    "a=[1,2,3,4,5]"
   ]
  },
  {
   "cell_type": "code",
   "execution_count": 73,
   "id": "88ee2308-2e8e-49ae-83e3-b2a4a6e13c18",
   "metadata": {},
   "outputs": [
    {
     "name": "stdout",
     "output_type": "stream",
     "text": [
      "[1, 2, 3, 4, 5]\n",
      "2223562347968\n"
     ]
    }
   ],
   "source": [
    "print(a)\n",
    "print(id(a))"
   ]
  },
  {
   "cell_type": "code",
   "execution_count": 74,
   "id": "5d870b33-8d05-4101-88a6-714b1396ba29",
   "metadata": {},
   "outputs": [],
   "source": [
    "a.append(10)"
   ]
  },
  {
   "cell_type": "code",
   "execution_count": 75,
   "id": "479892a0-cc61-4714-ab96-92d73d176616",
   "metadata": {},
   "outputs": [
    {
     "name": "stdout",
     "output_type": "stream",
     "text": [
      "[1, 2, 3, 4, 5, 10]\n"
     ]
    }
   ],
   "source": [
    "print(a)"
   ]
  },
  {
   "cell_type": "code",
   "execution_count": 76,
   "id": "3ea8173c-db0f-43a3-9f8e-ed9ca6a8b172",
   "metadata": {},
   "outputs": [
    {
     "name": "stdout",
     "output_type": "stream",
     "text": [
      "2223562347968\n"
     ]
    }
   ],
   "source": [
    "print(id(a))"
   ]
  },
  {
   "cell_type": "code",
   "execution_count": 77,
   "id": "70f7cbae-801b-42bd-9c84-c467b818827e",
   "metadata": {},
   "outputs": [],
   "source": [
    "a.clear()"
   ]
  },
  {
   "cell_type": "code",
   "execution_count": 78,
   "id": "503e4c5f-7e50-4ec2-94ec-d25491c77d20",
   "metadata": {},
   "outputs": [
    {
     "name": "stdout",
     "output_type": "stream",
     "text": [
      "[]\n"
     ]
    }
   ],
   "source": [
    "print(a)"
   ]
  },
  {
   "cell_type": "code",
   "execution_count": 79,
   "id": "332dcaff-4462-4855-a3f1-1c2430ef2400",
   "metadata": {},
   "outputs": [
    {
     "name": "stdout",
     "output_type": "stream",
     "text": [
      "2223562347968\n"
     ]
    }
   ],
   "source": [
    "print(id(a))"
   ]
  },
  {
   "cell_type": "code",
   "execution_count": 81,
   "id": "e01c68a1-e8cd-4663-8fa1-6e9c8ce322f5",
   "metadata": {},
   "outputs": [],
   "source": [
    "a.append([1,2,3,4,5])"
   ]
  },
  {
   "cell_type": "code",
   "execution_count": 82,
   "id": "b020450e-8d13-4a11-a32f-6a2208d9e3c2",
   "metadata": {},
   "outputs": [
    {
     "name": "stdout",
     "output_type": "stream",
     "text": [
      "[[1, 2, 3, 4, 5], [1, 2, 3, 4, 5]]\n"
     ]
    }
   ],
   "source": [
    "print(a)"
   ]
  },
  {
   "cell_type": "code",
   "execution_count": 90,
   "id": "fe4b210f-bc9d-45a7-92f8-4e829c082216",
   "metadata": {
    "tags": []
   },
   "outputs": [],
   "source": [
    "a=10\n",
    "b=10.0\n",
    "c=\"10\"\n",
    "d=[1,2,3,4,5]"
   ]
  },
  {
   "cell_type": "code",
   "execution_count": 91,
   "id": "99a3cb52-9cbf-44a3-b455-2c4cea9f826c",
   "metadata": {},
   "outputs": [
    {
     "name": "stdout",
     "output_type": "stream",
     "text": [
      "[]\n"
     ]
    }
   ],
   "source": [
    "z=[]\n",
    "print(z)"
   ]
  },
  {
   "cell_type": "code",
   "execution_count": 92,
   "id": "9b50036e-174a-4146-bb57-2fb442aa7efa",
   "metadata": {},
   "outputs": [],
   "source": [
    "z.append(a)"
   ]
  },
  {
   "cell_type": "code",
   "execution_count": 93,
   "id": "1102980c-2fd2-41e5-924a-1a81480fd84f",
   "metadata": {},
   "outputs": [
    {
     "name": "stdout",
     "output_type": "stream",
     "text": [
      "[10]\n"
     ]
    }
   ],
   "source": [
    "print(z)"
   ]
  },
  {
   "cell_type": "code",
   "execution_count": 94,
   "id": "344a4616-c299-413f-ae41-e8cb33accf55",
   "metadata": {},
   "outputs": [],
   "source": [
    "z.append(d)"
   ]
  },
  {
   "cell_type": "code",
   "execution_count": 95,
   "id": "23b77432-35a0-40a6-9bff-ffd190ac55f3",
   "metadata": {},
   "outputs": [
    {
     "name": "stdout",
     "output_type": "stream",
     "text": [
      "[10, [1, 2, 3, 4, 5]]\n"
     ]
    }
   ],
   "source": [
    "print(z)"
   ]
  },
  {
   "cell_type": "code",
   "execution_count": 96,
   "id": "ff093bc7-d161-43f0-b780-936feaae60dd",
   "metadata": {},
   "outputs": [],
   "source": [
    "z.append(b)"
   ]
  },
  {
   "cell_type": "code",
   "execution_count": 97,
   "id": "ed5bb04b-ba3b-40e6-87b1-32d553698999",
   "metadata": {},
   "outputs": [
    {
     "name": "stdout",
     "output_type": "stream",
     "text": [
      "[10, [1, 2, 3, 4, 5], 10.0]\n"
     ]
    }
   ],
   "source": [
    "print(z)"
   ]
  },
  {
   "cell_type": "code",
   "execution_count": 98,
   "id": "27e70e6f-650e-4937-b555-74038d728585",
   "metadata": {},
   "outputs": [],
   "source": [
    "z.extend(d)"
   ]
  },
  {
   "cell_type": "code",
   "execution_count": 99,
   "id": "1618b9da-be83-4db0-9b69-0e868d29a933",
   "metadata": {},
   "outputs": [
    {
     "name": "stdout",
     "output_type": "stream",
     "text": [
      "[10, [1, 2, 3, 4, 5], 10.0, 1, 2, 3, 4, 5]\n"
     ]
    }
   ],
   "source": [
    "print(z)"
   ]
  },
  {
   "cell_type": "code",
   "execution_count": 100,
   "id": "3c088479-e805-43cd-8a4e-0414e334fed0",
   "metadata": {},
   "outputs": [
    {
     "data": {
      "text/plain": [
       "5"
      ]
     },
     "execution_count": 100,
     "metadata": {},
     "output_type": "execute_result"
    }
   ],
   "source": [
    "z.pop()"
   ]
  },
  {
   "cell_type": "code",
   "execution_count": 101,
   "id": "ca1b09c2-c630-473f-869c-423fe81722a4",
   "metadata": {},
   "outputs": [
    {
     "name": "stdout",
     "output_type": "stream",
     "text": [
      "[10, [1, 2, 3, 4, 5], 10.0, 1, 2, 3, 4]\n"
     ]
    }
   ],
   "source": [
    "print(z)"
   ]
  },
  {
   "cell_type": "code",
   "execution_count": 102,
   "id": "c5c221ba-a944-4630-895e-bf74aa0af91f",
   "metadata": {},
   "outputs": [
    {
     "data": {
      "text/plain": [
       "[1, 2, 3, 4, 5]"
      ]
     },
     "execution_count": 102,
     "metadata": {},
     "output_type": "execute_result"
    }
   ],
   "source": [
    "z.pop(1)"
   ]
  },
  {
   "cell_type": "code",
   "execution_count": 103,
   "id": "b75ea1c2-c63f-42f8-b8c7-e4c02ee7b5b3",
   "metadata": {},
   "outputs": [
    {
     "ename": "IndexError",
     "evalue": "pop index out of range",
     "output_type": "error",
     "traceback": [
      "\u001b[1;31m---------------------------------------------------------------------------\u001b[0m",
      "\u001b[1;31mIndexError\u001b[0m                                Traceback (most recent call last)",
      "Cell \u001b[1;32mIn[103], line 1\u001b[0m\n\u001b[1;32m----> 1\u001b[0m \u001b[43mz\u001b[49m\u001b[38;5;241;43m.\u001b[39;49m\u001b[43mpop\u001b[49m\u001b[43m(\u001b[49m\u001b[38;5;241;43m10\u001b[39;49m\u001b[43m)\u001b[49m\n",
      "\u001b[1;31mIndexError\u001b[0m: pop index out of range"
     ]
    }
   ],
   "source": [
    "z.pop(10)"
   ]
  },
  {
   "cell_type": "code",
   "execution_count": 104,
   "id": "31ba6bfc-3b81-443a-a689-72c5edb274d0",
   "metadata": {},
   "outputs": [
    {
     "name": "stdout",
     "output_type": "stream",
     "text": [
      "[10, 10.0, 1, 2, 3, 4]\n"
     ]
    }
   ],
   "source": [
    "print(z)"
   ]
  },
  {
   "cell_type": "code",
   "execution_count": 106,
   "id": "30413c91-292b-4a07-8035-790c89516875",
   "metadata": {},
   "outputs": [
    {
     "data": {
      "text/plain": [
       "1"
      ]
     },
     "execution_count": 106,
     "metadata": {},
     "output_type": "execute_result"
    }
   ],
   "source": [
    "z.count(1)"
   ]
  },
  {
   "cell_type": "code",
   "execution_count": 107,
   "id": "0f638f50-56a5-420f-b7bc-b194a53f1b36",
   "metadata": {
    "scrolled": true
   },
   "outputs": [
    {
     "data": {
      "text/plain": [
       "2"
      ]
     },
     "execution_count": 107,
     "metadata": {},
     "output_type": "execute_result"
    }
   ],
   "source": [
    "z.count(10)"
   ]
  },
  {
   "cell_type": "code",
   "execution_count": 108,
   "id": "24c79266-5454-40be-a68d-be4fd94b6f5b",
   "metadata": {},
   "outputs": [],
   "source": [
    "z.remove(10)"
   ]
  },
  {
   "cell_type": "code",
   "execution_count": 109,
   "id": "484e8176-06e4-4b9a-9922-63b5191e6a82",
   "metadata": {},
   "outputs": [
    {
     "name": "stdout",
     "output_type": "stream",
     "text": [
      "[10.0, 1, 2, 3, 4]\n"
     ]
    }
   ],
   "source": [
    "print(z)"
   ]
  },
  {
   "cell_type": "code",
   "execution_count": 110,
   "id": "d242340c-6dbf-4bbd-8dc6-fbbd8ef3ea66",
   "metadata": {},
   "outputs": [],
   "source": [
    "z.reverse()"
   ]
  },
  {
   "cell_type": "code",
   "execution_count": 111,
   "id": "d50e4304-82a5-4657-9cea-d47701758bb9",
   "metadata": {},
   "outputs": [
    {
     "name": "stdout",
     "output_type": "stream",
     "text": [
      "[4, 3, 2, 1, 10.0]\n"
     ]
    }
   ],
   "source": [
    "print(z)"
   ]
  },
  {
   "cell_type": "code",
   "execution_count": 112,
   "id": "3906b027-6eed-400d-ab01-1afe79a010ff",
   "metadata": {},
   "outputs": [],
   "source": [
    "z.sort()"
   ]
  },
  {
   "cell_type": "code",
   "execution_count": 113,
   "id": "a5058b34-53c3-4437-bfc5-78067b99877c",
   "metadata": {},
   "outputs": [
    {
     "name": "stdout",
     "output_type": "stream",
     "text": [
      "[1, 2, 3, 4, 10.0]\n"
     ]
    }
   ],
   "source": [
    "print(z)"
   ]
  },
  {
   "cell_type": "code",
   "execution_count": 115,
   "id": "2bffc2ff-455f-4a9b-a40a-764ae449e1ad",
   "metadata": {},
   "outputs": [],
   "source": [
    "z.sort(reverse=True)"
   ]
  },
  {
   "cell_type": "code",
   "execution_count": 116,
   "id": "ccc85a17-6a49-4b73-b9eb-359bb0a2b664",
   "metadata": {},
   "outputs": [
    {
     "name": "stdout",
     "output_type": "stream",
     "text": [
      "[10.0, 4, 3, 2, 1]\n"
     ]
    }
   ],
   "source": [
    "print(z)"
   ]
  },
  {
   "cell_type": "code",
   "execution_count": 117,
   "id": "7abc96d2-5614-40c3-bb1a-cbf365bf0daf",
   "metadata": {},
   "outputs": [],
   "source": [
    "b=z"
   ]
  },
  {
   "cell_type": "code",
   "execution_count": 118,
   "id": "e0c53ecd-9d1f-4b3c-96ae-d58a8b819338",
   "metadata": {},
   "outputs": [
    {
     "name": "stdout",
     "output_type": "stream",
     "text": [
      "[10.0, 4, 3, 2, 1]\n"
     ]
    }
   ],
   "source": [
    "print(b)"
   ]
  },
  {
   "cell_type": "code",
   "execution_count": 120,
   "id": "b6842cd9-b391-479d-8491-c534c309e81f",
   "metadata": {},
   "outputs": [],
   "source": [
    "b.append(1000)"
   ]
  },
  {
   "cell_type": "code",
   "execution_count": 123,
   "id": "0cef2f96-b015-4e76-b468-3983f2ea3ad0",
   "metadata": {},
   "outputs": [
    {
     "name": "stdout",
     "output_type": "stream",
     "text": [
      "[10.0, 4, 3, 2, 1, 100, 1000]\n",
      "2223562536896\n"
     ]
    }
   ],
   "source": [
    "print(b)\n",
    "print(id(b))"
   ]
  },
  {
   "cell_type": "code",
   "execution_count": 124,
   "id": "f97763fd-f857-40a3-bdd9-31cc6539f4da",
   "metadata": {},
   "outputs": [
    {
     "name": "stdout",
     "output_type": "stream",
     "text": [
      "[10.0, 4, 3, 2, 1, 100, 1000]\n",
      "2223562536896\n"
     ]
    }
   ],
   "source": [
    "print(z)\n",
    "print(id(z))"
   ]
  },
  {
   "cell_type": "code",
   "execution_count": 125,
   "id": "87c715d9-2a44-4b71-9a6b-904606842f6d",
   "metadata": {},
   "outputs": [
    {
     "name": "stdout",
     "output_type": "stream",
     "text": [
      "[10.0, 4, 3, 2, 1, 100, 1000]\n"
     ]
    }
   ],
   "source": [
    "print(z)"
   ]
  },
  {
   "cell_type": "code",
   "execution_count": 126,
   "id": "7cf60614-d8c4-411d-bc41-62cc1a8c6895",
   "metadata": {},
   "outputs": [],
   "source": [
    "c=z.copy()"
   ]
  },
  {
   "cell_type": "code",
   "execution_count": 129,
   "id": "82e5ef6b-f2f2-448b-a8a6-8c9883311060",
   "metadata": {},
   "outputs": [
    {
     "name": "stdout",
     "output_type": "stream",
     "text": [
      "[10.0, 4, 3, 2, 1, 100, 1000]\n",
      "2223562845568\n"
     ]
    }
   ],
   "source": [
    "print(c)\n",
    "print(id(c))"
   ]
  },
  {
   "cell_type": "code",
   "execution_count": 130,
   "id": "21c778d5-d42f-4283-988c-4c38d4ce3111",
   "metadata": {},
   "outputs": [
    {
     "name": "stdout",
     "output_type": "stream",
     "text": [
      "[10.0, 4, 3, 2, 1, 100, 1000]\n",
      "2223562536896\n"
     ]
    }
   ],
   "source": [
    "print(z)\n",
    "print(id(z))"
   ]
  },
  {
   "cell_type": "code",
   "execution_count": null,
   "id": "0088c43a-d3e4-4cac-86cc-eb0d6d052049",
   "metadata": {},
   "outputs": [],
   "source": []
  },
  {
   "cell_type": "code",
   "execution_count": 58,
   "id": "1fd640c5-1591-4925-8c3f-d9395c6f3291",
   "metadata": {
    "tags": []
   },
   "outputs": [],
   "source": [
    "a=10\n",
    "b=10.0\n",
    "c=\"10\""
   ]
  },
  {
   "cell_type": "code",
   "execution_count": 59,
   "id": "bb0e70a4-9857-4e17-9e47-a396484b09ab",
   "metadata": {
    "tags": []
   },
   "outputs": [],
   "source": [
    "d=[a,b,c]"
   ]
  },
  {
   "cell_type": "code",
   "execution_count": 60,
   "id": "d902442f-ea19-45ef-8c25-d315f9018b8d",
   "metadata": {
    "tags": []
   },
   "outputs": [
    {
     "name": "stdout",
     "output_type": "stream",
     "text": [
      "[10, 10.0, '10']\n"
     ]
    }
   ],
   "source": [
    "print(d)"
   ]
  },
  {
   "cell_type": "code",
   "execution_count": 61,
   "id": "6b8e0b1f-5d17-44db-9b18-2c67fe2a86d2",
   "metadata": {},
   "outputs": [],
   "source": [
    "e=[10,10.0,\"10\"]"
   ]
  },
  {
   "cell_type": "code",
   "execution_count": 62,
   "id": "564f281e-e75b-4c77-8536-8366d71e55a9",
   "metadata": {},
   "outputs": [
    {
     "name": "stdout",
     "output_type": "stream",
     "text": [
      "[10, 10.0, '10']\n"
     ]
    }
   ],
   "source": [
    "print(e)"
   ]
  },
  {
   "cell_type": "code",
   "execution_count": 64,
   "id": "496d4942-2a94-447b-8749-44fe6a68b22e",
   "metadata": {},
   "outputs": [
    {
     "name": "stdout",
     "output_type": "stream",
     "text": [
      "10\n"
     ]
    }
   ],
   "source": [
    "print(e[0])\n",
    "f=e[0]"
   ]
  },
  {
   "cell_type": "code",
   "execution_count": 66,
   "id": "0cda2422-1e47-497b-bf27-e89fcd86646e",
   "metadata": {},
   "outputs": [
    {
     "name": "stdout",
     "output_type": "stream",
     "text": [
      "<class 'int'>\n"
     ]
    }
   ],
   "source": [
    "print(type(f))"
   ]
  },
  {
   "cell_type": "code",
   "execution_count": 67,
   "id": "23a53d28-d83e-402c-9382-e8feb9426177",
   "metadata": {},
   "outputs": [
    {
     "name": "stdout",
     "output_type": "stream",
     "text": [
      "[10.0, '10']\n"
     ]
    }
   ],
   "source": [
    "print(e[1:3:1])"
   ]
  },
  {
   "cell_type": "code",
   "execution_count": 68,
   "id": "7aa049fd-8ae5-44f1-91a6-108f621eaf87",
   "metadata": {},
   "outputs": [],
   "source": [
    "a=[2,3,4,1,32,4]"
   ]
  },
  {
   "cell_type": "code",
   "execution_count": null,
   "id": "967fee9d-2948-4093-8731-60d34905245c",
   "metadata": {},
   "outputs": [
    {
     "name": "stdout",
     "output_type": "stream",
     "text": [
      "[3, 4, 1]\n"
     ]
    }
   ],
   "source": [
    "print(a[1:4:1]"
   ]
  }
 ],
 "metadata": {
  "kernelspec": {
   "display_name": "Python 3 (ipykernel)",
   "language": "python",
   "name": "python3"
  },
  "language_info": {
   "codemirror_mode": {
    "name": "ipython",
    "version": 3
   },
   "file_extension": ".py",
   "mimetype": "text/x-python",
   "name": "python",
   "nbconvert_exporter": "python",
   "pygments_lexer": "ipython3",
   "version": "3.10.9"
  }
 },
 "nbformat": 4,
 "nbformat_minor": 5
}
