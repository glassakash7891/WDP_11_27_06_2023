{
 "cells": [
  {
   "cell_type": "markdown",
   "id": "5e3e39a8-ba78-40de-b4ea-2fc1c0083fd3",
   "metadata": {},
   "source": [
    "# string\n",
    "\n",
    "> string constructor is str()\n",
    "\n",
    "> string literal is ' ',\"\",\"\"\"\"\"\",''''''\n",
    "\n",
    "> string is set of sequence of character\n",
    "\n",
    "> string support indexing\n",
    "\n",
    "> string support slicing\n",
    "\n",
    "> string support concatination\n",
    "\n",
    "> string is immutable (alaso known as hasable)"
   ]
  },
  {
   "cell_type": "code",
   "execution_count": 1,
   "id": "f8ac95ad-1331-4cdd-b2f6-ec28f41fefe8",
   "metadata": {},
   "outputs": [
    {
     "name": "stdout",
     "output_type": "stream",
     "text": [
      "hello world\n"
     ]
    }
   ],
   "source": [
    "print(\"hello world\")"
   ]
  },
  {
   "cell_type": "code",
   "execution_count": 2,
   "id": "b0b37815-b121-4a32-801d-9fe3e915f879",
   "metadata": {},
   "outputs": [
    {
     "name": "stdout",
     "output_type": "stream",
     "text": [
      "hello world\n"
     ]
    }
   ],
   "source": [
    "print('hello world')"
   ]
  },
  {
   "cell_type": "code",
   "execution_count": 3,
   "id": "25c94811-c411-483a-a60d-0924092c5b4f",
   "metadata": {},
   "outputs": [
    {
     "name": "stdout",
     "output_type": "stream",
     "text": [
      "hello world\n"
     ]
    }
   ],
   "source": [
    "print(\"\"\"hello world\"\"\")"
   ]
  },
  {
   "cell_type": "code",
   "execution_count": 4,
   "id": "f7ae32a8-41d6-4785-9350-d2f22869a3ba",
   "metadata": {},
   "outputs": [
    {
     "name": "stdout",
     "output_type": "stream",
     "text": [
      "hello world\n"
     ]
    }
   ],
   "source": [
    "print('''hello world''')"
   ]
  },
  {
   "cell_type": "code",
   "execution_count": 5,
   "id": "d243ceef-b754-462b-be7b-4524be06e9a9",
   "metadata": {},
   "outputs": [
    {
     "name": "stdout",
     "output_type": "stream",
     "text": [
      "hello akash\n",
      "hello akash\n"
     ]
    }
   ],
   "source": [
    "print(\"hello akash\")\n",
    "print('hello akash')"
   ]
  },
  {
   "cell_type": "code",
   "execution_count": 6,
   "id": "434efe64-149e-4f2b-bb7b-bcac9ebb2e68",
   "metadata": {},
   "outputs": [
    {
     "name": "stdout",
     "output_type": "stream",
     "text": [
      "hello world\n",
      "hello world\n"
     ]
    }
   ],
   "source": [
    "print(\"\"\"hello world\"\"\")\n",
    "print('''hello world''')"
   ]
  },
  {
   "cell_type": "code",
   "execution_count": 7,
   "id": "32e90569-cf78-4112-9489-620d55b45611",
   "metadata": {},
   "outputs": [
    {
     "ename": "SyntaxError",
     "evalue": "unterminated string literal (detected at line 1) (2631347814.py, line 1)",
     "output_type": "error",
     "traceback": [
      "\u001b[1;36m  Cell \u001b[1;32mIn[7], line 1\u001b[1;36m\u001b[0m\n\u001b[1;33m    print(\"hello\u001b[0m\n\u001b[1;37m          ^\u001b[0m\n\u001b[1;31mSyntaxError\u001b[0m\u001b[1;31m:\u001b[0m unterminated string literal (detected at line 1)\n"
     ]
    }
   ],
   "source": [
    "print(\"hello\n",
    "      \n",
    "      akash\")\n",
    "print('hello akash')"
   ]
  },
  {
   "cell_type": "code",
   "execution_count": 8,
   "id": "2c7c27d3-9ee0-48cf-a6cc-e902f5ce113d",
   "metadata": {},
   "outputs": [
    {
     "name": "stdout",
     "output_type": "stream",
     "text": [
      "hello\n",
      "             \n",
      "             \n",
      "             world\n",
      "hello world\n"
     ]
    }
   ],
   "source": [
    "print(\"\"\"hello\n",
    "             \n",
    "             \n",
    "             world\"\"\")\n",
    "print('''hello world''')"
   ]
  },
  {
   "cell_type": "code",
   "execution_count": 11,
   "id": "2772a452-a058-49e2-bc30-413c7ee7028a",
   "metadata": {},
   "outputs": [
    {
     "name": "stdout",
     "output_type": "stream",
     "text": [
      "hello world\n",
      "i am akash\n"
     ]
    }
   ],
   "source": [
    "print(\"hello world\")\n",
    "print(\"i am akash\")"
   ]
  },
  {
   "cell_type": "code",
   "execution_count": 12,
   "id": "d42f3b31-0cb7-4796-aff1-e7ee4983d873",
   "metadata": {},
   "outputs": [
    {
     "name": "stdout",
     "output_type": "stream",
     "text": [
      "hello world\n",
      "i am akash\n"
     ]
    }
   ],
   "source": [
    "print(\"hello world\");print(\"i am akash\")"
   ]
  },
  {
   "cell_type": "code",
   "execution_count": 13,
   "id": "5406f70b-e40e-4635-81c9-d307cc90d4c2",
   "metadata": {},
   "outputs": [
    {
     "name": "stdout",
     "output_type": "stream",
     "text": [
      "hello world\n",
      "i am akash\n"
     ]
    }
   ],
   "source": [
    "print(\"hello world\",end=\"\\n\");print(\"i am akash\")"
   ]
  },
  {
   "cell_type": "code",
   "execution_count": 16,
   "id": "e9630797-5ef1-462d-b920-118c7fea5ea6",
   "metadata": {},
   "outputs": [
    {
     "name": "stdout",
     "output_type": "stream",
     "text": [
      "hello world i am akash\n"
     ]
    }
   ],
   "source": [
    "print(\"hello world\",end=\" \");print(\"i am akash\")"
   ]
  },
  {
   "cell_type": "code",
   "execution_count": 18,
   "id": "4646e377-6171-45b2-96b4-ea54d161ec52",
   "metadata": {},
   "outputs": [
    {
     "name": "stdout",
     "output_type": "stream",
     "text": [
      "hello world$i am akash\n",
      "i am in final year\n"
     ]
    }
   ],
   "source": [
    "print(\"hello world\",end=\"$\");\n",
    "print(\"i am akash\",end=\"\\n\")\n",
    "print(\"i am in final year\")"
   ]
  },
  {
   "cell_type": "code",
   "execution_count": 21,
   "id": "86adf6fe-cd0f-4d1e-8006-a7c79b1d1fa1",
   "metadata": {},
   "outputs": [
    {
     "name": "stdout",
     "output_type": "stream",
     "text": [
      "tajmahal$humautomb$redfort\n"
     ]
    }
   ],
   "source": [
    "print(\"tajmahal\",\"humautomb\",\"redfort\",sep=\"$\")"
   ]
  },
  {
   "cell_type": "code",
   "execution_count": 23,
   "id": "cffeb7db-39e9-4aeb-9299-2631be0d0b50",
   "metadata": {},
   "outputs": [
    {
     "name": "stdout",
     "output_type": "stream",
     "text": [
      "tajmahal\n",
      "humautomb\n",
      "redfort\n"
     ]
    }
   ],
   "source": [
    "print(\"tajmahal\",\"humautomb\",\"redfort\",sep=\"\\n\")"
   ]
  },
  {
   "cell_type": "code",
   "execution_count": 24,
   "id": "01ddd901-f2ee-4c48-b601-59b8a3f6451d",
   "metadata": {},
   "outputs": [
    {
     "name": "stdout",
     "output_type": "stream",
     "text": [
      "this is \n",
      "swaminatham\n"
     ]
    }
   ],
   "source": [
    "print(\"this is \\nswaminatham\")"
   ]
  },
  {
   "cell_type": "code",
   "execution_count": 25,
   "id": "c80eba3d-6e32-416d-9ca2-0dadaf4d6d2e",
   "metadata": {},
   "outputs": [
    {
     "data": {
      "text/plain": [
       "'this is \\nswaminatham'"
      ]
     },
     "execution_count": 25,
     "metadata": {},
     "output_type": "execute_result"
    }
   ],
   "source": [
    "\"this is \\nswaminatham\""
   ]
  },
  {
   "cell_type": "code",
   "execution_count": 27,
   "id": "71a9f717-f316-4ed3-9cd2-82c79ddd7216",
   "metadata": {},
   "outputs": [
    {
     "ename": "SyntaxError",
     "evalue": "invalid syntax. Perhaps you forgot a comma? (3253555002.py, line 1)",
     "output_type": "error",
     "traceback": [
      "\u001b[1;36m  Cell \u001b[1;32mIn[27], line 1\u001b[1;36m\u001b[0m\n\u001b[1;33m    print(\"this is \"laptop\"\")\u001b[0m\n\u001b[1;37m          ^\u001b[0m\n\u001b[1;31mSyntaxError\u001b[0m\u001b[1;31m:\u001b[0m invalid syntax. Perhaps you forgot a comma?\n"
     ]
    }
   ],
   "source": [
    "print(\"this is \"laptop\"\")"
   ]
  },
  {
   "cell_type": "code",
   "execution_count": 28,
   "id": "290b977d-0f69-43be-809b-aaf78cff0926",
   "metadata": {},
   "outputs": [
    {
     "name": "stdout",
     "output_type": "stream",
     "text": [
      "this is \"laptop\"\n"
     ]
    }
   ],
   "source": [
    "print('this is \"laptop\"') # in this case only use single (')"
   ]
  },
  {
   "cell_type": "code",
   "execution_count": 29,
   "id": "c1353ba7-bdb3-4847-a962-e1675e42a536",
   "metadata": {},
   "outputs": [
    {
     "name": "stdout",
     "output_type": "stream",
     "text": [
      "this is \"laptop\"\n"
     ]
    }
   ],
   "source": [
    "print(\"this is \\\"laptop\\\"\")"
   ]
  },
  {
   "cell_type": "code",
   "execution_count": 31,
   "id": "2b7de35b-5dd9-43af-98df-9331a5e4a361",
   "metadata": {},
   "outputs": [
    {
     "name": "stdout",
     "output_type": "stream",
     "text": [
      "\n"
     ]
    }
   ],
   "source": [
    "a=str()\n",
    "print(a)"
   ]
  },
  {
   "cell_type": "code",
   "execution_count": 34,
   "id": "e9864c47-4992-414d-9fb1-4f3fc40a234c",
   "metadata": {},
   "outputs": [
    {
     "name": "stdout",
     "output_type": "stream",
     "text": [
      "<class 'str'>\n"
     ]
    },
    {
     "data": {
      "text/plain": [
       "''"
      ]
     },
     "execution_count": 34,
     "metadata": {},
     "output_type": "execute_result"
    }
   ],
   "source": [
    "a=str() # constructor is use to creat empty string\n",
    "print(type(a))\n",
    "a"
   ]
  },
  {
   "cell_type": "code",
   "execution_count": 37,
   "id": "b2cb0670-b094-4e3e-a422-755d41065e96",
   "metadata": {},
   "outputs": [
    {
     "name": "stdout",
     "output_type": "stream",
     "text": [
      "<class 'str'>\n"
     ]
    },
    {
     "data": {
      "text/plain": [
       "''"
      ]
     },
     "execution_count": 37,
     "metadata": {},
     "output_type": "execute_result"
    }
   ],
   "source": [
    "b=''   # using literal of string '' creat empty string\n",
    "print(type(b))\n",
    "b"
   ]
  },
  {
   "cell_type": "code",
   "execution_count": 38,
   "id": "e471c4ca-9448-47ff-9138-0e37782c70c6",
   "metadata": {},
   "outputs": [
    {
     "data": {
      "text/plain": [
       "''"
      ]
     },
     "execution_count": 38,
     "metadata": {},
     "output_type": "execute_result"
    }
   ],
   "source": [
    "c=\"\"\n",
    "c"
   ]
  },
  {
   "cell_type": "code",
   "execution_count": 39,
   "id": "04d0512b-ebc6-41c4-a448-1f641a5cfc0c",
   "metadata": {},
   "outputs": [
    {
     "data": {
      "text/plain": [
       "''"
      ]
     },
     "execution_count": 39,
     "metadata": {},
     "output_type": "execute_result"
    }
   ],
   "source": [
    "d=\"\"\"\"\"\"\n",
    "d"
   ]
  },
  {
   "cell_type": "code",
   "execution_count": 40,
   "id": "a44c6519-51d8-45ba-bd44-68573d9ff61d",
   "metadata": {},
   "outputs": [
    {
     "data": {
      "text/plain": [
       "''"
      ]
     },
     "execution_count": 40,
     "metadata": {},
     "output_type": "execute_result"
    }
   ],
   "source": [
    "e=''''''\n",
    "e"
   ]
  },
  {
   "cell_type": "code",
   "execution_count": 41,
   "id": "95c94bd3-becd-4bc3-ab60-32f7cca81755",
   "metadata": {},
   "outputs": [],
   "source": [
    "a=\"AKASH\""
   ]
  },
  {
   "cell_type": "code",
   "execution_count": 42,
   "id": "b5654128-fbf8-4527-b73f-32fe4c3a1a09",
   "metadata": {},
   "outputs": [
    {
     "name": "stdout",
     "output_type": "stream",
     "text": [
      "AKASH\n"
     ]
    }
   ],
   "source": [
    "print(a)"
   ]
  },
  {
   "cell_type": "code",
   "execution_count": 43,
   "id": "8e8b122c-592b-4bd7-9fc4-7a23591329cf",
   "metadata": {},
   "outputs": [
    {
     "name": "stdout",
     "output_type": "stream",
     "text": [
      "K\n"
     ]
    }
   ],
   "source": [
    "print(a[1])"
   ]
  },
  {
   "cell_type": "code",
   "execution_count": 46,
   "id": "e05a3db3-ef4d-4d8f-8b94-7d843236f116",
   "metadata": {},
   "outputs": [
    {
     "name": "stdout",
     "output_type": "stream",
     "text": [
      "K\n"
     ]
    }
   ],
   "source": [
    "print(a[-4])"
   ]
  },
  {
   "cell_type": "code",
   "execution_count": 47,
   "id": "938ea538-7ed9-4cbe-9f20-dec86608920c",
   "metadata": {},
   "outputs": [
    {
     "name": "stdout",
     "output_type": "stream",
     "text": [
      "KA\n"
     ]
    }
   ],
   "source": [
    "print(a[1:3])"
   ]
  },
  {
   "cell_type": "code",
   "execution_count": 50,
   "id": "fc0d10ca-f11e-48ee-93a7-9bd30c9f9b4d",
   "metadata": {},
   "outputs": [
    {
     "name": "stdout",
     "output_type": "stream",
     "text": [
      "KAS\n"
     ]
    }
   ],
   "source": [
    "print(a[1:4:1]) # its called slicing"
   ]
  },
  {
   "cell_type": "code",
   "execution_count": 49,
   "id": "3049bb32-8b80-49f7-911c-dacbeee81cfb",
   "metadata": {},
   "outputs": [
    {
     "name": "stdout",
     "output_type": "stream",
     "text": [
      "KS\n"
     ]
    }
   ],
   "source": [
    "print(a[1:4:2])"
   ]
  },
  {
   "cell_type": "code",
   "execution_count": null,
   "id": "6b6eadfd-9c09-4d62-bc75-1ca8d3709181",
   "metadata": {},
   "outputs": [],
   "source": []
  }
 ],
 "metadata": {
  "kernelspec": {
   "display_name": "Python 3 (ipykernel)",
   "language": "python",
   "name": "python3"
  },
  "language_info": {
   "codemirror_mode": {
    "name": "ipython",
    "version": 3
   },
   "file_extension": ".py",
   "mimetype": "text/x-python",
   "name": "python",
   "nbconvert_exporter": "python",
   "pygments_lexer": "ipython3",
   "version": "3.10.9"
  }
 },
 "nbformat": 4,
 "nbformat_minor": 5
}
