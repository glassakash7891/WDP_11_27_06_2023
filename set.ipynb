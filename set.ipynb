{
 "cells": [
  {
   "cell_type": "markdown",
   "id": "acd3b8b1-fa2e-4967-bae9-c23c3868c540",
   "metadata": {},
   "source": [
    "# set\n",
    "\n",
    "> set consturctor is set{}\n",
    "\n",
    "> set literal is not avilable\n",
    "\n",
    "> set is unodered set of sequence of elemnt\n",
    "\n",
    ">set does not support indexing\n",
    "\n",
    "> set doesnot support slicing\n",
    "\n",
    "> set doesnot support concatination\n",
    "\n",
    "> set doesnot support duplicate value\n",
    "\n",
    "> set remove duplicate values using hashing table\n",
    "\n",
    "> set is mutable(unhashable)\n",
    "\n",
    "> set always support immutable datatype.\n",
    "\n",
    "> set doesnot support nested set.\n",
    "\n",
    "> set methods are 16"
   ]
  },
  {
   "cell_type": "code",
   "execution_count": 15,
   "id": "1313ba9c-7b72-455d-afbc-cd1637028e23",
   "metadata": {},
   "outputs": [],
   "source": [
    "a={1,1,1,1,1,1,2,2,2,2,2,3,3,3,3,3,33,7,7,7,6,6,6}"
   ]
  },
  {
   "cell_type": "code",
   "execution_count": 16,
   "id": "1dc1503d-590e-410b-8c99-d8184700a7f3",
   "metadata": {},
   "outputs": [
    {
     "name": "stdout",
     "output_type": "stream",
     "text": [
      "{1, 2, 3, 33, 6, 7}\n"
     ]
    }
   ],
   "source": [
    "print(a)"
   ]
  },
  {
   "cell_type": "code",
   "execution_count": 17,
   "id": "23b66de9-30ae-4ec0-89bb-c09aec0f0d35",
   "metadata": {},
   "outputs": [
    {
     "ename": "TypeError",
     "evalue": "'set' object is not subscriptable",
     "output_type": "error",
     "traceback": [
      "\u001b[1;31m---------------------------------------------------------------------------\u001b[0m",
      "\u001b[1;31mTypeError\u001b[0m                                 Traceback (most recent call last)",
      "Cell \u001b[1;32mIn[17], line 1\u001b[0m\n\u001b[1;32m----> 1\u001b[0m \u001b[43ma\u001b[49m\u001b[43m[\u001b[49m\u001b[38;5;241;43m0\u001b[39;49m\u001b[43m]\u001b[49m \u001b[38;5;66;03m# set dose not support indexing\u001b[39;00m\n",
      "\u001b[1;31mTypeError\u001b[0m: 'set' object is not subscriptable"
     ]
    }
   ],
   "source": [
    "a[0] # set dose not support indexing"
   ]
  },
  {
   "cell_type": "code",
   "execution_count": 18,
   "id": "f87dd474-f68e-423a-bccd-5dd1c7a62eab",
   "metadata": {},
   "outputs": [
    {
     "name": "stdout",
     "output_type": "stream",
     "text": [
      "140710137685064\n"
     ]
    }
   ],
   "source": [
    "c=10\n",
    "print(id(c))"
   ]
  },
  {
   "cell_type": "code",
   "execution_count": 19,
   "id": "a31ae1e2-8272-4809-bf30-2d939796a376",
   "metadata": {},
   "outputs": [
    {
     "name": "stdout",
     "output_type": "stream",
     "text": [
      "140710137685064\n"
     ]
    }
   ],
   "source": [
    "d=10\n",
    "print(id(d))"
   ]
  },
  {
   "cell_type": "code",
   "execution_count": 21,
   "id": "8ab861c2-3a0c-4b2f-a161-b529d359159c",
   "metadata": {},
   "outputs": [
    {
     "name": "stdout",
     "output_type": "stream",
     "text": [
      "{1, 2, 3, 33, 6, 7}\n"
     ]
    }
   ],
   "source": [
    "print(a)"
   ]
  },
  {
   "cell_type": "code",
   "execution_count": null,
   "id": "57180189-34a0-4e91-ab48-19cf9b0ad008",
   "metadata": {},
   "outputs": [],
   "source": []
  },
  {
   "cell_type": "code",
   "execution_count": 23,
   "id": "f45a0c48-7824-4114-a466-17b33fd4643a",
   "metadata": {},
   "outputs": [],
   "source": [
    "a='akash'"
   ]
  },
  {
   "cell_type": "code",
   "execution_count": 26,
   "id": "d41c8663-25d5-47c6-9628-7e4a43c760f0",
   "metadata": {},
   "outputs": [
    {
     "data": {
      "text/plain": [
       "'AKASH'"
      ]
     },
     "execution_count": 26,
     "metadata": {},
     "output_type": "execute_result"
    }
   ],
   "source": [
    "a.upper()# its a immutable. where orignal stucture is not change its called immutable data type"
   ]
  },
  {
   "cell_type": "code",
   "execution_count": 28,
   "id": "bf66ae05-5141-4c6e-8f85-fbabdc733582",
   "metadata": {},
   "outputs": [
    {
     "name": "stdout",
     "output_type": "stream",
     "text": [
      "akash\n"
     ]
    }
   ],
   "source": [
    "print(a)  # immutable datatype"
   ]
  },
  {
   "cell_type": "code",
   "execution_count": 30,
   "id": "dd02b383-34cd-4706-8c19-79aad568a9ad",
   "metadata": {},
   "outputs": [],
   "source": [
    "a=[1,2,3]"
   ]
  },
  {
   "cell_type": "code",
   "execution_count": 31,
   "id": "2ae348e4-be8f-4040-b843-37988c344eb3",
   "metadata": {},
   "outputs": [],
   "source": [
    "a.append(10) # its a mutable datatype."
   ]
  },
  {
   "cell_type": "code",
   "execution_count": 32,
   "id": "7e88c474-d1c1-4140-93c5-527774519f08",
   "metadata": {},
   "outputs": [
    {
     "name": "stdout",
     "output_type": "stream",
     "text": [
      "[1, 2, 3, 10]\n"
     ]
    }
   ],
   "source": [
    "print(a)"
   ]
  },
  {
   "cell_type": "code",
   "execution_count": 39,
   "id": "5e36267b-3973-44be-8953-ab38b1c9a416",
   "metadata": {},
   "outputs": [
    {
     "ename": "TypeError",
     "evalue": "unhashable type: 'list'",
     "output_type": "error",
     "traceback": [
      "\u001b[1;31m---------------------------------------------------------------------------\u001b[0m",
      "\u001b[1;31mTypeError\u001b[0m                                 Traceback (most recent call last)",
      "Cell \u001b[1;32mIn[39], line 1\u001b[0m\n\u001b[1;32m----> 1\u001b[0m a\u001b[38;5;241m=\u001b[39m{[\u001b[38;5;241m10.0\u001b[39m]}\n",
      "\u001b[1;31mTypeError\u001b[0m: unhashable type: 'list'"
     ]
    }
   ],
   "source": [
    "a={[10.0]}"
   ]
  },
  {
   "cell_type": "code",
   "execution_count": 38,
   "id": "8bafefb5-e0ea-4a82-86b6-d63050aa6ed6",
   "metadata": {},
   "outputs": [
    {
     "name": "stdout",
     "output_type": "stream",
     "text": [
      "{'10.0'}\n"
     ]
    }
   ],
   "source": [
    "print(a)"
   ]
  },
  {
   "cell_type": "code",
   "execution_count": 40,
   "id": "e3d05e56-5c49-40c9-89e9-67f34d8bcc36",
   "metadata": {},
   "outputs": [],
   "source": [
    "# mutable datatype(unhashable): a datatype whose structure and id dosenot change after applying any method is called mutable datatype, example: list,set\n",
    "\n",
    "# immutable datatype(hashable):a datatype whose structure doesnot change but id get change after applying any method is called immutable datatype, example: int,string,float,tuple"
   ]
  },
  {
   "cell_type": "code",
   "execution_count": 42,
   "id": "fb8ffcb8-dbb5-43de-9843-18989cc5f4da",
   "metadata": {},
   "outputs": [
    {
     "ename": "SyntaxError",
     "evalue": "invalid syntax. Perhaps you forgot a comma? (3973992967.py, line 1)",
     "output_type": "error",
     "traceback": [
      "\u001b[1;36m  Cell \u001b[1;32mIn[42], line 1\u001b[1;36m\u001b[0m\n\u001b[1;33m    a{1,2,3,4{1,2,3,}} # # set not support nested set\u001b[0m\n\u001b[1;37m            ^\u001b[0m\n\u001b[1;31mSyntaxError\u001b[0m\u001b[1;31m:\u001b[0m invalid syntax. Perhaps you forgot a comma?\n"
     ]
    }
   ],
   "source": [
    "a{1,2,3,4{1,2,3,}} # # set not support nested set"
   ]
  },
  {
   "cell_type": "code",
   "execution_count": 44,
   "id": "069b4b74-e75b-4a9d-912f-331ecbbfab12",
   "metadata": {},
   "outputs": [],
   "source": [
    "a=set()"
   ]
  },
  {
   "cell_type": "code",
   "execution_count": 48,
   "id": "9d5523e3-ccc3-47ab-810a-eaecb748522e",
   "metadata": {},
   "outputs": [
    {
     "name": "stdout",
     "output_type": "stream",
     "text": [
      "set()\n"
     ]
    },
    {
     "data": {
      "text/plain": [
       "0"
      ]
     },
     "execution_count": 48,
     "metadata": {},
     "output_type": "execute_result"
    }
   ],
   "source": [
    "print(a)\n",
    "len(a)"
   ]
  },
  {
   "cell_type": "code",
   "execution_count": 49,
   "id": "ce653d6b-799a-45e2-8270-5f592392f317",
   "metadata": {},
   "outputs": [
    {
     "data": {
      "text/plain": [
       "3"
      ]
     },
     "execution_count": 49,
     "metadata": {},
     "output_type": "execute_result"
    }
   ],
   "source": [
    "c=[1,2,3]\n",
    "len(c)"
   ]
  },
  {
   "cell_type": "markdown",
   "id": "dff6f55c-accc-4932-8224-a28ec732da59",
   "metadata": {},
   "source": [
    "# methods of set"
   ]
  },
  {
   "cell_type": "code",
   "execution_count": 71,
   "id": "dacf26fa-1b69-4a53-98a7-a69a489c1d79",
   "metadata": {},
   "outputs": [],
   "source": [
    "a=set()"
   ]
  },
  {
   "cell_type": "code",
   "execution_count": 72,
   "id": "f3e1f405-fa09-4211-b524-bdcaff1fffa0",
   "metadata": {},
   "outputs": [
    {
     "data": {
      "text/plain": [
       "set()"
      ]
     },
     "execution_count": 72,
     "metadata": {},
     "output_type": "execute_result"
    }
   ],
   "source": [
    "a"
   ]
  },
  {
   "cell_type": "code",
   "execution_count": 73,
   "id": "d58d98c4-3e99-45c1-a3ce-db7cdecab613",
   "metadata": {},
   "outputs": [],
   "source": [
    "a.add(10)"
   ]
  },
  {
   "cell_type": "code",
   "execution_count": 74,
   "id": "0f5f47eb-7366-45ef-9118-18654d4b4d0c",
   "metadata": {},
   "outputs": [
    {
     "name": "stdout",
     "output_type": "stream",
     "text": [
      "{10}\n"
     ]
    }
   ],
   "source": [
    "print(a)"
   ]
  },
  {
   "cell_type": "code",
   "execution_count": 75,
   "id": "66f66aad-51c8-4e96-a617-17273eb32cf2",
   "metadata": {},
   "outputs": [],
   "source": [
    "a.add(10.55)"
   ]
  },
  {
   "cell_type": "code",
   "execution_count": 76,
   "id": "b393142d-af07-4d5a-9581-bf81f13484a3",
   "metadata": {},
   "outputs": [
    {
     "name": "stdout",
     "output_type": "stream",
     "text": [
      "{10, 10.55}\n"
     ]
    }
   ],
   "source": [
    "print(a)"
   ]
  },
  {
   "cell_type": "code",
   "execution_count": 77,
   "id": "2a9f4437-12d2-4535-ace7-40da024d7610",
   "metadata": {},
   "outputs": [],
   "source": [
    "a.add(\"akash\")"
   ]
  },
  {
   "cell_type": "code",
   "execution_count": 78,
   "id": "14748f4a-8a44-479a-a2a0-6143628d5352",
   "metadata": {},
   "outputs": [
    {
     "name": "stdout",
     "output_type": "stream",
     "text": [
      "{'akash', 10, 10.55}\n"
     ]
    }
   ],
   "source": [
    "print(a)"
   ]
  },
  {
   "cell_type": "code",
   "execution_count": 80,
   "id": "dd2b46b6-de69-4bf3-afa3-156894e98d9f",
   "metadata": {},
   "outputs": [],
   "source": [
    "a.add((1,))"
   ]
  },
  {
   "cell_type": "code",
   "execution_count": 81,
   "id": "f76a7348-0974-4236-b5f1-1f6a4c216809",
   "metadata": {},
   "outputs": [
    {
     "name": "stdout",
     "output_type": "stream",
     "text": [
      "{'akash', (1,), 10, 10.55}\n"
     ]
    }
   ],
   "source": [
    "print(a)"
   ]
  },
  {
   "cell_type": "code",
   "execution_count": 82,
   "id": "8bd2e935-b41a-4df9-8f93-c439f8100326",
   "metadata": {},
   "outputs": [
    {
     "ename": "TypeError",
     "evalue": "unhashable type: 'list'",
     "output_type": "error",
     "traceback": [
      "\u001b[1;31m---------------------------------------------------------------------------\u001b[0m",
      "\u001b[1;31mTypeError\u001b[0m                                 Traceback (most recent call last)",
      "Cell \u001b[1;32mIn[82], line 1\u001b[0m\n\u001b[1;32m----> 1\u001b[0m \u001b[43ma\u001b[49m\u001b[38;5;241;43m.\u001b[39;49m\u001b[43madd\u001b[49m\u001b[43m(\u001b[49m\u001b[43m[\u001b[49m\u001b[38;5;241;43m1\u001b[39;49m\u001b[43m,\u001b[49m\u001b[38;5;241;43m2\u001b[39;49m\u001b[43m,\u001b[49m\u001b[38;5;241;43m3\u001b[39;49m\u001b[43m,\u001b[49m\u001b[38;5;241;43m4\u001b[39;49m\u001b[43m]\u001b[49m\u001b[43m)\u001b[49m\n",
      "\u001b[1;31mTypeError\u001b[0m: unhashable type: 'list'"
     ]
    }
   ],
   "source": [
    "a.add([1,2,3,4])"
   ]
  },
  {
   "cell_type": "code",
   "execution_count": 83,
   "id": "0bdf5ac3-c2f9-4e24-a397-5867b64a2d84",
   "metadata": {},
   "outputs": [],
   "source": [
    "a.add((1,1,2,3,4,5,6))"
   ]
  },
  {
   "cell_type": "code",
   "execution_count": 84,
   "id": "5e038e95-07d6-4f5e-a89a-6e0e95c6fa9f",
   "metadata": {},
   "outputs": [
    {
     "name": "stdout",
     "output_type": "stream",
     "text": [
      "{'akash', (1, 1, 2, 3, 4, 5, 6), 10, 10.55, (1,)}\n"
     ]
    }
   ],
   "source": [
    "print(a)"
   ]
  },
  {
   "cell_type": "code",
   "execution_count": 85,
   "id": "d1ac1b17-01e9-427b-98fa-019828f23175",
   "metadata": {},
   "outputs": [],
   "source": [
    "a.update((1, 1, 2, 3, 4, 5, 6))"
   ]
  },
  {
   "cell_type": "code",
   "execution_count": 86,
   "id": "1ff0da26-f3ea-4bb8-aa2b-a4cd40bb9b6c",
   "metadata": {},
   "outputs": [
    {
     "name": "stdout",
     "output_type": "stream",
     "text": [
      "{'akash', 1, 2, 3, 4, (1, 1, 2, 3, 4, 5, 6), 5, 6, 10, 10.55, (1,)}\n"
     ]
    }
   ],
   "source": [
    "print(a)"
   ]
  },
  {
   "cell_type": "code",
   "execution_count": null,
   "id": "ad1a97e1-0af7-4dcc-8b1b-57f8789bf1bc",
   "metadata": {},
   "outputs": [],
   "source": []
  }
 ],
 "metadata": {
  "kernelspec": {
   "display_name": "Python 3 (ipykernel)",
   "language": "python",
   "name": "python3"
  },
  "language_info": {
   "codemirror_mode": {
    "name": "ipython",
    "version": 3
   },
   "file_extension": ".py",
   "mimetype": "text/x-python",
   "name": "python",
   "nbconvert_exporter": "python",
   "pygments_lexer": "ipython3",
   "version": "3.11.4"
  }
 },
 "nbformat": 4,
 "nbformat_minor": 5
}
